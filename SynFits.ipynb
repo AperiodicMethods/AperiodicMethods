{
 "cells": [
  {
   "cell_type": "markdown",
   "metadata": {},
   "source": [
    "# Testing Slope Fitting on Synthetic PSDs"
   ]
  },
  {
   "cell_type": "code",
   "execution_count": 1,
   "metadata": {
    "collapsed": true
   },
   "outputs": [],
   "source": [
    "# This notebook uses py2.7 - because that's what FOOF is written in\n",
    "from __future__ import print_function, division"
   ]
  },
  {
   "cell_type": "code",
   "execution_count": 2,
   "metadata": {
    "collapsed": true
   },
   "outputs": [],
   "source": [
    "# Bayes FOOF has a dependency of sklearn version >= 0.18.0. Check this.\n",
    "import sklearn\n",
    "assert sklearn.__version__[:4] == '0.18'"
   ]
  },
  {
   "cell_type": "code",
   "execution_count": 3,
   "metadata": {
    "collapsed": true
   },
   "outputs": [],
   "source": [
    "%matplotlib inline\n",
    "\n",
    "import numpy as np\n",
    "import matplotlib.pyplot as plt"
   ]
  },
  {
   "cell_type": "code",
   "execution_count": 4,
   "metadata": {
    "collapsed": false
   },
   "outputs": [],
   "source": [
    "# Custom code imports\n",
    "#  NOTE: Currently, settings in slf.fit will set which FOOF to use\n",
    "from slf.fit import *\n",
    "from foof import syn"
   ]
  },
  {
   "cell_type": "markdown",
   "metadata": {},
   "source": [
    "## Check out PSD generation and test fitting"
   ]
  },
  {
   "cell_type": "code",
   "execution_count": 55,
   "metadata": {
    "collapsed": false
   },
   "outputs": [],
   "source": [
    "# Generate a single synthetic PSD\n",
    "\n",
    "slv_test = 0.7\n",
    "\n",
    "fs, psd = syn.mfonef(\n",
    "    mf=[10],\n",
    "    mf_sig=[1],\n",
    "    mk=[0.1],\n",
    "    chi=slv_test,\n",
    "    f0=3,\n",
    "    fmax=40,\n",
    "    res=0.5,\n",
    "    noi=0.05\n",
    ")"
   ]
  },
  {
   "cell_type": "code",
   "execution_count": 56,
   "metadata": {
    "collapsed": false
   },
   "outputs": [
    {
     "data": {
      "text/plain": [
       "[<matplotlib.lines.Line2D at 0x1197daf90>]"
      ]
     },
     "execution_count": 56,
     "metadata": {},
     "output_type": "execute_result"
    },
    {
     "data": {
      "image/png": "[encoded data removed]",
      "text/plain": [
       "<matplotlib.figure.Figure at 0x1191019d0>"
      ]
     },
     "metadata": {},
     "output_type": "display_data"
    }
   ],
   "source": [
    "# Check plot of the synthetic PSD\n",
    "plt.plot(fs, psd)"
   ]
  },
  {
   "cell_type": "code",
   "execution_count": 65,
   "metadata": {
    "collapsed": false
   },
   "outputs": [
    {
     "name": "stdout",
     "output_type": "stream",
     "text": [
      "True slope value is  0.7 \n",
      "\n",
      "RLM fit: \t -0.708116558076\n",
      "RLM-EA fit: \t -0.648725837062\n",
      "RLM-EO fit: \t -0.645490045044\n",
      "RAN fit: \t -0.716401797143\n",
      "RAN-EA fit: \t -0.687471308688\n",
      "RAN-EO fit: \t -0.50855057133\n"
     ]
    }
   ],
   "source": [
    "# Test out fits\n",
    "print('True slope value is ', str(slv_test), '\\n')\n",
    "print('RLM fit: \\t', fsl_rlm(fs, psd))\n",
    "print('RLM-EA fit: \\t', fsl_rlm_alph(fs, psd))\n",
    "print('RLM-EO fit: \\t', fsl_rlm_oscs(fs, psd))\n",
    "print('RAN fit: \\t', fsl_ransac(fs, psd))\n",
    "print('RAN-EA fit: \\t', fsl_ransac_alph(fs, psd))\n",
    "print('RAN-EO fit: \\t', fsl_ransac_oscs(fs, psd))"
   ]
  },
  {
   "cell_type": "markdown",
   "metadata": {},
   "source": [
    "## Run a bunch of synthetic fits"
   ]
  },
  {
   "cell_type": "code",
   "execution_count": 69,
   "metadata": {
    "collapsed": true
   },
   "outputs": [],
   "source": [
    "# Settings for syn data generation and slope fitting\n",
    "slv = 1\n",
    "n_psds = 100"
   ]
  },
  {
   "cell_type": "code",
   "execution_count": 70,
   "metadata": {
    "collapsed": false
   },
   "outputs": [],
   "source": [
    "# Initialize stuff for synthetic data fitting runs\n",
    "\n",
    "# NOTE: This is almost definitely a terrible way to organize these runs. \n",
    "#  TODO: Fix this shit. \n",
    "\n",
    "fit_funcs = {'RLM': fsl_rlm, \n",
    "             'RLM-EA': fsl_rlm_alph, \n",
    "             'RLM-EO': fsl_rlm_oscs, \n",
    "             'RAN': fsl_ransac,\n",
    "             'RAN-EA': fsl_ransac_alph,\n",
    "             'RAN-EO': fsl_ransac_oscs}\n",
    "\n",
    "errs = dict()\n",
    "for key in fit_funcs.keys():\n",
    "    errs[key] = []"
   ]
  },
  {
   "cell_type": "code",
   "execution_count": 71,
   "metadata": {
    "collapsed": false
   },
   "outputs": [],
   "source": [
    "# Synthesize data\n",
    "fs, psds = syn.synthesize(n_psds, fn=syn.mfonef, \n",
    "                          mf=[10], mf_sig=[1], mk=[0.2], chi=slv, \n",
    "                          f0=3, fmax=40, res=0.5, noi=0.05)"
   ]
  },
  {
   "cell_type": "code",
   "execution_count": 72,
   "metadata": {
    "collapsed": true
   },
   "outputs": [],
   "source": [
    "# Fit slope and collect error\n",
    "for k, fn in fit_funcs.items():\n",
    "    for i in range(n_psds):\n",
    "        errs[k].append(sqd_err(-slv, fn(fs, psds[:, i])))"
   ]
  },
  {
   "cell_type": "code",
   "execution_count": 73,
   "metadata": {
    "collapsed": false
   },
   "outputs": [],
   "source": [
    "# Calculate mean errors per method\n",
    "mean_errs = []\n",
    "for k, v in errs.items():\n",
    "    mean_errs.append((np.mean(v), k))\n",
    "mean_errs.sort()"
   ]
  },
  {
   "cell_type": "code",
   "execution_count": 74,
   "metadata": {
    "collapsed": false
   },
   "outputs": [
    {
     "name": "stdout",
     "output_type": "stream",
     "text": [
      "RLM-EA \t 0.0005873633231\n",
      "RLM-EO \t 0.000683909711142\n",
      "RAN-EO \t 0.00073638286376\n",
      "RAN \t 0.00131511444279\n",
      "RAN-EA \t 0.00162802181188\n",
      "RLM \t 0.00287509998033\n"
     ]
    }
   ],
   "source": [
    "# Print out errors per method\n",
    "for me in mean_errs:\n",
    "    print(me[1], '\\t', me[0])"
   ]
  },
  {
   "cell_type": "code",
   "execution_count": null,
   "metadata": {
    "collapsed": true
   },
   "outputs": [],
   "source": []
  }
 ],
 "metadata": {
  "kernelspec": {
   "display_name": "Python 2",
   "language": "python",
   "name": "python2"
  },
  "language_info": {
   "codemirror_mode": {
    "name": "ipython",
    "version": 2
   },
   "file_extension": ".py",
   "mimetype": "text/x-python",
   "name": "python",
   "nbconvert_exporter": "python",
   "pygments_lexer": "ipython2",
   "version": "2.7.13"
  }
 },
 "nbformat": 4,
 "nbformat_minor": 0
}
