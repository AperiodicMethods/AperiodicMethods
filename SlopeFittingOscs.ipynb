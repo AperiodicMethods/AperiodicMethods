{
 "cells": [
  {
   "cell_type": "markdown",
   "metadata": {},
   "source": [
    "# Checking out Slope Fitting - Different Methods"
   ]
  },
  {
   "cell_type": "code",
   "execution_count": 1,
   "metadata": {
    "collapsed": true
   },
   "outputs": [],
   "source": [
    "# This notebook uses py2.7 - because that's what FOOF is written in\n",
    "from __future__ import print_function, division"
   ]
  },
  {
   "cell_type": "code",
   "execution_count": 2,
   "metadata": {
    "collapsed": false
   },
   "outputs": [],
   "source": [
    "# Bayes FOOF has a dependency of sklearn version >= 0.18.0. Check this.\n",
    "import sklearn\n",
    "assert sklearn.__version__[:4] == '0.18'"
   ]
  },
  {
   "cell_type": "code",
   "execution_count": 3,
   "metadata": {
    "collapsed": false
   },
   "outputs": [],
   "source": [
    "%matplotlib inline\n",
    "\n",
    "import numpy as np\n",
    "import matplotlib.pyplot as plt\n",
    "import statsmodels.api as sm\n",
    "from sklearn.linear_model import RANSACRegressor"
   ]
  },
  {
   "cell_type": "code",
   "execution_count": 4,
   "metadata": {
    "collapsed": false
   },
   "outputs": [],
   "source": [
    "# Import custom\n",
    "from slf.plts import *\n",
    "from slf.core.utils import *"
   ]
  },
  {
   "cell_type": "code",
   "execution_count": 5,
   "metadata": {
    "collapsed": false
   },
   "outputs": [],
   "source": [
    "# Import FOOF - Set which version to import\n",
    "#  NOTE: this uses super messy / dangerous path usage - bad Tom. \n",
    "#    (Also, this only works on Tom's laptop atm.)\n",
    "#    The mess is to compare FOOF versions. Soon move to new FOOF only.\n",
    "\n",
    "# Set which version of foof to use\n",
    "foof_ver = 'bayes'\n",
    "\n",
    "if foof_ver == 'old':\n",
    "\n",
    "    # Import FOOF (old version, in GitCode)\n",
    "    from foof.fit import FOOF\n",
    "    \n",
    "if foof_ver == 'bayes':\n",
    "    # Import Bayes FOOF is currently on desktop to keep out of way of old FOOF\n",
    "    import sys\n",
    "    sys.path.remove('/Users/thomasdonoghue/Documents/GitCode')\n",
    "    sys.path.append('/Users/thomasdonoghue/Desktop/')\n",
    "    from foof.fit import FOOF\n",
    "    \n",
    "# Either way import (same) syn functions\n",
    "from foof import syn"
   ]
  },
  {
   "cell_type": "code",
   "execution_count": 6,
   "metadata": {
    "collapsed": false
   },
   "outputs": [],
   "source": [
    "# Load data from Jorge (Chicage group doing slope fitting)\n",
    "dat = np.load('data/data-for-tom.npy').item()"
   ]
  },
  {
   "cell_type": "code",
   "execution_count": 7,
   "metadata": {
    "collapsed": false
   },
   "outputs": [],
   "source": [
    "# Get freqs & unembed from being an array of arrays\n",
    "freqs = dat['f']\n",
    "freqs = [f[0] for f in freqs]"
   ]
  },
  {
   "cell_type": "code",
   "execution_count": 10,
   "metadata": {
    "collapsed": false
   },
   "outputs": [
    {
     "data": {
      "image/png": "[encoded data removed]",
      "text/plain": [
       "<matplotlib.figure.Figure at 0x11aeea510>"
      ]
     },
     "metadata": {},
     "output_type": "display_data"
    }
   ],
   "source": [
    "# Check plot - single PSD\n",
    "plt_psd_1(freqs, dat[0][0]['eyesc'])"
   ]
  },
  {
   "cell_type": "code",
   "execution_count": 11,
   "metadata": {
    "collapsed": false
   },
   "outputs": [
    {
     "data": {
      "image/png": "[encoded data removed]",
      "text/plain": [
       "<matplotlib.figure.Figure at 0x11876fa50>"
      ]
     },
     "metadata": {},
     "output_type": "display_data"
    }
   ],
   "source": [
    "# Compare eyes open / eyes closed: single subject, single channel\n",
    "plt_psd_2(freqs, dat[0][0]['eyeso'], freqs, dat[0][0]['eyesc'])"
   ]
  },
  {
   "cell_type": "markdown",
   "metadata": {},
   "source": [
    "## FOOFing Data"
   ]
  },
  {
   "cell_type": "code",
   "execution_count": 12,
   "metadata": {
    "collapsed": false
   },
   "outputs": [],
   "source": [
    "# Set a PSD to run with FOOF\n",
    "psd = dat[0][1]['eyesc']\n",
    "psd_ext, freqs_ext = extract_psd(psd, freqs, 3, 40)"
   ]
  },
  {
   "cell_type": "code",
   "execution_count": 13,
   "metadata": {
    "collapsed": false
   },
   "outputs": [],
   "source": [
    "# Settings for FOOF\n",
    "min_p = 0.2\n",
    "freq_res = np.mean(np.diff(freqs))"
   ]
  },
  {
   "cell_type": "code",
   "execution_count": 14,
   "metadata": {
    "collapsed": false
   },
   "outputs": [],
   "source": [
    "# Initialize FOOF, fit PSD, and extract fit data\n",
    "if foof_ver == 'old':\n",
    "    foof = FOOF(min_p=min_p, res=freq_res, fmin=freqs_ext.min(), fmax=freqs_ext.max())\n",
    "    foof.model(freqs_ext, psd_ext)\n",
    "if foof_ver == 'bayes':\n",
    "    foof = FOOF(freqs_ext, res=freq_res, min_p=min_p)\n",
    "    foof.fit(psd_ext)"
   ]
  },
  {
   "cell_type": "code",
   "execution_count": 15,
   "metadata": {
    "collapsed": true
   },
   "outputs": [],
   "source": [
    "# Extract foof fit data\n",
    "foof_dat = (foof.chi_, foof.centers_, foof.powers_, foof.stdevs_)\n",
    "sl_foof = -foof.chi_"
   ]
  },
  {
   "cell_type": "code",
   "execution_count": 16,
   "metadata": {
    "collapsed": false
   },
   "outputs": [
    {
     "data": {
      "text/plain": [
       "(0.73078125804331651,\n",
       " array([  9.51470556,  11.18368094,  18.06413549]),\n",
       " array([ 4.74589252,  2.53158593,  0.88127655], dtype=float32),\n",
       " array([ 0.83140686,  1.17489628,  1.41563645]))"
      ]
     },
     "execution_count": 16,
     "metadata": {},
     "output_type": "execute_result"
    }
   ],
   "source": [
    "# Check FOOF outputs\n",
    "#  foof_dat is [slope_val, [center frequencies], [oscillation powers], [oscillation bandwidths]]\n",
    "foof_dat"
   ]
  },
  {
   "cell_type": "markdown",
   "metadata": {},
   "source": [
    "## Checking FOOF PSD Fit"
   ]
  },
  {
   "cell_type": "code",
   "execution_count": 17,
   "metadata": {
    "collapsed": true
   },
   "outputs": [],
   "source": [
    "# Generate synthetic PSD from extracted FOOF parameters\n",
    "fs, foof_model = syn.mfonef(\n",
    "    mf=foof.centers_,\n",
    "    mf_sig=foof.stdevs_,\n",
    "    mk=foof.powers_,\n",
    "    chi=foof.chi_,\n",
    "    f0=freqs_ext.min(),\n",
    "    fmax=freqs_ext.max(),\n",
    "    res=freq_res,\n",
    "    noi=0\n",
    ")"
   ]
  },
  {
   "cell_type": "code",
   "execution_count": 18,
   "metadata": {
    "collapsed": false
   },
   "outputs": [
    {
     "data": {
      "image/png": "[encoded data removed]",
      "text/plain": [
       "<matplotlib.figure.Figure at 0x11ae82910>"
      ]
     },
     "metadata": {},
     "output_type": "display_data"
    }
   ],
   "source": [
    "# Plot FOOF model of the PSD, with actual PSD\n",
    "plt_psd_2(freqs_ext, psd_ext, fs, foof_model)\n",
    "# Note: not sure why there is an offset, or whether that matters"
   ]
  },
  {
   "cell_type": "markdown",
   "metadata": {},
   "source": [
    "# Robust Fitting PSDs"
   ]
  },
  {
   "cell_type": "markdown",
   "metadata": {},
   "source": [
    "## Robust Slope Fitting with RLM"
   ]
  },
  {
   "cell_type": "code",
   "execution_count": 19,
   "metadata": {
    "collapsed": false
   },
   "outputs": [],
   "source": [
    "# Add constant for fitting with statsmodels\n",
    "fx = sm.add_constant(np.log10(freqs_ext))"
   ]
  },
  {
   "cell_type": "code",
   "execution_count": 20,
   "metadata": {
    "collapsed": false
   },
   "outputs": [],
   "source": [
    "# Fit slope - robust linear fit to log-log PSD\n",
    "fit_rlm = sm.RLM(np.log10(psd_ext), fx).fit()\n",
    "sl_rlm = fit_rlm.params[1]"
   ]
  },
  {
   "cell_type": "code",
   "execution_count": 21,
   "metadata": {
    "collapsed": false
   },
   "outputs": [
    {
     "data": {
      "image/png": "[encoded data removed]",
      "text/plain": [
       "<matplotlib.figure.Figure at 0x11ad7e590>"
      ]
     },
     "metadata": {},
     "output_type": "display_data"
    }
   ],
   "source": [
    "# Check the robust linear slope fit\n",
    "plt_psd_2(freqs_ext, psd_ext, freqs_ext, np.power(10, fit_rlm.fittedvalues), log_f=True)"
   ]
  },
  {
   "cell_type": "markdown",
   "metadata": {},
   "source": [
    "## Robust Fitting with RANSAC"
   ]
  },
  {
   "cell_type": "code",
   "execution_count": 22,
   "metadata": {
    "collapsed": true
   },
   "outputs": [],
   "source": [
    "# Reshape freqs for RANSAC fit\n",
    "freqs_ext = freqs_ext.reshape([len(freqs_ext), 1])"
   ]
  },
  {
   "cell_type": "code",
   "execution_count": 23,
   "metadata": {
    "collapsed": true
   },
   "outputs": [],
   "source": [
    "# Initialize and fit with RANSAC\n",
    "ransac_model = RANSACRegressor()\n",
    "ransac_model.fit(np.log10(freqs_ext), np.log10(psd_ext))\n",
    "sl_ran = ransac_model.estimator_.coef_[0][0]"
   ]
  },
  {
   "cell_type": "code",
   "execution_count": 24,
   "metadata": {
    "collapsed": false
   },
   "outputs": [
    {
     "data": {
      "image/png": "[encoded data removed]",
      "text/plain": [
       "<matplotlib.figure.Figure at 0x11b2b9550>"
      ]
     },
     "metadata": {},
     "output_type": "display_data"
    }
   ],
   "source": [
    "# Plot the slope fit, from RANSAC\n",
    "plt_psd_2(freqs_ext, psd_ext, freqs_ext, np.power(10, ransac_model.predict(np.log10(freqs_ext))))"
   ]
  },
  {
   "cell_type": "markdown",
   "metadata": {},
   "source": [
    "# Slope Fitting Excluding Alpha"
   ]
  },
  {
   "cell_type": "code",
   "execution_count": 25,
   "metadata": {
    "collapsed": true
   },
   "outputs": [],
   "source": [
    "# Exclude predefined alpha range\n",
    "psd_alph, freqs_alph = exclude_psd(psd_ext, freqs_ext, [7, 14])"
   ]
  },
  {
   "cell_type": "markdown",
   "metadata": {},
   "source": [
    "## RLM Slope Fitting Excluding Generic Alpha Band"
   ]
  },
  {
   "cell_type": "code",
   "execution_count": 26,
   "metadata": {
    "collapsed": true
   },
   "outputs": [],
   "source": [
    "# Robust fit slope without alpha range\n",
    "fx = sm.add_constant(np.log10(freqs_alph))\n",
    "fit_rlm_alph = sm.RLM(np.log10(psd_alph), fx).fit()\n",
    "sl_rlm_alph = fit_rlm_alph.params[1]"
   ]
  },
  {
   "cell_type": "code",
   "execution_count": 27,
   "metadata": {
    "collapsed": false
   },
   "outputs": [
    {
     "data": {
      "image/png": "[encoded data removed]",
      "text/plain": [
       "<matplotlib.figure.Figure at 0x11ad44d50>"
      ]
     },
     "metadata": {},
     "output_type": "display_data"
    }
   ],
   "source": [
    "# Plot the slope fit, with alpha exclusion range (note plots original PSD with alpha included)\n",
    "plt_psd_2(freqs_ext, psd_ext, freqs_alph, np.power(10, fit_rlm_alph.fittedvalues), log_f=True)"
   ]
  },
  {
   "cell_type": "markdown",
   "metadata": {},
   "source": [
    "## RANSAC Slope Fitting Excluding Generic Alpha Band"
   ]
  },
  {
   "cell_type": "code",
   "execution_count": 28,
   "metadata": {
    "collapsed": false
   },
   "outputs": [],
   "source": [
    "# Fit alpha-exclusion with RANSAC\n",
    "ransac_model_alph = RANSACRegressor()\n",
    "ransac_model_alph.fit(np.log10(freqs_alph), np.log10(psd_alph))\n",
    "sl_ran_alph = ransac_model_alph.estimator_.coef_[0][0]"
   ]
  },
  {
   "cell_type": "code",
   "execution_count": 29,
   "metadata": {
    "collapsed": false
   },
   "outputs": [
    {
     "data": {
      "image/png": "[encoded data removed]",
      "text/plain": [
       "<matplotlib.figure.Figure at 0x11b2c2b50>"
      ]
     },
     "metadata": {},
     "output_type": "display_data"
    }
   ],
   "source": [
    "# Plot the slope fit, with osc excluded (note: plots original PSD with oscs included)\n",
    "plt_psd_2(freqs_ext, psd_ext, freqs_alph, np.power(10, ransac_model_alph.predict(np.log10(freqs_alph))))"
   ]
  },
  {
   "cell_type": "markdown",
   "metadata": {},
   "source": [
    "# Slope Fitting Excluding Oscillations"
   ]
  },
  {
   "cell_type": "code",
   "execution_count": 30,
   "metadata": {
    "collapsed": false
   },
   "outputs": [
    {
     "data": {
      "text/plain": [
       "(0.73078125804331651,\n",
       " array([  9.51470556,  11.18368094,  18.06413549]),\n",
       " array([ 4.74589252,  2.53158593,  0.88127655], dtype=float32),\n",
       " array([ 0.83140686,  1.17489628,  1.41563645]))"
      ]
     },
     "execution_count": 30,
     "metadata": {},
     "output_type": "execute_result"
    }
   ],
   "source": [
    "# Foof dat is [slope_val, [centers], [powers], [bandwidths]]\n",
    "foof_dat"
   ]
  },
  {
   "cell_type": "code",
   "execution_count": 31,
   "metadata": {
    "collapsed": false
   },
   "outputs": [
    {
     "data": {
      "image/png": "[encoded data removed]",
      "text/plain": [
       "<matplotlib.figure.Figure at 0x11b755210>"
      ]
     },
     "metadata": {},
     "output_type": "display_data"
    }
   ],
   "source": [
    "# Note:\n",
    "#  Here 'm' is a parameter, the number of std-deviations, to exclude, for each oscillation\n",
    "#    The current value of m was chosen arbitrarily\n",
    "\n",
    "m = 2.0\n",
    "\n",
    "plt_psd_1(freqs_ext, psd_ext, log_f=False)\n",
    "\n",
    "# Add shading to see where oscillations are and what will be excluded\n",
    "for cen, bw in zip(foof_dat[1], foof_dat[3]):\n",
    "    plt.axvspan(cen, cen, color='g')\n",
    "    plt.axvspan(cen-(m*bw), cen+(m*bw), color='r', alpha=0.2, lw=0)"
   ]
  },
  {
   "cell_type": "code",
   "execution_count": 32,
   "metadata": {
    "collapsed": true
   },
   "outputs": [],
   "source": [
    "# Exclude FOOF oscillation bands\n",
    "psd_excl = psd_ext\n",
    "freqs_excl = freqs_ext\n",
    "for cen, bw in zip(foof_dat[1], foof_dat[3]):\n",
    "    psd_excl, freqs_excl = exclude_psd(psd_excl, freqs_excl, [cen-m*bw, cen+m*bw])"
   ]
  },
  {
   "cell_type": "markdown",
   "metadata": {},
   "source": [
    "## RLM Slope Fitting Excluding Oscillatory Bands"
   ]
  },
  {
   "cell_type": "code",
   "execution_count": 33,
   "metadata": {
    "collapsed": false
   },
   "outputs": [],
   "source": [
    "# Robust fit slope without FOOF oscillation bands\n",
    "fx = sm.add_constant(np.log10(freqs_excl))\n",
    "fit_rlm_excl = sm.RLM(np.log10(psd_excl), fx).fit()\n",
    "sl_rlm_excl = fit_rlm_excl.params[1]"
   ]
  },
  {
   "cell_type": "code",
   "execution_count": 34,
   "metadata": {
    "collapsed": false
   },
   "outputs": [
    {
     "data": {
      "image/png": "[encoded data removed]",
      "text/plain": [
       "<matplotlib.figure.Figure at 0x11b755ad0>"
      ]
     },
     "metadata": {},
     "output_type": "display_data"
    }
   ],
   "source": [
    "# Plot the slope fit, with osc excluded (note: plots original PSD with oscs included)\n",
    "plt_psd_2(freqs_ext, psd_ext, freqs_excl, np.power(10, fit_rlm_excl.fittedvalues), log_f=True)"
   ]
  },
  {
   "cell_type": "markdown",
   "metadata": {},
   "source": [
    "## RANSAC Slope Fitting Excluding Oscillatory Bands"
   ]
  },
  {
   "cell_type": "code",
   "execution_count": 35,
   "metadata": {
    "collapsed": true
   },
   "outputs": [],
   "source": [
    "# Fit alpha-exclusion with RANSAC\n",
    "ransac_model_excl = RANSACRegressor()\n",
    "ransac_model_excl.fit(np.log10(freqs_excl), np.log10(psd_excl))\n",
    "sl_ran_excl = ransac_model_excl.estimator_.coef_[0][0]"
   ]
  },
  {
   "cell_type": "code",
   "execution_count": 36,
   "metadata": {
    "collapsed": false
   },
   "outputs": [
    {
     "data": {
      "image/png": "[encoded data removed]",
      "text/plain": [
       "<matplotlib.figure.Figure at 0x11ba01810>"
      ]
     },
     "metadata": {},
     "output_type": "display_data"
    }
   ],
   "source": [
    "# Plot the slope fit, with osc excluded (note: plots original PSD with oscs included)\n",
    "plt_psd_2(freqs_ext, psd_ext, freqs_excl, np.power(10, ransac_model_excl.predict(np.log10(freqs_excl))))"
   ]
  },
  {
   "cell_type": "markdown",
   "metadata": {},
   "source": [
    "# Compare Slope Fits\n",
    "\n",
    "Note: FOOF uses RANSAC, so any differences here are simply due to random initializations"
   ]
  },
  {
   "cell_type": "code",
   "execution_count": 37,
   "metadata": {
    "collapsed": false
   },
   "outputs": [
    {
     "name": "stdout",
     "output_type": "stream",
     "text": [
      "FOOF: \t\t\t -0.730781258043\n",
      "RLM: \t\t\t -0.813382243358\n",
      "RLM-Exclude Alpha:\t -0.722897254535\n",
      "RLM-Exclude Oscs:\t -0.706861171591\n",
      "RANSAC:\t\t\t -1.06838416049\n",
      "RANSAC-Exclude Alpha:\t -0.731866559266\n",
      "RANSAC-Exclude Oscs:\t -0.721407390144\n"
     ]
    }
   ],
   "source": [
    "print('FOOF: \\t\\t\\t', sl_foof)\n",
    "print('RLM: \\t\\t\\t', sl_rlm)\n",
    "print('RLM-Exclude Alpha:\\t', sl_rlm_alph)\n",
    "print('RLM-Exclude Oscs:\\t', sl_rlm_excl)\n",
    "print('RANSAC:\\t\\t\\t', sl_ran)\n",
    "print('RANSAC-Exclude Alpha:\\t', sl_ran_alph)\n",
    "print('RANSAC-Exclude Oscs:\\t', sl_ran_excl)"
   ]
  },
  {
   "cell_type": "code",
   "execution_count": 38,
   "metadata": {
    "collapsed": false
   },
   "outputs": [
    {
     "data": {
      "text/plain": [
       "[(-0.70686117159096828, 'RLM-EO'),\n",
       " (-0.72140739014444155, 'RAN-EO'),\n",
       " (-0.72289725453462439, 'RLM-EA'),\n",
       " (-0.73078125804331651, 'FOOF'),\n",
       " (-0.73186655926595445, 'RAN-EA'),\n",
       " (-0.81338224335826881, 'RLM'),\n",
       " (-1.0683841604855693, 'RANSAC')]"
      ]
     },
     "execution_count": 38,
     "metadata": {},
     "output_type": "execute_result"
    }
   ],
   "source": [
    "# Print out in order of slope fit magnitude\n",
    "all_sl_fits = [(sl_rlm, 'RLM'), (sl_rlm_alph, 'RLM-EA'), (sl_rlm_excl, 'RLM-EO'),\n",
    "               (sl_ran, 'RANSAC'), (sl_ran_alph, 'RAN-EA'), (sl_ran_excl, 'RAN-EO'),\n",
    "               (sl_foof, 'FOOF')]\n",
    "all_sl_fits.sort()\n",
    "all_sl_fits.reverse()\n",
    "all_sl_fits"
   ]
  },
  {
   "cell_type": "code",
   "execution_count": null,
   "metadata": {
    "collapsed": true
   },
   "outputs": [],
   "source": []
  }
 ],
 "metadata": {
  "anaconda-cloud": {},
  "kernelspec": {
   "display_name": "Python 2",
   "language": "python",
   "name": "python2"
  },
  "language_info": {
   "codemirror_mode": {
    "name": "ipython",
    "version": 2
   },
   "file_extension": ".py",
   "mimetype": "text/x-python",
   "name": "python",
   "nbconvert_exporter": "python",
   "pygments_lexer": "ipython2",
   "version": "2.7.13"
  }
 },
 "nbformat": 4,
 "nbformat_minor": 1
}
