{
 "cells": [
  {
   "cell_type": "code",
   "execution_count": 1,
   "metadata": {
    "collapsed": true
   },
   "outputs": [],
   "source": [
    "# Fix py2\n",
    "from __future__ import print_function, division"
   ]
  },
  {
   "cell_type": "code",
   "execution_count": 2,
   "metadata": {
    "collapsed": false
   },
   "outputs": [],
   "source": [
    "%matplotlib inline\n",
    "\n",
    "import os\n",
    "import numpy as np\n",
    "import matplotlib.pyplot as plt"
   ]
  },
  {
   "cell_type": "code",
   "execution_count": 3,
   "metadata": {
    "collapsed": true
   },
   "outputs": [],
   "source": [
    "# Load data from Jorge\n",
    "dat_path = '/Users/thomasdonoghue/Desktop/'\n",
    "dat = np.load(os.path.join(dat_path, 'data-for-tom.npy')).item()"
   ]
  },
  {
   "cell_type": "code",
   "execution_count": 4,
   "metadata": {
    "collapsed": false
   },
   "outputs": [],
   "source": [
    "# Get freqs, drop 0, & unembed freqs from being an array of arrays\n",
    "freqs = dat['f'][1:]\n",
    "freqs = [f[0] for f in freqs]"
   ]
  },
  {
   "cell_type": "code",
   "execution_count": 22,
   "metadata": {
    "collapsed": false
   },
   "outputs": [
    {
     "data": {
      "image/png": "[encoded data removed]",
      "text/plain": [
       "<matplotlib.figure.Figure at 0x10ddece10>"
      ]
     },
     "metadata": {},
     "output_type": "display_data"
    }
   ],
   "source": [
    "# Check plot - single PSD\n",
    "plt_psd_1(freqs, dat[0][0]['eyesc'][1:])"
   ]
  },
  {
   "cell_type": "code",
   "execution_count": 54,
   "metadata": {
    "collapsed": false
   },
   "outputs": [
    {
     "data": {
      "image/png": "[encoded data removed]",
      "text/plain": [
       "<matplotlib.figure.Figure at 0x118307590>"
      ]
     },
     "metadata": {},
     "output_type": "display_data"
    }
   ],
   "source": [
    "# Compare eyes open / eyes closed: single subject, single channel\n",
    "plt_psd_2(freqs, dat[0][0]['eyeso'][1:], freqs, dat[0][0]['eyesc'][1:])"
   ]
  },
  {
   "cell_type": "markdown",
   "metadata": {},
   "source": [
    "## FOOFing Data"
   ]
  },
  {
   "cell_type": "code",
   "execution_count": 41,
   "metadata": {
    "collapsed": false
   },
   "outputs": [],
   "source": [
    "# Import FOOF (use sys to add location to path, then import)\n",
    "import sys\n",
    "sys.path.append('/Users/thomasdonoghue/Documents/GitCode/')\n",
    "from foof.fit import FOOF"
   ]
  },
  {
   "cell_type": "code",
   "execution_count": 42,
   "metadata": {
    "collapsed": false
   },
   "outputs": [],
   "source": [
    "# Set a PSD to run with FOOF\n",
    "psd = dat[0][0]['eyesc'][1:]\n",
    "psd_ext, freqs_ext = extract_psd(psd, freqs, 3, 40)"
   ]
  },
  {
   "cell_type": "code",
   "execution_count": 43,
   "metadata": {
    "collapsed": false
   },
   "outputs": [],
   "source": [
    "# Setting for FOOF\n",
    "min_p = 0.2\n",
    "freq_res = np.mean(np.diff(freqs))"
   ]
  },
  {
   "cell_type": "code",
   "execution_count": 115,
   "metadata": {
    "collapsed": false
   },
   "outputs": [],
   "source": [
    "# Initialize FOOF, fit PSD, and extract fit data\n",
    "foof = FOOF(min_p=min_p, res=freq_res, fmin=freqs_ext.min(), fmax=freqs_ext.max())\n",
    "foof.model(freqs_ext, psd_ext)\n",
    "foof_dat = (foof.chi_, foof.centers_, foof.powers_, foof.stdevs_)\n",
    "sl_foof = -foof.chi_"
   ]
  },
  {
   "cell_type": "code",
   "execution_count": 47,
   "metadata": {
    "collapsed": false
   },
   "outputs": [
    {
     "data": {
      "text/plain": [
       "(0.61830951569805426,\n",
       " array([ 10.35524415,  18.39890162]),\n",
       " array([ 3.82048559,  0.84301203], dtype=float32),\n",
       " array([ 1.27399355,  1.27399355]))"
      ]
     },
     "execution_count": 47,
     "metadata": {},
     "output_type": "execute_result"
    }
   ],
   "source": [
    "foof_dat"
   ]
  },
  {
   "cell_type": "markdown",
   "metadata": {},
   "source": [
    "## Checking FOOF PSD Fit"
   ]
  },
  {
   "cell_type": "code",
   "execution_count": 48,
   "metadata": {
    "collapsed": true
   },
   "outputs": [],
   "source": [
    "from foof import syn"
   ]
  },
  {
   "cell_type": "code",
   "execution_count": 49,
   "metadata": {
    "collapsed": true
   },
   "outputs": [],
   "source": [
    "fs, foof_model = syn.mfonef(\n",
    "    mf=foof.centers_,\n",
    "    mf_sig=foof.stdevs_,\n",
    "    mk=foof.powers_,\n",
    "    chi=foof.chi_,\n",
    "    f0=freqs_ext.min(),\n",
    "    fmax=freqs_ext.max(),\n",
    "    res=freq_res,\n",
    "    noi=0\n",
    ")"
   ]
  },
  {
   "cell_type": "code",
   "execution_count": 50,
   "metadata": {
    "collapsed": false
   },
   "outputs": [
    {
     "data": {
      "image/png": "[encoded data removed]",
      "text/plain": [
       "<matplotlib.figure.Figure at 0x1181a6d50>"
      ]
     },
     "metadata": {},
     "output_type": "display_data"
    }
   ],
   "source": [
    "plt_psd_1(fs, foof_model)"
   ]
  },
  {
   "cell_type": "code",
   "execution_count": 56,
   "metadata": {
    "collapsed": false
   },
   "outputs": [
    {
     "data": {
      "image/png": "[encoded data removed]",
      "text/plain": [
       "<matplotlib.figure.Figure at 0x117c5a750>"
      ]
     },
     "metadata": {},
     "output_type": "display_data"
    }
   ],
   "source": [
    "plt_psd_2(freqs_ext, psd_ext, fs, foof_model)"
   ]
  },
  {
   "cell_type": "code",
   "execution_count": 58,
   "metadata": {
    "collapsed": false
   },
   "outputs": [
    {
     "data": {
      "text/plain": [
       "<matplotlib.legend.Legend at 0x118585850>"
      ]
     },
     "execution_count": 58,
     "metadata": {},
     "output_type": "execute_result"
    },
    {
     "data": {
      "image/png": "[encoded data removed]",
      "text/plain": [
       "<matplotlib.figure.Figure at 0x10def5590>"
      ]
     },
     "metadata": {},
     "output_type": "display_data"
    }
   ],
   "source": [
    "plt.plot(np.log10(fs), np.log10(foof_model), 'b', lw=2, label='Model')\n",
    "#plt.plot(np.log10(freqs_ext), np.log10(psd_ext), 'g', lw=2, label='Data')\n",
    "plt.legend()"
   ]
  },
  {
   "cell_type": "code",
   "execution_count": null,
   "metadata": {
    "collapsed": true
   },
   "outputs": [],
   "source": []
  },
  {
   "cell_type": "markdown",
   "metadata": {},
   "source": [
    "## Check Robust Slope Fitting on PSDs"
   ]
  },
  {
   "cell_type": "code",
   "execution_count": 59,
   "metadata": {
    "collapsed": true
   },
   "outputs": [],
   "source": [
    "import statsmodels.api as sm"
   ]
  },
  {
   "cell_type": "code",
   "execution_count": 60,
   "metadata": {
    "collapsed": true
   },
   "outputs": [],
   "source": [
    "# Add constant for fitting with statsmodels\n",
    "fx = sm.add_constant(np.log10(freqs_ext))"
   ]
  },
  {
   "cell_type": "code",
   "execution_count": 62,
   "metadata": {
    "collapsed": false
   },
   "outputs": [],
   "source": [
    "# Fit slope - robust linear fit to log-log PSD\n",
    "fit_rlm = sm.RLM(np.log10(psd_ext), fx).fit()\n",
    "sl_rlm = fit_rlm.params[1]"
   ]
  },
  {
   "cell_type": "code",
   "execution_count": 74,
   "metadata": {
    "collapsed": false
   },
   "outputs": [
    {
     "data": {
      "image/png": "[encoded data removed]",
      "text/plain": [
       "<matplotlib.figure.Figure at 0x118ec6550>"
      ]
     },
     "metadata": {},
     "output_type": "display_data"
    }
   ],
   "source": [
    "# Check the robust linear slope fit\n",
    "plt_psd_2(freqs_ext, psd_ext, freqs_ext, np.power(10, sl_rlm.fittedvalues), log_f=True)"
   ]
  },
  {
   "cell_type": "markdown",
   "metadata": {},
   "source": [
    "## RLM Slope Fitting Excluding Generic Alpha Band"
   ]
  },
  {
   "cell_type": "code",
   "execution_count": 157,
   "metadata": {
    "collapsed": true
   },
   "outputs": [],
   "source": [
    "# Exclude predefined alpha range\n",
    "psd_alph, freqs_alph = exclude_psd(psd_ext, freqs_ext, [7, 14])"
   ]
  },
  {
   "cell_type": "code",
   "execution_count": 159,
   "metadata": {
    "collapsed": true
   },
   "outputs": [],
   "source": [
    "# Robust fit slope without alpha range\n",
    "fx = sm.add_constant(np.log10(freqs_alph))\n",
    "fit_rlm_alph = sm.RLM(np.log10(psd_alph), fx).fit()\n",
    "sl_rlm_alph = fit_rlm_alph.params[1]"
   ]
  },
  {
   "cell_type": "markdown",
   "metadata": {},
   "source": [
    "## RLM Slope Fitting Excluding Oscillatory Bands"
   ]
  },
  {
   "cell_type": "code",
   "execution_count": 112,
   "metadata": {
    "collapsed": false
   },
   "outputs": [
    {
     "data": {
      "text/plain": [
       "(0.61830951569805426,\n",
       " array([ 10.35524415,  18.39890162]),\n",
       " array([ 3.82048559,  0.84301203], dtype=float32),\n",
       " array([ 1.27399355,  1.27399355]))"
      ]
     },
     "execution_count": 112,
     "metadata": {},
     "output_type": "execute_result"
    }
   ],
   "source": [
    "# Foof dat is [slope_val, [centers], [powers], [bandwidths]]\n",
    "foof_dat"
   ]
  },
  {
   "cell_type": "code",
   "execution_count": 175,
   "metadata": {
    "collapsed": false
   },
   "outputs": [
    {
     "data": {
      "image/png": "[encoded data removed]",
      "text/plain": [
       "<matplotlib.figure.Figure at 0x118d1ef10>"
      ]
     },
     "metadata": {},
     "output_type": "display_data"
    }
   ],
   "source": [
    "m = 2.0\n",
    "log_f = False\n",
    "\n",
    "plt_psd_1(freqs_ext, psd_ext, log_f=log_f)\n",
    "\n",
    "for cen, bw in zip(foof_dat[1], foof_dat[3]):\n",
    "    if log_f:\n",
    "        cen = np.log10(cen)\n",
    "        bw = np.log10(bw)\n",
    "        plt.axvspan(cen, cen, color='g')\n",
    "        plt.axvspan(cen-(m*bw), cen+(m*bw), color='r', alpha=0.2, lw=0)\n",
    "    else:\n",
    "        plt.axvspan(cen, cen, color='g')\n",
    "        plt.axvspan(cen-(m*bw), cen+(m*bw), color='r', alpha=0.2, lw=0)"
   ]
  },
  {
   "cell_type": "code",
   "execution_count": 171,
   "metadata": {
    "collapsed": false
   },
   "outputs": [],
   "source": [
    "# Exclude FOOF oscillation bands\n",
    "psd_excl = psd_ext\n",
    "freqs_excl = freqs_ext\n",
    "for cen, bw in zip(foof_dat[1], foof_dat[3]):\n",
    "    psd_excl, freqs_excl = exclude_psd(psd_excl, freqs_excl, [cen-2*bw, cen+2*bw])"
   ]
  },
  {
   "cell_type": "code",
   "execution_count": 172,
   "metadata": {
    "collapsed": false
   },
   "outputs": [],
   "source": [
    "# Robust fit slope without FOOF oscillation bands\n",
    "fx = sm.add_constant(np.log10(freqs_excl))\n",
    "fit_rlm_excl = sm.RLM(np.log10(psd_excl), fx).fit()\n",
    "sl_rlm_excl = fit_rlm_excl.params[1]"
   ]
  },
  {
   "cell_type": "markdown",
   "metadata": {},
   "source": [
    "## Compare Slope Fits"
   ]
  },
  {
   "cell_type": "code",
   "execution_count": 176,
   "metadata": {
    "collapsed": false
   },
   "outputs": [
    {
     "name": "stdout",
     "output_type": "stream",
     "text": [
      "FOOF: \t\t\t -0.618309515698\n",
      "RLM: \t\t\t -0.688924899303\n",
      "RLM-Exclude Alpha:\t -0.608192053132\n",
      "RLM-Exclude Oscs:\t -0.601844962611\n"
     ]
    }
   ],
   "source": [
    "print('FOOF: \\t\\t\\t', sl_foof)\n",
    "print('RLM: \\t\\t\\t', sl_rlm)\n",
    "print('RLM-Exclude Alpha:\\t', sl_rlm_alph)\n",
    "print('RLM-Exclude Oscs:\\t', sl_rlm_excl)"
   ]
  },
  {
   "cell_type": "markdown",
   "metadata": {},
   "source": [
    "## Functions"
   ]
  },
  {
   "cell_type": "code",
   "execution_count": 72,
   "metadata": {
    "collapsed": false
   },
   "outputs": [],
   "source": [
    "# Plotting funcs - for convenience\n",
    "def plt_psd_1(freqs, dat, log_f=True, log_p=True, label=None):\n",
    "    \n",
    "    min_f = 2; max_f = 40\n",
    "    min_p = 0.01; max_p = 400\n",
    "    \n",
    "    if log_f:\n",
    "        freqs = np.log10(freqs)\n",
    "        min_f = np.log10(min_f)\n",
    "        max_f = np.log10(max_f)\n",
    "    \n",
    "    if log_p:\n",
    "        dat = np.log10(dat)\n",
    "        min_p = np.log10(min_p)\n",
    "        max_p = np.log10(max_p)\n",
    "    \n",
    "    plt.plot(freqs, dat, lw=2)\n",
    "    \n",
    "    plt.xlim([min_f, max_f])\n",
    "    plt.ylim([min_p, max_p])\n",
    "    \n",
    "def plt_psd_2(freqs_1, dat_1, freqs_2, dat_2, log_f=True, log_p=True):\n",
    "    \n",
    "    plt.figure()\n",
    "    plt_psd_1(freqs_1, dat_1, log_f, log_p)\n",
    "    plt.hold(True)\n",
    "    plt_psd_1(freqs_2, dat_2, log_f, log_p)\n",
    "    plt.hold(False)"
   ]
  },
  {
   "cell_type": "code",
   "execution_count": 29,
   "metadata": {
    "collapsed": true
   },
   "outputs": [],
   "source": [
    "def extract_psd(psd, freqs, f_low, f_high):\n",
    "    \"\"\"Extract frequency range of interest from PSD data.\"\"\"\n",
    "    \n",
    "    # Boolean indexing needs to be array - not list\n",
    "    if isinstance(freqs, list):\n",
    "        freqs = np.array(freqs)\n",
    "\n",
    "    # Drop frequencies below f_low\n",
    "    f_low_mask = freqs >= f_low\n",
    "    freqs_ext = freqs[f_low_mask]\n",
    "    psd_ext = psd[f_low_mask]\n",
    "\n",
    "    # Drop frequencies above f_high\n",
    "    f_high_mask = freqs_ext <= f_high\n",
    "    freqs_ext = freqs_ext[f_high_mask]\n",
    "    psd_ext = psd_ext[f_high_mask]\n",
    "    \n",
    "    # Reshape PSD for foof specs\n",
    "    psd_ext = np.reshape(psd_ext, [len(freqs_ext), 1])\n",
    "\n",
    "    return psd_ext, freqs_ext"
   ]
  },
  {
   "cell_type": "code",
   "execution_count": 153,
   "metadata": {
    "collapsed": true
   },
   "outputs": [],
   "source": [
    "def exclude_psd(psd, freqs, exclude):\n",
    "    \"\"\"Drop an exclusion range of frequencies.\"\"\"\n",
    "    \n",
    "    f_mask = np.array([(a or b) for a, b in zip(freqs < exclude[0],\n",
    "                                                freqs > exclude[1])])\n",
    "    \n",
    "    freqs_out = freqs[f_mask]\n",
    "    psd_out = psd[f_mask]\n",
    "    \n",
    "    return psd_out, freqs_out"
   ]
  }
 ],
 "metadata": {
  "anaconda-cloud": {},
  "kernelspec": {
   "display_name": "Python 2",
   "language": "python",
   "name": "python2"
  },
  "language_info": {
   "codemirror_mode": {
    "name": "ipython",
    "version": 2
   },
   "file_extension": ".py",
   "mimetype": "text/x-python",
   "name": "python",
   "nbconvert_exporter": "python",
   "pygments_lexer": "ipython2",
   "version": "2.7.11"
  }
 },
 "nbformat": 4,
 "nbformat_minor": 1
}
