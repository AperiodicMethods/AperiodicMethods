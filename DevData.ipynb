{
 "cells": [
  {
   "cell_type": "markdown",
   "metadata": {},
   "source": [
    "# Dev Data Slope Fitting\n",
    "\n",
    "Note: this notebook uses py3.5 (for MNE)"
   ]
  },
  {
   "cell_type": "code",
   "execution_count": 1,
   "metadata": {
    "collapsed": true
   },
   "outputs": [],
   "source": [
    "%matplotlib qt\n",
    "%matplotlib inline"
   ]
  },
  {
   "cell_type": "code",
   "execution_count": 2,
   "metadata": {
    "collapsed": false
   },
   "outputs": [],
   "source": [
    "# Custom imports\n",
    "import os\n",
    "import csv\n",
    "import numpy as np\n",
    "import matplotlib.pyplot as plt"
   ]
  },
  {
   "cell_type": "code",
   "execution_count": 3,
   "metadata": {
    "collapsed": true
   },
   "outputs": [],
   "source": [
    "# Import MNE\n",
    "import mne"
   ]
  },
  {
   "cell_type": "code",
   "execution_count": 4,
   "metadata": {
    "collapsed": true
   },
   "outputs": [],
   "source": [
    "# Custom imports\n",
    "from slf.core.db import SLFDB"
   ]
  },
  {
   "cell_type": "code",
   "execution_count": 5,
   "metadata": {
    "collapsed": true
   },
   "outputs": [],
   "source": [
    "# Get project database objects, and list of available subjects\n",
    "db = SLFDB()\n",
    "subjs = db.check_subjs()"
   ]
  },
  {
   "cell_type": "code",
   "execution_count": 17,
   "metadata": {
    "collapsed": false
   },
   "outputs": [],
   "source": [
    "# Set subject to run\n",
    "cur_subj = subjs[1]\n",
    "\n",
    "# Get subject data files\n",
    "dat_f, ev_f, _ = db.get_subj_files(cur_subj)"
   ]
  },
  {
   "cell_type": "code",
   "execution_count": 26,
   "metadata": {
    "collapsed": false
   },
   "outputs": [],
   "source": [
    "# Get the resting data file - file 001\n",
    "temp = [ef.split('_')[1] for ef in ev_f]\n",
    "temp = [fn[-3:] for fn in temp]\n",
    "f_ind = None\n",
    "for i in range(len(temp)):\n",
    "    if bb[i] == '001':\n",
    "        f_ind = i\n",
    "if not f_ind:\n",
    "    print('No file found')"
   ]
  },
  {
   "cell_type": "code",
   "execution_count": null,
   "metadata": {
    "collapsed": true
   },
   "outputs": [],
   "source": [
    "# Set current data files to work on\n",
    "f_ind = 1\n",
    "\n",
    "# Get file file path for data file & associated event file\n",
    "dat_f_name = db.gen_dat_path(cur_subj, dat_f[f_ind])\n",
    "eve_f_name = db.gen_dat_path(cur_subj, ev_f[f_ind])"
   ]
  },
  {
   "cell_type": "code",
   "execution_count": 7,
   "metadata": {
    "collapsed": false
   },
   "outputs": [],
   "source": [
    "# Load data file\n",
    "dat = np.loadtxt(dat_f_name, delimiter=',')"
   ]
  },
  {
   "cell_type": "code",
   "execution_count": 8,
   "metadata": {
    "collapsed": true
   },
   "outputs": [],
   "source": [
    "# Read default montage\n",
    "montage = mne.channels.read_montage('GSN-HydroCel-129')\n",
    "keep_chans = np.array([1, 2, 3, 4, 5, 6, 7, 8, 9, 10, 11, 12, 13, 14, 15, 16, 18, 19, 20, \n",
    "              21, 22, 23, 24, 25, 26, 27, 28, 29, 30, 31, 32, 33, 34, 35, 36, 37,\n",
    "              38, 39, 40, 41, 42, 43, 44, 45, 46, 47, 50, 51, 52, 53, 54, 55, 57,\n",
    "              58, 59, 60, 61, 62, 64, 65, 66, 67, 69, 70, 71, 72, 74, 75, 76, 77,\n",
    "              78, 79, 80, 82, 83, 84, 85, 86, 87, 89, 90, 91, 92, 93, 95, 96, 97,\n",
    "              98, 100, 101, 102, 103, 104, 105, 106, 108, 109, 110, 111, 112, 114,\n",
    "              115, 116, 117, 118, 120, 121, 122, 123, 124, 129])\n",
    "\n",
    "# Fix zero based indexing (screw off matlab)\n",
    "keep_chans = keep_chans - 1\n",
    "\n",
    "# Get channel names to keep\n",
    "kept_chans = list(np.array(montage.ch_names)[keep_chans])"
   ]
  },
  {
   "cell_type": "code",
   "execution_count": 9,
   "metadata": {
    "collapsed": true
   },
   "outputs": [],
   "source": [
    "# Settings for loading data\n",
    "s_freq = 500"
   ]
  },
  {
   "cell_type": "code",
   "execution_count": 10,
   "metadata": {
    "collapsed": false
   },
   "outputs": [
    {
     "name": "stdout",
     "output_type": "stream",
     "text": [
      "Creating RawArray with float64 data, n_channels=111, n_times=209026\n",
      "    Range : 0 ... 209025 =      0.000 ...   418.050 secs\n",
      "Ready.\n"
     ]
    }
   ],
   "source": [
    "# Create the info structure needed by MNE\n",
    "info = mne.create_info(kept_chans, s_freq, 'eeg')\n",
    "\n",
    "# Create the MNE Raw data object\n",
    "raw = mne.io.RawArray(dat, info)"
   ]
  },
  {
   "cell_type": "code",
   "execution_count": 11,
   "metadata": {
    "collapsed": false
   },
   "outputs": [
    {
     "name": "stdout",
     "output_type": "stream",
     "text": [
      "Creating RawArray with float64 data, n_channels=1, n_times=209026\n",
      "    Range : 0 ... 209025 =      0.000 ...   418.050 secs\n",
      "Ready.\n"
     ]
    }
   ],
   "source": [
    "# Create a stim channel\n",
    "stim_info = mne.create_info(['stim'], s_freq, 'stim')\n",
    "stim_raw = mne.io.RawArray(np.zeros(shape=[1, len(raw._times)]), stim_info)"
   ]
  },
  {
   "cell_type": "code",
   "execution_count": 12,
   "metadata": {
    "collapsed": false
   },
   "outputs": [
    {
     "data": {
      "text/plain": [
       "<RawArray  |  None, n_channels x n_times : 112 x 209026 (418.1 sec), ~178.8 MB, data loaded>"
      ]
     },
     "execution_count": 12,
     "metadata": {},
     "output_type": "execute_result"
    }
   ],
   "source": [
    "# Add stim channel to data object\n",
    "raw.add_channels([stim_raw], force_update_info=True)"
   ]
  },
  {
   "cell_type": "code",
   "execution_count": 13,
   "metadata": {
    "collapsed": false
   },
   "outputs": [
    {
     "name": "stdout",
     "output_type": "stream",
     "text": [
      "12 events found\n",
      "Events id: [20 30 90]\n"
     ]
    }
   ],
   "source": [
    "# Load events from file\n",
    "\n",
    "# Initialize headers and variable to store event info\n",
    "headers = ['type', 'value', 'latency', 'duration', 'urevent']\n",
    "evs = np.empty(shape=[0, 3])\n",
    "\n",
    "# Load events from csv file\n",
    "with open(eve_f_name, 'r') as csv_file:\n",
    "    \n",
    "    reader = csv.reader(csv_file)\n",
    "    for row in reader:\n",
    "\n",
    "        # Skip the empty rows\n",
    "        if row == []: continue\n",
    "        \n",
    "        # Skip the header row, since there is one FOR EVERY DAMN EVENT. SERIOUSLY!?\n",
    "        if row[0] == 'type': continue\n",
    "        \n",
    "        # Collect actual event data rows\n",
    "        evs = np.vstack((evs, np.array([int(row[2]), 0, int(row[0])])))\n",
    "\n",
    "# Add events to data object\n",
    "raw.add_events(evs, stim_channel='stim')\n",
    "\n",
    "# Check events\n",
    "dat_evs = mne.find_events(raw)"
   ]
  },
  {
   "cell_type": "code",
   "execution_count": 14,
   "metadata": {
    "collapsed": false
   },
   "outputs": [
    {
     "name": "stdout",
     "output_type": "stream",
     "text": [
      "Bad channels:  ['FidNz', 'E5', 'E11', 'E18', 'E22', 'E29']\n"
     ]
    }
   ],
   "source": [
    "# Find flat channels and set them as bad\n",
    "flat_chans = np.mean(raw._data[:111, :], axis=1) == 0\n",
    "raw.info['bads'] = list(np.array(raw.ch_names[:111])[flat_chans])\n",
    "print('Bad channels: ', raw.info['bads'])"
   ]
  },
  {
   "cell_type": "markdown",
   "metadata": {},
   "source": [
    "## Resting EEG event descriptions\n",
    "\n",
    "- 90: Start of the resting EEG paradigm\n",
    "- 20: Eyes open start (20 seconds)\n",
    "- 30: Eyes closed start (40 seconds)\n",
    "\n",
    "^ There should be 5 of each EO and EC"
   ]
  },
  {
   "cell_type": "code",
   "execution_count": 17,
   "metadata": {
    "collapsed": false
   },
   "outputs": [
    {
     "data": {
      "image/png": "[encoded data removed]",
      "text/plain": [
       "<matplotlib.figure.Figure at 0x11040aba8>"
      ]
     },
     "metadata": {},
     "output_type": "display_data"
    }
   ],
   "source": [
    "_ = mne.viz.plot_events(dat_evs, raw.info['sfreq'])"
   ]
  },
  {
   "cell_type": "code",
   "execution_count": 45,
   "metadata": {
    "collapsed": false
   },
   "outputs": [
    {
     "name": "stdout",
     "output_type": "stream",
     "text": [
      "6 matching events found\n",
      "No baseline correction applied\n",
      "0 projection items activated\n",
      "Loading data for 6 events and 5001 original time points ...\n",
      "1 bad epochs dropped\n",
      "5 matching events found\n",
      "No baseline correction applied\n",
      "0 projection items activated\n",
      "Loading data for 5 events and 15001 original time points ...\n",
      "0 bad epochs dropped\n"
     ]
    }
   ],
   "source": [
    "# Get good eeg channel indices\n",
    "eeg_chans = mne.pick_types(raw.info, meg=False, eeg=True)\n",
    "\n",
    "# Epoch resting eeg data events\n",
    "eo_epochs = mne.Epochs(raw, events=dat_evs, event_id={'EO': 20},\n",
    "                       tmin=5, tmax=15, baseline=None, picks=eeg_chans, \n",
    "                       add_eeg_ref=False, preload=True)\n",
    "ec_epochs = mne.Epochs(raw, events=dat_evs, event_id={'EC': 30},\n",
    "                       tmin=5, tmax= 35, baseline=None, picks=eeg_chans,\n",
    "                       add_eeg_ref=False, preload=True)"
   ]
  },
  {
   "cell_type": "code",
   "execution_count": 93,
   "metadata": {
    "collapsed": false
   },
   "outputs": [
    {
     "name": "stdout",
     "output_type": "stream",
     "text": [
      "Effective window size : 2.000 (s)\n"
     ]
    }
   ],
   "source": [
    "# Calculate PSDs - EO Data\n",
    "eo_psds, eo_freqs = mne.time_frequency.psd_welch(eo_epochs, fmin=1., fmax=40., n_fft=1000)\n",
    "\n",
    "# Average PSDs for each channel across each rest block\n",
    "eo_avg_psds = np.mean(eo_psds, axis=0)"
   ]
  },
  {
   "cell_type": "code",
   "execution_count": 94,
   "metadata": {
    "collapsed": false
   },
   "outputs": [
    {
     "name": "stdout",
     "output_type": "stream",
     "text": [
      "Effective window size : 2.000 (s)\n"
     ]
    }
   ],
   "source": [
    "# Calculate PSDs - EC Data\n",
    "ec_psds, ec_freqs = mne.time_frequency.psd_welch(ec_epochs, fmin=3., fmax=40., n_fft=1000)\n",
    "\n",
    "# Average PSDs for each channel across each rest block\n",
    "ec_avg_psds = np.mean(ec_psds, axis=0)"
   ]
  },
  {
   "cell_type": "code",
   "execution_count": 95,
   "metadata": {
    "collapsed": false
   },
   "outputs": [],
   "source": [
    "# Get freq res of PSD\n",
    "f_res = np.mean(np.diff(ec_freqs))"
   ]
  },
  {
   "cell_type": "code",
   "execution_count": 97,
   "metadata": {
    "collapsed": false
   },
   "outputs": [],
   "source": [
    "# Save out PSDs\n",
    "np.savez(str(cur_subj) + 'ec_psds.npz', ec_freqs, ec_avg_psds, np.array(ec_epochs.ch_names))\n",
    "np.savez(str(cur_subj) + 'eo_psds.npz', eo_freqs, eo_avg_psds, np.array(eo_epochs.ch_names))"
   ]
  },
  {
   "cell_type": "markdown",
   "metadata": {},
   "source": [
    "### Extra / Old Stuff"
   ]
  },
  {
   "cell_type": "code",
   "execution_count": 58,
   "metadata": {
    "collapsed": false
   },
   "outputs": [],
   "source": [
    "# Plot a PSD\n",
    "#plt.plot(np.log10(ec_freqs), np.log10(ec_avg_psd[0, :]))"
   ]
  },
  {
   "cell_type": "code",
   "execution_count": 59,
   "metadata": {
    "collapsed": false
   },
   "outputs": [],
   "source": [
    "# Plot some epoched data\n",
    "#eo_epochs.plot(scalings=dict(eeg=10))"
   ]
  },
  {
   "cell_type": "code",
   "execution_count": 60,
   "metadata": {
    "collapsed": false
   },
   "outputs": [],
   "source": [
    "# Plot some raw data\n",
    "#raw.plot(start=100, duration=2, scalings=dict(eeg=10))"
   ]
  },
  {
   "cell_type": "code",
   "execution_count": null,
   "metadata": {
    "collapsed": true
   },
   "outputs": [],
   "source": []
  }
 ],
 "metadata": {
  "anaconda-cloud": {},
  "kernelspec": {
   "display_name": "Python [conda env:py35]",
   "language": "python",
   "name": "conda-env-py35-py"
  },
  "language_info": {
   "codemirror_mode": {
    "name": "ipython",
    "version": 3
   },
   "file_extension": ".py",
   "mimetype": "text/x-python",
   "name": "python",
   "nbconvert_exporter": "python",
   "pygments_lexer": "ipython3",
   "version": "3.5.2"
  }
 },
 "nbformat": 4,
 "nbformat_minor": 1
}
