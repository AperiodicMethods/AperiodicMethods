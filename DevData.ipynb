{
 "cells": [
  {
   "cell_type": "markdown",
   "metadata": {},
   "source": [
    "# Dev Data Slope Fitting\n",
    "\n",
    "Note: this notebook uses py3.5 (for MNE)"
   ]
  },
  {
   "cell_type": "code",
   "execution_count": 2,
   "metadata": {
    "collapsed": true
   },
   "outputs": [],
   "source": [
    "%matplotlib qt\n",
    "%matplotlib inline"
   ]
  },
  {
   "cell_type": "code",
   "execution_count": 3,
   "metadata": {
    "collapsed": false
   },
   "outputs": [],
   "source": [
    "import os\n",
    "import csv\n",
    "import numpy as np\n",
    "import matplotlib.pyplot as plt\n",
    "\n",
    "import mne"
   ]
  },
  {
   "cell_type": "code",
   "execution_count": 19,
   "metadata": {
    "collapsed": true
   },
   "outputs": [],
   "source": [
    "from slf.core.db import SLFDB"
   ]
  },
  {
   "cell_type": "code",
   "execution_count": null,
   "metadata": {
    "collapsed": true
   },
   "outputs": [],
   "source": []
  },
  {
   "cell_type": "code",
   "execution_count": 22,
   "metadata": {
    "collapsed": true
   },
   "outputs": [],
   "source": [
    "# Get project database objects, and list of available subjects\n",
    "db = SLFDB()\n",
    "subjs = db.check_subjs()"
   ]
  },
  {
   "cell_type": "code",
   "execution_count": null,
   "metadata": {
    "collapsed": true
   },
   "outputs": [],
   "source": []
  },
  {
   "cell_type": "code",
   "execution_count": null,
   "metadata": {
    "collapsed": true
   },
   "outputs": [],
   "source": [
    "#''"
   ]
  },
  {
   "cell_type": "code",
   "execution_count": null,
   "metadata": {
    "collapsed": true
   },
   "outputs": [],
   "source": [
    "db."
   ]
  },
  {
   "cell_type": "code",
   "execution_count": null,
   "metadata": {
    "collapsed": true
   },
   "outputs": [],
   "source": []
  },
  {
   "cell_type": "code",
   "execution_count": null,
   "metadata": {
    "collapsed": true
   },
   "outputs": [],
   "source": []
  },
  {
   "cell_type": "code",
   "execution_count": null,
   "metadata": {
    "collapsed": false
   },
   "outputs": [],
   "source": [
    "file_name = '/Users/thomasdonoghue/Desktop/EEG_Dat/Subjs/A00051826/EEG/preprocessed/csv_format/gip_A00051826005.csv'\n",
    "dat = np.loadtxt(file_name, delimiter=',')"
   ]
  },
  {
   "cell_type": "code",
   "execution_count": null,
   "metadata": {
    "collapsed": true
   },
   "outputs": [],
   "source": [
    "f2 = '/Users/thomasdonoghue/Desktop/EEG_Dat/Subjs/A00054647007/EEG/preprocessed/csv_format/bp_A00054647007.csv'\n",
    "dat = np.loadtxt(file_name, delimiter=',')"
   ]
  },
  {
   "cell_type": "code",
   "execution_count": null,
   "metadata": {
    "collapsed": false
   },
   "outputs": [],
   "source": [
    "dat.shape"
   ]
  },
  {
   "cell_type": "code",
   "execution_count": null,
   "metadata": {
    "collapsed": true
   },
   "outputs": [],
   "source": [
    "# Read default montage\n",
    "montage = mne.channels.read_montage('GSN-HydroCel-129')\n",
    "keep_chans = np.array([1, 2, 3, 4, 5, 6, 7, 8, 9, 10, 11, 12, 13, 14, 15, 16, 18, 19, 20, \n",
    "              21, 22, 23, 24, 25, 26, 27, 28, 29, 30, 31, 32, 33, 34, 35, 36, 37,\n",
    "              38, 39, 40, 41, 42, 43, 44, 45, 46, 47, 50, 51, 52, 53, 54, 55, 57,\n",
    "              58, 59, 60, 61, 62, 64, 65, 66, 67, 69, 70, 71, 72, 74, 75, 76, 77,\n",
    "              78, 79, 80, 82, 83, 84, 85, 86, 87, 89, 90, 91, 92, 93, 95, 96, 97,\n",
    "              98, 100, 101, 102, 103, 104, 105, 106, 108, 109, 110, 111, 112, 114,\n",
    "              115, 116, 117, 118, 120, 121, 122, 123, 124, 129])\n",
    "\n",
    "# Fix zero based indexing (screw off matlab)\n",
    "keep_chans = keep_chans - 1\n",
    "\n",
    "# Get channel names to keep\n",
    "kept_chans = list(np.array(montage.ch_names)[keep_chans])"
   ]
  },
  {
   "cell_type": "code",
   "execution_count": null,
   "metadata": {
    "collapsed": true
   },
   "outputs": [],
   "source": [
    "# Settings for loading data\n",
    "s_freq = 500"
   ]
  },
  {
   "cell_type": "code",
   "execution_count": null,
   "metadata": {
    "collapsed": false
   },
   "outputs": [],
   "source": [
    "# Create the info structure needed by MNE\n",
    "info = mne.create_info(kept_chans, s_freq, 'eeg')\n",
    "\n",
    "# Create the MNE Raw data object\n",
    "raw = mne.io.RawArray(dat, info)"
   ]
  },
  {
   "cell_type": "code",
   "execution_count": null,
   "metadata": {
    "collapsed": true
   },
   "outputs": [],
   "source": [
    "# Create a stim channel\n",
    "stim_info = mne.create_info(['stim'], s_freq, 'stim')\n",
    "stim_raw = mne.io.RawArray(np.zeros(shape=[1, 103526]), stim_info)"
   ]
  },
  {
   "cell_type": "code",
   "execution_count": null,
   "metadata": {
    "collapsed": true
   },
   "outputs": [],
   "source": [
    "# Add stim channel to data object\n",
    "raw.add_channels([stim_raw], force_update_info=True)"
   ]
  },
  {
   "cell_type": "code",
   "execution_count": null,
   "metadata": {
    "collapsed": false
   },
   "outputs": [],
   "source": [
    "# Check out some data\n",
    "raw.plot(start=100, duration=2, scalings=dict(eeg=10))"
   ]
  },
  {
   "cell_type": "code",
   "execution_count": null,
   "metadata": {
    "collapsed": true
   },
   "outputs": [],
   "source": [
    "# Set bad channels\n",
    "raw.info['bads'] = ['FidT9', 'E6', 'E12', 'E19', 'E23', 'E30']"
   ]
  },
  {
   "cell_type": "code",
   "execution_count": null,
   "metadata": {
    "collapsed": false
   },
   "outputs": [],
   "source": [
    "# Check PSD\n",
    "raw.plot_psd()"
   ]
  },
  {
   "cell_type": "code",
   "execution_count": null,
   "metadata": {
    "collapsed": false
   },
   "outputs": [],
   "source": [
    "# Calculate PSDs\n",
    "psds, freqs = mne.time_frequency.psd_welch(raw, fmin=1., fmax=40, n_fft=1000)"
   ]
  },
  {
   "cell_type": "code",
   "execution_count": null,
   "metadata": {
    "collapsed": false
   },
   "outputs": [],
   "source": [
    "# Get freq res of PSD\n",
    "f_res = np.mean(np.diff(freqs))"
   ]
  },
  {
   "cell_type": "code",
   "execution_count": null,
   "metadata": {
    "collapsed": false
   },
   "outputs": [],
   "source": [
    "plt.plot(np.log10(freqs), np.log10(psds[30, :]))"
   ]
  },
  {
   "cell_type": "code",
   "execution_count": null,
   "metadata": {
    "collapsed": true
   },
   "outputs": [],
   "source": []
  },
  {
   "cell_type": "code",
   "execution_count": null,
   "metadata": {
    "collapsed": true
   },
   "outputs": [],
   "source": [
    "# Set the event file name\n",
    "ev_f_name = (\"/Users/thomasdonoghue/Desktop/EEG_Dat/Subjs/A00051826/EEG/\"\n",
    "            \"preprocessed/csv_format/gip_A00051826005_events.csv\")"
   ]
  },
  {
   "cell_type": "code",
   "execution_count": null,
   "metadata": {
    "collapsed": false
   },
   "outputs": [],
   "source": [
    "# Load events\n",
    "\n",
    "# \n",
    "headers = ['type', 'value', 'latency', 'duration', 'urevent']\n",
    "evs = np.empty(shape=[0, 3])\n",
    "\n",
    "# Load events from csv file\n",
    "with open(ev_f_name, 'r') as csv_file:\n",
    "    reader = csv.reader(csv_file)\n",
    "    for row in reader:\n",
    "\n",
    "        # Skip the empty rows\n",
    "        if row == []: continue\n",
    "        \n",
    "        # Skip the header row FOR EVERY DAMN EVENT. SERIOUSLY?\n",
    "        if row[0] == 'type': continue\n",
    "        \n",
    "        evs = np.vstack((evs, np.array([int(row[2]), 0, int(row[0])])))"
   ]
  },
  {
   "cell_type": "code",
   "execution_count": null,
   "metadata": {
    "collapsed": false
   },
   "outputs": [],
   "source": [
    "# Add events to data object\n",
    "raw.add_events(evs, stim_channel='stim')"
   ]
  }
 ],
 "metadata": {
  "anaconda-cloud": {},
  "kernelspec": {
   "display_name": "Python 2",
   "language": "python",
   "name": "python2"
  },
  "language_info": {
   "codemirror_mode": {
    "name": "ipython",
    "version": 2
   },
   "file_extension": ".py",
   "mimetype": "text/x-python",
   "name": "python",
   "nbconvert_exporter": "python",
   "pygments_lexer": "ipython2",
   "version": "2.7.13"
  }
 },
 "nbformat": 4,
 "nbformat_minor": 1
}
