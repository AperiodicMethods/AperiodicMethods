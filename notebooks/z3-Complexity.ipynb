{
 "cells": [
  {
   "cell_type": "markdown",
   "metadata": {},
   "source": [
    "# Complexity"
   ]
  },
  {
   "cell_type": "code",
   "execution_count": 2,
   "metadata": {},
   "outputs": [],
   "source": [
    "import numpy as np\n",
    "\n",
    "from neurodsp.sim import sim_powerlaw, sim_synaptic_current, sim_combined\n",
    "from neurodsp.utils import set_random_seed"
   ]
  },
  {
   "cell_type": "code",
   "execution_count": 3,
   "metadata": {},
   "outputs": [],
   "source": [
    "from antropy import hjorth_params"
   ]
  },
  {
   "cell_type": "code",
   "execution_count": null,
   "metadata": {},
   "outputs": [],
   "source": [
    "# Import custom code\n",
    "import sys; from pathlib import Path\n",
    "sys.path.append(str(Path('..').resolve()))\n",
    "\n",
    "from apm.run import run_sims\n",
    "from apm.plts import plot_lines\n",
    "from apm.plts.settings import AP_COL, COMB_COL"
   ]
  },
  {
   "cell_type": "markdown",
   "metadata": {},
   "source": [
    "## Settings"
   ]
  },
  {
   "cell_type": "code",
   "execution_count": 4,
   "metadata": {},
   "outputs": [],
   "source": [
    "# Simulation settings\n",
    "n_seconds = 30\n",
    "fs = 1000\n",
    "default_exp = -2\n",
    "default_freq = 10\n",
    "\n",
    "# Collect together simulation parameters\n",
    "sim_params_pow = {'n_seconds' : n_seconds, 'fs' : fs}\n",
    "\n",
    "sim_params_comb = {'n_seconds' : n_seconds, 'fs' : fs,\n",
    "                   'components' : {'sim_powerlaw' : {'exponent' : default_exp},\n",
    "                                   'sim_oscillation' : {'freq' : default_freq}}}"
   ]
  },
  {
   "cell_type": "code",
   "execution_count": null,
   "metadata": {},
   "outputs": [],
   "source": [
    "# Set the number of instances to run\n",
    "n_instances = 25\n",
    "\n",
    "# Set the exponent range to simulate across\n",
    "exps = np.arange(-3, 0.25, 0.25)\n",
    "freqs = np.arange(1, 50, 2)\n",
    "pows = np.arange(0, 1, 0.1)"
   ]
  },
  {
   "cell_type": "code",
   "execution_count": null,
   "metadata": {},
   "outputs": [],
   "source": [
    "# Set the random seed\n",
    "set_random_seed(111)"
   ]
  },
  {
   "cell_type": "code",
   "execution_count": null,
   "metadata": {},
   "outputs": [],
   "source": [
    "# Notebook settings\n",
    "SAVE_FIG = False"
   ]
  },
  {
   "cell_type": "markdown",
   "metadata": {},
   "source": [
    "## Hjorth Parameters on Examples Signals"
   ]
  },
  {
   "cell_type": "markdown",
   "metadata": {},
   "source": [
    "#### Powerlaw Signal"
   ]
  },
  {
   "cell_type": "code",
   "execution_count": 11,
   "metadata": {},
   "outputs": [],
   "source": [
    "# Set an example exponent to simulate\n",
    "exp_pl = -2"
   ]
  },
  {
   "cell_type": "code",
   "execution_count": 12,
   "metadata": {},
   "outputs": [],
   "source": [
    "# Simulate a powerlaw signal\n",
    "sig_pl = sim_powerlaw(n_seconds, fs, exp_pl)"
   ]
  },
  {
   "cell_type": "code",
   "execution_count": 13,
   "metadata": {},
   "outputs": [],
   "source": [
    "# Calculate Hjorth parameters on the simulated signal\n",
    "mobility, complexity = hjorth_params(sig_pl)"
   ]
  },
  {
   "cell_type": "code",
   "execution_count": 14,
   "metadata": {},
   "outputs": [
    {
     "name": "stdout",
     "output_type": "stream",
     "text": [
      "Mobility: \t\t 0.0253\n",
      "Complexity: \t\t 51.2562\n"
     ]
    }
   ],
   "source": [
    "# Check the calculated Hjorth parameters\n",
    "print('Mobility: \\t\\t {:1.4f}'.format(mobility))\n",
    "print('Complexity: \\t\\t {:1.4f}'.format(complexity))"
   ]
  },
  {
   "cell_type": "markdown",
   "metadata": {},
   "source": [
    "#### Combined Signal"
   ]
  },
  {
   "cell_type": "code",
   "execution_count": 15,
   "metadata": {},
   "outputs": [],
   "source": [
    "# Simulate a combined signal\n",
    "sig_comb = sim_powerlaw(**sim_params_comb)"
   ]
  },
  {
   "cell_type": "code",
   "execution_count": 16,
   "metadata": {},
   "outputs": [],
   "source": [
    "# Calculate Hjorth parameters on the simulated signal\n",
    "mobility, complexity = hjorth_params(sig_comb)"
   ]
  },
  {
   "cell_type": "code",
   "execution_count": 17,
   "metadata": {},
   "outputs": [
    {
     "name": "stdout",
     "output_type": "stream",
     "text": [
      "Mobility: \t\t 0.0290\n",
      "Complexity: \t\t 44.3612\n"
     ]
    }
   ],
   "source": [
    "# Check the calculated Hjorth parameters\n",
    "print('Mobility: \\t\\t {:1.4f}'.format(mobility))\n",
    "print('Complexity: \\t\\t {:1.4f}'.format(complexity))"
   ]
  },
  {
   "cell_type": "markdown",
   "metadata": {},
   "source": [
    "#### Knee Signal"
   ]
  },
  {
   "cell_type": "code",
   "execution_count": 18,
   "metadata": {},
   "outputs": [],
   "source": [
    "# Simulate a signal with a knee\n",
    "sig_kn = sim_synaptic_current(n_seconds, fs)"
   ]
  },
  {
   "cell_type": "code",
   "execution_count": 19,
   "metadata": {},
   "outputs": [],
   "source": [
    "# Calculate Hjorth parameters on the simulated signal\n",
    "mobility, complexity = hjorth_params(sig_kn)"
   ]
  },
  {
   "cell_type": "code",
   "execution_count": 20,
   "metadata": {},
   "outputs": [
    {
     "name": "stdout",
     "output_type": "stream",
     "text": [
      "Mobility: \t\t 0.4396\n",
      "Complexity: \t\t 3.2941\n"
     ]
    }
   ],
   "source": [
    "# Check the calculated Hjorth parameters\n",
    "print('Mobility: \\t\\t {:1.4f}'.format(mobility))\n",
    "print('Complexity: \\t\\t {:1.4f}'.format(complexity))"
   ]
  },
  {
   "cell_type": "markdown",
   "metadata": {},
   "source": [
    "## Hjorth Parameters: Aperiodic Variations"
   ]
  },
  {
   "cell_type": "code",
   "execution_count": null,
   "metadata": {},
   "outputs": [],
   "source": []
  },
  {
   "cell_type": "markdown",
   "metadata": {},
   "source": [
    "## Hjorth Parameters: Periodic Variations"
   ]
  },
  {
   "cell_type": "code",
   "execution_count": null,
   "metadata": {},
   "outputs": [],
   "source": []
  }
 ],
 "metadata": {
  "kernelspec": {
   "display_name": "Python 3",
   "language": "python",
   "name": "python3"
  },
  "language_info": {
   "codemirror_mode": {
    "name": "ipython",
    "version": 3
   },
   "file_extension": ".py",
   "mimetype": "text/x-python",
   "name": "python",
   "nbconvert_exporter": "python",
   "pygments_lexer": "ipython3",
   "version": "3.8.3"
  }
 },
 "nbformat": 4,
 "nbformat_minor": 4
}
