{
 "cells": [
  {
   "cell_type": "markdown",
   "metadata": {},
   "source": [
    "# Fractal Dimensions\n",
    "\n",
    "This is currently a scrap / exploratory notebook for some measures. \n",
    "\n",
    "Current messsy code below copies implementations:\n",
    "- Higuchi Fractal Dimension\n",
    "- Petrosian Fractal Dimension"
   ]
  },
  {
   "cell_type": "code",
   "execution_count": 16,
   "metadata": {},
   "outputs": [],
   "source": [
    "import numpy as np\n",
    "\n",
    "from neurodsp.sim import *"
   ]
  },
  {
   "cell_type": "code",
   "execution_count": null,
   "metadata": {},
   "outputs": [],
   "source": []
  },
  {
   "cell_type": "code",
   "execution_count": 11,
   "metadata": {},
   "outputs": [],
   "source": [
    "# General simulation settings\n",
    "n_seconds = 10\n",
    "fs = 1000"
   ]
  },
  {
   "cell_type": "code",
   "execution_count": 12,
   "metadata": {},
   "outputs": [],
   "source": [
    "# Specific settings\n",
    "exp = -2"
   ]
  },
  {
   "cell_type": "code",
   "execution_count": 13,
   "metadata": {},
   "outputs": [],
   "source": [
    "sig = sim_powerlaw(n_seconds, fs, exp)"
   ]
  },
  {
   "cell_type": "code",
   "execution_count": null,
   "metadata": {},
   "outputs": [],
   "source": []
  },
  {
   "cell_type": "markdown",
   "metadata": {},
   "source": [
    "## HFD"
   ]
  },
  {
   "cell_type": "code",
   "execution_count": 18,
   "metadata": {},
   "outputs": [],
   "source": [
    "def hfd(X, Kmax):\n",
    "    \"\"\"Compute Higuchi Fractal Dimension of a time series X.\n",
    "    kmax is an HFD parameter.\n",
    "\n",
    "    NOTE: copied from pyeeg\n",
    "    https://github.com/forrestbao/pyeeg/blob/master/pyeeg/fractal_dimension.py#L4\n",
    "    \"\"\"\n",
    "\n",
    "    L = []\n",
    "    x = []\n",
    "    N = len(X)\n",
    "\n",
    "    for k in range(1, Kmax):\n",
    "\n",
    "        Lk = []\n",
    "\n",
    "        for m in range(0, k):\n",
    "            Lmk = 0\n",
    "            for i in range(1, int(np.floor((N - m) / k))):\n",
    "                Lmk += abs(X[m + i * k] - X[m + i * k - k])\n",
    "            Lmk = Lmk * (N - 1) / np.floor((N - m) / float(k)) / k\n",
    "            Lk.append(Lmk)\n",
    "\n",
    "        L.append(np.log(np.mean(Lk)))\n",
    "        x.append([np.log(float(1) / k), 1])\n",
    "\n",
    "    (p, _, _, _) = np.linalg.lstsq(x, L)\n",
    "\n",
    "    return p[0]"
   ]
  },
  {
   "cell_type": "code",
   "execution_count": null,
   "metadata": {},
   "outputs": [],
   "source": []
  },
  {
   "cell_type": "code",
   "execution_count": 24,
   "metadata": {},
   "outputs": [
    {
     "name": "stderr",
     "output_type": "stream",
     "text": [
      "/opt/anaconda3/lib/python3.7/site-packages/ipykernel_launcher.py:27: FutureWarning: `rcond` parameter will change to the default of machine precision times ``max(M, N)`` where M and N are the input matrix dimensions.\n",
      "To use the future default and silence this warning we advise to pass `rcond=None`, to keep using the old, explicitly pass `rcond=-1`.\n"
     ]
    },
    {
     "data": {
      "text/plain": [
       "0.47230163936614866"
      ]
     },
     "execution_count": 24,
     "metadata": {},
     "output_type": "execute_result"
    }
   ],
   "source": [
    "hfd(sig, 20)"
   ]
  },
  {
   "cell_type": "code",
   "execution_count": null,
   "metadata": {},
   "outputs": [],
   "source": []
  },
  {
   "cell_type": "markdown",
   "metadata": {},
   "source": [
    "## PFD"
   ]
  },
  {
   "cell_type": "code",
   "execution_count": 25,
   "metadata": {},
   "outputs": [],
   "source": [
    "def pfd(X, D=None):\n",
    "    \"\"\"Compute Petrosian Fractal Dimension of a time series from either two cases below:\n",
    "        1. X, the time series of type list (default)\n",
    "        2. D, the first order differential sequence of X (if D is provided, recommended to speed up)\n",
    "\n",
    "    In case 1, D is computed using Numpy's difference function.\n",
    "    To speed up, it is recommended to compute D before calling this function\n",
    "    because D may also be used by other functions whereas computing it here\n",
    "    again will slow down.\n",
    "\n",
    "    NOTE: copied from pyeeg\n",
    "    https://github.com/forrestbao/pyeeg/blob/master/pyeeg/fractal_dimension.py#L26\n",
    "    \"\"\"\n",
    "\n",
    "    if D is None:\n",
    "        D = np.diff(X)\n",
    "        D = D.tolist()\n",
    "\n",
    "    N_delta = 0  # number of sign changes in derivative of the signal\n",
    "\n",
    "    for i in range(1, len(D)):\n",
    "        if D[i] * D[i - 1] < 0:\n",
    "            N_delta += 1\n",
    "\n",
    "    n = len(X)\n",
    "\n",
    "    return np.log10(n) / (np.log10(n) + np.log10(n / n + 0.4 * N_delta))"
   ]
  },
  {
   "cell_type": "code",
   "execution_count": null,
   "metadata": {},
   "outputs": [],
   "source": []
  },
  {
   "cell_type": "markdown",
   "metadata": {},
   "source": [
    "## Another HFD"
   ]
  },
  {
   "cell_type": "code",
   "execution_count": 26,
   "metadata": {},
   "outputs": [],
   "source": [
    "\"\"\"\n",
    "Copied from:\n",
    "https://github.com/inuritdino/HiguchiFractalDimension/blob/master/hfd.py\n",
    "\n",
    "Higuchi Fractal Dimension according to:\n",
    "T. Higuchi, Approach to an Irregular Time Series on the\n",
    "Basis of the Fractal Theory, Physica D, 1988; 31: 277-283.\n",
    "\"\"\"\n",
    "\n",
    "import numpy as np\n",
    "\n",
    "def hfd2(X, **kwargs):\n",
    "    \"\"\"\n",
    "    Calculate Higuchi Fractal Dimension (HFD) for 1D data/series\n",
    "    Input:\n",
    "    X - input (time) series (must be 1D, to be converted into a NumPy array)\n",
    "    Output:\n",
    "\n",
    "    HFD\n",
    "    \"\"\"\n",
    "    k, L = curve_length(X, **kwargs)\n",
    "    return lin_fit_hfd(k, L);\n",
    "\n",
    "\n",
    "def curve_length(X, num_k=50, k_max=None):\n",
    "    \"\"\"\n",
    "    Calculate curve length <Lk> for Higuchi Fractal Dimension (HFD)\n",
    "\n",
    "    Input:\n",
    "\n",
    "    X - input (time) series (must be 1D, to be converted into a NumPy array)\n",
    "    num_k - number of k values to generate.\n",
    "    k_max - the maximum k (the k array is generated uniformly in log space\n",
    "            from 2 to k_max)\n",
    "\n",
    "    Output:\n",
    "    k - interval \"times\", window sizes\n",
    "    Lk - curve length\n",
    "    \"\"\"\n",
    "    ### Make sure X is a NumPy array with the correct dimension\n",
    "    X = np.array(X)\n",
    "    if X.ndim != 1:\n",
    "        raise ValueError(\"Input array must be 1D (time series).\")\n",
    "    N = X.size\n",
    "\n",
    "    # Get interval \"time\"\n",
    "    k_arr = interval_t(N,num_val=num_k,kmax=k_max)\n",
    "\n",
    "    # The average length\n",
    "    Lk = np.empty(k_arr.size,dtype=np.float)\n",
    "\n",
    "    for i in range(k_arr.size): # over array of k's\n",
    "        Lmk = 0.0\n",
    "        for j in range(k_arr[i]): # over m's\n",
    "            ## Construct X_k^m, i.e. X_(k_arr[i])^j, as X[j::k_arr[i]]\n",
    "            ## Calculate L_m(k)\n",
    "            Lmk += (\n",
    "                np.sum(np.abs(np.diff( X[j::k_arr[i]] )))\n",
    "                * (N - 1) / ( ( (N-j-1)//k_arr[i] ) * k_arr[i])\n",
    "            ) / k_arr[i]\n",
    "\n",
    "        ### Calculate the average Lmk\n",
    "        Lk[i] = Lmk / k_arr[i]\n",
    "\n",
    "    return (k_arr, Lk);\n",
    "\n",
    "\n",
    "def lin_fit_hfd(k,L,log=True):\n",
    "    \"\"\"Calculate Higuchi Fractal Dimension (HFD) by fitting a line to already computed\n",
    "    interval times k and curve lengths L\n",
    "\n",
    "    Input:\n",
    "    k - interval \"times\", window sizes\n",
    "    L - curve length\n",
    "    log (=True) - k and L values will be transformed to np.log2(k) and np.log2(L), respectively\n",
    "\n",
    "    Output:\n",
    "    HFD\n",
    "    \"\"\"\n",
    "    if log:\n",
    "        return (-np.polyfit(np.log2(k),np.log2(L),deg=1)[0]);\n",
    "    else:\n",
    "        return (-np.polyfit(k,L,deg=1)[0]);\n",
    "\n",
    "\n",
    "def interval_t(size,num_val=50,kmax=None):\n",
    "    \"\"\"Generate sequence of interval times, k\"\"\"\n",
    "\n",
    "    if kmax is None:\n",
    "        k_stop = size//2\n",
    "    else:\n",
    "        k_stop = kmax\n",
    "    if k_stop > size//2:## prohibit going larger than N/2\n",
    "        k_stop = size//2\n",
    "        print(\"Warning: k cannot be longer than N/2\")\n",
    "\n",
    "    k = np.logspace(start=np.log2(2),stop=np.log2(k_stop),base=2,num=num_val,dtype=np.int)\n",
    "    return np.unique(k);"
   ]
  },
  {
   "cell_type": "code",
   "execution_count": null,
   "metadata": {},
   "outputs": [],
   "source": []
  },
  {
   "cell_type": "code",
   "execution_count": 28,
   "metadata": {},
   "outputs": [
    {
     "data": {
      "text/plain": [
       "1.389425763032955"
      ]
     },
     "execution_count": 28,
     "metadata": {},
     "output_type": "execute_result"
    }
   ],
   "source": [
    "hfd2(sig)"
   ]
  },
  {
   "cell_type": "code",
   "execution_count": null,
   "metadata": {},
   "outputs": [],
   "source": []
  }
 ],
 "metadata": {
  "kernelspec": {
   "display_name": "Python 3",
   "language": "python",
   "name": "python3"
  },
  "language_info": {
   "codemirror_mode": {
    "name": "ipython",
    "version": 3
   },
   "file_extension": ".py",
   "mimetype": "text/x-python",
   "name": "python",
   "nbconvert_exporter": "python",
   "pygments_lexer": "ipython3",
   "version": "3.7.4"
  }
 },
 "nbformat": 4,
 "nbformat_minor": 2
}
