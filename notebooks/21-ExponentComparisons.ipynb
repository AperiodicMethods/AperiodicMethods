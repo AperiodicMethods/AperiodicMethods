{
 "cells": [
  {
   "cell_type": "markdown",
   "metadata": {},
   "source": [
    "# Exponent Comparisons\n",
    "\n",
    "This notebook compares methods that directly estimate aperiodic exponents.  \n",
    "\n",
    "Compared methods:\n",
    "- spectral parameterization\n",
    "- IRASA\n",
    "\n",
    "ToDo:\n",
    "- This notebook is incomplete, and will be fleshed out when the full IRASA explorations are integrated, and can be compared directly to specparam here"
   ]
  },
  {
   "cell_type": "code",
   "execution_count": 1,
   "metadata": {},
   "outputs": [],
   "source": [
    "import numpy as np\n",
    "\n",
    "from neurodsp.sim import sim_combined\n",
    "from neurodsp.utils import set_random_seed\n",
    "\n",
    "from bootstrap import bootstrap_corr"
   ]
  },
  {
   "cell_type": "code",
   "execution_count": 2,
   "metadata": {},
   "outputs": [],
   "source": [
    "# Import custom code\n",
    "import sys; from pathlib import Path\n",
    "sys.path.append(str(Path('..').resolve()))\n",
    "\n",
    "from apm.run import run_comparisons\n",
    "from apm.plts import plot_dots\n",
    "from apm.utils import format_corr, sampler\n",
    "from apm.methods import irasa, specparam\n",
    "from apm.methods.settings import IRASA_PARAMS\n",
    "from apm.sim.settings import FS, SIM_PARAMS_COMB"
   ]
  },
  {
   "cell_type": "markdown",
   "metadata": {},
   "source": [
    "## Settings"
   ]
  },
  {
   "cell_type": "code",
   "execution_count": 3,
   "metadata": {},
   "outputs": [],
   "source": [
    "# Define settings\n",
    "f_range = [1, 50]\n",
    "specparam_params = {'min_peak_height' : 0.05, 'fs' : FS, 'f_range' : f_range}"
   ]
  },
  {
   "cell_type": "code",
   "execution_count": 4,
   "metadata": {},
   "outputs": [],
   "source": [
    "# Set the random seed\n",
    "set_random_seed(111)"
   ]
  },
  {
   "cell_type": "markdown",
   "metadata": {},
   "source": [
    "## Collect Methods"
   ]
  },
  {
   "cell_type": "code",
   "execution_count": 5,
   "metadata": {},
   "outputs": [],
   "source": [
    "# Define ranges to sample parameters from\n",
    "samplers = {'update_comb_exp' : sampler(np.arange(-2.5, 0, 0.1)),\n",
    "            'update_pow' : sampler(np.arange(0, 1, 0.1)),\n",
    "            'update_freq' : sampler(np.arange(5, 35, 1))}"
   ]
  },
  {
   "cell_type": "code",
   "execution_count": 6,
   "metadata": {},
   "outputs": [],
   "source": [
    "# Define measures to apply\n",
    "measures = {specparam : specparam_params,\n",
    "            irasa : IRASA_PARAMS}"
   ]
  },
  {
   "cell_type": "markdown",
   "metadata": {},
   "source": [
    "## Run Simulations"
   ]
  },
  {
   "cell_type": "code",
   "execution_count": 7,
   "metadata": {},
   "outputs": [],
   "source": [
    "N_SIMS = 1000"
   ]
  },
  {
   "cell_type": "code",
   "execution_count": 8,
   "metadata": {},
   "outputs": [],
   "source": [
    "# Run simulations, comparing SpecParam & IRASA, sampling oscillation power\n",
    "outputs = run_comparisons(sim_combined, SIM_PARAMS_COMB, measures, samplers, n_sims=N_SIMS)"
   ]
  },
  {
   "cell_type": "markdown",
   "metadata": {},
   "source": [
    "## Visualize"
   ]
  },
  {
   "cell_type": "code",
   "execution_count": 9,
   "metadata": {},
   "outputs": [
    {
     "data": {
      "image/png": "[encoded data removed]",
      "text/plain": [
       "<Figure size 432x288 with 1 Axes>"
      ]
     },
     "metadata": {
      "needs_background": "light"
     },
     "output_type": "display_data"
    }
   ],
   "source": [
    "# Plot the comparison between specparam and IRASA\n",
    "plot_dots(outputs['specparam'], outputs['irasa'], \n",
    "          xlabel='Aperiodic Exponent (SP)', ylabel='Aperiodic Exponent (IR)')"
   ]
  },
  {
   "cell_type": "code",
   "execution_count": 10,
   "metadata": {},
   "outputs": [
    {
     "name": "stdout",
     "output_type": "stream",
     "text": [
      "  SP & IR:   r=-0.998  CI[-0.998, -0.998],  p=0.000\n"
     ]
    }
   ],
   "source": [
    "# Check correlations\n",
    "corrs = bootstrap_corr(outputs['specparam'], outputs['irasa'])\n",
    "print('  SP & IR:  ', format_corr(*corrs))"
   ]
  },
  {
   "cell_type": "markdown",
   "metadata": {},
   "source": [
    "## Conclusions\n",
    "\n",
    "Comparing between these methods, overall we can see that:\n",
    "- In simple cases (powerlaw + oscillations), specparam and IRASA perform very similarly"
   ]
  }
 ],
 "metadata": {
  "kernelspec": {
   "display_name": "Python 3 (ipykernel)",
   "language": "python",
   "name": "python3"
  },
  "language_info": {
   "codemirror_mode": {
    "name": "ipython",
    "version": 3
   },
   "file_extension": ".py",
   "mimetype": "text/x-python",
   "name": "python",
   "nbconvert_exporter": "python",
   "pygments_lexer": "ipython3",
   "version": "3.8.3"
  }
 },
 "nbformat": 4,
 "nbformat_minor": 4
}
