{
 "cells": [
  {
   "cell_type": "markdown",
   "id": "ef39031e",
   "metadata": {},
   "source": [
    "# Method Comparisons\n",
    "\n",
    "In this section, we compare estimates from different methods across a range of simulations. \n",
    "\n",
    "In these simulations, the strategy is to sample simulated time series from different parameter ranges (sampling randomly across parameters), to then compute a group of measures across the same set of simulated data, and compare the results.\n",
    "\n",
    "In doing so, we typically do not have an expected result for each method. Therefore, the results are not in terms of evaluating correctness, but rather to see how the methods vary together across parameter regimes. \n",
    "\n",
    "The more similar the two methods perform across a set of simulations, the more we can say that these measures are sensitive to the same features of the data, whereas in so far as the two methods have different results across the same set of simulations, the more we can say that these methods are practically different in terms of what they reflect in the data."
   ]
  }
 ],
 "metadata": {
  "kernelspec": {
   "display_name": "Python 3 (ipykernel)",
   "language": "python",
   "name": "python3"
  },
  "language_info": {
   "codemirror_mode": {
    "name": "ipython",
    "version": 3
   },
   "file_extension": ".py",
   "mimetype": "text/x-python",
   "name": "python",
   "nbconvert_exporter": "python",
   "pygments_lexer": "ipython3",
   "version": "3.9.17"
  }
 },
 "nbformat": 4,
 "nbformat_minor": 5
}
