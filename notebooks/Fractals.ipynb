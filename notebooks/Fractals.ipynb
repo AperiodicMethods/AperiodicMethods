{
 "cells": [
  {
   "cell_type": "code",
   "execution_count": 5,
   "metadata": {},
   "outputs": [],
   "source": [
    "from neurodsp.sim import *"
   ]
  },
  {
   "cell_type": "code",
   "execution_count": null,
   "metadata": {},
   "outputs": [],
   "source": []
  },
  {
   "cell_type": "code",
   "execution_count": 6,
   "metadata": {},
   "outputs": [],
   "source": [
    "# General simulation settings\n",
    "n_seconds = 10\n",
    "fs = 1000"
   ]
  },
  {
   "cell_type": "code",
   "execution_count": 99,
   "metadata": {},
   "outputs": [],
   "source": [
    "# Specific settings\n",
    "exp = -2"
   ]
  },
  {
   "cell_type": "code",
   "execution_count": 100,
   "metadata": {},
   "outputs": [],
   "source": [
    "sig = sim_powerlaw(n_seconds, fs, exp)"
   ]
  },
  {
   "cell_type": "code",
   "execution_count": null,
   "metadata": {},
   "outputs": [],
   "source": []
  },
  {
   "cell_type": "code",
   "execution_count": 101,
   "metadata": {},
   "outputs": [
    {
     "name": "stderr",
     "output_type": "stream",
     "text": [
      "/anaconda3/lib/python3.7/site-packages/ipykernel_launcher.py:47: RuntimeWarning: invalid value encountered in true_divide\n",
      "/anaconda3/lib/python3.7/site-packages/ipykernel_launcher.py:51: FutureWarning: `rcond` parameter will change to the default of machine precision times ``max(M, N)`` where M and N are the input matrix dimensions.\n",
      "To use the future default and silence this warning we advise to pass `rcond=None`, to keep using the old, explicitly pass `rcond=-1`.\n"
     ]
    },
    {
     "data": {
      "text/plain": [
       "0.9636821872859747"
      ]
     },
     "execution_count": 101,
     "metadata": {},
     "output_type": "execute_result"
    }
   ],
   "source": [
    "hurst(sig)"
   ]
  },
  {
   "cell_type": "code",
   "execution_count": 102,
   "metadata": {},
   "outputs": [
    {
     "data": {
      "text/plain": [
       "0.4935365885434033"
      ]
     },
     "execution_count": 102,
     "metadata": {},
     "output_type": "execute_result"
    }
   ],
   "source": [
    "hurst2(sig)"
   ]
  },
  {
   "cell_type": "code",
   "execution_count": null,
   "metadata": {},
   "outputs": [],
   "source": []
  },
  {
   "cell_type": "code",
   "execution_count": 91,
   "metadata": {},
   "outputs": [
    {
     "name": "stderr",
     "output_type": "stream",
     "text": [
      "/anaconda3/lib/python3.7/site-packages/ipykernel_launcher.py:25: FutureWarning: `rcond` parameter will change to the default of machine precision times ``max(M, N)`` where M and N are the input matrix dimensions.\n",
      "To use the future default and silence this warning we advise to pass `rcond=None`, to keep using the old, explicitly pass `rcond=-1`.\n"
     ]
    },
    {
     "data": {
      "text/plain": [
       "1.003087632215174"
      ]
     },
     "execution_count": 91,
     "metadata": {},
     "output_type": "execute_result"
    }
   ],
   "source": [
    "hfd(sig, 20)"
   ]
  },
  {
   "cell_type": "code",
   "execution_count": null,
   "metadata": {},
   "outputs": [],
   "source": []
  },
  {
   "cell_type": "code",
   "execution_count": 92,
   "metadata": {},
   "outputs": [
    {
     "name": "stdout",
     "output_type": "stream",
     "text": [
      "Hurst(GBM):   0.4927548764984111\n",
      "Hurst(MR):    4.58117975309083e-05\n",
      "Hurst(TR):    0.9544276057508854\n"
     ]
    }
   ],
   "source": [
    "from numpy.random import randn\n",
    "from numpy import cumsum\n",
    "\n",
    "# Create a Gometric Brownian Motion, Mean-Reverting and Trending Series\n",
    "gbm = log(cumsum(randn(100000))+1000)\n",
    "mr = log(randn(100000)+1000)\n",
    "tr = log(cumsum(randn(100000)+1)+1000)\n",
    "\n",
    "# Output the Hurst Exponent for each of the above series\n",
    "# and the price of Google (the Adjusted Close price) for \n",
    "# the ADF test given above in the article\n",
    "print(\"Hurst(GBM):   %s\" % hurst2(gbm))\n",
    "print(\"Hurst(MR):    %s\" % hurst2(mr))\n",
    "print(\"Hurst(TR):    %s\" % hurst2(tr))"
   ]
  },
  {
   "cell_type": "code",
   "execution_count": null,
   "metadata": {},
   "outputs": [],
   "source": []
  },
  {
   "cell_type": "code",
   "execution_count": null,
   "metadata": {},
   "outputs": [],
   "source": []
  },
  {
   "cell_type": "code",
   "execution_count": null,
   "metadata": {},
   "outputs": [],
   "source": []
  },
  {
   "cell_type": "code",
   "execution_count": null,
   "metadata": {},
   "outputs": [],
   "source": []
  },
  {
   "cell_type": "code",
   "execution_count": 9,
   "metadata": {},
   "outputs": [],
   "source": [
    "# Copied from pyeeh\n",
    "#https://github.com/forrestbao/pyeeg/blob/master/pyeeg/hurst.py\n",
    "    \n",
    "import numpy\n",
    "\n",
    "def hurst(X):\n",
    "    \"\"\"Compute the Hurst exponent of X. If the output H=0.5,the behavior\n",
    "    of the time-series is similar to random walk. If H<0.5, the time-series\n",
    "    cover less \"distance\" than a random walk, vice verse.\n",
    "    \n",
    "    Parameters\n",
    "    ----------\n",
    "    X : list\n",
    "        a time series\n",
    "        \n",
    "    Returns\n",
    "    -------\n",
    "    H : float\n",
    "        Hurst exponent\n",
    "        \n",
    "    Notes\n",
    "    --------\n",
    "    Author of this function is Xin Liu\n",
    "    \n",
    "    Examples\n",
    "    --------\n",
    "    >>> import pyeeg\n",
    "    >>> from numpy.random import randn\n",
    "    >>> a = randn(4096)\n",
    "    >>> pyeeg.hurst(a)\n",
    "    0.5057444\n",
    "    \"\"\"\n",
    "    X = numpy.array(X)\n",
    "    N = X.size\n",
    "    T = numpy.arange(1, N + 1)\n",
    "    Y = numpy.cumsum(X)\n",
    "    Ave_T = Y / T\n",
    "\n",
    "    S_T = numpy.zeros(N)\n",
    "    R_T = numpy.zeros(N)\n",
    "\n",
    "    for i in range(N):\n",
    "        S_T[i] = numpy.std(X[:i + 1])\n",
    "        X_T = Y - T * Ave_T[i]\n",
    "        R_T[i] = numpy.ptp(X_T[:i + 1])\n",
    "\n",
    "    R_S = R_T / S_T\n",
    "    R_S = numpy.log(R_S)[1:]\n",
    "    n = numpy.log(T)[1:]\n",
    "    A = numpy.column_stack((n, numpy.ones(n.size)))\n",
    "    [m, c] = numpy.linalg.lstsq(A, R_S)[0]\n",
    "    H = m\n",
    "    return H"
   ]
  },
  {
   "cell_type": "code",
   "execution_count": 84,
   "metadata": {},
   "outputs": [],
   "source": [
    "# from pyeeg\n",
    "# https://github.com/forrestbao/pyeeg/issues/17\n",
    "\n",
    "from numpy import log, polyfit, sqrt, std, subtract\n",
    "\n",
    "def hurst2(ts):\n",
    "    \"\"\"Returns the Hurst Exponent of the time series vector ts\"\"\"\n",
    "    # Create the range of lag values\n",
    "    lags = range(2, 100)\n",
    "\n",
    "    # Calculate the array of the variances of the lagged differences\n",
    "    tau = [sqrt(std(subtract(ts[lag:], ts[:-lag]))) for lag in lags]\n",
    "\n",
    "    # Use a linear fit to estimate the Hurst Exponent\n",
    "    poly = polyfit(log(lags), log(tau), 1)\n",
    "\n",
    "    # Return the Hurst exponent from the polyfit output\n",
    "    return poly[0]*2.0"
   ]
  },
  {
   "cell_type": "code",
   "execution_count": 10,
   "metadata": {},
   "outputs": [],
   "source": [
    "# Copied from pyeeg\n",
    "#https://github.com/forrestbao/pyeeg/blob/master/pyeeg/fractal_dimension.py\n",
    "    \n",
    "import numpy\n",
    "\n",
    "\n",
    "def hfd(X, Kmax):\n",
    "    \"\"\" Compute Higuchi Fractal Dimension of a time series X. \n",
    "\n",
    "    kmax is an HFD parameter.\n",
    "    \"\"\"\n",
    "    L = []\n",
    "    x = []\n",
    "    N = len(X)\n",
    "    for k in range(1, Kmax):\n",
    "        Lk = []\n",
    "        for m in range(0, k):\n",
    "            Lmk = 0\n",
    "            for i in range(1, int(numpy.floor((N - m) / k))):\n",
    "                Lmk += abs(X[m + i * k] - X[m + i * k - k])\n",
    "            Lmk = Lmk * (N - 1) / numpy.floor((N - m) / float(k)) / k\n",
    "            Lk.append(Lmk)\n",
    "        L.append(numpy.log(numpy.mean(Lk)))\n",
    "        x.append([numpy.log(float(1) / k), 1])\n",
    "\n",
    "    (p, _, _, _) = numpy.linalg.lstsq(x, L)\n",
    "    return p[0]\n",
    "\n",
    "\n",
    "def pfd(X, D=None):\n",
    "    \"\"\"Compute Petrosian Fractal Dimension of a time series from either two\n",
    "    cases below:\n",
    "        1. X, the time series of type list (default)\n",
    "        2. D, the first order differential sequence of X (if D is provided,\n",
    "           recommended to speed up)\n",
    "    In case 1, D is computed using Numpy's difference function.\n",
    "    To speed up, it is recommended to compute D before calling this function\n",
    "    because D may also be used by other functions whereas computing it here\n",
    "    again will slow down.\n",
    "    \"\"\"\n",
    "    if D is None:\n",
    "        D = numpy.diff(X)\n",
    "        D = D.tolist()\n",
    "    N_delta = 0  # number of sign changes in derivative of the signal\n",
    "    for i in range(1, len(D)):\n",
    "        if D[i] * D[i - 1] < 0:\n",
    "            N_delta += 1\n",
    "    n = len(X)\n",
    "    return numpy.log10(n) / (\n",
    "        numpy.log10(n) + numpy.log10(n / n + 0.4 * N_delta)\n",
    "    )"
   ]
  },
  {
   "cell_type": "code",
   "execution_count": null,
   "metadata": {},
   "outputs": [],
   "source": []
  },
  {
   "cell_type": "code",
   "execution_count": null,
   "metadata": {},
   "outputs": [],
   "source": []
  }
 ],
 "metadata": {
  "kernelspec": {
   "display_name": "Python 3",
   "language": "python",
   "name": "python3"
  },
  "language_info": {
   "codemirror_mode": {
    "name": "ipython",
    "version": 3
   },
   "file_extension": ".py",
   "mimetype": "text/x-python",
   "name": "python",
   "nbconvert_exporter": "python",
   "pygments_lexer": "ipython3",
   "version": "3.7.3"
  }
 },
 "nbformat": 4,
 "nbformat_minor": 2
}
