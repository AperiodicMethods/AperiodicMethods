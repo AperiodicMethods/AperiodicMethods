{
 "cells": [
  {
   "cell_type": "markdown",
   "id": "6dc2701c",
   "metadata": {},
   "source": [
    "# TITLE"
   ]
  },
  {
   "cell_type": "code",
   "execution_count": 1,
   "id": "d516009b",
   "metadata": {},
   "outputs": [],
   "source": [
    "import numpy as np\n",
    "import matplotlib.pyplot as plt\n",
    "\n",
    "from neurodsp.sim import sim_powerlaw, sim_synaptic_current, sim_combined\n",
    "from neurodsp.utils import set_random_seed"
   ]
  },
  {
   "cell_type": "code",
   "execution_count": 2,
   "id": "c78619db",
   "metadata": {},
   "outputs": [],
   "source": [
    "# Import custom code\n",
    "import sys; from pathlib import Path\n",
    "sys.path.append(str(Path('..').resolve()))\n",
    "\n",
    "from apm.io import APMDB\n",
    "from apm.run import run_sims\n",
    "from apm.methods import spectral_entropy\n",
    "from apm.methods.settings import SP_ENT_PARAMS\n",
    "from apm.plts.sims import plot_ap_sims, plot_pe_sims\n",
    "from apm.sim.settings import FS, SIM_PARAMS_AP, SIM_PARAMS_COMB, EXPS, FREQS, POWERS, N_SIMS, EXP\n",
    "from apm.sim.examples import SIG_AP, SIG_KN, SIG_OSC, SIG_COMB"
   ]
  },
  {
   "cell_type": "markdown",
   "id": "7f4eaa7c",
   "metadata": {},
   "source": [
    "## Settings"
   ]
  },
  {
   "cell_type": "code",
   "execution_count": 3,
   "id": "4c4ca1e0",
   "metadata": {},
   "outputs": [
    {
     "name": "stdout",
     "output_type": "stream",
     "text": [
      "Spectral Entropy:\t {'sf': 500, 'method': 'fft'}\n"
     ]
    }
   ],
   "source": [
    "# Check Settings\n",
    "print('Spectral Entropy:\\t', SP_ENT_PARAMS)"
   ]
  },
  {
   "cell_type": "markdown",
   "id": "1d3bd52e",
   "metadata": {},
   "source": [
    "## Spectral Entropy\n",
    "\n",
    "The spectral entropy measures the entropy of the power spectrum."
   ]
  },
  {
   "cell_type": "code",
   "execution_count": 4,
   "id": "69e1c1f6",
   "metadata": {},
   "outputs": [
    {
     "name": "stdout",
     "output_type": "stream",
     "text": [
      "Computed spectral entropy:\n",
      "  powerlaw: \t 4.2012\n",
      "  osc:      \t 0.0000\n",
      "  combined: \t 7.4326\n",
      "  knee:     \t 10.6824\n"
     ]
    }
   ],
   "source": [
    "print('Computed spectral entropy:')\n",
    "print('  powerlaw: \\t {:1.4f}'.format(spectral_entropy(SIG_AP, **SP_ENT_PARAMS)))\n",
    "print('  osc:      \\t {:1.4f}'.format(spectral_entropy(SIG_OSC, **SP_ENT_PARAMS)))\n",
    "print('  combined: \\t {:1.4f}'.format(spectral_entropy(SIG_COMB, **SP_ENT_PARAMS)))\n",
    "print('  knee:     \\t {:1.4f}'.format(spectral_entropy(SIG_KN, **SP_ENT_PARAMS)))"
   ]
  },
  {
   "cell_type": "markdown",
   "id": "b9a18a89",
   "metadata": {},
   "source": [
    "#### Aperiodic Variations"
   ]
  },
  {
   "cell_type": "code",
   "execution_count": 5,
   "id": "cfbd1ff2",
   "metadata": {},
   "outputs": [],
   "source": [
    "# Run simulations calculating spectral entropy across exponents\n",
    "sp_sims_exp, sp_sims_exp_var = run_sims(\\\n",
    "    sim_powerlaw, SIM_PARAMS_AP, spectral_entropy, SP_ENT_PARAMS, \n",
    "    'update_exp', EXPS, N_SIMS, var_func=np.std)"
   ]
  },
  {
   "cell_type": "code",
   "execution_count": 6,
   "id": "97ab2dfa",
   "metadata": {},
   "outputs": [],
   "source": [
    "# Run simulations calculating spectral entropy across exponents, with an oscillation\n",
    "sp_sims_comb, sp_sims_exp_comb_var = run_sims(\\\n",
    "    sim_combined, SIM_PARAMS_COMB, spectral_entropy, SP_ENT_PARAMS, \n",
    "    'update_comb_exp', EXPS, N_SIMS, var_func=np.std)"
   ]
  },
  {
   "cell_type": "code",
   "execution_count": 7,
   "id": "2e8e24e5",
   "metadata": {},
   "outputs": [
    {
     "ename": "NameError",
     "evalue": "name 'SAVE_FIG' is not defined",
     "output_type": "error",
     "traceback": [
      "\u001b[0;31m---------------------------------------------------------------------------\u001b[0m",
      "\u001b[0;31mNameError\u001b[0m                                 Traceback (most recent call last)",
      "Cell \u001b[0;32mIn[7], line 3\u001b[0m\n\u001b[1;32m      1\u001b[0m \u001b[38;5;66;03m# Plot spectral entropy measures across aperiodic variations\u001b[39;00m\n\u001b[1;32m      2\u001b[0m plot_ap_sims(sp_sims_exp, sp_sims_exp_var, sp_sims_comb, sp_sims_exp_comb_var,\n\u001b[0;32m----> 3\u001b[0m              \u001b[38;5;124m'\u001b[39m\u001b[38;5;124mSpectral Entropy\u001b[39m\u001b[38;5;124m'\u001b[39m, save_fig\u001b[38;5;241m=\u001b[39m\u001b[43mSAVE_FIG\u001b[49m, file_name\u001b[38;5;241m=\u001b[39m\u001b[38;5;124m'\u001b[39m\u001b[38;5;124msp_ap\u001b[39m\u001b[38;5;124m'\u001b[39m \u001b[38;5;241m+\u001b[39m EXT, file_path\u001b[38;5;241m=\u001b[39mFIGPATH)\n",
      "\u001b[0;31mNameError\u001b[0m: name 'SAVE_FIG' is not defined"
     ]
    }
   ],
   "source": [
    "# Plot spectral entropy measures across aperiodic variations\n",
    "plot_ap_sims(sp_sims_exp, sp_sims_exp_var, sp_sims_comb, sp_sims_exp_comb_var,\n",
    "             'Spectral Entropy', save_fig=SAVE_FIG, file_name='sp_ap' + EXT, file_path=FIGPATH)"
   ]
  },
  {
   "cell_type": "markdown",
   "id": "8e226417",
   "metadata": {},
   "source": [
    "#### Periodic Variations"
   ]
  },
  {
   "cell_type": "code",
   "execution_count": null,
   "id": "949e73ff",
   "metadata": {},
   "outputs": [],
   "source": [
    "# Run simulations calculating spectral entropy across oscillation frequency\n",
    "sp_sims_freq, sp_sims_freq_var = run_sims(\\\n",
    "    sim_combined, SIM_PARAMS_COMB, spectral_entropy, SP_ENT_PARAMS,\n",
    "    'update_freq', FREQS, N_SIMS, var_func=np.std)"
   ]
  },
  {
   "cell_type": "code",
   "execution_count": null,
   "id": "e609f745",
   "metadata": {},
   "outputs": [],
   "source": [
    "# Run simulations calculating spectral entropy across oscillation power\n",
    "sp_sims_pow, sp_sims_pow_var = run_sims(\\\n",
    "    sim_combined, SIM_PARAMS_COMB, spectral_entropy, SP_ENT_PARAMS,\n",
    "    'update_pow', POWERS, N_SIMS, var_func=np.std)"
   ]
  },
  {
   "cell_type": "code",
   "execution_count": null,
   "id": "3ebaf1f4",
   "metadata": {},
   "outputs": [],
   "source": [
    "# Plot spectral entropy measures across periodic variations\n",
    "plot_pe_sims(sp_sims_freq, sp_sims_freq_var, sp_sims_pow, sp_sims_pow_var,\n",
    "             'Spectral Entropy', save_fig=SAVE_FIG, file_name='sp_pe' + EXT, file_path=FIGPATH)"
   ]
  }
 ],
 "metadata": {
  "kernelspec": {
   "display_name": "Python 3 (ipykernel)",
   "language": "python",
   "name": "python3"
  },
  "language_info": {
   "codemirror_mode": {
    "name": "ipython",
    "version": 3
   },
   "file_extension": ".py",
   "mimetype": "text/x-python",
   "name": "python",
   "nbconvert_exporter": "python",
   "pygments_lexer": "ipython3",
   "version": "3.9.17"
  }
 },
 "nbformat": 4,
 "nbformat_minor": 5
}
