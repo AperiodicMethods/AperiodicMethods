{
 "cells": [
  {
   "cell_type": "code",
   "execution_count": 1,
   "metadata": {
    "collapsed": true
   },
   "outputs": [],
   "source": [
    "# This notebook uses py2.7 - because that's what FOOF is written in\n",
    "from __future__ import print_function, division"
   ]
  },
  {
   "cell_type": "code",
   "execution_count": 2,
   "metadata": {
    "collapsed": true
   },
   "outputs": [],
   "source": [
    "%matplotlib inline\n",
    "\n",
    "import numpy as np\n",
    "import matplotlib.pyplot as plt\n",
    "import statsmodels.api as sm\n",
    "from sklearn.linear_model import RANSACRegressor"
   ]
  },
  {
   "cell_type": "code",
   "execution_count": 3,
   "metadata": {
    "collapsed": true
   },
   "outputs": [],
   "source": [
    "# Import custom\n",
    "from slf.plts.psd import *\n",
    "from slf.core.utils import *\n",
    "from slf.fit import *"
   ]
  },
  {
   "cell_type": "code",
   "execution_count": 4,
   "metadata": {
    "collapsed": true
   },
   "outputs": [],
   "source": [
    "# Load data from Jorge (Chicage group doing slope fitting)\n",
    "dat = np.load('../data/data-for-tom.npy').item()"
   ]
  },
  {
   "cell_type": "code",
   "execution_count": 5,
   "metadata": {
    "collapsed": true
   },
   "outputs": [],
   "source": [
    "# Get freqs & unembed from being an array of arrays\n",
    "freqs = dat['f']\n",
    "freqs = np.array([f[0] for f in freqs])"
   ]
  },
  {
   "cell_type": "code",
   "execution_count": 6,
   "metadata": {
    "collapsed": true
   },
   "outputs": [],
   "source": [
    "# Set available subject numbers\n",
    "subnums = [0, 71, 15, 22, 94, 31]\n",
    "n_chans = 68"
   ]
  },
  {
   "cell_type": "code",
   "execution_count": 7,
   "metadata": {
    "collapsed": false
   },
   "outputs": [
    {
     "name": "stdout",
     "output_type": "stream",
     "text": [
      "Subj  0 \t 29 \t DANE\n",
      "Subj  71 \t 64 \t MCI\n",
      "Subj  15 \t 44 \t DANE\n",
      "Subj  22 \t 24 \t DANE\n",
      "Subj  94 \t 74 \t MCI_Control\n",
      "Subj  31 \t 25 \t DANE\n"
     ]
    }
   ],
   "source": [
    "# Check subject details\n",
    "for subj in subnums:\n",
    "    print('Subj ', str(subj), '\\t', dat[subj]['group'], '\\t', dat[subj]['age'], )\n",
    "# Note: I think group & age values are switched"
   ]
  },
  {
   "cell_type": "code",
   "execution_count": 146,
   "metadata": {
    "collapsed": false
   },
   "outputs": [],
   "source": [
    "#fn = fsl_ransac_oscs\n",
    "slvs_al = dict()\n",
    "slvs_os = dict()\n",
    "\n",
    "for subj in subnums:\n",
    "    \n",
    "    #slvs[subj] = np.zeros([n_chans])\n",
    "    slvs_al[subj] = []\n",
    "    slvs_os[subj] = []\n",
    "    \n",
    "    for ch in range(64, 69):\n",
    "    #for ch in range(n_chans):\n",
    "    \n",
    "        psd_ext, freqs_ext = extract_psd(dat[subj][ch]['eyeso'], freqs, 3, 30)\n",
    "        #slvs[subj][ch] = fn(freqs_ext, psd_ext)\n",
    "        #slvs[subj].append(fn(freqs_ext, psd_ext))\n",
    "        \n",
    "        slvs_al[subj].append(fsl_ransac_alph(freqs_ext, psd_ext))\n",
    "        slvs_os[subj].append(fsl_ransac_oscs(freqs_ext, psd_ext))"
   ]
  },
  {
   "cell_type": "code",
   "execution_count": 147,
   "metadata": {
    "collapsed": false
   },
   "outputs": [
    {
     "name": "stdout",
     "output_type": "stream",
     "text": [
      "[29, 64, 44, 24, 74, 25]\n"
     ]
    }
   ],
   "source": [
    "# Get subj ages\n",
    "ages = [dat[subj]['group'] for subj in subnums]\n",
    "print(ages)"
   ]
  },
  {
   "cell_type": "code",
   "execution_count": 150,
   "metadata": {
    "collapsed": false
   },
   "outputs": [
    {
     "name": "stdout",
     "output_type": "stream",
     "text": [
      "['FRONTAL', 'LTEMPORAL', 'CENTRAL', 'RTEMPORAL', 'OCCIPITAL']\n"
     ]
    }
   ],
   "source": [
    "# Get group channel names (& clean up unicode)\n",
    "gr_chans = dat[0]['channels'][64:69]\n",
    "gr_chans = [str(it) for it in gr_chans]\n",
    "print(gr_chans)"
   ]
  },
  {
   "cell_type": "code",
   "execution_count": 155,
   "metadata": {
    "collapsed": false
   },
   "outputs": [],
   "source": [
    "# Grab slope vals from group electrodes\n",
    "#frs = [slvs[subj][0] for subj in subnums]\n",
    "#cen = [slvs[subj][2] for subj in subnums]\n",
    "#occ = [slvs[subj][4] for subj in subnums]"
   ]
  },
  {
   "cell_type": "code",
   "execution_count": 152,
   "metadata": {
    "collapsed": false
   },
   "outputs": [
    {
     "data": {
      "text/plain": [
       "[<matplotlib.lines.Line2D at 0x119e220d0>]"
      ]
     },
     "execution_count": 152,
     "metadata": {},
     "output_type": "execute_result"
    },
    {
     "data": {
      "image/png": "[encoded data removed]",
      "text/plain": [
       "<matplotlib.figure.Figure at 0x119d54a10>"
      ]
     },
     "metadata": {},
     "output_type": "display_data"
    }
   ],
   "source": [
    "# Plot frontal\n",
    "f = plt.figure()\n",
    "plt.plot(ages, [slvs_al[subj][0] for subj in subnums], 'b.')\n",
    "plt.plot(ages, [slvs_os[subj][0] for subj in subnums], 'r.')"
   ]
  },
  {
   "cell_type": "code",
   "execution_count": 153,
   "metadata": {
    "collapsed": false
   },
   "outputs": [
    {
     "data": {
      "text/plain": [
       "[<matplotlib.lines.Line2D at 0x119f4ef90>]"
      ]
     },
     "execution_count": 153,
     "metadata": {},
     "output_type": "execute_result"
    },
    {
     "data": {
      "image/png": "[encoded data removed]",
      "text/plain": [
       "<matplotlib.figure.Figure at 0x11974f990>"
      ]
     },
     "metadata": {},
     "output_type": "display_data"
    }
   ],
   "source": [
    "# Plot central\n",
    "f = plt.figure()\n",
    "plt.plot(ages, [slvs_al[subj][2] for subj in subnums], 'b.')\n",
    "plt.plot(ages, [slvs_os[subj][2] for subj in subnums], 'r.')"
   ]
  },
  {
   "cell_type": "code",
   "execution_count": 168,
   "metadata": {
    "collapsed": false
   },
   "outputs": [
    {
     "data": {
      "text/plain": [
       "[<matplotlib.lines.Line2D at 0x11941aed0>]"
      ]
     },
     "execution_count": 168,
     "metadata": {},
     "output_type": "execute_result"
    },
    {
     "data": {
      "image/png": "[encoded data removed]",
      "text/plain": [
       "<matplotlib.figure.Figure at 0x119feed10>"
      ]
     },
     "metadata": {},
     "output_type": "display_data"
    }
   ],
   "source": [
    "# Plot posterior\n",
    "f = plt.figure()\n",
    "plt.plot(ages, [slvs_al[subj][4] for subj in subnums], 'b.')\n",
    "plt.plot(ages, [slvs_os[subj][4] for subj in subnums], 'r.')"
   ]
  },
  {
   "cell_type": "code",
   "execution_count": 169,
   "metadata": {
    "collapsed": true
   },
   "outputs": [],
   "source": [
    "from scipy.stats import pearsonr"
   ]
  },
  {
   "cell_type": "code",
   "execution_count": 171,
   "metadata": {
    "collapsed": false
   },
   "outputs": [
    {
     "name": "stdout",
     "output_type": "stream",
     "text": [
      "(0.55629191539004841, 0.25163736833036426)\n",
      "(0.61498562202233353, 0.19381759749129882)\n"
     ]
    }
   ],
   "source": [
    "print(pearsonr(ages, [slvs_al[subj][4] for subj in subnums]))\n",
    "print(pearsonr(ages, [slvs_os[subj][4] for subj in subnums]))"
   ]
  },
  {
   "cell_type": "code",
   "execution_count": 172,
   "metadata": {
    "collapsed": false
   },
   "outputs": [
    {
     "data": {
      "image/png": "[encoded data removed]",
      "text/plain": [
       "<matplotlib.figure.Figure at 0x119326350>"
      ]
     },
     "metadata": {},
     "output_type": "display_data"
    }
   ],
   "source": [
    "# Compare eyes open / eyes closed: single subject, single channel\n",
    "ss = 0\n",
    "cc = 68\n",
    "plt_psd_2(freqs, dat[ss][cc]['eyeso'], freqs, dat[ss][cc]['eyesc'])"
   ]
  },
  {
   "cell_type": "code",
   "execution_count": null,
   "metadata": {
    "collapsed": true
   },
   "outputs": [],
   "source": []
  }
 ],
 "metadata": {
  "kernelspec": {
   "display_name": "Python 2",
   "language": "python",
   "name": "python2"
  },
  "language_info": {
   "codemirror_mode": {
    "name": "ipython",
    "version": 2
   },
   "file_extension": ".py",
   "mimetype": "text/x-python",
   "name": "python",
   "nbconvert_exporter": "python",
   "pygments_lexer": "ipython2",
   "version": "2.7.13"
  }
 },
 "nbformat": 4,
 "nbformat_minor": 2
}
