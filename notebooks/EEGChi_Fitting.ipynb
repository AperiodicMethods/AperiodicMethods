{
 "cells": [
  {
   "cell_type": "code",
   "execution_count": 1,
   "metadata": {
    "collapsed": true
   },
   "outputs": [],
   "source": [
    "# This notebook uses py2.7 - because that's what FOOF is written in\n",
    "from __future__ import print_function, division"
   ]
  },
  {
   "cell_type": "code",
   "execution_count": 2,
   "metadata": {
    "collapsed": true
   },
   "outputs": [],
   "source": [
    "%matplotlib inline\n",
    "\n",
    "import numpy as np\n",
    "import matplotlib.pyplot as plt\n",
    "import statsmodels.api as sm\n",
    "from sklearn.linear_model import RANSACRegressor"
   ]
  },
  {
   "cell_type": "code",
   "execution_count": 3,
   "metadata": {
    "collapsed": true
   },
   "outputs": [],
   "source": [
    "# Import custom\n",
    "from slf.plts.psd import *\n",
    "from slf.core.utils import *\n",
    "from slf.fit import *"
   ]
  },
  {
   "cell_type": "code",
   "execution_count": 4,
   "metadata": {
    "collapsed": true
   },
   "outputs": [],
   "source": [
    "# Load data from Jorge (Chicage group doing slope fitting)\n",
    "dat = np.load('../data/data-for-tom.npy').item()"
   ]
  },
  {
   "cell_type": "code",
   "execution_count": 5,
   "metadata": {
    "collapsed": true
   },
   "outputs": [],
   "source": [
    "# Get freqs & unembed from being an array of arrays\n",
    "freqs = dat['f']\n",
    "freqs = np.array([f[0] for f in freqs])"
   ]
  },
  {
   "cell_type": "code",
   "execution_count": 6,
   "metadata": {
    "collapsed": true
   },
   "outputs": [],
   "source": [
    "# Set available subject numbers\n",
    "subnums = [0, 71, 15, 22, 94, 31]\n",
    "n_chans = 68"
   ]
  },
  {
   "cell_type": "code",
   "execution_count": 7,
   "metadata": {
    "collapsed": false
   },
   "outputs": [
    {
     "name": "stdout",
     "output_type": "stream",
     "text": [
      "Subj  0 \t 29 \t DANE\n",
      "Subj  71 \t 64 \t MCI\n",
      "Subj  15 \t 44 \t DANE\n",
      "Subj  22 \t 24 \t DANE\n",
      "Subj  94 \t 74 \t MCI_Control\n",
      "Subj  31 \t 25 \t DANE\n"
     ]
    }
   ],
   "source": [
    "# Check subject details\n",
    "for subj in subnums:\n",
    "    print('Subj ', str(subj), '\\t', dat[subj]['group'], '\\t', dat[subj]['age'], )\n",
    "# Note: I think group & age values are switched"
   ]
  },
  {
   "cell_type": "code",
   "execution_count": 8,
   "metadata": {
    "collapsed": false
   },
   "outputs": [],
   "source": [
    "#fn = fsl_ransac_oscs\n",
    "slvs_al = dict()\n",
    "slvs_os = dict()\n",
    "\n",
    "for subj in subnums:\n",
    "    \n",
    "    #slvs[subj] = np.zeros([n_chans])\n",
    "    slvs_al[subj] = []\n",
    "    slvs_os[subj] = []\n",
    "    \n",
    "    for ch in range(64, 69):\n",
    "    #for ch in range(n_chans):\n",
    "    \n",
    "        psd_ext, freqs_ext = extract_psd(dat[subj][ch]['eyeso'], freqs, 3, 30)\n",
    "        #slvs[subj][ch] = fn(freqs_ext, psd_ext)\n",
    "        #slvs[subj].append(fn(freqs_ext, psd_ext))\n",
    "        \n",
    "        slvs_al[subj].append(fsl_ransac_alph(freqs_ext, psd_ext))\n",
    "        slvs_os[subj].append(fsl_ransac_oscs(freqs_ext, psd_ext))"
   ]
  },
  {
   "cell_type": "code",
   "execution_count": 9,
   "metadata": {
    "collapsed": false
   },
   "outputs": [
    {
     "name": "stdout",
     "output_type": "stream",
     "text": [
      "[29, 64, 44, 24, 74, 25]\n"
     ]
    }
   ],
   "source": [
    "# Get subj ages\n",
    "ages = [dat[subj]['group'] for subj in subnums]\n",
    "print(ages)"
   ]
  },
  {
   "cell_type": "code",
   "execution_count": 10,
   "metadata": {
    "collapsed": false
   },
   "outputs": [
    {
     "name": "stdout",
     "output_type": "stream",
     "text": [
      "['FRONTAL', 'LTEMPORAL', 'CENTRAL', 'RTEMPORAL', 'OCCIPITAL']\n"
     ]
    }
   ],
   "source": [
    "# Get group channel names (& clean up unicode)\n",
    "gr_chans = dat[0]['channels'][64:69]\n",
    "gr_chans = [str(it) for it in gr_chans]\n",
    "print(gr_chans)"
   ]
  },
  {
   "cell_type": "code",
   "execution_count": 11,
   "metadata": {
    "collapsed": false
   },
   "outputs": [],
   "source": [
    "# Set inds\n",
    "fr_ind = 0\n",
    "ce_ind = 2\n",
    "oc_ind = 4\n",
    "\n",
    "# Grab slope vals from group electrodes\n",
    "#frs = [slvs[subj][0] for subj in subnums]\n",
    "#cen = [slvs[subj][2] for subj in subnums]\n",
    "#occ = [slvs[subj][4] for subj in subnums]"
   ]
  },
  {
   "cell_type": "code",
   "execution_count": 12,
   "metadata": {
    "collapsed": false
   },
   "outputs": [
    {
     "data": {
      "text/plain": [
       "[<matplotlib.lines.Line2D at 0x11a2ff910>]"
      ]
     },
     "execution_count": 12,
     "metadata": {},
     "output_type": "execute_result"
    },
    {
     "data": {
      "image/png": "[encoded data removed]",
      "text/plain": [
       "<matplotlib.figure.Figure at 0x11a2ff410>"
      ]
     },
     "metadata": {},
     "output_type": "display_data"
    }
   ],
   "source": [
    "# Plot frontal\n",
    "f = plt.figure()\n",
    "plt.plot(ages, [slvs_al[subj][fr_ind] for subj in subnums], 'b.')\n",
    "plt.plot(ages, [slvs_os[subj][fr_ind] for subj in subnums], 'r.')"
   ]
  },
  {
   "cell_type": "code",
   "execution_count": 13,
   "metadata": {
    "collapsed": false
   },
   "outputs": [
    {
     "data": {
      "text/plain": [
       "[<matplotlib.lines.Line2D at 0x11a73a390>]"
      ]
     },
     "execution_count": 13,
     "metadata": {},
     "output_type": "execute_result"
    },
    {
     "data": {
      "image/png": "[encoded data removed]",
      "text/plain": [
       "<matplotlib.figure.Figure at 0x11a759490>"
      ]
     },
     "metadata": {},
     "output_type": "display_data"
    }
   ],
   "source": [
    "# Plot central\n",
    "f = plt.figure()\n",
    "plt.plot(ages, [slvs_al[subj][ce_ind] for subj in subnums], 'b.')\n",
    "plt.plot(ages, [slvs_os[subj][ce_ind] for subj in subnums], 'r.')"
   ]
  },
  {
   "cell_type": "code",
   "execution_count": 14,
   "metadata": {
    "collapsed": false
   },
   "outputs": [
    {
     "data": {
      "text/plain": [
       "[<matplotlib.lines.Line2D at 0x11a8fdd90>]"
      ]
     },
     "execution_count": 14,
     "metadata": {},
     "output_type": "execute_result"
    },
    {
     "data": {
      "image/png": "[encoded data removed]",
      "text/plain": [
       "<matplotlib.figure.Figure at 0x11a7eae50>"
      ]
     },
     "metadata": {},
     "output_type": "display_data"
    }
   ],
   "source": [
    "# Plot posterior\n",
    "f = plt.figure()\n",
    "plt.plot(ages, [slvs_al[subj][oc_ind] for subj in subnums], 'b.')\n",
    "plt.plot(ages, [slvs_os[subj][oc_ind] for subj in subnums], 'r.')"
   ]
  },
  {
   "cell_type": "code",
   "execution_count": 114,
   "metadata": {
    "collapsed": false
   },
   "outputs": [
    {
     "name": "stdout",
     "output_type": "stream",
     "text": [
      "RAN-ALPH (0.55629191539004841, 0.25163736833036426)\n",
      "RAN-OSCS (0.66434305773228397, 0.1500898818125139)\n"
     ]
    }
   ],
   "source": [
    "# Check how the correlation compares between methods\n",
    "\n",
    "from scipy.stats import pearsonr\n",
    "\n",
    "print('RAN-ALPH', pearsonr(ages, [slvs_al[subj][oc_ind] for subj in subnums]))\n",
    "print('RAN-OSCS', pearsonr(ages, [slvs_os[subj][oc_ind] for subj in subnums]))"
   ]
  },
  {
   "cell_type": "code",
   "execution_count": 110,
   "metadata": {
    "collapsed": true
   },
   "outputs": [],
   "source": [
    "# Quick Viz to check fits when methods diverge\n",
    "ss = 71\n",
    "cc = 2\n",
    "\n",
    "psd_ext, freqs_ext = extract_psd(dat[ss][cc]['eyeso'], freqs, 3, 30)\n",
    "\n",
    "# Note: intercepts are set manually for viz - they don't really matter here\n",
    "sl_fit_al = slvs_al[ss][cc] * np.log10(freqs_ext) + 2.1\n",
    "sl_fit_os = slvs_os[ss][cc] * np.log10(freqs_ext) + 0.6"
   ]
  },
  {
   "cell_type": "code",
   "execution_count": 111,
   "metadata": {
    "collapsed": false
   },
   "outputs": [
    {
     "data": {
      "text/plain": [
       "<matplotlib.legend.Legend at 0x120f9b410>"
      ]
     },
     "execution_count": 111,
     "metadata": {},
     "output_type": "execute_result"
    },
    {
     "data": {
      "image/png": "[encoded data removed]",
      "text/plain": [
       "<matplotlib.figure.Figure at 0x120fe5990>"
      ]
     },
     "metadata": {},
     "output_type": "display_data"
    }
   ],
   "source": [
    "f = plt.figure()\n",
    "plt.plot(np.log10(freqs_ext), sl_fit_al, ':m', label='RAN_ALPH')\n",
    "plt.plot(np.log10(freqs_ext), sl_fit_os, ':g', label='RAN_OSCS')\n",
    "plt.plot(np.log10(freqs_ext), np.log10(psd_ext), 'b', label='PSD')\n",
    "plt.legend()"
   ]
  },
  {
   "cell_type": "code",
   "execution_count": null,
   "metadata": {
    "collapsed": false
   },
   "outputs": [],
   "source": [
    "# Compare eyes open / eyes closed: single subject, single channel\n",
    "ss = 0\n",
    "cc = 68\n",
    "plt_psd_2(freqs, dat[ss][cc]['eyeso'], freqs, dat[ss][cc]['eyesc'])"
   ]
  }
 ],
 "metadata": {
  "kernelspec": {
   "display_name": "Python 2",
   "language": "python",
   "name": "python2"
  },
  "language_info": {
   "codemirror_mode": {
    "name": "ipython",
    "version": 2
   },
   "file_extension": ".py",
   "mimetype": "text/x-python",
   "name": "python",
   "nbconvert_exporter": "python",
   "pygments_lexer": "ipython2",
   "version": "2.7.13"
  }
 },
 "nbformat": 4,
 "nbformat_minor": 2
}
