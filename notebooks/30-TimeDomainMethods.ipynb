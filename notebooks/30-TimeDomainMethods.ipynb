{
 "cells": [
  {
   "cell_type": "markdown",
   "id": "b663de7a",
   "metadata": {},
   "source": [
    "# Time Domain Methods\n",
    "\n",
    "This section examines time domain methods, meaning whereby the measure of interest is taken in the time domain.\n",
    "\n",
    "## Method Categories\n",
    "\n",
    "This section includes:\n",
    "- autocorrelation measures\n",
    "- fluctuation measures\n",
    "- fractal dimension measures\n",
    "- complexity measures\n",
    "- entropy measures\n",
    "\n",
    "Note that these categories are at least somewhat heuristic, meaning that while methods within each category share at least some conceptual or methodological properties, they are do not necessarily have the same properties.\n",
    "\n",
    "## Evaluating Results\n",
    "\n",
    "Note that for the time domain methods, each method category or individual method estimates a different quantity. In general, we don't simulate the data with respect to this quantity (e.g. simulated time series are not created to have a specific / known fractal dimension, for example), and so in the general case, these simulations cannot estimate the accuracy of a given method, but can only evaluate results across different variations in the simulated data. \n",
    "\n",
    "In some cases, there is a known / analytic expectation of what the result should be for some particular simulated data cases (e.g. there is an expected of what the detrended fluctuation analysis result should be for white noise), and so in those cases, we can do add a comparison of the estimated output to the expected result. "
   ]
  }
 ],
 "metadata": {
  "kernelspec": {
   "display_name": "Python 3 (ipykernel)",
   "language": "python",
   "name": "python3"
  },
  "language_info": {
   "codemirror_mode": {
    "name": "ipython",
    "version": 3
   },
   "file_extension": ".py",
   "mimetype": "text/x-python",
   "name": "python",
   "nbconvert_exporter": "python",
   "pygments_lexer": "ipython3",
   "version": "3.9.17"
  }
 },
 "nbformat": 4,
 "nbformat_minor": 5
}
