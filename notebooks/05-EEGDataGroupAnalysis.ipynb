{
 "cells": [
  {
   "cell_type": "markdown",
   "metadata": {},
   "source": [
    "# Slope Fitting Dev Data\n",
    "\n",
    "Words, words, words."
   ]
  },
  {
   "cell_type": "code",
   "execution_count": 1,
   "metadata": {
    "collapsed": true
   },
   "outputs": [],
   "source": [
    "%matplotlib inline\n",
    "\n",
    "import os\n",
    "import numpy as np\n",
    "import pandas as pd\n",
    "import matplotlib.pyplot as plt"
   ]
  },
  {
   "cell_type": "code",
   "execution_count": 2,
   "metadata": {},
   "outputs": [],
   "source": [
    "#\n",
    "#from slf.fit import *\n",
    "#from slf.dat import *\n",
    "\n",
    "from slf.core.db import SLFDB\n",
    "from slf.core.io import load_pickle"
   ]
  },
  {
   "cell_type": "markdown",
   "metadata": {},
   "source": [
    "### WORDS"
   ]
  },
  {
   "cell_type": "code",
   "execution_count": 3,
   "metadata": {},
   "outputs": [],
   "source": [
    "# Get project database object\n",
    "db = SLFDB()"
   ]
  },
  {
   "cell_type": "code",
   "execution_count": 4,
   "metadata": {},
   "outputs": [],
   "source": [
    "# Load data readme file\n",
    "rmd_file = os.path.join(db.data_path, 'EEG', 'MIPDB_PublicFile.csv')\n",
    "df = pd.read_csv(rmd_file, index_col='ID')"
   ]
  },
  {
   "cell_type": "code",
   "execution_count": 5,
   "metadata": {},
   "outputs": [
    {
     "name": "stdout",
     "output_type": "stream",
     "text": [
      "Number of males: \t 69\n",
      "Number of females: \t 57\n"
     ]
    }
   ],
   "source": [
    "# Check distribution of sexes\n",
    "print('Number of males: \\t', sum(df.Sex == 1))\n",
    "print('Number of females: \\t', sum(df.Sex == 2))"
   ]
  },
  {
   "cell_type": "code",
   "execution_count": 6,
   "metadata": {},
   "outputs": [
    {
     "data": {
      "image/png": "[encoded data removed]",
      "text/plain": [
       "<matplotlib.figure.Figure at 0x117f48c18>"
      ]
     },
     "metadata": {},
     "output_type": "display_data"
    }
   ],
   "source": [
    "# Age distribution\n",
    "df.hist('Age', grid=False, bins=25);"
   ]
  },
  {
   "cell_type": "markdown",
   "metadata": {
    "collapsed": true
   },
   "source": [
    "### Load subject data"
   ]
  },
  {
   "cell_type": "code",
   "execution_count": 7,
   "metadata": {},
   "outputs": [],
   "source": [
    "# Check for saved FOOOF files\n",
    "fres_files = db.check_fooof()"
   ]
  },
  {
   "cell_type": "code",
   "execution_count": 8,
   "metadata": {},
   "outputs": [],
   "source": [
    "all_dat = [load_pickle(f_name, db.fooof_path) for f_name in fres_files]"
   ]
  },
  {
   "cell_type": "code",
   "execution_count": 9,
   "metadata": {},
   "outputs": [],
   "source": [
    "# Initialize dataframe to store slope data\n",
    "sl_df = pd.DataFrame(columns=['ID', 'Age', 'Mean_Sl_EO', 'Median_Sl_EO', 'Mean_Sl_EC', 'Median_Sl_EC'])\n",
    "\n",
    "# Collect data from all subjects\n",
    "for dat in all_dat:\n",
    "    \n",
    "    sl_dat = {'ID': dat['ID'],\n",
    "              'Age': df.loc[dat['ID']]['Age'],\n",
    "              'Mean_Sl_EO': np.mean(dat['sls_eo_avg']),\n",
    "              'Median_Sl_EO': np.median(dat['sls_eo_avg']),\n",
    "              'Mean_Sl_EC': np.mean(dat['sls_ec_avg']),\n",
    "              'Median_Sl_EC': np.median(dat['sls_ec_avg'])}\n",
    "    \n",
    "    sl_df = sl_df.append(sl_dat, ignore_index=True)"
   ]
  },
  {
   "cell_type": "code",
   "execution_count": 10,
   "metadata": {},
   "outputs": [
    {
     "data": {
      "text/html": [
       "<div>\n",
       "<style>\n",
       "    .dataframe thead tr:only-child th {\n",
       "        text-align: right;\n",
       "    }\n",
       "\n",
       "    .dataframe thead th {\n",
       "        text-align: left;\n",
       "    }\n",
       "\n",
       "    .dataframe tbody tr th {\n",
       "        vertical-align: top;\n",
       "    }\n",
       "</style>\n",
       "<table border=\"1\" class=\"dataframe\">\n",
       "  <thead>\n",
       "    <tr style=\"text-align: right;\">\n",
       "      <th></th>\n",
       "      <th>ID</th>\n",
       "      <th>Age</th>\n",
       "      <th>Mean_Sl_EO</th>\n",
       "      <th>Median_Sl_EO</th>\n",
       "      <th>Mean_Sl_EC</th>\n",
       "      <th>Median_Sl_EC</th>\n",
       "    </tr>\n",
       "  </thead>\n",
       "  <tbody>\n",
       "    <tr>\n",
       "      <th>0</th>\n",
       "      <td>A00057092</td>\n",
       "      <td>22.0</td>\n",
       "      <td>1.339244</td>\n",
       "      <td>1.336905</td>\n",
       "      <td>1.286747</td>\n",
       "      <td>1.265742</td>\n",
       "    </tr>\n",
       "    <tr>\n",
       "      <th>1</th>\n",
       "      <td>A00057092</td>\n",
       "      <td>22.0</td>\n",
       "      <td>1.339244</td>\n",
       "      <td>1.336905</td>\n",
       "      <td>1.286747</td>\n",
       "      <td>1.265742</td>\n",
       "    </tr>\n",
       "  </tbody>\n",
       "</table>\n",
       "</div>"
      ],
      "text/plain": [
       "          ID   Age  Mean_Sl_EO  Median_Sl_EO  Mean_Sl_EC  Median_Sl_EC\n",
       "0  A00057092  22.0    1.339244      1.336905    1.286747      1.265742\n",
       "1  A00057092  22.0    1.339244      1.336905    1.286747      1.265742"
      ]
     },
     "execution_count": 10,
     "metadata": {},
     "output_type": "execute_result"
    }
   ],
   "source": [
    "#\n",
    "sl_df.head()"
   ]
  },
  {
   "cell_type": "code",
   "execution_count": 11,
   "metadata": {},
   "outputs": [
    {
     "data": {
      "text/html": [
       "<div>\n",
       "<style>\n",
       "    .dataframe thead tr:only-child th {\n",
       "        text-align: right;\n",
       "    }\n",
       "\n",
       "    .dataframe thead th {\n",
       "        text-align: left;\n",
       "    }\n",
       "\n",
       "    .dataframe tbody tr th {\n",
       "        vertical-align: top;\n",
       "    }\n",
       "</style>\n",
       "<table border=\"1\" class=\"dataframe\">\n",
       "  <thead>\n",
       "    <tr style=\"text-align: right;\">\n",
       "      <th></th>\n",
       "      <th>Age</th>\n",
       "      <th>Mean_Sl_EO</th>\n",
       "      <th>Median_Sl_EO</th>\n",
       "      <th>Mean_Sl_EC</th>\n",
       "      <th>Median_Sl_EC</th>\n",
       "    </tr>\n",
       "  </thead>\n",
       "  <tbody>\n",
       "    <tr>\n",
       "      <th>count</th>\n",
       "      <td>2.0</td>\n",
       "      <td>2.000000</td>\n",
       "      <td>2.000000</td>\n",
       "      <td>2.000000</td>\n",
       "      <td>2.000000</td>\n",
       "    </tr>\n",
       "    <tr>\n",
       "      <th>mean</th>\n",
       "      <td>22.0</td>\n",
       "      <td>1.339244</td>\n",
       "      <td>1.336905</td>\n",
       "      <td>1.286747</td>\n",
       "      <td>1.265742</td>\n",
       "    </tr>\n",
       "    <tr>\n",
       "      <th>std</th>\n",
       "      <td>0.0</td>\n",
       "      <td>0.000000</td>\n",
       "      <td>0.000000</td>\n",
       "      <td>0.000000</td>\n",
       "      <td>0.000000</td>\n",
       "    </tr>\n",
       "    <tr>\n",
       "      <th>min</th>\n",
       "      <td>22.0</td>\n",
       "      <td>1.339244</td>\n",
       "      <td>1.336905</td>\n",
       "      <td>1.286747</td>\n",
       "      <td>1.265742</td>\n",
       "    </tr>\n",
       "    <tr>\n",
       "      <th>25%</th>\n",
       "      <td>22.0</td>\n",
       "      <td>1.339244</td>\n",
       "      <td>1.336905</td>\n",
       "      <td>1.286747</td>\n",
       "      <td>1.265742</td>\n",
       "    </tr>\n",
       "    <tr>\n",
       "      <th>50%</th>\n",
       "      <td>22.0</td>\n",
       "      <td>1.339244</td>\n",
       "      <td>1.336905</td>\n",
       "      <td>1.286747</td>\n",
       "      <td>1.265742</td>\n",
       "    </tr>\n",
       "    <tr>\n",
       "      <th>75%</th>\n",
       "      <td>22.0</td>\n",
       "      <td>1.339244</td>\n",
       "      <td>1.336905</td>\n",
       "      <td>1.286747</td>\n",
       "      <td>1.265742</td>\n",
       "    </tr>\n",
       "    <tr>\n",
       "      <th>max</th>\n",
       "      <td>22.0</td>\n",
       "      <td>1.339244</td>\n",
       "      <td>1.336905</td>\n",
       "      <td>1.286747</td>\n",
       "      <td>1.265742</td>\n",
       "    </tr>\n",
       "  </tbody>\n",
       "</table>\n",
       "</div>"
      ],
      "text/plain": [
       "        Age  Mean_Sl_EO  Median_Sl_EO  Mean_Sl_EC  Median_Sl_EC\n",
       "count   2.0    2.000000      2.000000    2.000000      2.000000\n",
       "mean   22.0    1.339244      1.336905    1.286747      1.265742\n",
       "std     0.0    0.000000      0.000000    0.000000      0.000000\n",
       "min    22.0    1.339244      1.336905    1.286747      1.265742\n",
       "25%    22.0    1.339244      1.336905    1.286747      1.265742\n",
       "50%    22.0    1.339244      1.336905    1.286747      1.265742\n",
       "75%    22.0    1.339244      1.336905    1.286747      1.265742\n",
       "max    22.0    1.339244      1.336905    1.286747      1.265742"
      ]
     },
     "execution_count": 11,
     "metadata": {},
     "output_type": "execute_result"
    }
   ],
   "source": [
    "#\n",
    "sl_df.describe()"
   ]
  },
  {
   "cell_type": "markdown",
   "metadata": {
    "collapsed": true
   },
   "source": [
    "### Words"
   ]
  },
  {
   "cell_type": "code",
   "execution_count": null,
   "metadata": {},
   "outputs": [],
   "source": [
    "# Check EC Data Slope Vals\n",
    "plt.figure()\n",
    "plt.plot(ec_sl_df.Age, ec_sl_df.MeanSl, 'b.')"
   ]
  },
  {
   "cell_type": "code",
   "execution_count": null,
   "metadata": {},
   "outputs": [],
   "source": [
    "# Check EO Data Slope Vals\n",
    "plt.figure()\n",
    "plt.plot(eo_sl_df.Age, eo_sl_df.MeanSl, 'r.')"
   ]
  },
  {
   "cell_type": "code",
   "execution_count": null,
   "metadata": {},
   "outputs": [],
   "source": [
    "# Plot EC & EO Data Together\n",
    "plt.figure()\n",
    "plt.plot(ec_sl_df.Age, ec_sl_df.MeanSl, 'b.')\n",
    "plt.plot(eo_sl_df.Age, eo_sl_df.MeanSl, 'r.')"
   ]
  },
  {
   "cell_type": "code",
   "execution_count": null,
   "metadata": {
    "collapsed": true
   },
   "outputs": [],
   "source": [
    "# Check correlation\n",
    "from scipy.stats import pearsonr"
   ]
  },
  {
   "cell_type": "code",
   "execution_count": null,
   "metadata": {},
   "outputs": [],
   "source": [
    "# \n",
    "print(pearsonr(ec_sl_df.Age, ec_sl_df.MedianSl))\n",
    "print(pearsonr(eo_sl_df.Age, eo_sl_df.MedianSl))"
   ]
  },
  {
   "cell_type": "code",
   "execution_count": null,
   "metadata": {},
   "outputs": [],
   "source": [
    "#\n",
    "print('Kids corr')\n",
    "inds = ec_sl_df.Age < 18\n",
    "print('\\t', pearsonr(ec_sl_df.Age[inds], ec_sl_df.MeanSl[inds]))\n",
    "\n",
    "#\n",
    "print('Adults corr')\n",
    "inds = ec_sl_df.Age > 18\n",
    "print('\\t', pearsonr(ec_sl_df.Age[inds], ec_sl_df.MeanSl[inds]))"
   ]
  },
  {
   "cell_type": "code",
   "execution_count": null,
   "metadata": {},
   "outputs": [],
   "source": [
    "# Plot EC & EO Data Together\n",
    "plt.figure()\n",
    "plt.plot(ec_sl_df.MeanSl, eo_sl_df.MeanSl, 'b.')"
   ]
  },
  {
   "cell_type": "code",
   "execution_count": null,
   "metadata": {},
   "outputs": [],
   "source": [
    "# Check mean vs. median\n",
    "plt.plot(ec_sl_df.MeanSl, ec_sl_df.MedianSl, '.')\n",
    "plt.plot(eo_sl_df.MeanSl, eo_sl_df.MedianSl, '.')"
   ]
  },
  {
   "cell_type": "code",
   "execution_count": null,
   "metadata": {},
   "outputs": [],
   "source": [
    "# Correlation between EC and EO data\n",
    "print(pearsonr(eo_sl_df.MedianSl, ec_sl_df.MedianSl))"
   ]
  },
  {
   "cell_type": "code",
   "execution_count": null,
   "metadata": {},
   "outputs": [],
   "source": [
    "# Scatter with colormap mapping to z value\n",
    "plt.scatter(ec_sl_df.MedianSl, eo_sl_df.MedianSl, c=ec_sl_df.Age)\n",
    "plt.colorbar()"
   ]
  },
  {
   "cell_type": "code",
   "execution_count": null,
   "metadata": {
    "collapsed": true
   },
   "outputs": [],
   "source": []
  },
  {
   "cell_type": "code",
   "execution_count": null,
   "metadata": {
    "collapsed": true
   },
   "outputs": [],
   "source": []
  },
  {
   "cell_type": "markdown",
   "metadata": {},
   "source": [
    "#### OLD"
   ]
  },
  {
   "cell_type": "code",
   "execution_count": null,
   "metadata": {
    "collapsed": true
   },
   "outputs": [],
   "source": [
    "# # Get available subject PSD files\n",
    "# psd_files = db.get_psd_files()\n",
    "\n",
    "# #\n",
    "# subjs = [ff.split('_')[0] for ff in psd_files]\n",
    "# subj_files = [{'ID': subj, 'EC': ec_f, 'EO': eo_f} for subj, ec_f, eo_f in zip(subjs[0::2],\n",
    "#                                                 [fi for fi in psd_files if 'ec' in fi],\n",
    "#                                                 [fi for fi in psd_files if 'eo' in fi])]\n",
    "\n",
    "# # Number of subjects\n",
    "# print('Number of subjects: ', len(subj_files))"
   ]
  },
  {
   "cell_type": "code",
   "execution_count": null,
   "metadata": {
    "collapsed": true
   },
   "outputs": [],
   "source": [
    "# # FOOOF - EC - old\n",
    "\n",
    "# f_range = [3, 35]\n",
    "# fm = FOOOF(bandwidth_limits=[1, 8], max_n_oscs=6)\n",
    "\n",
    "# # Eyes Closed Data\n",
    "# ec_sl_df = pd.DataFrame(columns=['ID', 'Age', 'MeanSl', 'MedianSl'])\n",
    "\n",
    "# for sf in subj_files:\n",
    "    \n",
    "#     freqs, psds, chans = load_psd(os.path.join(db.psd_path, sf['EC']))\n",
    "\n",
    "#     res = []\n",
    "#     for psd in psds:\n",
    "#         fm.fit(freqs, psd, [freqs.min(), freqs.max()])\n",
    "#         res.append(fm.get_params())\n",
    "    \n",
    "#     sls = [fr.background_params[1] for fr in res]\n",
    "\n",
    "#     sl_dat = {'ID': sf['ID'], 'Age': df.loc[sf['ID']]['Age'],\n",
    "#               'MeanSl': np.mean(sls), 'MedianSl': np.median(sls)}\n",
    "\n",
    "#     ec_sl_df = ec_sl_df.append(sl_dat, ignore_index=True)"
   ]
  },
  {
   "cell_type": "code",
   "execution_count": null,
   "metadata": {
    "collapsed": true
   },
   "outputs": [],
   "source": [
    "# # FOOOF - EO - old\n",
    "# f_range = [3, 35]\n",
    "# fm = FOOOF(bandwidth_limits=[1, 8], max_n_oscs=6)\n",
    "\n",
    "# # Eyes Open Data\n",
    "# eo_sl_df = pd.DataFrame(columns=['ID', 'Age', 'MeanSl', 'MedianSl'])\n",
    "\n",
    "# for sf in subj_files:\n",
    "    \n",
    "#     freqs, psds, chans = load_psd(os.path.join(db.psd_path, sf['EO']))\n",
    "\n",
    "#     res = []\n",
    "#     for psd in psds:\n",
    "#         fm.fit(freqs, psd, [freqs.min(), freqs.max()])\n",
    "#         res.append(fm.get_params())\n",
    "    \n",
    "#     sls = [fr.background_params[1] for fr in res]\n",
    "\n",
    "#     sl_dat = {'ID': sf['ID'], 'Age': df.loc[sf['ID']]['Age'],\n",
    "#               'MeanSl': np.mean(sls), 'MedianSl': np.median(sls)}\n",
    "\n",
    "#     eo_sl_df = eo_sl_df.append(sl_dat, ignore_index=True)"
   ]
  },
  {
   "cell_type": "code",
   "execution_count": null,
   "metadata": {
    "collapsed": true
   },
   "outputs": [],
   "source": []
  }
 ],
 "metadata": {
  "anaconda-cloud": {},
  "kernelspec": {
   "display_name": "Python 3",
   "language": "python",
   "name": "python3"
  },
  "language_info": {
   "codemirror_mode": {
    "name": "ipython",
    "version": 3
   },
   "file_extension": ".py",
   "mimetype": "text/x-python",
   "name": "python",
   "nbconvert_exporter": "python",
   "pygments_lexer": "ipython3",
   "version": "3.6.1"
  }
 },
 "nbformat": 4,
 "nbformat_minor": 2
}
