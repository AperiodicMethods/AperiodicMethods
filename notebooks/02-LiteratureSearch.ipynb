{
 "cells": [
  {
   "cell_type": "markdown",
   "metadata": {},
   "source": [
    "# Literature Search\n",
    "\n",
    "Here we will explore the prevalence of different measures of aperiodic activity in the literature.\n",
    "\n",
    "To do so, we will use [LISC](https://github.com/lisc-tools/lisc), a Python module for collecting and analyzing scientific literature. More information on LISC can be found in the [documentation](https://lisc-tools.github.io/lisc/).\n",
    "\n",
    "To explore the prevalence and use cases of aperiodic measures, we will collect information from the Pubmed database on the number of papers that include search terms mentioning aperiodic measures, as well as the number of papers that mention these terms of interest in co-occurrence with specified association terms.\n",
    "\n",
    "Note that collecting literature data in this way is likely an under-estimate of the use of these measures, as the approach employed here only searches for search terms occurring in titles and abstracts."
   ]
  },
  {
   "cell_type": "code",
   "execution_count": null,
   "metadata": {},
   "outputs": [],
   "source": [
    "# Setup notebook state\n",
    "from nbutils import setup_notebook; setup_notebook()"
   ]
  },
  {
   "cell_type": "code",
   "execution_count": null,
   "metadata": {},
   "outputs": [],
   "source": [
    "import seaborn as sns"
   ]
  },
  {
   "cell_type": "code",
   "execution_count": null,
   "metadata": {},
   "outputs": [],
   "source": [
    "# Import LISC code for literature collection & analysis\n",
    "from lisc import Counts, Counts1D\n",
    "from lisc.collect import collect_info, collect_across_time\n",
    "from lisc.io import (save_meta_data, load_meta_data, save_object, load_object,\n",
    "                     save_time_results, load_time_results)\n",
    "from lisc.plts.counts import plot_matrix, plot_vector\n",
    "from lisc.plts.time import plot_results_across_years"
   ]
  },
  {
   "cell_type": "code",
   "execution_count": null,
   "metadata": {},
   "outputs": [],
   "source": [
    "# Import custom project code\n",
    "from apm.io import APMDB\n",
    "from apm.plts.utils import figsaver"
   ]
  },
  {
   "cell_type": "markdown",
   "metadata": {},
   "source": [
    "## Settings\n",
    "\n",
    "First, we will define some settings for the literature collection."
   ]
  },
  {
   "cell_type": "code",
   "execution_count": null,
   "metadata": {},
   "outputs": [],
   "source": [
    "# Settings for literature collection\n",
    "db = 'pubmed'\n",
    "#db = 'pmc'"
   ]
  },
  {
   "cell_type": "code",
   "execution_count": null,
   "metadata": {},
   "outputs": [],
   "source": [
    "# Notebook settings\n",
    "RUN_COLLECTION = False\n",
    "SAVE_DATA = False"
   ]
  },
  {
   "cell_type": "code",
   "execution_count": null,
   "metadata": {},
   "outputs": [],
   "source": [
    "# File path settings\n",
    "APDB = APMDB()"
   ]
  },
  {
   "cell_type": "code",
   "execution_count": null,
   "metadata": {},
   "outputs": [],
   "source": [
    "# Settings for saving figures\n",
    "SAVE_FIG = False\n",
    "FIGPATH = APDB.figs_path / '02_literature'\n",
    "\n",
    "# Create helper function to manage figsaver settings\n",
    "fsaver = figsaver(SAVE_FIG, FIGPATH, directory=True)"
   ]
  },
  {
   "cell_type": "markdown",
   "metadata": {},
   "source": [
    "## Define Terms\n",
    "\n",
    "Here we will define search terms to use to collect information on the literature of interest. "
   ]
  },
  {
   "cell_type": "markdown",
   "metadata": {},
   "source": [
    "### Search Terms\n",
    "\n",
    "First, we will define the search terms that reflect our terms of interest.\n",
    "\n",
    "Note that each set of terms within a list is a defined as a set of synonyms"
   ]
  },
  {
   "cell_type": "code",
   "execution_count": null,
   "metadata": {},
   "outputs": [],
   "source": [
    "# Set list of aperiodic terms & labels\n",
    "concept_terms = [\n",
    "    ['aperiodic', 'arrythmic'],\n",
    "    ['1/f', '1/f-like', 'one-over f'],\n",
    "    ['scale free', 'fractal'],\n",
    "    ['criticality', 'complex dynamics'],\n",
    "    ['chaos', 'dynamical system'],\n",
    "    ['neural noise'],\n",
    "]\n",
    "concept_labels = ['aperiodic', '1/f', 'scale free', 'criticality', 'chaos', 'neural noise']\n",
    "assert len(concept_terms) == len(concept_labels)"
   ]
  },
  {
   "cell_type": "code",
   "execution_count": null,
   "metadata": {},
   "outputs": [],
   "source": [
    "# Set list of aperiodic method categories & labels\n",
    "method_terms = [\n",
    "    ['autocorrelation'],\n",
    "    ['dfa', 'detrended fluctuation analysis', 'hurst exponent'],\n",
    "    ['fractal', 'correlation dimension', 'higuchi', 'katz', 'petrosian'],\n",
    "    ['complexity'],\n",
    "    ['entropy', 'information theory'],\n",
    "    ['spectral parameterization', 'fooof', 'irasa', 'cgsa', 'aperiodic exponent',\n",
    "     'spectral slope', 'spectral exponent', 'powerlaw decay'],\n",
    "]\n",
    "method_labels = ['autocorrelation', 'fluctuation', 'fractal', 'complexity', 'entropy', 'exponent']\n",
    "assert len(method_terms) == len(method_labels)"
   ]
  },
  {
   "cell_type": "code",
   "execution_count": null,
   "metadata": {},
   "outputs": [],
   "source": [
    "# Set list of specific measures\n",
    "measure_terms = [\n",
    "    # Autocorrelation measures\n",
    "    ['autocorrelation'],\n",
    "    ['autocorrelation decay', 'decorrelation time', 'autocorrelation timescale',\n",
    "     'autocorrelation window', 'autocorrelation width'],\n",
    "    # Fluctuation measures\n",
    "    ['hurst exponent'],\n",
    "    ['detrended fluctuation analysis', 'dfa', 'scaling exponent'],\n",
    "    ['multiscale dfa', 'multiscale detrended fluctuation analysis', \n",
    "     'multifractal dfa', 'multifractal detrended fluctuation analysis', \n",
    "     'mfdfa', 'multiscale multifractal analysis'],\n",
    "    # Fractal dimension measures\n",
    "    ['correlation dimension'],\n",
    "    ['higuchi fractal dimension', 'higuchi dimension'],\n",
    "    ['katz fractal dimension', 'katz dimension'],\n",
    "    ['petrosian fractal dimension', 'petrosian dimension'],\n",
    "    # Complexity measures\n",
    "    ['hjorth complexity', 'hjorth'],\n",
    "    ['lempel-ziv complexity', 'LZ complexity'],\n",
    "    ['lyapunov exponent', 'lyapunov exponents'],\n",
    "    # Entropy measures\n",
    "    ['approximate entropy'],\n",
    "    ['sample entropy'],\n",
    "    ['permutation entropy'],\n",
    "    ['weighted permutation entropy'],\n",
    "    ['spectral entropy'],\n",
    "    ['multiscale entropy'],\n",
    "    # Aperiodic exponent measures\n",
    "    ['irasa', 'irregular resampling auto-spectral analysis', 'fractal component'],\n",
    "    ['specparam', 'spectral parameterization', 'fooof', 'fitting oscillations and one-over f',\n",
    "     'spectral slope', 'spectral exponent', 'powerlaw decay'],\n",
    "]"
   ]
  },
  {
   "cell_type": "markdown",
   "metadata": {},
   "source": [
    "### Inclusion / Exclusion Terms\n",
    "\n",
    "In some cases, we might want to use additional search terms to explicit include or exclude results that contain particular terms. \n",
    "\n",
    "These terms can be used to restrict searches to literature of interest, excluding irrelevant literature. "
   ]
  },
  {
   "cell_type": "code",
   "execution_count": null,
   "metadata": {},
   "outputs": [],
   "source": [
    "# Set inclusion / exclusion terms\n",
    "inclusions = [\n",
    "    'EEG', 'electroencephalography',\n",
    "    'MEG', 'magnetoencephalography',\n",
    "    'ECoG', 'electrocorticography',\n",
    "    'iEEG', 'intracranial EEG',\n",
    "    'LFP', 'local field potential',\n",
    "]\n",
    "\n",
    "exclusions = ['lithium']"
   ]
  },
  {
   "cell_type": "code",
   "execution_count": null,
   "metadata": {},
   "outputs": [],
   "source": [
    "# Define a list of association terms\n",
    "assoc_terms = [\n",
    "    ['aging', 'age-related', 'development'],\n",
    "    ['sleep', 'anesthesia', 'consciousness', 'brain states', 'coma'],\n",
    "    ['cognitive', 'cognition', 'task', 'behavior', 'experiment', 'perception', 'memory'],\n",
    "    ['seizure', 'epilepsy', 'ictal', 'interictal'],\n",
    "    ['clinical', 'disorder', 'psychopathology', 'psychiatry', 'diagnose',\n",
    "     'mental illness', 'biomarker', 'pathophysiology', 'disease'],\n",
    "]"
   ]
  },
  {
   "cell_type": "markdown",
   "metadata": {},
   "source": [
    "### Collect terms"
   ]
  },
  {
   "cell_type": "code",
   "execution_count": null,
   "metadata": {},
   "outputs": [],
   "source": [
    "# Collect all terms together\n",
    "concept_terms_dict = {\n",
    "    'terms' : concept_terms,\n",
    "    'labels' : concept_labels,\n",
    "    'inclusions' : [inclusions] * len(concept_terms),\n",
    "    'exclusions' : [exclusions] * len(concept_terms),\n",
    "}\n",
    "\n",
    "method_terms_dict = {\n",
    "    'terms' : method_terms,\n",
    "    'labels' : method_labels,\n",
    "    'inclusions' : [inclusions] * len(method_terms),\n",
    "    'exclusions' : [exclusions] * len(method_terms),\n",
    "}\n",
    "\n",
    "measure_terms_dict = {\n",
    "    'terms' : measure_terms,\n",
    "    'inclusions' : [inclusions] * len(measure_terms),\n",
    "    'exclusions' : [exclusions] * len(measure_terms),\n",
    "}"
   ]
  },
  {
   "cell_type": "markdown",
   "metadata": {},
   "source": [
    "## Run a Metadata Check"
   ]
  },
  {
   "cell_type": "code",
   "execution_count": null,
   "metadata": {},
   "outputs": [],
   "source": [
    "if RUN_COLLECTION:\n",
    "    meta_data = collect_info()\n",
    "    if SAVE_DATA:\n",
    "        save_meta_data(meta_data, 'meta_data', APDB.literature_path)\n",
    "\n",
    "else:\n",
    "    meta_data = load_meta_data('meta_data', APDB.literature_path)"
   ]
  },
  {
   "cell_type": "code",
   "execution_count": null,
   "metadata": {},
   "outputs": [],
   "source": [
    "# Check the meta data for the collection\n",
    "meta_data"
   ]
  },
  {
   "cell_type": "markdown",
   "metadata": {},
   "source": [
    "## Add & Check Terms\n",
    "\n",
    "Now we can add these terms to LISC objects, ready for data collection. "
   ]
  },
  {
   "cell_type": "code",
   "execution_count": null,
   "metadata": {},
   "outputs": [],
   "source": [
    "# Initialize & add terms to the LISC object - concepts\n",
    "counts_concepts = Counts()\n",
    "counts_concepts.add_terms(concept_terms_dict, dim='A')\n",
    "counts_concepts.add_terms(assoc_terms, dim='B')"
   ]
  },
  {
   "cell_type": "code",
   "execution_count": null,
   "metadata": {},
   "outputs": [],
   "source": [
    "# Initialize & add terms to the LISC object - methods\n",
    "counts_methods = Counts()\n",
    "counts_methods.add_terms(method_terms_dict, dim='A')\n",
    "counts_methods.add_terms(assoc_terms, dim='B')"
   ]
  },
  {
   "cell_type": "code",
   "execution_count": null,
   "metadata": {},
   "outputs": [],
   "source": [
    "# Initialize & add terms to the LISC object - measures (no associations)\n",
    "counts_measures = Counts1D()\n",
    "counts_measures.add_terms(measure_terms_dict)"
   ]
  },
  {
   "cell_type": "code",
   "execution_count": null,
   "metadata": {},
   "outputs": [],
   "source": [
    "# Check terms - concepts\n",
    "counts_concepts.terms['A'].check_terms()"
   ]
  },
  {
   "cell_type": "code",
   "execution_count": null,
   "metadata": {},
   "outputs": [],
   "source": [
    "# Check terms - methods\n",
    "counts_methods.terms['A'].check_terms()"
   ]
  },
  {
   "cell_type": "code",
   "execution_count": null,
   "metadata": {},
   "outputs": [],
   "source": [
    "# Check terms - measures\n",
    "counts_measures.check_terms()"
   ]
  },
  {
   "cell_type": "code",
   "execution_count": null,
   "metadata": {},
   "outputs": [],
   "source": [
    "# Check terms - associations\n",
    "counts_concepts.terms['B'].check_terms()"
   ]
  },
  {
   "cell_type": "markdown",
   "metadata": {},
   "source": [
    "## Collect Literature Data\n",
    "\n",
    "Run literature collection. "
   ]
  },
  {
   "cell_type": "code",
   "execution_count": null,
   "metadata": {},
   "outputs": [],
   "source": [
    "# Run the data collection\n",
    "if RUN_COLLECTION:\n",
    "    counts_concepts.run_collection(db=db)\n",
    "    counts_methods.run_collection(db=db)\n",
    "    counts_measures.run_collection(db=db)\n",
    "else:\n",
    "    counts_concepts = load_object('counts_concepts.p', directory=APDB.literature_path)\n",
    "    counts_methods = load_object('counts_methods.p', directory=APDB.literature_path)\n",
    "    counts_measures = load_object('counts_measures.p', directory=APDB.literature_path)"
   ]
  },
  {
   "cell_type": "markdown",
   "metadata": {},
   "source": [
    "## Check and Process Collected Data\n",
    "\n",
    "Now we can examine the collected literature data."
   ]
  },
  {
   "cell_type": "code",
   "execution_count": null,
   "metadata": {},
   "outputs": [],
   "source": [
    "# Check how many papers were found for each term (concepts)\n",
    "counts_concepts.check_counts()"
   ]
  },
  {
   "cell_type": "code",
   "execution_count": null,
   "metadata": {},
   "outputs": [],
   "source": [
    "# Check how many papers were found for each term (methods)\n",
    "counts_methods.check_counts()"
   ]
  },
  {
   "cell_type": "code",
   "execution_count": null,
   "metadata": {},
   "outputs": [],
   "source": [
    "# Check how many papers were found for each term (measures)\n",
    "counts_measures.check_counts()"
   ]
  },
  {
   "cell_type": "code",
   "execution_count": null,
   "metadata": {},
   "outputs": [],
   "source": [
    "# Check the total number of papers across all terms\n",
    "print('Total number of aperiodic papers (concepts): \\t',\n",
    "      sum(counts_concepts.terms['A'].counts))\n",
    "print('Total number of aperiodic papers (methods): \\t',\n",
    "      sum(counts_methods.terms['A'].counts))\n",
    "print('Total number of aperiodic papers (measures): \\t',\n",
    "      sum(counts_measures.counts))"
   ]
  },
  {
   "cell_type": "code",
   "execution_count": null,
   "metadata": {},
   "outputs": [],
   "source": [
    "# Normalize the association results\n",
    "counts_concepts.compute_score('normalize', dim='A')\n",
    "counts_methods.compute_score('normalize', dim='A')"
   ]
  },
  {
   "cell_type": "markdown",
   "metadata": {},
   "source": [
    "## Create Visualizations of Collected Data"
   ]
  },
  {
   "cell_type": "markdown",
   "metadata": {},
   "source": [
    "### Concepts"
   ]
  },
  {
   "cell_type": "code",
   "execution_count": null,
   "metadata": {},
   "outputs": [],
   "source": [
    "# Plot the associations of aperiodic measures in the literature\n",
    "plot_matrix(counts_concepts.score, counts_concepts.terms['B'].labels,\n",
    "            counts_concepts.terms['A'].labels, cmap='blue', square=True,\n",
    "            xtickrotation=45, figsize=(8, 6), **fsaver('lit_counts_concepts'))"
   ]
  },
  {
   "cell_type": "code",
   "execution_count": null,
   "metadata": {
    "scrolled": true
   },
   "outputs": [],
   "source": [
    "# Plot the number of papers found per concept term\n",
    "plot_vector(counts_concepts, cmap='blue', figsize=(1.5, 4), **fsaver('total_counts_concepts'))"
   ]
  },
  {
   "cell_type": "markdown",
   "metadata": {},
   "source": [
    "### Methods"
   ]
  },
  {
   "cell_type": "code",
   "execution_count": null,
   "metadata": {
    "scrolled": false
   },
   "outputs": [],
   "source": [
    "# Plot the associations of aperiodic measures in the literature\n",
    "plot_matrix(counts_methods.score, counts_methods.terms['B'].labels,\n",
    "            counts_methods.terms['A'].labels, cmap='blue', square=True,\n",
    "            xtickrotation=45, figsize=(8, 6), **fsaver('lit_counts_methods'))"
   ]
  },
  {
   "cell_type": "code",
   "execution_count": null,
   "metadata": {},
   "outputs": [],
   "source": [
    "# Plot the number of papers found per methods measure\n",
    "plot_vector(counts_methods, cmap='blue', figsize=(2, 5), **fsaver('total_counts_methods'))"
   ]
  },
  {
   "cell_type": "markdown",
   "metadata": {},
   "source": [
    "### Measures"
   ]
  },
  {
   "cell_type": "code",
   "execution_count": null,
   "metadata": {
    "scrolled": false
   },
   "outputs": [],
   "source": [
    "# Plot the number of papers found per measure\n",
    "with sns.plotting_context('notebook'):\n",
    "    plot_vector(counts_measures, labels=counts_measures.labels, cmap='blue',\n",
    "                transpose=True, xtickrotation=45, figsize=(15, 1.5),\n",
    "                **fsaver('total_counts_measures'))"
   ]
  },
  {
   "cell_type": "code",
   "execution_count": null,
   "metadata": {},
   "outputs": [],
   "source": [
    "# Save out the collected data\n",
    "if SAVE_DATA:\n",
    "    save_object(counts_concepts, 'counts_concepts', directory=APDB.literature_path)\n",
    "    save_object(counts_methods, 'counts_methods', directory=APDB.literature_path)\n",
    "    save_object(counts_measures, 'counts_measures', directory=APDB.literature_path)"
   ]
  },
  {
   "cell_type": "markdown",
   "metadata": {},
   "source": [
    "## Examine Literature Terms over Time\n"
   ]
  },
  {
   "cell_type": "code",
   "execution_count": null,
   "metadata": {},
   "outputs": [],
   "source": [
    "# Define range of years to collect data for\n",
    "start_year, end_year = 1960, 2024\n",
    "years = list(range(start_year, end_year + 1))"
   ]
  },
  {
   "cell_type": "code",
   "execution_count": null,
   "metadata": {},
   "outputs": [],
   "source": [
    "# Collect count of the number of aperiodic related papers per year\n",
    "if RUN_COLLECTION:\n",
    "    \n",
    "    # Setup object and run time collecting - concepts\n",
    "    years_concepts = Counts1D()\n",
    "    years_concepts.add_terms(concept_terms_dict)\n",
    "    years_concept_results = collect_across_time(years_concepts, years)\n",
    "\n",
    "    # Setup object and run time collecting - methods\n",
    "    years_methods = Counts1D()\n",
    "    years_methods.add_terms(method_terms_dict)\n",
    "    years_method_results = collect_across_time(years_methods, years)\n",
    "\n",
    "    if SAVE_DATA:\n",
    "        save_time_results(years_concept_results, 'time_concepts', 'concepts', APDB.literature_path)\n",
    "        save_time_results(years_method_results, 'time_methods', 'methods', APDB.literature_path)\n",
    "\n",
    "else:\n",
    "    years_concept_results = load_time_results('time_concepts', 'concepts', directory=APDB.literature_path)\n",
    "    years_method_results = load_time_results('time_methods', 'methods', directory=APDB.literature_path)"
   ]
  },
  {
   "cell_type": "code",
   "execution_count": null,
   "metadata": {},
   "outputs": [],
   "source": [
    "# Plot the results over time of the concept results\n",
    "plot_results_across_years(years_concept_results, xlim=[1959.5, 2023.5], ylim=[0, 55],\n",
    "                          figsize=(9, 4), **fsaver('years_concepts'))"
   ]
  },
  {
   "cell_type": "code",
   "execution_count": null,
   "metadata": {},
   "outputs": [],
   "source": [
    "# Plot the results over time of the method results\n",
    "plot_results_across_years(years_method_results, xlim=[1959.5, 2023.5], ylim=[0, 75],\n",
    "                          figsize=(9, 4), **fsaver('years_methods'))"
   ]
  }
 ],
 "metadata": {
  "kernelspec": {
   "display_name": "Python 3 (ipykernel)",
   "language": "python",
   "name": "python3"
  },
  "language_info": {
   "codemirror_mode": {
    "name": "ipython",
    "version": 3
   },
   "file_extension": ".py",
   "mimetype": "text/x-python",
   "name": "python",
   "nbconvert_exporter": "python",
   "pygments_lexer": "ipython3",
   "version": "3.9.17"
  }
 },
 "nbformat": 4,
 "nbformat_minor": 4
}
