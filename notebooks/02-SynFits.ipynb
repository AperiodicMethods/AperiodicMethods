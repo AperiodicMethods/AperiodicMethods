{
 "cells": [
  {
   "cell_type": "markdown",
   "metadata": {},
   "source": [
    "# Testing Slope Fitting on Synthetic PSDs"
   ]
  },
  {
   "cell_type": "code",
   "execution_count": 1,
   "metadata": {
    "collapsed": true
   },
   "outputs": [],
   "source": [
    "# This notebook uses py2.7 - because that's what FOOF is written in\n",
    "from __future__ import print_function, division"
   ]
  },
  {
   "cell_type": "code",
   "execution_count": 2,
   "metadata": {
    "collapsed": true
   },
   "outputs": [],
   "source": [
    "# Bayes FOOF has a dependency of sklearn version >= 0.18.0. Check this.\n",
    "import sklearn\n",
    "assert sklearn.__version__[:4] == '0.18'"
   ]
  },
  {
   "cell_type": "code",
   "execution_count": 3,
   "metadata": {
    "collapsed": true
   },
   "outputs": [],
   "source": [
    "%matplotlib inline\n",
    "\n",
    "import numpy as np\n",
    "import matplotlib.pyplot as plt"
   ]
  },
  {
   "cell_type": "code",
   "execution_count": 4,
   "metadata": {
    "collapsed": false
   },
   "outputs": [],
   "source": [
    "# Custom code imports\n",
    "#  NOTE: Currently, settings in slf.fit will set which FOOF to use\n",
    "from slf.fit import *\n",
    "from foof import syn"
   ]
  },
  {
   "cell_type": "markdown",
   "metadata": {},
   "source": [
    "## Check out PSD generation and test fitting"
   ]
  },
  {
   "cell_type": "code",
   "execution_count": 5,
   "metadata": {
    "collapsed": false
   },
   "outputs": [],
   "source": [
    "# Generate a single synthetic PSD\n",
    "\n",
    "slv_test = 1.0\n",
    "\n",
    "fs, psd = syn.mfonef(\n",
    "    mf=[20],\n",
    "    mf_sig=[2],\n",
    "    mk=[0.2],\n",
    "    chi=slv_test,\n",
    "    f0=3,\n",
    "    fmax=40,\n",
    "    res=0.5,\n",
    "    noi=0.05\n",
    ")"
   ]
  },
  {
   "cell_type": "code",
   "execution_count": 6,
   "metadata": {
    "collapsed": false
   },
   "outputs": [
    {
     "data": {
      "text/plain": [
       "[<matplotlib.lines.Line2D at 0x114d81b10>]"
      ]
     },
     "execution_count": 6,
     "metadata": {},
     "output_type": "execute_result"
    },
    {
     "data": {
      "image/png": "[encoded data removed]",
      "text/plain": [
       "<matplotlib.figure.Figure at 0x1127ef650>"
      ]
     },
     "metadata": {},
     "output_type": "display_data"
    }
   ],
   "source": [
    "# Check plot of the synthetic PSD - linear space\n",
    "plt.plot(fs, psd)"
   ]
  },
  {
   "cell_type": "code",
   "execution_count": 7,
   "metadata": {
    "collapsed": false
   },
   "outputs": [
    {
     "data": {
      "text/plain": [
       "[<matplotlib.lines.Line2D at 0x114f3b450>]"
      ]
     },
     "execution_count": 7,
     "metadata": {},
     "output_type": "execute_result"
    },
    {
     "data": {
      "image/png": "[encoded data removed]",
      "text/plain": [
       "<matplotlib.figure.Figure at 0x1127ef690>"
      ]
     },
     "metadata": {},
     "output_type": "display_data"
    }
   ],
   "source": [
    "# Check plot of the synthetic PSD - log space\n",
    "plt.plot(np.log10(fs), np.log10(psd))"
   ]
  },
  {
   "cell_type": "code",
   "execution_count": 8,
   "metadata": {
    "collapsed": true
   },
   "outputs": [],
   "source": [
    "# Check foof fit on synthetic data\n",
    "from slf.fit import _foof_fit"
   ]
  },
  {
   "cell_type": "code",
   "execution_count": 9,
   "metadata": {
    "collapsed": false
   },
   "outputs": [
    {
     "data": {
      "text/plain": [
       "(0.97185039298478215,\n",
       " array([ 19.3204703 ,  22.30499373]),\n",
       " array([ 0.25326997,  0.14260014]),\n",
       " array([ 1.7052196 ,  1.26827562]))"
      ]
     },
     "execution_count": 9,
     "metadata": {},
     "output_type": "execute_result"
    }
   ],
   "source": [
    "#fs = np.reshape(fs, [len(fs), 1])\n",
    "psd = np.reshape(psd, [len(fs), 1])\n",
    "_foof_fit(fs, psd)"
   ]
  },
  {
   "cell_type": "code",
   "execution_count": 10,
   "metadata": {
    "collapsed": false
   },
   "outputs": [
    {
     "name": "stdout",
     "output_type": "stream",
     "text": [
      "True slope value is  1.0 \n",
      "\n",
      "RLM fit: \t -0.977653007468\n",
      "RLM-EA fit: \t -1.01386390612\n",
      "RLM-EO fit: \t -0.993859445641\n",
      "RAN fit: \t -0.971850392985\n",
      "RAN-EA fit: \t -1.00467520061\n",
      "RAN-EO fit: \t -0.989366549905\n"
     ]
    }
   ],
   "source": [
    "# Test out fits\n",
    "print('True slope value is ', str(slv_test), '\\n')\n",
    "print('RLM fit: \\t', fsl_rlm(fs, psd))\n",
    "print('RLM-EA fit: \\t', fsl_rlm_alph(fs, psd))\n",
    "print('RLM-EO fit: \\t', fsl_rlm_oscs(fs, psd))\n",
    "print('RAN fit: \\t', fsl_ransac(fs, psd))\n",
    "print('RAN-EA fit: \\t', fsl_ransac_alph(fs, psd))\n",
    "print('RAN-EO fit: \\t', fsl_ransac_oscs(fs, psd))"
   ]
  },
  {
   "cell_type": "markdown",
   "metadata": {},
   "source": [
    "## Run a bunch of synthetic fits"
   ]
  },
  {
   "cell_type": "code",
   "execution_count": 11,
   "metadata": {
    "collapsed": true
   },
   "outputs": [],
   "source": [
    "# Settings for syn data generation and slope fitting\n",
    "slv = 1\n",
    "n_psds = 10"
   ]
  },
  {
   "cell_type": "code",
   "execution_count": 12,
   "metadata": {
    "collapsed": true
   },
   "outputs": [],
   "source": [
    "# Synthesize data\n",
    "fs, psds = syn.synthesize(n_psds, fn=syn.mfonef, \n",
    "                          mf=[10], mf_sig=[1], mk=[0.2], chi=slv, \n",
    "                          f0=3, fmax=40, res=0.5, noi=0.05)"
   ]
  },
  {
   "cell_type": "code",
   "execution_count": 13,
   "metadata": {
    "collapsed": false
   },
   "outputs": [],
   "source": [
    "# Initialize stuff for synthetic data fitting runs\n",
    "\n",
    "# NOTE: This is almost definitely a terrible way to organize these runs. \n",
    "#  TODO: Fix this shit. \n",
    "\n",
    "fit_funcs = {'RLM': fsl_rlm, \n",
    "             'RLM-EA': fsl_rlm_alph, \n",
    "             'RLM-EO': fsl_rlm_oscs, \n",
    "             'RAN': fsl_ransac,\n",
    "             'RAN-EA': fsl_ransac_alph,\n",
    "             'RAN-EO': fsl_ransac_oscs}\n",
    "\n",
    "errs = dict()\n",
    "for key in fit_funcs.keys():\n",
    "    errs[key] = np.zeros(n_psds)"
   ]
  },
  {
   "cell_type": "code",
   "execution_count": 14,
   "metadata": {
    "collapsed": false
   },
   "outputs": [],
   "source": [
    "# Fit slope and collect error\n",
    "for k, fn in fit_funcs.items():\n",
    "    for i in range(n_psds):\n",
    "        errs[k][i] = sqd_err(-slv, fn(fs, psds[:, i]))"
   ]
  },
  {
   "cell_type": "code",
   "execution_count": 15,
   "metadata": {
    "collapsed": false
   },
   "outputs": [],
   "source": [
    "# Calculate mean errors per method\n",
    "avg_errs = []\n",
    "for k, v in errs.items():\n",
    "    avg_errs.append((np.median(v), k))\n",
    "avg_errs.sort()"
   ]
  },
  {
   "cell_type": "code",
   "execution_count": 16,
   "metadata": {
    "collapsed": false
   },
   "outputs": [
    {
     "name": "stdout",
     "output_type": "stream",
     "text": [
      "RLM-EA \t 0.000197716452377\n",
      "RAN-EA \t 0.000250407838229\n",
      "RLM-EO \t 0.000312488433368\n",
      "RAN-EO \t 0.000330916659075\n",
      "RAN \t 0.000735202956461\n",
      "RLM \t 0.0027542332238\n"
     ]
    }
   ],
   "source": [
    "# Print out errors per method\n",
    "for ae in avg_errs:\n",
    "    print(ae[1], '\\t', ae[0])"
   ]
  },
  {
   "cell_type": "markdown",
   "metadata": {},
   "source": [
    "## Check Error Distributions"
   ]
  },
  {
   "cell_type": "code",
   "execution_count": 17,
   "metadata": {
    "collapsed": true
   },
   "outputs": [],
   "source": [
    "from slf.fake import *"
   ]
  },
  {
   "cell_type": "code",
   "execution_count": 18,
   "metadata": {
    "collapsed": false
   },
   "outputs": [
    {
     "name": "stdout",
     "output_type": "stream",
     "text": [
      "\n",
      "\n",
      "RLM-EA \t\t 0.0156244080473\n",
      "RLM-EO \t\t 0.015842552539\n",
      "RAN-EO \t\t 0.0177304026787\n",
      "RAN-EA \t\t 0.0189349069289\n",
      "RAN \t\t 0.0241431384536\n",
      "RLM \t\t 0.0487715207891\n",
      "\n",
      "\n"
     ]
    }
   ],
   "source": [
    "syns = SynFits()\n",
    "syns.get_fit_funcs()\n",
    "\n",
    "#\n",
    "n_psds = 100\n",
    "slv = 1\n",
    "\n",
    "fs, psds = mk_psds(n_psds, slv)\n",
    "\n",
    "#\n",
    "syns.fit_slopes(slv, fs, psds)\n",
    "mes = syns.calc_mean_errs()\n",
    "\n",
    "print_errs(mes)"
   ]
  },
  {
   "cell_type": "code",
   "execution_count": 20,
   "metadata": {
    "collapsed": false
   },
   "outputs": [
    {
     "data": {
      "image/png": "[encoded data removed]",
      "text/plain": [
       "<matplotlib.figure.Figure at 0x114f52b10>"
      ]
     },
     "metadata": {},
     "output_type": "display_data"
    },
    {
     "data": {
      "image/png": "[encoded data removed]",
      "text/plain": [
       "<matplotlib.figure.Figure at 0x1153b3d90>"
      ]
     },
     "metadata": {},
     "output_type": "display_data"
    },
    {
     "data": {
      "image/png": "[encoded data removed]",
      "text/plain": [
       "<matplotlib.figure.Figure at 0x1153b3dd0>"
      ]
     },
     "metadata": {},
     "output_type": "display_data"
    },
    {
     "data": {
      "image/png": "[encoded data removed]",
      "text/plain": [
       "<matplotlib.figure.Figure at 0x115466e90>"
      ]
     },
     "metadata": {},
     "output_type": "display_data"
    },
    {
     "data": {
      "image/png": "[encoded data removed]",
      "text/plain": [
       "<matplotlib.figure.Figure at 0x11551d550>"
      ]
     },
     "metadata": {},
     "output_type": "display_data"
    },
    {
     "data": {
      "image/png": "[encoded data removed]",
      "text/plain": [
       "<matplotlib.figure.Figure at 0x1155e5110>"
      ]
     },
     "metadata": {},
     "output_type": "display_data"
    }
   ],
   "source": [
    "for meth in syns.errs.keys():\n",
    "    #print(meth)\n",
    "    plt.figure()\n",
    "    plt.hist(syns.errs[meth])\n",
    "    plt.title(meth)\n",
    "    #plt.xlim([0, 0.02])"
   ]
  },
  {
   "cell_type": "code",
   "execution_count": 34,
   "metadata": {
    "collapsed": false
   },
   "outputs": [
    {
     "name": "stdout",
     "output_type": "stream",
     "text": [
      "RLM \t 0.16\n",
      "RAN-EA \t 0.59\n",
      "RAN \t 0.52\n",
      "RAN-EO \t 0.66\n",
      "RLM-EO \t 0.74\n",
      "RLM-EA \t 0.72\n"
     ]
    }
   ],
   "source": [
    "for meth in syns.errs.keys():\n",
    "    print(meth, '\\t', sum(syns.errs[meth] < 0.025) / len(syns.errs[meth]))"
   ]
  },
  {
   "cell_type": "code",
   "execution_count": 63,
   "metadata": {
    "collapsed": false
   },
   "outputs": [
    {
     "data": {
      "image/png": "[encoded data removed]",
      "text/plain": [
       "<matplotlib.figure.Figure at 0x1162a9dd0>"
      ]
     },
     "metadata": {},
     "output_type": "display_data"
    },
    {
     "data": {
      "image/png": "[encoded data removed]",
      "text/plain": [
       "<matplotlib.figure.Figure at 0x10f95e2d0>"
      ]
     },
     "metadata": {},
     "output_type": "display_data"
    },
    {
     "data": {
      "image/png": "[encoded data removed]",
      "text/plain": [
       "<matplotlib.figure.Figure at 0x1154b9450>"
      ]
     },
     "metadata": {},
     "output_type": "display_data"
    },
    {
     "data": {
      "image/png": "[encoded data removed]",
      "text/plain": [
       "<matplotlib.figure.Figure at 0x114dc3690>"
      ]
     },
     "metadata": {},
     "output_type": "display_data"
    },
    {
     "data": {
      "image/png": "[encoded data removed]",
      "text/plain": [
       "<matplotlib.figure.Figure at 0x112807f90>"
      ]
     },
     "metadata": {},
     "output_type": "display_data"
    },
    {
     "data": {
      "image/png": "[encoded data removed]",
      "text/plain": [
       "<matplotlib.figure.Figure at 0x1158f7f10>"
      ]
     },
     "metadata": {},
     "output_type": "display_data"
    }
   ],
   "source": [
    "for meth in syns.errs.keys():\n",
    "    plt.figure()\n",
    "    plt.hist(np.log10(syns.errs[meth]))\n",
    "    plt.title(meth)"
   ]
  },
  {
   "cell_type": "code",
   "execution_count": 23,
   "metadata": {
    "collapsed": false
   },
   "outputs": [
    {
     "name": "stdout",
     "output_type": "stream",
     "text": [
      "0.0482149185356\n",
      "0.0272651776425\n",
      "0.027713473973\n",
      "0.0247296601541\n",
      "0.0259219880687\n",
      "0.0191125039255\n"
     ]
    }
   ],
   "source": [
    "for meth in syns.errs.keys():\n",
    "    print(np.mean(syns.errs[meth]))"
   ]
  },
  {
   "cell_type": "code",
   "execution_count": 24,
   "metadata": {
    "collapsed": false
   },
   "outputs": [
    {
     "name": "stdout",
     "output_type": "stream",
     "text": [
      "0.0487715207891\n",
      "0.0189349069289\n",
      "0.0241431384536\n",
      "0.0177304026787\n",
      "0.015842552539\n",
      "0.0156244080473\n"
     ]
    }
   ],
   "source": [
    "for meth in syns.errs.keys():\n",
    "    print(np.median(syns.errs[meth]))"
   ]
  },
  {
   "cell_type": "code",
   "execution_count": 35,
   "metadata": {
    "collapsed": false
   },
   "outputs": [
    {
     "data": {
      "image/png": "[encoded data removed]",
      "text/plain": [
       "<matplotlib.figure.Figure at 0x11551bbd0>"
      ]
     },
     "metadata": {},
     "output_type": "display_data"
    }
   ],
   "source": [
    "_ = plt.boxplot([syns.errs[meth] for meth in syns.errs.keys()],\n",
    "                labels=syns.errs.keys(),\n",
    "                showfliers=False)"
   ]
  },
  {
   "cell_type": "markdown",
   "metadata": {},
   "source": [
    "## Statistically Compare Methods"
   ]
  },
  {
   "cell_type": "code",
   "execution_count": 62,
   "metadata": {
    "collapsed": true
   },
   "outputs": [],
   "source": [
    "from scipy.stats import ranksums"
   ]
  },
  {
   "cell_type": "code",
   "execution_count": 58,
   "metadata": {
    "collapsed": false
   },
   "outputs": [],
   "source": [
    "comps = np.zeros([len(syns.errs), len(syns.errs)])\n",
    "for ii, ki in enumerate(syns.errs.keys()):\n",
    "    for ij, kj in enumerate(syns.errs.keys()):\n",
    "        s, p = ranksums(syns.errs[ki], syns.errs[kj])\n",
    "        comps[ii, ij] = p"
   ]
  },
  {
   "cell_type": "code",
   "execution_count": 59,
   "metadata": {
    "collapsed": true
   },
   "outputs": [],
   "source": [
    "import pandas as pd"
   ]
  },
  {
   "cell_type": "code",
   "execution_count": 60,
   "metadata": {
    "collapsed": false
   },
   "outputs": [],
   "source": [
    "df = pd.DataFrame(comps, index=syns.errs.keys(), columns=syns.errs.keys())"
   ]
  },
  {
   "cell_type": "code",
   "execution_count": 64,
   "metadata": {
    "collapsed": false
   },
   "outputs": [
    {
     "data": {
      "text/html": [
       "\n",
       "        <style  type=\"text/css\" >\n",
       "        \n",
       "        \n",
       "            #T_b4ae0975_33a6_11e7_a6ee_10ddb1baad75row0_col0 {\n",
       "            \n",
       "                color:  red;\n",
       "            \n",
       "            }\n",
       "        \n",
       "            #T_b4ae0975_33a6_11e7_a6ee_10ddb1baad75row0_col1 {\n",
       "            \n",
       "                color:  green;\n",
       "            \n",
       "            }\n",
       "        \n",
       "            #T_b4ae0975_33a6_11e7_a6ee_10ddb1baad75row0_col2 {\n",
       "            \n",
       "                color:  green;\n",
       "            \n",
       "            }\n",
       "        \n",
       "            #T_b4ae0975_33a6_11e7_a6ee_10ddb1baad75row0_col3 {\n",
       "            \n",
       "                color:  green;\n",
       "            \n",
       "            }\n",
       "        \n",
       "            #T_b4ae0975_33a6_11e7_a6ee_10ddb1baad75row0_col4 {\n",
       "            \n",
       "                color:  green;\n",
       "            \n",
       "            }\n",
       "        \n",
       "            #T_b4ae0975_33a6_11e7_a6ee_10ddb1baad75row0_col5 {\n",
       "            \n",
       "                color:  green;\n",
       "            \n",
       "            }\n",
       "        \n",
       "            #T_b4ae0975_33a6_11e7_a6ee_10ddb1baad75row1_col0 {\n",
       "            \n",
       "                color:  green;\n",
       "            \n",
       "            }\n",
       "        \n",
       "            #T_b4ae0975_33a6_11e7_a6ee_10ddb1baad75row1_col1 {\n",
       "            \n",
       "                color:  red;\n",
       "            \n",
       "            }\n",
       "        \n",
       "            #T_b4ae0975_33a6_11e7_a6ee_10ddb1baad75row1_col2 {\n",
       "            \n",
       "                color:  red;\n",
       "            \n",
       "            }\n",
       "        \n",
       "            #T_b4ae0975_33a6_11e7_a6ee_10ddb1baad75row1_col3 {\n",
       "            \n",
       "                color:  red;\n",
       "            \n",
       "            }\n",
       "        \n",
       "            #T_b4ae0975_33a6_11e7_a6ee_10ddb1baad75row1_col4 {\n",
       "            \n",
       "                color:  red;\n",
       "            \n",
       "            }\n",
       "        \n",
       "            #T_b4ae0975_33a6_11e7_a6ee_10ddb1baad75row1_col5 {\n",
       "            \n",
       "                color:  green;\n",
       "            \n",
       "            }\n",
       "        \n",
       "            #T_b4ae0975_33a6_11e7_a6ee_10ddb1baad75row2_col0 {\n",
       "            \n",
       "                color:  green;\n",
       "            \n",
       "            }\n",
       "        \n",
       "            #T_b4ae0975_33a6_11e7_a6ee_10ddb1baad75row2_col1 {\n",
       "            \n",
       "                color:  red;\n",
       "            \n",
       "            }\n",
       "        \n",
       "            #T_b4ae0975_33a6_11e7_a6ee_10ddb1baad75row2_col2 {\n",
       "            \n",
       "                color:  red;\n",
       "            \n",
       "            }\n",
       "        \n",
       "            #T_b4ae0975_33a6_11e7_a6ee_10ddb1baad75row2_col3 {\n",
       "            \n",
       "                color:  green;\n",
       "            \n",
       "            }\n",
       "        \n",
       "            #T_b4ae0975_33a6_11e7_a6ee_10ddb1baad75row2_col4 {\n",
       "            \n",
       "                color:  green;\n",
       "            \n",
       "            }\n",
       "        \n",
       "            #T_b4ae0975_33a6_11e7_a6ee_10ddb1baad75row2_col5 {\n",
       "            \n",
       "                color:  green;\n",
       "            \n",
       "            }\n",
       "        \n",
       "            #T_b4ae0975_33a6_11e7_a6ee_10ddb1baad75row3_col0 {\n",
       "            \n",
       "                color:  green;\n",
       "            \n",
       "            }\n",
       "        \n",
       "            #T_b4ae0975_33a6_11e7_a6ee_10ddb1baad75row3_col1 {\n",
       "            \n",
       "                color:  red;\n",
       "            \n",
       "            }\n",
       "        \n",
       "            #T_b4ae0975_33a6_11e7_a6ee_10ddb1baad75row3_col2 {\n",
       "            \n",
       "                color:  green;\n",
       "            \n",
       "            }\n",
       "        \n",
       "            #T_b4ae0975_33a6_11e7_a6ee_10ddb1baad75row3_col3 {\n",
       "            \n",
       "                color:  red;\n",
       "            \n",
       "            }\n",
       "        \n",
       "            #T_b4ae0975_33a6_11e7_a6ee_10ddb1baad75row3_col4 {\n",
       "            \n",
       "                color:  red;\n",
       "            \n",
       "            }\n",
       "        \n",
       "            #T_b4ae0975_33a6_11e7_a6ee_10ddb1baad75row3_col5 {\n",
       "            \n",
       "                color:  red;\n",
       "            \n",
       "            }\n",
       "        \n",
       "            #T_b4ae0975_33a6_11e7_a6ee_10ddb1baad75row4_col0 {\n",
       "            \n",
       "                color:  green;\n",
       "            \n",
       "            }\n",
       "        \n",
       "            #T_b4ae0975_33a6_11e7_a6ee_10ddb1baad75row4_col1 {\n",
       "            \n",
       "                color:  red;\n",
       "            \n",
       "            }\n",
       "        \n",
       "            #T_b4ae0975_33a6_11e7_a6ee_10ddb1baad75row4_col2 {\n",
       "            \n",
       "                color:  green;\n",
       "            \n",
       "            }\n",
       "        \n",
       "            #T_b4ae0975_33a6_11e7_a6ee_10ddb1baad75row4_col3 {\n",
       "            \n",
       "                color:  red;\n",
       "            \n",
       "            }\n",
       "        \n",
       "            #T_b4ae0975_33a6_11e7_a6ee_10ddb1baad75row4_col4 {\n",
       "            \n",
       "                color:  red;\n",
       "            \n",
       "            }\n",
       "        \n",
       "            #T_b4ae0975_33a6_11e7_a6ee_10ddb1baad75row4_col5 {\n",
       "            \n",
       "                color:  red;\n",
       "            \n",
       "            }\n",
       "        \n",
       "            #T_b4ae0975_33a6_11e7_a6ee_10ddb1baad75row5_col0 {\n",
       "            \n",
       "                color:  green;\n",
       "            \n",
       "            }\n",
       "        \n",
       "            #T_b4ae0975_33a6_11e7_a6ee_10ddb1baad75row5_col1 {\n",
       "            \n",
       "                color:  green;\n",
       "            \n",
       "            }\n",
       "        \n",
       "            #T_b4ae0975_33a6_11e7_a6ee_10ddb1baad75row5_col2 {\n",
       "            \n",
       "                color:  green;\n",
       "            \n",
       "            }\n",
       "        \n",
       "            #T_b4ae0975_33a6_11e7_a6ee_10ddb1baad75row5_col3 {\n",
       "            \n",
       "                color:  red;\n",
       "            \n",
       "            }\n",
       "        \n",
       "            #T_b4ae0975_33a6_11e7_a6ee_10ddb1baad75row5_col4 {\n",
       "            \n",
       "                color:  red;\n",
       "            \n",
       "            }\n",
       "        \n",
       "            #T_b4ae0975_33a6_11e7_a6ee_10ddb1baad75row5_col5 {\n",
       "            \n",
       "                color:  red;\n",
       "            \n",
       "            }\n",
       "        \n",
       "        </style>\n",
       "\n",
       "        <table id=\"T_b4ae0975_33a6_11e7_a6ee_10ddb1baad75\" None>\n",
       "        \n",
       "\n",
       "        <thead>\n",
       "            \n",
       "            <tr>\n",
       "                \n",
       "                \n",
       "                <th class=\"blank level0\" >\n",
       "                  \n",
       "                \n",
       "                \n",
       "                \n",
       "                <th class=\"col_heading level0 col0\" colspan=1>\n",
       "                  RLM\n",
       "                \n",
       "                \n",
       "                \n",
       "                <th class=\"col_heading level0 col1\" colspan=1>\n",
       "                  RAN-EA\n",
       "                \n",
       "                \n",
       "                \n",
       "                <th class=\"col_heading level0 col2\" colspan=1>\n",
       "                  RAN\n",
       "                \n",
       "                \n",
       "                \n",
       "                <th class=\"col_heading level0 col3\" colspan=1>\n",
       "                  RAN-EO\n",
       "                \n",
       "                \n",
       "                \n",
       "                <th class=\"col_heading level0 col4\" colspan=1>\n",
       "                  RLM-EO\n",
       "                \n",
       "                \n",
       "                \n",
       "                <th class=\"col_heading level0 col5\" colspan=1>\n",
       "                  RLM-EA\n",
       "                \n",
       "                \n",
       "            </tr>\n",
       "            \n",
       "        </thead>\n",
       "        <tbody>\n",
       "            \n",
       "            <tr>\n",
       "                \n",
       "                \n",
       "                <th id=\"T_b4ae0975_33a6_11e7_a6ee_10ddb1baad75\"\n",
       "                 class=\"row_heading level0 row0\" rowspan=1>\n",
       "                    RLM\n",
       "                \n",
       "                \n",
       "                \n",
       "                <td id=\"T_b4ae0975_33a6_11e7_a6ee_10ddb1baad75row0_col0\"\n",
       "                 class=\"data row0 col0\" >\n",
       "                    1\n",
       "                \n",
       "                \n",
       "                \n",
       "                <td id=\"T_b4ae0975_33a6_11e7_a6ee_10ddb1baad75row0_col1\"\n",
       "                 class=\"data row0 col1\" >\n",
       "                    4.33172e-11\n",
       "                \n",
       "                \n",
       "                \n",
       "                <td id=\"T_b4ae0975_33a6_11e7_a6ee_10ddb1baad75row0_col2\"\n",
       "                 class=\"data row0 col2\" >\n",
       "                    7.67968e-11\n",
       "                \n",
       "                \n",
       "                \n",
       "                <td id=\"T_b4ae0975_33a6_11e7_a6ee_10ddb1baad75row0_col3\"\n",
       "                 class=\"data row0 col3\" >\n",
       "                    2.8854e-16\n",
       "                \n",
       "                \n",
       "                \n",
       "                <td id=\"T_b4ae0975_33a6_11e7_a6ee_10ddb1baad75row0_col4\"\n",
       "                 class=\"data row0 col4\" >\n",
       "                    4.35903e-17\n",
       "                \n",
       "                \n",
       "                \n",
       "                <td id=\"T_b4ae0975_33a6_11e7_a6ee_10ddb1baad75row0_col5\"\n",
       "                 class=\"data row0 col5\" >\n",
       "                    6.87917e-19\n",
       "                \n",
       "                \n",
       "            </tr>\n",
       "            \n",
       "            <tr>\n",
       "                \n",
       "                \n",
       "                <th id=\"T_b4ae0975_33a6_11e7_a6ee_10ddb1baad75\"\n",
       "                 class=\"row_heading level0 row1\" rowspan=1>\n",
       "                    RAN-EA\n",
       "                \n",
       "                \n",
       "                \n",
       "                <td id=\"T_b4ae0975_33a6_11e7_a6ee_10ddb1baad75row1_col0\"\n",
       "                 class=\"data row1 col0\" >\n",
       "                    4.33172e-11\n",
       "                \n",
       "                \n",
       "                \n",
       "                <td id=\"T_b4ae0975_33a6_11e7_a6ee_10ddb1baad75row1_col1\"\n",
       "                 class=\"data row1 col1\" >\n",
       "                    1\n",
       "                \n",
       "                \n",
       "                \n",
       "                <td id=\"T_b4ae0975_33a6_11e7_a6ee_10ddb1baad75row1_col2\"\n",
       "                 class=\"data row1 col2\" >\n",
       "                    0.290061\n",
       "                \n",
       "                \n",
       "                \n",
       "                <td id=\"T_b4ae0975_33a6_11e7_a6ee_10ddb1baad75row1_col3\"\n",
       "                 class=\"data row1 col3\" >\n",
       "                    0.102641\n",
       "                \n",
       "                \n",
       "                \n",
       "                <td id=\"T_b4ae0975_33a6_11e7_a6ee_10ddb1baad75row1_col4\"\n",
       "                 class=\"data row1 col4\" >\n",
       "                    0.102641\n",
       "                \n",
       "                \n",
       "                \n",
       "                <td id=\"T_b4ae0975_33a6_11e7_a6ee_10ddb1baad75row1_col5\"\n",
       "                 class=\"data row1 col5\" >\n",
       "                    0.0364796\n",
       "                \n",
       "                \n",
       "            </tr>\n",
       "            \n",
       "            <tr>\n",
       "                \n",
       "                \n",
       "                <th id=\"T_b4ae0975_33a6_11e7_a6ee_10ddb1baad75\"\n",
       "                 class=\"row_heading level0 row2\" rowspan=1>\n",
       "                    RAN\n",
       "                \n",
       "                \n",
       "                \n",
       "                <td id=\"T_b4ae0975_33a6_11e7_a6ee_10ddb1baad75row2_col0\"\n",
       "                 class=\"data row2 col0\" >\n",
       "                    7.67968e-11\n",
       "                \n",
       "                \n",
       "                \n",
       "                <td id=\"T_b4ae0975_33a6_11e7_a6ee_10ddb1baad75row2_col1\"\n",
       "                 class=\"data row2 col1\" >\n",
       "                    0.290061\n",
       "                \n",
       "                \n",
       "                \n",
       "                <td id=\"T_b4ae0975_33a6_11e7_a6ee_10ddb1baad75row2_col2\"\n",
       "                 class=\"data row2 col2\" >\n",
       "                    1\n",
       "                \n",
       "                \n",
       "                \n",
       "                <td id=\"T_b4ae0975_33a6_11e7_a6ee_10ddb1baad75row2_col3\"\n",
       "                 class=\"data row2 col3\" >\n",
       "                    0.00555001\n",
       "                \n",
       "                \n",
       "                \n",
       "                <td id=\"T_b4ae0975_33a6_11e7_a6ee_10ddb1baad75row2_col4\"\n",
       "                 class=\"data row2 col4\" >\n",
       "                    0.00151644\n",
       "                \n",
       "                \n",
       "                \n",
       "                <td id=\"T_b4ae0975_33a6_11e7_a6ee_10ddb1baad75row2_col5\"\n",
       "                 class=\"data row2 col5\" >\n",
       "                    0.000586356\n",
       "                \n",
       "                \n",
       "            </tr>\n",
       "            \n",
       "            <tr>\n",
       "                \n",
       "                \n",
       "                <th id=\"T_b4ae0975_33a6_11e7_a6ee_10ddb1baad75\"\n",
       "                 class=\"row_heading level0 row3\" rowspan=1>\n",
       "                    RAN-EO\n",
       "                \n",
       "                \n",
       "                \n",
       "                <td id=\"T_b4ae0975_33a6_11e7_a6ee_10ddb1baad75row3_col0\"\n",
       "                 class=\"data row3 col0\" >\n",
       "                    2.8854e-16\n",
       "                \n",
       "                \n",
       "                \n",
       "                <td id=\"T_b4ae0975_33a6_11e7_a6ee_10ddb1baad75row3_col1\"\n",
       "                 class=\"data row3 col1\" >\n",
       "                    0.102641\n",
       "                \n",
       "                \n",
       "                \n",
       "                <td id=\"T_b4ae0975_33a6_11e7_a6ee_10ddb1baad75row3_col2\"\n",
       "                 class=\"data row3 col2\" >\n",
       "                    0.00555001\n",
       "                \n",
       "                \n",
       "                \n",
       "                <td id=\"T_b4ae0975_33a6_11e7_a6ee_10ddb1baad75row3_col3\"\n",
       "                 class=\"data row3 col3\" >\n",
       "                    1\n",
       "                \n",
       "                \n",
       "                \n",
       "                <td id=\"T_b4ae0975_33a6_11e7_a6ee_10ddb1baad75row3_col4\"\n",
       "                 class=\"data row3 col4\" >\n",
       "                    0.852682\n",
       "                \n",
       "                \n",
       "                \n",
       "                <td id=\"T_b4ae0975_33a6_11e7_a6ee_10ddb1baad75row3_col5\"\n",
       "                 class=\"data row3 col5\" >\n",
       "                    0.665393\n",
       "                \n",
       "                \n",
       "            </tr>\n",
       "            \n",
       "            <tr>\n",
       "                \n",
       "                \n",
       "                <th id=\"T_b4ae0975_33a6_11e7_a6ee_10ddb1baad75\"\n",
       "                 class=\"row_heading level0 row4\" rowspan=1>\n",
       "                    RLM-EO\n",
       "                \n",
       "                \n",
       "                \n",
       "                <td id=\"T_b4ae0975_33a6_11e7_a6ee_10ddb1baad75row4_col0\"\n",
       "                 class=\"data row4 col0\" >\n",
       "                    4.35903e-17\n",
       "                \n",
       "                \n",
       "                \n",
       "                <td id=\"T_b4ae0975_33a6_11e7_a6ee_10ddb1baad75row4_col1\"\n",
       "                 class=\"data row4 col1\" >\n",
       "                    0.102641\n",
       "                \n",
       "                \n",
       "                \n",
       "                <td id=\"T_b4ae0975_33a6_11e7_a6ee_10ddb1baad75row4_col2\"\n",
       "                 class=\"data row4 col2\" >\n",
       "                    0.00151644\n",
       "                \n",
       "                \n",
       "                \n",
       "                <td id=\"T_b4ae0975_33a6_11e7_a6ee_10ddb1baad75row4_col3\"\n",
       "                 class=\"data row4 col3\" >\n",
       "                    0.852682\n",
       "                \n",
       "                \n",
       "                \n",
       "                <td id=\"T_b4ae0975_33a6_11e7_a6ee_10ddb1baad75row4_col4\"\n",
       "                 class=\"data row4 col4\" >\n",
       "                    1\n",
       "                \n",
       "                \n",
       "                \n",
       "                <td id=\"T_b4ae0975_33a6_11e7_a6ee_10ddb1baad75row4_col5\"\n",
       "                 class=\"data row4 col5\" >\n",
       "                    0.795636\n",
       "                \n",
       "                \n",
       "            </tr>\n",
       "            \n",
       "            <tr>\n",
       "                \n",
       "                \n",
       "                <th id=\"T_b4ae0975_33a6_11e7_a6ee_10ddb1baad75\"\n",
       "                 class=\"row_heading level0 row5\" rowspan=1>\n",
       "                    RLM-EA\n",
       "                \n",
       "                \n",
       "                \n",
       "                <td id=\"T_b4ae0975_33a6_11e7_a6ee_10ddb1baad75row5_col0\"\n",
       "                 class=\"data row5 col0\" >\n",
       "                    6.87917e-19\n",
       "                \n",
       "                \n",
       "                \n",
       "                <td id=\"T_b4ae0975_33a6_11e7_a6ee_10ddb1baad75row5_col1\"\n",
       "                 class=\"data row5 col1\" >\n",
       "                    0.0364796\n",
       "                \n",
       "                \n",
       "                \n",
       "                <td id=\"T_b4ae0975_33a6_11e7_a6ee_10ddb1baad75row5_col2\"\n",
       "                 class=\"data row5 col2\" >\n",
       "                    0.000586356\n",
       "                \n",
       "                \n",
       "                \n",
       "                <td id=\"T_b4ae0975_33a6_11e7_a6ee_10ddb1baad75row5_col3\"\n",
       "                 class=\"data row5 col3\" >\n",
       "                    0.665393\n",
       "                \n",
       "                \n",
       "                \n",
       "                <td id=\"T_b4ae0975_33a6_11e7_a6ee_10ddb1baad75row5_col4\"\n",
       "                 class=\"data row5 col4\" >\n",
       "                    0.795636\n",
       "                \n",
       "                \n",
       "                \n",
       "                <td id=\"T_b4ae0975_33a6_11e7_a6ee_10ddb1baad75row5_col5\"\n",
       "                 class=\"data row5 col5\" >\n",
       "                    1\n",
       "                \n",
       "                \n",
       "            </tr>\n",
       "            \n",
       "        </tbody>\n",
       "        </table>\n",
       "        "
      ],
      "text/plain": [
       "<pandas.formats.style.Styler at 0x1156c8a10>"
      ]
     },
     "execution_count": 64,
     "metadata": {},
     "output_type": "execute_result"
    }
   ],
   "source": [
    "# Use colours to get an eye on significant differences\n",
    "def _color_red_or_green(val):\n",
    "    color = 'green' if val < 0.05 else 'red'\n",
    "    return 'color: %s' % color\n",
    "df.style.applymap(_color_red_or_green)"
   ]
  },
  {
   "cell_type": "code",
   "execution_count": null,
   "metadata": {
    "collapsed": true
   },
   "outputs": [],
   "source": []
  },
  {
   "cell_type": "code",
   "execution_count": null,
   "metadata": {
    "collapsed": true
   },
   "outputs": [],
   "source": [
    "from scipy.stats.mstats import normaltest"
   ]
  },
  {
   "cell_type": "code",
   "execution_count": null,
   "metadata": {
    "collapsed": false
   },
   "outputs": [],
   "source": [
    "for meth in syns.errs.keys():\n",
    "    a, b = normaltest(np.log10(syns.errs[meth]))\n",
    "    print(a, '\\t', b)"
   ]
  },
  {
   "cell_type": "code",
   "execution_count": null,
   "metadata": {
    "collapsed": true
   },
   "outputs": [],
   "source": []
  }
 ],
 "metadata": {
  "kernelspec": {
   "display_name": "Python 2",
   "language": "python",
   "name": "python2"
  },
  "language_info": {
   "codemirror_mode": {
    "name": "ipython",
    "version": 2
   },
   "file_extension": ".py",
   "mimetype": "text/x-python",
   "name": "python",
   "nbconvert_exporter": "python",
   "pygments_lexer": "ipython2",
   "version": "2.7.13"
  }
 },
 "nbformat": 4,
 "nbformat_minor": 0
}
