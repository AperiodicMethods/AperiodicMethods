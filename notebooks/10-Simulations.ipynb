{
 "cells": [
  {
   "cell_type": "markdown",
   "id": "b58c1e55",
   "metadata": {},
   "source": [
    "# Simulations\n",
    "\n",
    "This section introduces and describes the simulations used in this project.\n",
    "\n",
    "Simulations include:\n",
    "- time domain simulations\n",
    "- power spectrum simulations\n",
    "\n",
    "Also, this section overview the main simulation uses:\n",
    "- using simulations to examine and quantify properties of individual methods\n",
    "- using simulations to compare the results of a set of methods"
   ]
  }
 ],
 "metadata": {
  "kernelspec": {
   "display_name": "Python 3 (ipykernel)",
   "language": "python",
   "name": "python3"
  },
  "language_info": {
   "codemirror_mode": {
    "name": "ipython",
    "version": 3
   },
   "file_extension": ".py",
   "mimetype": "text/x-python",
   "name": "python",
   "nbconvert_exporter": "python",
   "pygments_lexer": "ipython3",
   "version": "3.9.17"
  }
 },
 "nbformat": 4,
 "nbformat_minor": 5
}
