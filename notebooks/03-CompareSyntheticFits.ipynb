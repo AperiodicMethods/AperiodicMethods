{
 "cells": [
  {
   "cell_type": "markdown",
   "metadata": {},
   "source": [
    "# Words, words, words"
   ]
  },
  {
   "cell_type": "code",
   "execution_count": 7,
   "metadata": {},
   "outputs": [],
   "source": [
    "from slf.core.db import SLFDB\n",
    "from slf.core.io import load_pickle\n",
    "\n",
    "from slf.fake import SynFits, print_res"
   ]
  },
  {
   "cell_type": "code",
   "execution_count": 2,
   "metadata": {
    "collapsed": true
   },
   "outputs": [],
   "source": [
    "# Housekeeping\n",
    "db = SLFDB()"
   ]
  },
  {
   "cell_type": "code",
   "execution_count": 3,
   "metadata": {},
   "outputs": [],
   "source": [
    "# Check available synthetic fit files\n",
    "syn_files = db.check_syns()"
   ]
  },
  {
   "cell_type": "markdown",
   "metadata": {},
   "source": [
    "#### WORDS"
   ]
  },
  {
   "cell_type": "code",
   "execution_count": 4,
   "metadata": {},
   "outputs": [],
   "source": [
    "#\n",
    "all_fits = SynFits()\n",
    "all_fits.get_fit_funcs()\n",
    "all_fits.get_err_dict(0)\n",
    "\n",
    "for f_name in syn_files:\n",
    "\n",
    "    dat = load_pickle(f_name, db.syns_path)\n",
    "\n",
    "    temp = SynFits()\n",
    "    temp.errs = dat\n",
    "    \n",
    "    all_fits = all_fits + temp"
   ]
  },
  {
   "cell_type": "code",
   "execution_count": 8,
   "metadata": {},
   "outputs": [
    {
     "name": "stdout",
     "output_type": "stream",
     "text": [
      "   RLM-EO   \t\t 0.02563\n",
      "   EXP-EO   \t\t 0.02730\n",
      "   FOOOF    \t\t 0.03308\n",
      "   RLM      \t\t 0.03744\n",
      "   RAN      \t\t 0.03911\n",
      "   RAN-EO   \t\t 0.04226\n",
      "   RAN-EA   \t\t 0.04854\n",
      "   RLM-EA   \t\t 0.04869\n",
      "   EXP      \t\t 0.05686\n",
      "   OLS      \t\t 0.05686\n",
      "   EXP-EA   \t\t 0.07489\n"
     ]
    }
   ],
   "source": [
    "#\n",
    "print_res(all_fits.calc_avg_errs())"
   ]
  },
  {
   "cell_type": "code",
   "execution_count": 9,
   "metadata": {},
   "outputs": [
    {
     "name": "stdout",
     "output_type": "stream",
     "text": [
      "   RLM-EO   \t\t 0.47222\n",
      "   EXP-EO   \t\t 0.44444\n",
      "   FOOOF    \t\t 0.43056\n",
      "   RLM      \t\t 0.38889\n",
      "   RAN-EA   \t\t 0.38889\n",
      "   RAN-EO   \t\t 0.37500\n",
      "   RLM-EA   \t\t 0.33333\n",
      "   RAN      \t\t 0.29167\n",
      "   OLS      \t\t 0.29167\n",
      "   EXP      \t\t 0.29167\n",
      "   EXP-EA   \t\t 0.27778\n"
     ]
    },
    {
     "name": "stderr",
     "output_type": "stream",
     "text": [
      "/Users/tom/Documents/GitCode/PSDSlopeFitting/slf/fake.py:103: RuntimeWarning: invalid value encountered in less\n",
      "  perc_good.append((sum(vals < 0.025) / len(vals), key))\n"
     ]
    }
   ],
   "source": [
    "#\n",
    "print_res(all_fits.calc_perc_good())"
   ]
  },
  {
   "cell_type": "code",
   "execution_count": null,
   "metadata": {},
   "outputs": [],
   "source": [
    "all_fits.errs['RLM-EO']"
   ]
  },
  {
   "cell_type": "code",
   "execution_count": null,
   "metadata": {
    "collapsed": true
   },
   "outputs": [],
   "source": [
    "import numpy as np"
   ]
  },
  {
   "cell_type": "code",
   "execution_count": null,
   "metadata": {
    "collapsed": true
   },
   "outputs": [],
   "source": [
    "np.n"
   ]
  }
 ],
 "metadata": {
  "kernelspec": {
   "display_name": "Python 3",
   "language": "python",
   "name": "python3"
  },
  "language_info": {
   "codemirror_mode": {
    "name": "ipython",
    "version": 3
   },
   "file_extension": ".py",
   "mimetype": "text/x-python",
   "name": "python",
   "nbconvert_exporter": "python",
   "pygments_lexer": "ipython3",
   "version": "3.6.1"
  }
 },
 "nbformat": 4,
 "nbformat_minor": 2
}
