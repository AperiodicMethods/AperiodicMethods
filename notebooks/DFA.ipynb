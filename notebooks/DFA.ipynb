{
 "cells": [
  {
   "cell_type": "markdown",
   "metadata": {},
   "source": [
    "# Detrended Fluctuation Analysis\n",
    "\n",
    "Detrended Fluctuation Analysis is a method for measuring the self-similarity of a signal, and can be applied to measure properties of 1/f-distributed signals.\n",
    "\n",
    "DFA measures an output value, $\\alpha$ which can be interpreted as:\n",
    "- $\\alpha$ < 0.5   anti-correlated signal\n",
    "- $\\alpha$ ~= 0.5: uncorrelated / white noise\n",
    "- $\\alpha$ > 0.5: correlated\n",
    "    - For example: pink noise ($1/f^1$) ~= 1 & brown noise ($1/f^2$) ~= 1.5\n",
    "\n",
    "The DFA measure $\\alpha$, _should_ relate to the power spectrum exponent $f^\\chi$ as:\n",
    "- $\\chi$ = 2$\\alpha$ - 1 or\n",
    "- $\\alpha$ = ($\\chi$ + 1) / 2\n",
    "\n",
    "In this notebook, we will explore:\n",
    "- applying DFA to neural time signals\n",
    "- how DFA measures relate to different properties of neural time series\n",
    "- compare DFA measures to other measures of 1/f. \n",
    "\n",
    "\n",
    "\n",
    "### Notes\n",
    "- It looks like the expected relationship between DFA & 1/f appears to be true in the range of $\\chi$ from -3 to 0. \n",
    "    - It seems like it breaks down with exponent of less than -3\n",
    "    - It also doesn't seem to hold for exponents > 0\n",
    "- The presence of an oscillations decreases measures DFA\n",
    "    - Increasing the frequency of the oscillation further decreases measured DFA\n",
    "    - Increasing the relative power of the oscillation further decreases measured DFA\n",
    "- It would appear that given a combined signal, the measured DFA is upper-bound at the expected DFA given the exponent"
   ]
  },
  {
   "cell_type": "code",
   "execution_count": 1,
   "metadata": {},
   "outputs": [],
   "source": [
    "import numpy as np\n",
    "import matplotlib.pyplot as plt\n",
    "\n",
    "from neurodsp.sim import *\n",
    "\n",
    "from neurodsp.spectral import compute_spectrum\n",
    "from fooof.plts import plot_spectra"
   ]
  },
  {
   "cell_type": "code",
   "execution_count": 2,
   "metadata": {},
   "outputs": [],
   "source": [
    "import seaborn as sns\n",
    "sns.set_context('talk')"
   ]
  },
  {
   "cell_type": "code",
   "execution_count": 3,
   "metadata": {},
   "outputs": [],
   "source": [
    "# Import custom code\n",
    "import sys; from pathlib import Path\n",
    "sys.path.append(str(Path('..').resolve()))\n",
    "\n",
    "from apm.run import run_sims"
   ]
  },
  {
   "cell_type": "markdown",
   "metadata": {},
   "source": [
    "## Settings"
   ]
  },
  {
   "cell_type": "code",
   "execution_count": 5,
   "metadata": {},
   "outputs": [],
   "source": [
    "# Simulation settings\n",
    "n_seconds = 30\n",
    "fs = 1000\n",
    "default_exp = -2\n",
    "default_freq = 10\n",
    "\n",
    "# Collect together simulation parameters\n",
    "sim_params_pow = {'n_seconds' : n_seconds, 'fs' : fs}\n",
    "\n",
    "sim_params_comb = {'n_seconds' : n_seconds, 'fs' : fs,\n",
    "                   'components' : {'sim_powerlaw' : {'exponent' : default_exp},\n",
    "                                   'sim_oscillation' : {'freq' : default_freq}}}\n",
    "\n",
    "# DFA settings\n",
    "dfa_params = {\n",
    "    'fs' : fs,\n",
    "    'n_scales' : 10,\n",
    "    'min_scale' : 0.1,\n",
    "    'max_scale' : 1.0,\n",
    "    'deg' : 1,\n",
    "    'method' : 'dfa'\n",
    "}\n",
    "\n",
    "# Set the number of instances to run\n",
    "n_instances = 10\n",
    "\n",
    "# Set the exponent range to simulate across\n",
    "exps = np.arange(-3, 0.25, 0.25)\n",
    "\n",
    "freqs = np.arange(1, 50, 2)\n",
    "\n",
    "pows = np.arange(0, 1, 0.1)"
   ]
  },
  {
   "cell_type": "code",
   "execution_count": 6,
   "metadata": {},
   "outputs": [],
   "source": [
    "# Set the random seed\n",
    "np.random.seed(111)"
   ]
  },
  {
   "cell_type": "markdown",
   "metadata": {},
   "source": [
    "## Helper Functions"
   ]
  },
  {
   "cell_type": "code",
   "execution_count": 7,
   "metadata": {},
   "outputs": [],
   "source": [
    "def expected_alpha(exp):\n",
    "    return (-exp + 1) / 2"
   ]
  },
  {
   "cell_type": "code",
   "execution_count": 8,
   "metadata": {},
   "outputs": [],
   "source": [
    "def dfa_wrapper(sig, **kwargs):\n",
    "    return dfa(sig, **kwargs)[2]"
   ]
  },
  {
   "cell_type": "markdown",
   "metadata": {},
   "source": [
    "## DFA on Example Signals"
   ]
  },
  {
   "cell_type": "markdown",
   "metadata": {},
   "source": [
    "### Powerlaw Signal"
   ]
  },
  {
   "cell_type": "code",
   "execution_count": 9,
   "metadata": {},
   "outputs": [],
   "source": [
    "# Set an example exponent to simulate\n",
    "exp = -2"
   ]
  },
  {
   "cell_type": "code",
   "execution_count": 10,
   "metadata": {},
   "outputs": [],
   "source": [
    "# Simulate a powerlaw signal\n",
    "sig_pl = sim_powerlaw(n_seconds, fs, exp)"
   ]
  },
  {
   "cell_type": "code",
   "execution_count": 11,
   "metadata": {},
   "outputs": [],
   "source": [
    "# Calculat DFA on the simulated signal\n",
    "_, _, dfa_res = dfa(sig_pl, **dfa_params)"
   ]
  },
  {
   "cell_type": "code",
   "execution_count": 12,
   "metadata": {},
   "outputs": [
    {
     "name": "stdout",
     "output_type": "stream",
     "text": [
      "DFA exponent: \t\t 1.5284\n",
      "Expected Alpha:\t\t 1.5000\n"
     ]
    }
   ],
   "source": [
    "# Check the calculate DFA exponent, and the expected value\n",
    "print('DFA exponent: \\t\\t {:1.4f}'.format(dfa_res))\n",
    "print('Expected Alpha:\\t\\t {:1.4f}'.format(expected_alpha(exp)))"
   ]
  },
  {
   "cell_type": "markdown",
   "metadata": {},
   "source": [
    "### Knee Signal"
   ]
  },
  {
   "cell_type": "code",
   "execution_count": 13,
   "metadata": {},
   "outputs": [],
   "source": [
    "# Expected exp\n",
    "exp_kn = -2"
   ]
  },
  {
   "cell_type": "code",
   "execution_count": 14,
   "metadata": {},
   "outputs": [],
   "source": [
    "sig_kn = sim_synaptic_current(n_seconds, fs)"
   ]
  },
  {
   "cell_type": "code",
   "execution_count": 15,
   "metadata": {},
   "outputs": [],
   "source": [
    "scales, dfs, alpha = dfa(sig_kn, **dfa_params)"
   ]
  },
  {
   "cell_type": "code",
   "execution_count": 16,
   "metadata": {},
   "outputs": [
    {
     "name": "stdout",
     "output_type": "stream",
     "text": [
      "Measured Alpha:\t 0.6655\n",
      "Expected Alpha:\t 1.5000\n"
     ]
    }
   ],
   "source": [
    "print('Measured Alpha:\\t {:1.4f}'.format(alpha))\n",
    "print('Expected Alpha:\\t {:1.4f}'.format((-exp_kn + 1) / 2))"
   ]
  },
  {
   "cell_type": "code",
   "execution_count": 17,
   "metadata": {},
   "outputs": [],
   "source": [
    "f1, p1 = compute_spectrum(sig_pl, fs)\n",
    "f2, p2 = compute_spectrum(sig_kn, fs)"
   ]
  },
  {
   "cell_type": "code",
   "execution_count": 23,
   "metadata": {},
   "outputs": [
    {
     "data": {
      "image/png": "[encoded data removed]",
      "text/plain": [
       "<Figure size 432x288 with 1 Axes>"
      ]
     },
     "metadata": {
      "needs_background": "light"
     },
     "output_type": "display_data"
    }
   ],
   "source": [
    "plot_spectra([f1, f2], [p1, p2], True, True)"
   ]
  },
  {
   "cell_type": "markdown",
   "metadata": {},
   "source": [
    "## DFA Across Exponents"
   ]
  },
  {
   "cell_type": "code",
   "execution_count": 19,
   "metadata": {},
   "outputs": [],
   "source": [
    "# Run a set of simulations, calculating DFA across exponents\n",
    "dfa_sims_exp = run_sims(sim_powerlaw, sim_params_pow, dfa_wrapper, dfa_params,\n",
    "                        update='update_exp', values=exps, n_instances=n_instances)"
   ]
  },
  {
   "cell_type": "code",
   "execution_count": 20,
   "metadata": {},
   "outputs": [],
   "source": [
    "# Run a set of simulations, calculating DFA across exponents, with an oscillation\n",
    "dfa_sims_comb_exp = run_sims(sim_combined, sim_params_comb, dfa_wrapper, dfa_params,\n",
    "                             update='update_comb_exp', values=exps, n_instances=n_instances)"
   ]
  },
  {
   "cell_type": "code",
   "execution_count": 21,
   "metadata": {},
   "outputs": [],
   "source": [
    "# Calculate the expected DFA exponent value for each powerlaw exponent\n",
    "expected = [expected_alpha(exp) for exp in exps]"
   ]
  },
  {
   "cell_type": "code",
   "execution_count": 22,
   "metadata": {},
   "outputs": [
    {
     "data": {
      "image/png": "[encoded data removed]",
      "text/plain": [
       "<Figure size 432x288 with 1 Axes>"
      ]
     },
     "metadata": {
      "needs_background": "light"
     },
     "output_type": "display_data"
    }
   ],
   "source": [
    "# Plot DFA measures\n",
    "plt.plot(exps, expected, '--k')\n",
    "\n",
    "plt.plot(exps, dfa_sims_exp, '.r', ms=12)\n",
    "plt.plot(exps, dfa_sims_exp)\n",
    "\n",
    "plt.plot(exps, dfa_sims_comb_exp, '.b', ms=12)\n",
    "plt.plot(exps, dfa_sims_comb_exp);"
   ]
  },
  {
   "cell_type": "code",
   "execution_count": 24,
   "metadata": {},
   "outputs": [],
   "source": [
    "# Run a set of simulations, calculating DFA across oscillation frequencies\n",
    "dfa_sims_freq = run_sims(sim_combined, sim_params_comb, dfa_wrapper, dfa_params,\n",
    "                        update='update_freq', values=freqs, n_instances=n_instances)"
   ]
  },
  {
   "cell_type": "code",
   "execution_count": 25,
   "metadata": {},
   "outputs": [
    {
     "data": {
      "text/plain": [
       "[<matplotlib.lines.Line2D at 0x11b0fb240>]"
      ]
     },
     "execution_count": 25,
     "metadata": {},
     "output_type": "execute_result"
    },
    {
     "data": {
      "image/png": "[encoded data removed]",
      "text/plain": [
       "<Figure size 432x288 with 1 Axes>"
      ]
     },
     "metadata": {
      "needs_background": "light"
     },
     "output_type": "display_data"
    }
   ],
   "source": [
    "# Plot DFA measures across oscillation frequency values\n",
    "plt.plot(freqs, dfa_sims_freq)"
   ]
  },
  {
   "cell_type": "code",
   "execution_count": 26,
   "metadata": {},
   "outputs": [
    {
     "name": "stderr",
     "output_type": "stream",
     "text": [
      "/anaconda3/lib/python3.7/site-packages/numpy/core/fromnumeric.py:3118: RuntimeWarning: Mean of empty slice.\n",
      "  out=out, **kwargs)\n",
      "/anaconda3/lib/python3.7/site-packages/numpy/core/_methods.py:85: RuntimeWarning: invalid value encountered in double_scalars\n",
      "  ret = ret.dtype.type(ret / rcount)\n"
     ]
    }
   ],
   "source": [
    "# Run a set of simulations, calculating DFA across oscillation power\n",
    "dfa_sims_pow = run_sims(sim_combined, sim_params_comb, dfa_wrapper, dfa_params,\n",
    "                        update='update_pow', values=pows, n_instances=n_instances)"
   ]
  },
  {
   "cell_type": "code",
   "execution_count": 27,
   "metadata": {},
   "outputs": [
    {
     "data": {
      "text/plain": [
       "[<matplotlib.lines.Line2D at 0x11b361a20>]"
      ]
     },
     "execution_count": 27,
     "metadata": {},
     "output_type": "execute_result"
    },
    {
     "data": {
      "image/png": "[encoded data removed]",
      "text/plain": [
       "<Figure size 432x288 with 1 Axes>"
      ]
     },
     "metadata": {
      "needs_background": "light"
     },
     "output_type": "display_data"
    }
   ],
   "source": [
    "# Plot DFA measures across oscillation power values\n",
    "plt.plot(pows, dfa_sims_pow)"
   ]
  },
  {
   "cell_type": "code",
   "execution_count": null,
   "metadata": {},
   "outputs": [],
   "source": []
  },
  {
   "cell_type": "markdown",
   "metadata": {},
   "source": [
    "# DFA"
   ]
  },
  {
   "cell_type": "code",
   "execution_count": 4,
   "metadata": {},
   "outputs": [],
   "source": [
    "# Copied from rdgao SpaceRecon / nlds\n",
    "\n",
    "import numpy as np\n",
    "import scipy as sp\n",
    "\n",
    "def dfa(data, fs, n_scales=10, min_scale=0.01, max_scale=1.0, deg=1, method='dfa'):\n",
    "    \"\"\" Perform Detrended Fluctuation Analysis (DFA) on a given time series by\n",
    "    dividing the data into non-overlapping windows at log-spaced scales and\n",
    "    computing the mean RMS of fits over all window at each scale.\n",
    "    \n",
    "    Parameters\n",
    "    ----------\n",
    "    data : array, 1-D\n",
    "        Data to compute DFA over.\n",
    "    fs : float, Hz\n",
    "        Sampling frequency of data.\n",
    "    n_scales : int (default=10)\n",
    "        Number of scales to estimate fluctuations over.\n",
    "    min_scale : float, seconds (default=0.01s)\n",
    "        Shortest scale to compute DFA over.\n",
    "    max_scale : float, seconds (default=1.0s)\n",
    "        Longest scale to compute DFA over.\n",
    "    deg : int (default=1)\n",
    "        Polynomial degree for detrending. 1 for regular DFA, 2 or higher for\n",
    "        generalized DFA.\n",
    "    method : str (default='dfa')\n",
    "        Method to compute per-window fluctuation.\n",
    "        'dfa' : detrended fluctuation (OLS fit of data window). Empirically, DFA\n",
    "            seems to work for a larger range of exponent values.\n",
    "        'rs' : rescaled range (range divided by std)\n",
    "        \n",
    "    Returns\n",
    "    -------\n",
    "    t_scales : array, 1-D\n",
    "        Time-scales over which detrended fluctuations was performedself.\n",
    "    DFs : array, 1-D\n",
    "        Mean RMS (fluctuations) at each scale.\n",
    "    alpha : float\n",
    "        Slope of line in loglog when plotting t_scales against DFs (Hurst exp.).\n",
    "    \"\"\"\n",
    "    \n",
    "    # get log10 equi-spaced scales and translate that into window lengths\n",
    "    t_scales = np.logspace(np.log10(min_scale), np.log10(max_scale), n_scales)\n",
    "    win_lens = np.round(t_scales * fs).astype('int')\n",
    "    # get culmulative sum\n",
    "    data_walk = sp.cumsum(data - np.mean(data))\n",
    "    DFs = np.zeros_like(t_scales)\n",
    "    # step through each scale and get RMS\n",
    "    for idx, win_len in enumerate(win_lens):\n",
    "        if method is 'dfa':\n",
    "            DFs[idx] = compute_DF(data_walk, win_len=win_len, deg=deg)\n",
    "        elif method is 'rs':\n",
    "            DFs[idx] = compute_RS(data_walk, win_len=win_len)\n",
    "\n",
    "    # get DFA exponent\n",
    "    alpha = np.polyfit(np.log10(t_scales), np.log10(DFs), deg=1)[0]\n",
    "    return t_scales, DFs, alpha\n",
    "\n",
    "\n",
    "def compute_RS(data, win_len):\n",
    "    \"\"\"Compute rescaled range of a given time-series at a given scale.\n",
    "    \n",
    "    Parameters\n",
    "    ----------\n",
    "    data : array, 1-D\n",
    "        Data to compute R/S over.\n",
    "    win_len : int\n",
    "        Window length for each R/S computation.\n",
    "        \n",
    "    Returns\n",
    "    -------\n",
    "    x : float\n",
    "        Mean R/S over all sub-windows of data.\n",
    "    \"\"\"\n",
    "    \n",
    "    # gather all windows\n",
    "    n_win = int(np.floor(len(data) / win_len))\n",
    "    # vectorize the data so we can call math functions in one go\n",
    "    Z_rect = np.reshape(data[:n_win * win_len], (n_win, win_len)).T\n",
    "    # get back the data by taking the derivative of data_walk\n",
    "    X = np.concatenate((data[:1],np.diff(data)))\n",
    "    X_rect = np.reshape(X[:n_win * win_len], (n_win, win_len)).T\n",
    "\n",
    "    RS_seg = np.ptp(Z_rect, axis=0)/np.std(X_rect, axis=0)\n",
    "    return np.mean(RS_seg)\n",
    "\n",
    "\n",
    "def compute_DF(data, win_len, deg=1):\n",
    "    \"\"\" Compute detrended fluctuation of the data at the given window length.\n",
    "    \n",
    "    Parameters\n",
    "    ----------\n",
    "    data : array, 1-D\n",
    "        Data to compute DFA over.\n",
    "    win_len : int\n",
    "        Window length for each DF fit.\n",
    "    deg : int (default=1)\n",
    "        Polynomial degree for detrending.\n",
    "        \n",
    "    Returns\n",
    "    -------\n",
    "    x : float\n",
    "        mean RMS across fits.\n",
    "    \"\"\"\n",
    "    \n",
    "    # gather all windows\n",
    "    n_win = int(np.floor(len(data) / win_len))\n",
    "    # vectorize the data so we can call np.polyfit in one go\n",
    "    data_rect = np.reshape(data[:n_win * win_len], (n_win, win_len)).T\n",
    "    # fitting\n",
    "    coef, fluc, _, _, _ = np.polyfit(\n",
    "        np.arange(win_len), data_rect, deg=deg, full=True)\n",
    "    # fluc cntains sum of squared error, we want mean RMS across fits\n",
    "    return np.mean((fluc / win_len)**0.5)"
   ]
  },
  {
   "cell_type": "code",
   "execution_count": null,
   "metadata": {},
   "outputs": [],
   "source": []
  }
 ],
 "metadata": {
  "kernelspec": {
   "display_name": "Python 3",
   "language": "python",
   "name": "python3"
  },
  "language_info": {
   "codemirror_mode": {
    "name": "ipython",
    "version": 3
   },
   "file_extension": ".py",
   "mimetype": "text/x-python",
   "name": "python",
   "nbconvert_exporter": "python",
   "pygments_lexer": "ipython3",
   "version": "3.7.3"
  }
 },
 "nbformat": 4,
 "nbformat_minor": 2
}
