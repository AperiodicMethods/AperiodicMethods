{
 "cells": [
  {
   "cell_type": "markdown",
   "id": "16091c3a",
   "metadata": {},
   "source": [
    "# Profiling Methods\n",
    "\n",
    "In some cases, multiple implementations are available for the same methods. \n",
    "\n",
    "In such cases, this notebook does some brief comparisons, to evaluate that the results are approximately equivalent, and to compare the run times.\n",
    "\n",
    "Tools:\n",
    "- neurokit2: https://neuropsychology.github.io/NeuroKit/functions/index.html\n",
    "\n",
    "Notes:\n",
    "- in general, `antropy` seems faster than `neurokit2`"
   ]
  },
  {
   "cell_type": "code",
   "execution_count": 2,
   "id": "7c5c49eb",
   "metadata": {},
   "outputs": [],
   "source": [
    "from pathlib import Path"
   ]
  },
  {
   "cell_type": "code",
   "execution_count": 3,
   "id": "09f51304",
   "metadata": {},
   "outputs": [],
   "source": [
    "# Import custom code\n",
    "import sys\n",
    "sys.path.append(str(Path('..').resolve()))\n",
    "\n",
    "from apm.sim.examples import get_examples\n",
    "\n",
    "from apm.methods import correlation_dimension, higuchi_fd"
   ]
  },
  {
   "cell_type": "markdown",
   "id": "8e28d321",
   "metadata": {},
   "source": [
    "## Example Signals"
   ]
  },
  {
   "cell_type": "code",
   "execution_count": 5,
   "id": "9773e9f6",
   "metadata": {},
   "outputs": [],
   "source": [
    "examples = get_examples()"
   ]
  },
  {
   "cell_type": "code",
   "execution_count": 9,
   "id": "f4e8b999",
   "metadata": {},
   "outputs": [
    {
     "data": {
      "text/plain": [
       "{'powerlaw': array([ 1.0124146 ,  1.08334335,  1.77260599, ..., -0.24966755,\n",
       "        -0.5966916 , -0.55611773]),\n",
       " 'synaptic': array([ 1.52147502,  0.79422632, -0.1245249 , ..., -0.10057574,\n",
       "        -0.80480066, -1.72753588]),\n",
       " 'knee': array([ 0.39348588, -0.58535464, -0.45812311, ...,  0.21635565,\n",
       "        -0.06868171, -0.00128901]),\n",
       " 'oscillation': array([-3.20928469e-17,  3.51700611e-01,  6.81302580e-01, ...,\n",
       "        -9.68095801e-01, -6.81302580e-01, -3.51700611e-01]),\n",
       " 'burst': array([0., 0., 0., ..., 0., 0., 0.]),\n",
       " 'combined': array([ 0.00893916,  0.53463402,  0.4530954 , ..., -0.38734687,\n",
       "         0.39965591,  0.09199135]),\n",
       " 'comb_burst': array([ 0.26516398, -0.00353573,  0.6106945 , ..., -0.04104001,\n",
       "        -0.36394419,  0.46752102]),\n",
       " 'comb_peak': array([ 0.64518004,  0.30250035, -0.71636178, ...,  0.38923652,\n",
       "         1.8637045 ,  0.78530487])}"
      ]
     },
     "execution_count": 9,
     "metadata": {},
     "output_type": "execute_result"
    }
   ],
   "source": [
    "examples"
   ]
  },
  {
   "cell_type": "markdown",
   "id": "1dbe3e5e",
   "metadata": {},
   "source": [
    "### Correlation Dimension"
   ]
  },
  {
   "cell_type": "code",
   "execution_count": 7,
   "id": "d2042c6e",
   "metadata": {},
   "outputs": [],
   "source": [
    "import nolds\n",
    "\n",
    "from neurokit2.complexity import fractal_correlation"
   ]
  },
  {
   "cell_type": "code",
   "execution_count": 10,
   "id": "5e73d077",
   "metadata": {},
   "outputs": [
    {
     "name": "stdout",
     "output_type": "stream",
     "text": [
      "CPU times: user 4.16 s, sys: 516 ms, total: 4.67 s\n",
      "Wall time: 4.71 s\n"
     ]
    },
    {
     "data": {
      "text/plain": [
       "1.951262529272163"
      ]
     },
     "execution_count": 10,
     "metadata": {},
     "output_type": "execute_result"
    }
   ],
   "source": [
    "%%time\n",
    "nolds.corr_dim(examples['powerlaw'], 2)"
   ]
  },
  {
   "cell_type": "code",
   "execution_count": 11,
   "id": "0d03b540",
   "metadata": {},
   "outputs": [
    {
     "name": "stdout",
     "output_type": "stream",
     "text": [
      "CPU times: user 2.36 s, sys: 511 ms, total: 2.87 s\n",
      "Wall time: 2.29 s\n"
     ]
    },
    {
     "data": {
      "text/plain": [
       "(18.15359531166386,\n",
       " {'Dimension': 50,\n",
       "  'Delay': 20,\n",
       "  'Radius': array([0.70634185, 0.72773221, 0.74977033, 0.77247584, 0.79586895,\n",
       "         0.81997048, 0.84480188, 0.87038526, 0.89674338, 0.92389972,\n",
       "         0.95187844, 0.98070445, 1.0104034 , 1.04100174, 1.0725267 ,\n",
       "         1.10500633, 1.13846955, 1.17294615, 1.20846682, 1.24506317,\n",
       "         1.28276777, 1.3216142 , 1.36163702, 1.40287187, 1.44535544,\n",
       "         1.48912555, 1.53422117, 1.58068243, 1.62855069, 1.67786856,\n",
       "         1.72867993, 1.78103005, 1.83496549, 1.89053428, 1.94778587,\n",
       "         2.00677123, 2.06754286, 2.13015485, 2.19466295, 2.26112455,\n",
       "         2.32959884, 2.40014675, 2.47283108, 2.54771654, 2.62486977,\n",
       "         2.70435945, 2.78625635, 2.87063335, 2.95756557, 3.04713037,\n",
       "         3.1394075 , 3.23447908, 3.33242974, 3.43334666, 3.53731969,\n",
       "         3.64444136, 3.75480702, 3.86851492, 3.98566627, 4.10636535,\n",
       "         4.23071959, 4.35883969, 4.49083968, 4.62683707])})"
      ]
     },
     "execution_count": 11,
     "metadata": {},
     "output_type": "execute_result"
    }
   ],
   "source": [
    "%%time\n",
    "fractal_correlation(examples['combined'], delay=20, dimension=50)"
   ]
  },
  {
   "cell_type": "code",
   "execution_count": 12,
   "id": "bfe6e2db",
   "metadata": {},
   "outputs": [
    {
     "name": "stdout",
     "output_type": "stream",
     "text": [
      "CPU times: user 3.05 s, sys: 707 ms, total: 3.75 s\n",
      "Wall time: 3.15 s\n"
     ]
    },
    {
     "data": {
      "text/plain": [
       "1.3253545986927024"
      ]
     },
     "execution_count": 12,
     "metadata": {},
     "output_type": "execute_result"
    }
   ],
   "source": [
    "%%time\n",
    "correlation_dimension(examples['powerlaw'])"
   ]
  },
  {
   "cell_type": "markdown",
   "id": "2fd43077",
   "metadata": {},
   "source": [
    "### Lyapunov Exponent\n",
    "\n",
    "Implementations: NOLDS, Neurokit2"
   ]
  },
  {
   "cell_type": "code",
   "execution_count": 6,
   "id": "014f3e10",
   "metadata": {},
   "outputs": [],
   "source": [
    "import nolds\n",
    "\n",
    "from neurokit2.complexity import complexity_lyapunov"
   ]
  },
  {
   "cell_type": "code",
   "execution_count": 4,
   "id": "59a49a5a",
   "metadata": {},
   "outputs": [
    {
     "name": "stdout",
     "output_type": "stream",
     "text": [
      "CPU times: user 29.2 s, sys: 216 ms, total: 29.5 s\n",
      "Wall time: 29.6 s\n"
     ]
    },
    {
     "data": {
      "text/plain": [
       "array([ 0.13654222,  0.03933731, -0.05720665, -0.23121119], dtype=float32)"
      ]
     },
     "execution_count": 4,
     "metadata": {},
     "output_type": "execute_result"
    }
   ],
   "source": [
    "%%time\n",
    "nolds.lyap_e(SIG_AP)"
   ]
  },
  {
   "cell_type": "code",
   "execution_count": 20,
   "id": "11e6b4e2",
   "metadata": {},
   "outputs": [
    {
     "name": "stderr",
     "output_type": "stream",
     "text": [
      "/Users/tom/opt/anaconda3/envs/apm/lib/python3.9/site-packages/nolds/measures.py:240: RuntimeWarning: signal has very low mean frequency, setting min_tsep = 1875\n",
      "  warnings.warn(msg.format(min_tsep), RuntimeWarning)\n"
     ]
    },
    {
     "name": "stdout",
     "output_type": "stream",
     "text": [
      "CPU times: user 488 ms, sys: 71.8 ms, total: 559 ms\n",
      "Wall time: 560 ms\n"
     ]
    },
    {
     "data": {
      "text/plain": [
       "0.008188216617355913"
      ]
     },
     "execution_count": 20,
     "metadata": {},
     "output_type": "execute_result"
    }
   ],
   "source": [
    "%%time\n",
    "nolds.lyap_r(SIG_AP)"
   ]
  },
  {
   "cell_type": "code",
   "execution_count": 8,
   "id": "898852e4",
   "metadata": {},
   "outputs": [],
   "source": [
    "SIG_AP = SIG_AP[:7500]"
   ]
  },
  {
   "cell_type": "code",
   "execution_count": 9,
   "id": "e62e9228",
   "metadata": {},
   "outputs": [
    {
     "name": "stdout",
     "output_type": "stream",
     "text": [
      "CPU times: user 1.08 s, sys: 422 ms, total: 1.5 s\n",
      "Wall time: 885 ms\n"
     ]
    },
    {
     "data": {
      "text/plain": [
       "(0.09682397563239271,\n",
       " {'Dimension': 2,\n",
       "  'Delay': 1,\n",
       "  'Separation': 55,\n",
       "  'Method': 'rosenstein1993',\n",
       "  'Trajectory_Length': 20})"
      ]
     },
     "execution_count": 9,
     "metadata": {},
     "output_type": "execute_result"
    }
   ],
   "source": [
    "%%time\n",
    "complexity_lyapunov(SIG_AP)"
   ]
  },
  {
   "cell_type": "markdown",
   "id": "5bf41348",
   "metadata": {},
   "source": [
    "## Multiscale Entropy"
   ]
  },
  {
   "cell_type": "code",
   "execution_count": null,
   "id": "f7238075",
   "metadata": {},
   "outputs": [],
   "source": [
    "%%time\n",
    "entropy_multiscale(SIG_AP, method='MSEn')"
   ]
  },
  {
   "cell_type": "code",
   "execution_count": null,
   "id": "7d19960d",
   "metadata": {},
   "outputs": [],
   "source": [
    "%%timeit\n",
    "entropy_multiscale(SIG_AP, method='MSApEn')"
   ]
  },
  {
   "cell_type": "code",
   "execution_count": null,
   "id": "9a855344",
   "metadata": {},
   "outputs": [],
   "source": [
    "%%timeit\n",
    "entropy_multiscale(SIG_AP, method='MSPEn')"
   ]
  },
  {
   "cell_type": "code",
   "execution_count": null,
   "id": "1399082e",
   "metadata": {},
   "outputs": [],
   "source": [
    "%%timeit\n",
    "entropy_multiscale(SIG_AP, method='MSWPEn')"
   ]
  },
  {
   "cell_type": "code",
   "execution_count": null,
   "id": "030a6f96",
   "metadata": {},
   "outputs": [],
   "source": []
  },
  {
   "cell_type": "code",
   "execution_count": null,
   "id": "085c786f",
   "metadata": {},
   "outputs": [],
   "source": [
    "# %%time\n",
    "# # # Note: extremely slow - ~20 minutes for one evaluation\n",
    "# entropy_multiscale(SIG_AP, method='CMSEn')"
   ]
  },
  {
   "cell_type": "code",
   "execution_count": null,
   "id": "d9abd978",
   "metadata": {},
   "outputs": [],
   "source": [
    "# %%time \n",
    "# # Note: very slow - ~5 minutes for one evaluation\n",
    "# entropy_multiscale(SIG_AP, method='MMSEn')"
   ]
  }
 ],
 "metadata": {
  "kernelspec": {
   "display_name": "Python 3 (ipykernel)",
   "language": "python",
   "name": "python3"
  },
  "language_info": {
   "codemirror_mode": {
    "name": "ipython",
    "version": 3
   },
   "file_extension": ".py",
   "mimetype": "text/x-python",
   "name": "python",
   "nbconvert_exporter": "python",
   "pygments_lexer": "ipython3",
   "version": "3.9.17"
  }
 },
 "nbformat": 4,
 "nbformat_minor": 5
}
