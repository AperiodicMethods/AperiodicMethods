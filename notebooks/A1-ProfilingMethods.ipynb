{
 "cells": [
  {
   "cell_type": "markdown",
   "id": "16091c3a",
   "metadata": {},
   "source": [
    "# Profiling Methods\n",
    "\n",
    "In some cases, multiple implementations are available for the same methods. \n",
    "\n",
    "In such cases, this notebook does some brief comparisons, to evaluate that the results are approximately equivalent, and to compare the run times.\n",
    "\n",
    "Tools:\n",
    "- neurokit2: https://neuropsychology.github.io/NeuroKit/functions/index.html\n",
    "\n",
    "Notes:\n",
    "- in general, `antropy` seems faster than `neurokit2`"
   ]
  },
  {
   "cell_type": "code",
   "execution_count": null,
   "id": "581f3f37",
   "metadata": {},
   "outputs": [],
   "source": []
  },
  {
   "cell_type": "code",
   "execution_count": null,
   "id": "09f51304",
   "metadata": {},
   "outputs": [],
   "source": [
    "from apm.sim.examples import SIG_AP"
   ]
  },
  {
   "cell_type": "code",
   "execution_count": null,
   "id": "fa3f7bfa",
   "metadata": {},
   "outputs": [],
   "source": []
  },
  {
   "cell_type": "code",
   "execution_count": null,
   "id": "d7e3f1e6",
   "metadata": {},
   "outputs": [],
   "source": []
  },
  {
   "cell_type": "markdown",
   "id": "2fd43077",
   "metadata": {},
   "source": [
    "### NOLDS / Lyapunov"
   ]
  },
  {
   "cell_type": "code",
   "execution_count": 2,
   "id": "014f3e10",
   "metadata": {},
   "outputs": [],
   "source": [
    "import nolds\n",
    "\n",
    "from neurokit2.complexity import complexity_lyapunov"
   ]
  },
  {
   "cell_type": "code",
   "execution_count": null,
   "id": "59a49a5a",
   "metadata": {},
   "outputs": [],
   "source": [
    "%%time\n",
    "nolds.lyap_e(SIG_AP)"
   ]
  },
  {
   "cell_type": "code",
   "execution_count": null,
   "id": "11e6b4e2",
   "metadata": {},
   "outputs": [],
   "source": [
    "%%time\n",
    "nolds.lyap_r(SIG_AP)"
   ]
  },
  {
   "cell_type": "code",
   "execution_count": null,
   "id": "e62e9228",
   "metadata": {},
   "outputs": [],
   "source": [
    "%%time\n",
    "complexity_lyapunov(SIG_AP)"
   ]
  },
  {
   "cell_type": "code",
   "execution_count": null,
   "id": "e56740ae",
   "metadata": {},
   "outputs": [],
   "source": []
  },
  {
   "cell_type": "code",
   "execution_count": null,
   "id": "6d11c531",
   "metadata": {},
   "outputs": [],
   "source": [
    "## Multiscale Entropy"
   ]
  },
  {
   "cell_type": "code",
   "execution_count": null,
   "id": "f7238075",
   "metadata": {},
   "outputs": [],
   "source": [
    "%%time\n",
    "entropy_multiscale(SIG_AP, method='MSEn')"
   ]
  },
  {
   "cell_type": "code",
   "execution_count": null,
   "id": "7d19960d",
   "metadata": {},
   "outputs": [],
   "source": [
    "%%timeit\n",
    "entropy_multiscale(SIG_AP, method='MSApEn')"
   ]
  },
  {
   "cell_type": "code",
   "execution_count": null,
   "id": "9a855344",
   "metadata": {},
   "outputs": [],
   "source": [
    "%%timeit\n",
    "entropy_multiscale(SIG_AP, method='MSPEn')"
   ]
  },
  {
   "cell_type": "code",
   "execution_count": null,
   "id": "1399082e",
   "metadata": {},
   "outputs": [],
   "source": [
    "%%timeit\n",
    "entropy_multiscale(SIG_AP, method='MSWPEn')"
   ]
  },
  {
   "cell_type": "code",
   "execution_count": null,
   "id": "1516b54d",
   "metadata": {},
   "outputs": [],
   "source": []
  },
  {
   "cell_type": "code",
   "execution_count": null,
   "id": "030a6f96",
   "metadata": {},
   "outputs": [],
   "source": []
  },
  {
   "cell_type": "code",
   "execution_count": null,
   "id": "085c786f",
   "metadata": {},
   "outputs": [],
   "source": [
    "# %%time\n",
    "# # # Note: extremely slow - ~20 minutes for one evaluation\n",
    "# entropy_multiscale(SIG_AP, method='CMSEn')"
   ]
  },
  {
   "cell_type": "code",
   "execution_count": null,
   "id": "d9abd978",
   "metadata": {},
   "outputs": [],
   "source": [
    "# %%time \n",
    "# # Note: very slow - ~5 minutes for one evaluation\n",
    "# entropy_multiscale(SIG_AP, method='MMSEn')"
   ]
  }
 ],
 "metadata": {
  "kernelspec": {
   "display_name": "Python 3 (ipykernel)",
   "language": "python",
   "name": "python3"
  },
  "language_info": {
   "codemirror_mode": {
    "name": "ipython",
    "version": 3
   },
   "file_extension": ".py",
   "mimetype": "text/x-python",
   "name": "python",
   "nbconvert_exporter": "python",
   "pygments_lexer": "ipython3",
   "version": "3.9.17"
  }
 },
 "nbformat": 4,
 "nbformat_minor": 5
}
