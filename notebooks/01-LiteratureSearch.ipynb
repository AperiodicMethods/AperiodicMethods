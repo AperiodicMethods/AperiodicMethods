{
 "cells": [
  {
   "cell_type": "markdown",
   "metadata": {},
   "source": [
    "# Literature Search\n",
    "\n",
    "Here we will explore the prevalence of different measures of aperiodic activity in the literature.\n",
    "\n",
    "To do so, we will use [LISC](https://github.com/lisc-tools/lisc), a Python module for collecting and analyzing scientific literature. More information on LISC can be found in the [documentation](https://lisc-tools.github.io/lisc/).\n",
    "\n",
    "To explore the prevalence and use cases of aperiodic measures, we will collect information from the Pubmed database on the number of papers that include search terms mentioning aperiodic activity and measures, as well as the number of papers that mention these terms of interest in co-occurrence with specified association terms.\n",
    "\n",
    "Note that collecting literature data in this way is likely an under-estimate of the use of these measures, as the approach employed here only searches for search terms occurring in abstracts."
   ]
  },
  {
   "cell_type": "code",
   "execution_count": 1,
   "metadata": {},
   "outputs": [],
   "source": [
    "import numpy as np\n",
    "import matplotlib.pyplot as plt"
   ]
  },
  {
   "cell_type": "code",
   "execution_count": 2,
   "metadata": {},
   "outputs": [],
   "source": [
    "# Import LISC code\n",
    "from lisc import Counts\n",
    "from lisc.utils import save_object, load_object\n",
    "from lisc.plts.counts import plot_matrix, plot_vector"
   ]
  },
  {
   "cell_type": "code",
   "execution_count": 3,
   "metadata": {},
   "outputs": [],
   "source": [
    "# # Import custom code\n",
    "# import sys; from pathlib import Path\n",
    "# sys.path.append(str(Path('..').resolve()))\n",
    "# from apm.core.db import APMDB"
   ]
  },
  {
   "cell_type": "code",
   "execution_count": 4,
   "metadata": {},
   "outputs": [],
   "source": [
    "import seaborn as sns\n",
    "sns.set_context('talk')"
   ]
  },
  {
   "cell_type": "markdown",
   "metadata": {},
   "source": [
    "## Settings\n",
    "\n",
    "First, we will define some settings for the literature collection."
   ]
  },
  {
   "cell_type": "code",
   "execution_count": 5,
   "metadata": {},
   "outputs": [],
   "source": [
    "# Settings for literature collection\n",
    "db = 'pubmed'\n",
    "#db = 'pmc'"
   ]
  },
  {
   "cell_type": "code",
   "execution_count": 6,
   "metadata": {},
   "outputs": [],
   "source": [
    "# Notebook settings\n",
    "RUN_COLLECTION = True\n",
    "SAVE_FIG = False\n",
    "SAVE_DATA = False"
   ]
  },
  {
   "cell_type": "markdown",
   "metadata": {},
   "source": [
    "## Define Terms\n",
    "\n",
    "Here we will define search terms to use to collect information on the literature of interest. "
   ]
  },
  {
   "cell_type": "markdown",
   "metadata": {},
   "source": [
    "### Search Terms\n",
    "\n",
    "First, we will define the search terms that reflect our terms of interest.\n",
    "\n",
    "Note that each set of terms within a list is a defined as a set of synonyms"
   ]
  },
  {
   "cell_type": "code",
   "execution_count": 7,
   "metadata": {},
   "outputs": [],
   "source": [
    "# Set list of aperiodic terms\n",
    "ap_terms = [['1/f', 'aperiodic'],\n",
    "            ['entropy'],\n",
    "            ['autocorrelation'],\n",
    "            ['fractal', 'scale free'],\n",
    "            ['criticality'],\n",
    "            ['dfa', 'detrended fluctuation analysis'],\n",
    "           ]\n",
    "\n",
    "# # Set list of aperiodic methods\n",
    "# ap_methods = [['spectral parameterization', 'fooof'], \n",
    "#               ['irasa', 'cgsa'],\n",
    "#               ['fractal exponent', 'higuchi', 'katz', 'petrosian'], \n",
    "#               ['entropy']\n",
    "#              ]"
   ]
  },
  {
   "cell_type": "markdown",
   "metadata": {},
   "source": [
    "### Inclusion / Exclusion Terms\n",
    "\n",
    "In some cases, we might want to use additional search terms to explicit include or exclude results that contain particular terms. \n",
    "\n",
    "These terms can be used to restrict searches to literature of interest, excluding irrelevant literature. "
   ]
  },
  {
   "cell_type": "code",
   "execution_count": 8,
   "metadata": {},
   "outputs": [],
   "source": [
    "# Set inclusion / exclusion terms\n",
    "inclusions = ['EEG', 'electroencephalography', 'MEG', 'magnetoencephalography', \n",
    "              'ECoG', 'electrocorticography', 'iEEG', 'intracranial EEG',\n",
    "              'LFP', 'local field potential']\n",
    "ap_inclusions = [inclusions] * len(ap_terms)"
   ]
  },
  {
   "cell_type": "code",
   "execution_count": 9,
   "metadata": {},
   "outputs": [],
   "source": [
    "# Define a list of association terms\n",
    "assoc_terms = [['aging', 'development'],\n",
    "               ['cognitive', 'cognition', 'task', 'behavior'],\n",
    "               ['sleep', 'anesthesia'],\n",
    "               ['clinical', 'disease', 'disorder']\n",
    "              ]"
   ]
  },
  {
   "cell_type": "markdown",
   "metadata": {},
   "source": [
    "## Add & Check Terms\n",
    "\n",
    "Now we can add these terms to LISC objects, ready for data collection. "
   ]
  },
  {
   "cell_type": "code",
   "execution_count": 10,
   "metadata": {},
   "outputs": [],
   "source": [
    "# Initialize counts object\n",
    "counts = Counts()"
   ]
  },
  {
   "cell_type": "code",
   "execution_count": 11,
   "metadata": {},
   "outputs": [],
   "source": [
    "# Add terms to the LISC object\n",
    "counts.add_terms(ap_terms)\n",
    "counts.add_terms(ap_inclusions, term_type='inclusions')\n",
    "counts.add_terms(assoc_terms, dim='B')"
   ]
  },
  {
   "cell_type": "code",
   "execution_count": 12,
   "metadata": {},
   "outputs": [
    {
     "name": "stdout",
     "output_type": "stream",
     "text": [
      "List of terms used: \n",
      "\n",
      "1/f              : 1/f, aperiodic\n",
      "entropy          : entropy\n",
      "autocorrelation  : autocorrelation\n",
      "fractal          : fractal, scale free\n",
      "criticality      : criticality\n",
      "dfa              : dfa, detrended fluctuation analysis\n"
     ]
    }
   ],
   "source": [
    "# Check terms\n",
    "counts.terms['A'].check_terms()"
   ]
  },
  {
   "cell_type": "code",
   "execution_count": 13,
   "metadata": {},
   "outputs": [
    {
     "name": "stdout",
     "output_type": "stream",
     "text": [
      "List of terms used: \n",
      "\n",
      "aging      : aging, development\n",
      "cognitive  : cognitive, cognition, task, behavior\n",
      "sleep      : sleep, anesthesia\n",
      "clinical   : clinical, disease, disorder\n"
     ]
    }
   ],
   "source": [
    "# Check terms\n",
    "counts.terms['B'].check_terms()"
   ]
  },
  {
   "cell_type": "markdown",
   "metadata": {},
   "source": [
    "## Collect Literature Data\n",
    "\n",
    "Run literature collection. "
   ]
  },
  {
   "cell_type": "code",
   "execution_count": 14,
   "metadata": {},
   "outputs": [
    {
     "name": "stderr",
     "output_type": "stream",
     "text": [
      "/Users/tom/opt/anaconda3/envs/apm/lib/python3.9/site-packages/bs4/builder/__init__.py:545: XMLParsedAsHTMLWarning: It looks like you're parsing an XML document using an HTML parser. If this really is an HTML document (maybe it's XHTML?), you can ignore or filter this warning. If it's XML, you should know that using an XML parser will be more reliable. To parse this document as XML, make sure you have the lxml package installed, and pass the keyword argument `features=\"xml\"` into the BeautifulSoup constructor.\n",
      "  warnings.warn(\n"
     ]
    }
   ],
   "source": [
    "# Run the data collection\n",
    "if RUN_COLLECTION:\n",
    "    counts.run_collection(db=db)\n",
    "else:\n",
    "    counts = load_object('aps_counts.p', directory=dp.literature)"
   ]
  },
  {
   "cell_type": "markdown",
   "metadata": {},
   "source": [
    "## Check and Process Collected Data\n",
    "\n",
    "Now we can examine the collected literature data."
   ]
  },
  {
   "cell_type": "code",
   "execution_count": 15,
   "metadata": {},
   "outputs": [
    {
     "name": "stdout",
     "output_type": "stream",
     "text": [
      "The number of documents found for each search term is:\n",
      "  '1/f'               -    331\n",
      "  'entropy'           -   1972\n",
      "  'autocorrelation'   -    162\n",
      "  'fractal'           -    502\n",
      "  'criticality'       -    107\n",
      "  'dfa'               -    171\n"
     ]
    }
   ],
   "source": [
    "# Check how many papers were found for each ratio search term\n",
    "counts.check_counts()"
   ]
  },
  {
   "cell_type": "code",
   "execution_count": 16,
   "metadata": {},
   "outputs": [
    {
     "name": "stdout",
     "output_type": "stream",
     "text": [
      "Total number of aperiodic measure papers is: \t 3245\n"
     ]
    }
   ],
   "source": [
    "# Check the total number of papers across all ratio terms\n",
    "n_total = sum(counts.terms['A'].counts)\n",
    "print('Total number of aperiodic measure papers is: \\t', n_total)"
   ]
  },
  {
   "cell_type": "code",
   "execution_count": 17,
   "metadata": {},
   "outputs": [],
   "source": [
    "# Normalize the association results\n",
    "counts.compute_score('normalize', dim='A')"
   ]
  },
  {
   "cell_type": "markdown",
   "metadata": {},
   "source": [
    "## Create Visualizations of Collected Data"
   ]
  },
  {
   "cell_type": "code",
   "execution_count": 18,
   "metadata": {},
   "outputs": [],
   "source": [
    "# Set adapted versions of the labels to use for plots\n",
    "#ap_labels = ['specparam', 'irasa', 'entropy', 'ac', 'f-exp', 'dfa']\n",
    "#assoc_labels = ['aging', 'cognition', 'state', 'clinical']\n",
    "\n",
    "ap_labels = counts.terms['A'].labels\n",
    "assoc_labels = counts.terms['B'].labels"
   ]
  },
  {
   "cell_type": "code",
   "execution_count": 19,
   "metadata": {},
   "outputs": [
    {
     "data": {
      "image/png": "[encoded data removed]",
      "text/plain": [
       "<Figure size 1000x800 with 2 Axes>"
      ]
     },
     "metadata": {},
     "output_type": "display_data"
    }
   ],
   "source": [
    "# Plot the associations of aperiodic measures in the literature\n",
    "fig, ax = plt.subplots(figsize=(10, 8))\n",
    "plot_matrix(counts.score, assoc_labels, ap_labels, cmap='blue', square=True, ax=ax)\n",
    "plt.xticks(rotation=45, horizontalalignment='right');\n",
    "if SAVE_FIG: plt.savefig(fp.make_file_path(fp.literature, 'AP-Associations', 'pdf'))"
   ]
  },
  {
   "cell_type": "code",
   "execution_count": 20,
   "metadata": {},
   "outputs": [
    {
     "data": {
      "image/png": "[encoded data removed]",
      "text/plain": [
       "<Figure size 250x750 with 1 Axes>"
      ]
     },
     "metadata": {},
     "output_type": "display_data"
    }
   ],
   "source": [
    "# Plot the number of papers found per ratio measure\n",
    "plot_vector(counts, cmap='blue', figsize=(2.5, 7.5))\n",
    "if SAVE_FIG: plt.savefig(fp.make_file_path(fp.literature, 'AP-Counts', 'pdf'))"
   ]
  },
  {
   "cell_type": "code",
   "execution_count": 21,
   "metadata": {},
   "outputs": [],
   "source": [
    "# Save out the collected data\n",
    "#if SAVE_DATA:\n",
    "#    save_object(counts, 'aps_counts', directory=dp.literature)"
   ]
  }
 ],
 "metadata": {
  "kernelspec": {
   "display_name": "Python 3 (ipykernel)",
   "language": "python",
   "name": "python3"
  },
  "language_info": {
   "codemirror_mode": {
    "name": "ipython",
    "version": 3
   },
   "file_extension": ".py",
   "mimetype": "text/x-python",
   "name": "python",
   "nbconvert_exporter": "python",
   "pygments_lexer": "ipython3",
   "version": "3.9.17"
  }
 },
 "nbformat": 4,
 "nbformat_minor": 4
}
