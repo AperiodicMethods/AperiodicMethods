{
 "cells": [
  {
   "cell_type": "markdown",
   "metadata": {},
   "source": [
    "# Data Comparisons\n",
    "\n",
    "This section applies and compares methods on empirical datasets."
   ]
  },
  {
   "cell_type": "markdown",
   "metadata": {},
   "source": [
    "## Overview\n",
    "\n",
    "In the previous sections, we have used simulated data to investigate properties of the aperiodic methods. While simulated data has the benefit of knowing ground truth parameters and systematically exploring variations in isolated parameters, simulation tests are limited in so far as there is no guarantee that reflect the realities of empirical data. \n",
    "\n",
    "In this section, we compare the methods on empirical data, to examine how they relate to each other in real data cases. "
   ]
  },
  {
   "cell_type": "markdown",
   "metadata": {},
   "source": [
    "## Contents\n",
    "\n",
    "The following analyses and comparisons are applied to empirical datasets:\n",
    "\n",
    "- `51-RestingEEGData`: analyzing a small sample of resting state EEG data\n",
    "    - A small dataset of resting state EEG data collected in the VoytekLab\n",
    "    - Young adult subjects (n=29, ages 18-28), with eyes-closed resting data\n",
    "- `52-DevelopmentalEEGData`:  analyzing a large EEG dataset of developmental data\n",
    "    - The MIPDB dataset, from the ChildMind Institute\n",
    "    - Cross-sectional developmental data (n=126, ages 6-44), with eyes-open & eyes-closed resting data\n",
    "- `53-iEEGData`: analyzing a large dataset of intracranial EEG data\n",
    "    - The open iEEG Atlas, from the MNI\n",
    "    - Clinical iEEG data, cortical electrodes (n=106, average age: 33)"
   ]
  },
  {
   "cell_type": "markdown",
   "metadata": {},
   "source": [
    "## Applied Methods\n",
    "\n",
    "The following methods are applied to the empirical datasets:\n",
    "- SpecParam\n",
    "- IRASA\n",
    "- AutoCorrelation Decay Time\n",
    "- DFA\n",
    "- Higuchi Fractal Dimension\n",
    "- Lempel-Ziv Complexity\n",
    "- Hjorth Complexity\n",
    "- Sample Entropy\n",
    "- Permutation Entropy"
   ]
  },
  {
   "cell_type": "markdown",
   "metadata": {},
   "source": [
    "## Code Approach\n",
    "\n",
    "The general following strategy is taken:\n",
    "- data files are loaded and organized\n",
    "- measures of interest are computed on the empirical data\n",
    "- results of the measures are compared to each other\n",
    "\n",
    "The overarching function used to compute measures on data is the `run_measures` function.\n",
    "\n",
    "This function allows for:\n",
    "- taking a collection of data and a list of methods\n",
    "- applying each measure across the data\n",
    "- returning the collection of results"
   ]
  },
  {
   "cell_type": "code",
   "execution_count": 1,
   "metadata": {},
   "outputs": [],
   "source": [
    "import numpy as np\n",
    "\n",
    "from neurodsp.sim import sim_powerlaw"
   ]
  },
  {
   "cell_type": "code",
   "execution_count": 2,
   "metadata": {},
   "outputs": [],
   "source": [
    "# Import the `run_measures` function from the custom code folder\n",
    "import sys; from pathlib import Path\n",
    "sys.path.append(str(Path('..').resolve()))\n",
    "\n",
    "from apm.run import run_measures\n",
    "from apm.analysis import compute_all_corrs\n",
    "from apm.plts import plot_dots\n",
    "from apm.sim.settings import N_SECONDS, FS\n",
    "from apm.utils import format_corr"
   ]
  },
  {
   "cell_type": "code",
   "execution_count": 3,
   "metadata": {},
   "outputs": [
    {
     "name": "stdout",
     "output_type": "stream",
     "text": [
      "Compute multiple measures on empirical recordings - 2D array input.\n",
      "\n",
      "    Parameters\n",
      "    ----------\n",
      "    data : 2d array\n",
      "        Data to run measures on, organized as [channels, timepoints].\n",
      "    measures : dict\n",
      "        Functions to apply to the data.\n",
      "        The keys should be functions to apply to the data.\n",
      "        The values should be a dictionary of parameters to use for the method.\n",
      "\n",
      "    Returns\n",
      "    -------\n",
      "    results : dict\n",
      "        Output measures.\n",
      "        The keys are labels for each applied method.\n",
      "        The values are the computed measures for each method.\n",
      "    \n"
     ]
    }
   ],
   "source": [
    "# Check the documentation for `run_measures`\n",
    "print(run_measures.__doc__)"
   ]
  },
  {
   "cell_type": "markdown",
   "metadata": {},
   "source": [
    "Next, we can run an example of using `run_measures`.\n",
    "\n",
    "To do so, we will define an example analysis to apply some measures of interest (here, computing the mean and the variance). To mimic a real dataset, we will use some of the example simulated time series."
   ]
  },
  {
   "cell_type": "code",
   "execution_count": 4,
   "metadata": {},
   "outputs": [],
   "source": [
    "# Collect together an array of mock data\n",
    "data = np.array([sim_powerlaw(N_SECONDS, FS, -1) for ind in range(10)])"
   ]
  },
  {
   "cell_type": "code",
   "execution_count": 5,
   "metadata": {},
   "outputs": [],
   "source": [
    "# Define measures to apply\n",
    "measures = {\n",
    "     np.mean : {},\n",
    "     np.median : {},\n",
    "}"
   ]
  },
  {
   "cell_type": "code",
   "execution_count": 6,
   "metadata": {},
   "outputs": [],
   "source": [
    "# Run measures across the data\n",
    "results = run_measures(data, measures)"
   ]
  },
  {
   "cell_type": "code",
   "execution_count": 7,
   "metadata": {},
   "outputs": [
    {
     "data": {
      "text/plain": [
       "{'mean': array([ 0.00000000e+00, -2.65269288e-17,  0.00000000e+00,  0.00000000e+00,\n",
       "         1.51582450e-17,  1.51582450e-17,  1.51582450e-17,  0.00000000e+00,\n",
       "         7.57912251e-18,  3.03164901e-17]),\n",
       " 'median': array([ 0.01890211, -0.00759464,  0.03440168,  0.00606565, -0.00689519,\n",
       "        -0.01193724, -0.0278024 ,  0.02610007, -0.00959942,  0.01106758])}"
      ]
     },
     "execution_count": 7,
     "metadata": {},
     "output_type": "execute_result"
    }
   ],
   "source": [
    "# Check output values of computed measures\n",
    "results"
   ]
  },
  {
   "cell_type": "code",
   "execution_count": 8,
   "metadata": {},
   "outputs": [],
   "source": [
    "# Compute correlations across all pairs of methods\n",
    "all_corrs = compute_all_corrs(results)"
   ]
  },
  {
   "cell_type": "markdown",
   "metadata": {},
   "source": [
    "## Examine Results"
   ]
  },
  {
   "cell_type": "code",
   "execution_count": 9,
   "metadata": {},
   "outputs": [
    {
     "data": {
      "image/png": "[encoded data removed]",
      "text/plain": [
       "<Figure size 640x480 with 1 Axes>"
      ]
     },
     "metadata": {},
     "output_type": "display_data"
    }
   ],
   "source": [
    "# Plot the comparison different measure estimations\n",
    "plot_dots(results['mean'], results['median'], xlabel='Mean', ylabel='Median')"
   ]
  },
  {
   "cell_type": "code",
   "execution_count": 10,
   "metadata": {},
   "outputs": [
    {
     "name": "stdout",
     "output_type": "stream",
     "text": [
      "Mean & Median:   r=-0.393  CI[-0.889, +0.357],  p=0.262\n"
     ]
    }
   ],
   "source": [
    "# Check the correlation\n",
    "print('Mean & Median:  ', format_corr(*all_corrs['mean']['median']))"
   ]
  }
 ],
 "metadata": {
  "kernelspec": {
   "display_name": "Python 3 (ipykernel)",
   "language": "python",
   "name": "python3"
  },
  "language_info": {
   "codemirror_mode": {
    "name": "ipython",
    "version": 3
   },
   "file_extension": ".py",
   "mimetype": "text/x-python",
   "name": "python",
   "nbconvert_exporter": "python",
   "pygments_lexer": "ipython3",
   "version": "3.9.17"
  }
 },
 "nbformat": 4,
 "nbformat_minor": 4
}
