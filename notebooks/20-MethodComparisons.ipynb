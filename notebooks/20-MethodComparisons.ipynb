{
 "cells": [
  {
   "cell_type": "markdown",
   "metadata": {},
   "source": [
    "# Method Comparisons\n",
    "\n",
    "This section directly compares between the different methods, using simulated data. "
   ]
  },
  {
   "cell_type": "markdown",
   "metadata": {},
   "source": [
    "## Overview\n",
    "\n",
    "A key question for interpreting prior work is to consider how the different employed methods relate to each other. To investigate this, this section simulates datasets, and applies different methods to compare their results.\n",
    "\n",
    "In this section, the main question is the evaluate the relationship between different methods across parameters variations, to evaluate which methods are highly correlated (seeming to refelct the same thing), and which appear to provide independent estimations of the data. \n",
    "\n",
    "Note that due to large number of possible comparisons across different methods and different simulated parameters, in this section we necessarily restrict the comparison to a selected subset of methods, that are compared pairwise. "
   ]
  },
  {
   "cell_type": "markdown",
   "metadata": {},
   "source": [
    "## Contents\n",
    "\n",
    "Comparisons between methods are organized into the following groups:\n",
    "- `21-ExponentComparisons` : comparing methods that directly estimate the aperiodic exponent\n",
    "    - Comparisons between: specparam & IRASA\n",
    "- `22-TimeDomainComparisons` : comparing time domain methods to each other\n",
    "    - Comparisons between: fluctuation, complexity, and information measures\n",
    "- `23-ExponentvsTimeDomain` : comparing exponent and time domain methods\n",
    "    - Comparisons between: specparam and fluctuation, complexity, and information measures "
   ]
  },
  {
   "cell_type": "markdown",
   "metadata": {},
   "source": [
    "## Simulations\n",
    "\n",
    "In this section, we will use simulated data to compare methods. \n",
    "\n",
    "#### Combined signals\n",
    "\n",
    "Calculate measures on simulated signals, across variations of aperiodic parameters in combined signals."
   ]
  },
  {
   "cell_type": "markdown",
   "metadata": {},
   "source": [
    "## Code Approach\n",
    "\n",
    "Here, we will briefly introduce the general strategy and code used to run the simulations. "
   ]
  },
  {
   "cell_type": "markdown",
   "metadata": {},
   "source": [
    "### run_comparisons\n",
    "\n",
    "The overarching function used to run simulation comparisons is the `run_comparisons` function.\n",
    "\n",
    "This approach allows for:\n",
    "- defining a procedure to simulate time series\n",
    "- defining a set of measures to apply to the simulated time series\n",
    "- applying the set of measures across simulated instances, sampling from parameter ranges"
   ]
  },
  {
   "cell_type": "code",
   "execution_count": 1,
   "metadata": {},
   "outputs": [],
   "source": [
    "# Import the `run_comparisons` function from the custom code folder\n",
    "import sys; from pathlib import Path\n",
    "sys.path.append(str(Path('..').resolve()))\n",
    "from apm.run import run_comparisons, compute_all_corrs\n",
    "from apm.plts import plot_dots\n",
    "from apm.plts.settings import COLORS"
   ]
  },
  {
   "cell_type": "code",
   "execution_count": 2,
   "metadata": {},
   "outputs": [
    {
     "name": "stdout",
     "output_type": "stream",
     "text": [
      "Compute multiple measures of interest across the same set of simulations.\n",
      "\n",
      "    Parameters\n",
      "    ----------\n",
      "    sim_func : callable\n",
      "        A function to create simulated time series.\n",
      "    sim_params : dict\n",
      "        Input arguments for `sim_func`.\n",
      "    measures : dict\n",
      "        Functions to apply to the simulated data.\n",
      "        The keys should be functions to apply to the data.\n",
      "        The values should be a dictionary of parameters to use for the method.\n",
      "    samplers : dict\n",
      "        Information for how to sample across parameters for the simulations.\n",
      "        The keys should be string labels of which parameter to update.\n",
      "        The values should be data ranges to sample for that parameter.\n",
      "    n_sims : int\n",
      "        The number of simulations to run.\n",
      "    return_sim_params : bool, default: False\n",
      "        Whether to collect and return the parameters of all the generated simulations.\n",
      "    verbose : bool, optional, default: False\n",
      "        Whether to print out simulation parameters.\n",
      "        Used for checking simulations / debugging.\n",
      "\n",
      "    Returns\n",
      "    -------\n",
      "    results : dict\n",
      "        Computed results for each measure across the set of simulated data.\n",
      "    all_sim_params : pd.DataFrame\n",
      "        A collected of the simulation parameters.\n",
      "        Only returned if `return_sim_params` is True.\n",
      "    \n"
     ]
    }
   ],
   "source": [
    "# Check the documentation for `run_comparisons`\n",
    "print(run_comparisons.__doc__)"
   ]
  },
  {
   "cell_type": "markdown",
   "metadata": {},
   "source": [
    "Next, we can run an example of using `run_comparisons`.\n",
    "\n",
    "To do so, we will define an example analysis to apply some measures of interest (here, computing the mean and the variance) across samples of simulations of powerlaw data."
   ]
  },
  {
   "cell_type": "code",
   "execution_count": 3,
   "metadata": {},
   "outputs": [],
   "source": [
    "import numpy as np\n",
    "from neurodsp.sim import sim_powerlaw\n",
    "\n",
    "from apm.sim.settings import SIM_PARAMS_AP, SIM_PARAMS_COMB\n",
    "from apm.utils import sampler"
   ]
  },
  {
   "cell_type": "code",
   "execution_count": 4,
   "metadata": {},
   "outputs": [],
   "source": [
    "# Define the measures to apply to the simulated signals\n",
    "measures = {np.var : {}, np.mean : {}}"
   ]
  },
  {
   "cell_type": "markdown",
   "metadata": {},
   "source": [
    "#### Run simulations across variations in exponent"
   ]
  },
  {
   "cell_type": "code",
   "execution_count": 5,
   "metadata": {},
   "outputs": [],
   "source": [
    "# Define how to sample across parameters, and what ranges to use\n",
    "samplers1 = {'update_exp' : sampler(np.arange(-2.5, 0, 0.1))}"
   ]
  },
  {
   "cell_type": "code",
   "execution_count": 6,
   "metadata": {},
   "outputs": [
    {
     "name": "stdout",
     "output_type": "stream",
     "text": [
      "{'n_seconds': 30, 'fs': 500, 'f_range': (0.5, None), 'exponent': -0.8999999999999986}\n",
      "{'n_seconds': 30, 'fs': 500, 'f_range': (0.5, None), 'exponent': -0.9999999999999987}\n",
      "{'n_seconds': 30, 'fs': 500, 'f_range': (0.5, None), 'exponent': -1.7999999999999994}\n"
     ]
    }
   ],
   "source": [
    "# Run comparisons across samples of aperiodic noise\n",
    "results1, all_sim_params1 = run_comparisons(\\\n",
    "    sim_powerlaw, SIM_PARAMS_AP, measures, samplers1, n_sims=3, return_sim_params=True, verbose=True) "
   ]
  },
  {
   "cell_type": "code",
   "execution_count": 7,
   "metadata": {},
   "outputs": [
    {
     "data": {
      "text/html": [
       "<div>\n",
       "<style scoped>\n",
       "    .dataframe tbody tr th:only-of-type {\n",
       "        vertical-align: middle;\n",
       "    }\n",
       "\n",
       "    .dataframe tbody tr th {\n",
       "        vertical-align: top;\n",
       "    }\n",
       "\n",
       "    .dataframe thead th {\n",
       "        text-align: right;\n",
       "    }\n",
       "</style>\n",
       "<table border=\"1\" class=\"dataframe\">\n",
       "  <thead>\n",
       "    <tr style=\"text-align: right;\">\n",
       "      <th></th>\n",
       "      <th>n_seconds</th>\n",
       "      <th>fs</th>\n",
       "      <th>f_range</th>\n",
       "      <th>exponent</th>\n",
       "    </tr>\n",
       "  </thead>\n",
       "  <tbody>\n",
       "    <tr>\n",
       "      <th>0</th>\n",
       "      <td>30</td>\n",
       "      <td>500</td>\n",
       "      <td>(0.5, None)</td>\n",
       "      <td>-0.9</td>\n",
       "    </tr>\n",
       "    <tr>\n",
       "      <th>1</th>\n",
       "      <td>30</td>\n",
       "      <td>500</td>\n",
       "      <td>(0.5, None)</td>\n",
       "      <td>-1.0</td>\n",
       "    </tr>\n",
       "    <tr>\n",
       "      <th>2</th>\n",
       "      <td>30</td>\n",
       "      <td>500</td>\n",
       "      <td>(0.5, None)</td>\n",
       "      <td>-1.8</td>\n",
       "    </tr>\n",
       "  </tbody>\n",
       "</table>\n",
       "</div>"
      ],
      "text/plain": [
       "   n_seconds   fs      f_range  exponent\n",
       "0         30  500  (0.5, None)      -0.9\n",
       "1         30  500  (0.5, None)      -1.0\n",
       "2         30  500  (0.5, None)      -1.8"
      ]
     },
     "execution_count": 7,
     "metadata": {},
     "output_type": "execute_result"
    }
   ],
   "source": [
    "# Check output simulation parameters\n",
    "all_sim_params1"
   ]
  },
  {
   "cell_type": "code",
   "execution_count": 8,
   "metadata": {},
   "outputs": [
    {
     "data": {
      "text/plain": [
       "{'var': array([1., 1., 1.]),\n",
       " 'mean': array([1.65793305e-17, 4.26325641e-18, 3.78956126e-17])}"
      ]
     },
     "execution_count": 8,
     "metadata": {},
     "output_type": "execute_result"
    }
   ],
   "source": [
    "# Check output values of computed measures\n",
    "results1"
   ]
  },
  {
   "cell_type": "code",
   "execution_count": 9,
   "metadata": {},
   "outputs": [
    {
     "name": "stderr",
     "output_type": "stream",
     "text": [
      "/Users/tom/opt/anaconda3/envs/apm/lib/python3.9/site-packages/scipy/stats/_stats_py.py:5445: ConstantInputWarning: An input array is constant; the correlation coefficient is not defined.\n",
      "  warnings.warn(stats.ConstantInputWarning(warn_msg))\n"
     ]
    },
    {
     "data": {
      "text/plain": [
       "{'var': {'mean': (-0.8660254037844387, 0.3333333333333332, (nan, nan))},\n",
       " 'mean': {'var': (-0.8660254037844387, 0.3333333333333332, (nan, nan))}}"
      ]
     },
     "execution_count": 9,
     "metadata": {},
     "output_type": "execute_result"
    }
   ],
   "source": [
    "# Compute the correlations between output measures\n",
    "compute_all_corrs(results1)"
   ]
  },
  {
   "cell_type": "markdown",
   "metadata": {},
   "source": [
    "#### Run simulations across variations in multiple parameters"
   ]
  },
  {
   "cell_type": "code",
   "execution_count": 10,
   "metadata": {},
   "outputs": [],
   "source": [
    "# Define how to sample across parameters, and what ranges to use\n",
    "samplers2 = {'update_comb_exp' : sampler(np.arange(-2.5, 0.1, 0.1)),\n",
    "             'update_pow' : sampler(np.arange(0, 1.1, 0.1), probs = [0.30] + ([0.07] * 10)),\n",
    "             'update_freq' : sampler(np.arange(5, 36, 1))}"
   ]
  },
  {
   "cell_type": "code",
   "execution_count": 11,
   "metadata": {},
   "outputs": [],
   "source": [
    "# Run comparisons across samples of aperiodic noise\n",
    "results2, all_sim_params2 = run_comparisons(\\\n",
    "    sim_powerlaw, SIM_PARAMS_COMB, measures, samplers2, n_sims=25, return_sim_params=True, verbose=False) "
   ]
  },
  {
   "cell_type": "code",
   "execution_count": 12,
   "metadata": {},
   "outputs": [
    {
     "data": {
      "text/html": [
       "<div>\n",
       "<style scoped>\n",
       "    .dataframe tbody tr th:only-of-type {\n",
       "        vertical-align: middle;\n",
       "    }\n",
       "\n",
       "    .dataframe tbody tr th {\n",
       "        vertical-align: top;\n",
       "    }\n",
       "\n",
       "    .dataframe thead th {\n",
       "        text-align: right;\n",
       "    }\n",
       "</style>\n",
       "<table border=\"1\" class=\"dataframe\">\n",
       "  <thead>\n",
       "    <tr style=\"text-align: right;\">\n",
       "      <th></th>\n",
       "      <th>n_seconds</th>\n",
       "      <th>fs</th>\n",
       "      <th>exponent</th>\n",
       "      <th>f_range</th>\n",
       "      <th>freq</th>\n",
       "      <th>var_ap</th>\n",
       "      <th>var_pe</th>\n",
       "    </tr>\n",
       "  </thead>\n",
       "  <tbody>\n",
       "    <tr>\n",
       "      <th>0</th>\n",
       "      <td>30</td>\n",
       "      <td>500</td>\n",
       "      <td>-0.9</td>\n",
       "      <td>(0.5, None)</td>\n",
       "      <td>16</td>\n",
       "      <td>1</td>\n",
       "      <td>1.0</td>\n",
       "    </tr>\n",
       "    <tr>\n",
       "      <th>1</th>\n",
       "      <td>30</td>\n",
       "      <td>500</td>\n",
       "      <td>-1.7</td>\n",
       "      <td>(0.5, None)</td>\n",
       "      <td>5</td>\n",
       "      <td>1</td>\n",
       "      <td>0.8</td>\n",
       "    </tr>\n",
       "    <tr>\n",
       "      <th>2</th>\n",
       "      <td>30</td>\n",
       "      <td>500</td>\n",
       "      <td>-1.2</td>\n",
       "      <td>(0.5, None)</td>\n",
       "      <td>33</td>\n",
       "      <td>1</td>\n",
       "      <td>0.0</td>\n",
       "    </tr>\n",
       "    <tr>\n",
       "      <th>3</th>\n",
       "      <td>30</td>\n",
       "      <td>500</td>\n",
       "      <td>-0.6</td>\n",
       "      <td>(0.5, None)</td>\n",
       "      <td>25</td>\n",
       "      <td>1</td>\n",
       "      <td>0.6</td>\n",
       "    </tr>\n",
       "    <tr>\n",
       "      <th>4</th>\n",
       "      <td>30</td>\n",
       "      <td>500</td>\n",
       "      <td>-2.2</td>\n",
       "      <td>(0.5, None)</td>\n",
       "      <td>13</td>\n",
       "      <td>1</td>\n",
       "      <td>0.0</td>\n",
       "    </tr>\n",
       "  </tbody>\n",
       "</table>\n",
       "</div>"
      ],
      "text/plain": [
       "   n_seconds   fs  exponent      f_range  freq  var_ap  var_pe\n",
       "0         30  500      -0.9  (0.5, None)    16       1     1.0\n",
       "1         30  500      -1.7  (0.5, None)     5       1     0.8\n",
       "2         30  500      -1.2  (0.5, None)    33       1     0.0\n",
       "3         30  500      -0.6  (0.5, None)    25       1     0.6\n",
       "4         30  500      -2.2  (0.5, None)    13       1     0.0"
      ]
     },
     "execution_count": 12,
     "metadata": {},
     "output_type": "execute_result"
    }
   ],
   "source": [
    "# Check output simulation parameters\n",
    "all_sim_params2.head(5)"
   ]
  },
  {
   "cell_type": "code",
   "execution_count": 13,
   "metadata": {},
   "outputs": [
    {
     "data": {
      "text/plain": [
       "{'var': array([1., 1., 1., 1., 1., 1., 1., 1., 1., 1., 1., 1., 1., 1., 1., 1., 1.,\n",
       "        1., 1., 1., 1., 1., 1., 1., 1.]),\n",
       " 'mean': array([ 0.00000000e+00,  0.00000000e+00,  0.00000000e+00,  0.00000000e+00,\n",
       "         0.00000000e+00,  0.00000000e+00,  1.51582450e-17,  1.51582450e-17,\n",
       "        -1.51582450e-17,  0.00000000e+00,  0.00000000e+00,  1.51582450e-17,\n",
       "         0.00000000e+00,  0.00000000e+00,  0.00000000e+00,  0.00000000e+00,\n",
       "         0.00000000e+00,  1.51582450e-17, -3.03164901e-17,  0.00000000e+00,\n",
       "         0.00000000e+00,  0.00000000e+00,  3.03164901e-17,  0.00000000e+00,\n",
       "        -6.06329801e-17])}"
      ]
     },
     "execution_count": 13,
     "metadata": {},
     "output_type": "execute_result"
    }
   ],
   "source": [
    "# Check output values of computed measures\n",
    "results2"
   ]
  },
  {
   "cell_type": "code",
   "execution_count": 14,
   "metadata": {},
   "outputs": [
    {
     "data": {
      "text/plain": [
       "{'var': {'mean': (0.35675258512007096,\n",
       "   0.08002015932809253,\n",
       "   (-0.1217478965407955, 0.7156240276279534))},\n",
       " 'mean': {'var': (0.35675258512007096,\n",
       "   0.08002015932809253,\n",
       "   (-0.1217478965407955, 0.7156240276279534))}}"
      ]
     },
     "execution_count": 14,
     "metadata": {},
     "output_type": "execute_result"
    }
   ],
   "source": [
    "# Compute the correlations between output measures\n",
    "compute_all_corrs(results2)"
   ]
  },
  {
   "cell_type": "markdown",
   "metadata": {},
   "source": [
    "### Evaluating Results\n",
    "\n",
    "After computing the measures, we can examine the results, comparing between different measurements."
   ]
  },
  {
   "cell_type": "code",
   "execution_count": 15,
   "metadata": {},
   "outputs": [],
   "source": [
    "# Set a marker in dataframe for yes / no if signal has an oscillation\n",
    "all_sim_params2['has_osc'] = all_sim_params2['var_pe'] != 0."
   ]
  },
  {
   "cell_type": "code",
   "execution_count": 16,
   "metadata": {},
   "outputs": [],
   "source": [
    "# Collect colors for each value based on presence of an oscillation\n",
    "colors = [COLORS['CM'] if osc else COLORS['AP'] for osc in all_sim_params2.has_osc]"
   ]
  },
  {
   "cell_type": "code",
   "execution_count": 17,
   "metadata": {},
   "outputs": [
    {
     "data": {
      "image/png": "[encoded data removed]",
      "text/plain": [
       "<Figure size 640x480 with 1 Axes>"
      ]
     },
     "metadata": {},
     "output_type": "display_data"
    }
   ],
   "source": [
    "# Plot the computed measures against each other\n",
    "plot_dots(results2['var'], results2['mean'], c=colors, alpha=0.8)"
   ]
  }
 ],
 "metadata": {
  "kernelspec": {
   "display_name": "Python 3 (ipykernel)",
   "language": "python",
   "name": "python3"
  },
  "language_info": {
   "codemirror_mode": {
    "name": "ipython",
    "version": 3
   },
   "file_extension": ".py",
   "mimetype": "text/x-python",
   "name": "python",
   "nbconvert_exporter": "python",
   "pygments_lexer": "ipython3",
   "version": "3.9.17"
  }
 },
 "nbformat": 4,
 "nbformat_minor": 4
}
