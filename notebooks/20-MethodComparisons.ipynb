{
 "cells": [
  {
   "cell_type": "markdown",
   "metadata": {},
   "source": [
    "# Method Comparisons\n",
    "\n",
    "This section directly compares between the different methods, using simulated data. "
   ]
  },
  {
   "cell_type": "markdown",
   "metadata": {},
   "source": [
    "## Overview\n",
    "\n",
    "A key question for interpreting prior work is to consider how the different employed methods relate to each other. To investigate this, this section simulates datasets, and applies different methods to compare their results.\n",
    "\n",
    "In this section, the main question is the evaluate the relationship between different methods across parameters variations, to evaluate which methods are highly correlated (seeming to refelct the same thing), and which appear to provide independent estimations of the data. \n",
    "\n",
    "Note that due to large number of possible comparisons across different methods and different simulated parameters, in this section we necessarily restrict the comparison to a selected subset of methods, that are compared pairwise. "
   ]
  },
  {
   "cell_type": "markdown",
   "metadata": {},
   "source": [
    "## Contents\n",
    "\n",
    "Comparisons between methods are organized into the following groups:\n",
    "- `21-ExponentComparisons` : comparing methods that directly estimate the aperiodic exponent\n",
    "    - Comparisons between: specparam & IRASA\n",
    "- `22-TimeDomainComparisons` : comparing time domain methods to each other\n",
    "    - Comparisons between: fluctuation, complexity, and information measures\n",
    "- `23-ExponentvsTimeDomain` : comparing exponent and time domain methods\n",
    "    - Comparisons between: specparam and fluctuation, complexity, and information measures "
   ]
  },
  {
   "cell_type": "markdown",
   "metadata": {},
   "source": [
    "## Simulations\n",
    "\n",
    "In this section, we will use simulated data to compare methods. \n",
    "\n",
    "#### Combined signals\n",
    "\n",
    "Calculate measures on simulated signals, across variations of aperiodic parameters in combined signals."
   ]
  },
  {
   "cell_type": "markdown",
   "metadata": {},
   "source": [
    "## Code Approach\n",
    "\n",
    "Here, we will briefly introduce the general strategy and code used to run the simulations. "
   ]
  },
  {
   "cell_type": "markdown",
   "metadata": {},
   "source": [
    "### run_comparisons\n",
    "\n",
    "The overarching function used to run simulation comparisons is the `run_comparisons` function.\n",
    "\n",
    "This approach allows for:\n",
    "- defining a procedure to simulate time series\n",
    "- defining a set of measures to apply to the simulated time series\n",
    "- applying the set of measures across simulated instances, sampling from parameter ranges"
   ]
  },
  {
   "cell_type": "code",
   "execution_count": 1,
   "metadata": {},
   "outputs": [],
   "source": [
    "# Import the `run_comparisons` function from the custom code folder\n",
    "import sys; from pathlib import Path\n",
    "sys.path.append(str(Path('..').resolve()))\n",
    "from apm.run import run_comparisons"
   ]
  },
  {
   "cell_type": "code",
   "execution_count": 2,
   "metadata": {},
   "outputs": [
    {
     "name": "stdout",
     "output_type": "stream",
     "text": [
      "Compute multiple measures of interest across the same set of simulations.\n",
      "\n",
      "    Parameters\n",
      "    ----------\n",
      "    sim_func : callable\n",
      "        A function to create simulated time series.\n",
      "    sim_params : dict\n",
      "        Input arguments for `sim_func`.\n",
      "    measures : dict\n",
      "        Functions to apply to the simulated data.\n",
      "        The keys should be functions to apply to the data.\n",
      "        The values should be a dictionary of parameters to use for the method.\n",
      "    samplers : dict\n",
      "        Information for how to sample across parameters for the simulations.\n",
      "        The keys should be string labels of which parameter to update.\n",
      "        The values should be data ranges to sample for that parameter.\n",
      "    n_sims : int\n",
      "        The number of simulations to run.\n",
      "    verbose : bool, optional, default: False\n",
      "        Whether to print out simulation parameters.\n",
      "        Used for checking simulations / debugging.\n",
      "\n",
      "    Returns\n",
      "    -------\n",
      "    outs : dict\n",
      "        Computed results for each measure across the set of simulated data.\n",
      "    \n"
     ]
    }
   ],
   "source": [
    "# Check the documentation for `run_comparisons`\n",
    "print(run_comparisons.__doc__)"
   ]
  },
  {
   "cell_type": "markdown",
   "metadata": {},
   "source": [
    "Next, we can run an example of using `run_comparisons`.\n",
    "\n",
    "To do so, we will define an example analysis to apply some measures of interest (here, computing the mean and the variance) across samples of simulations of powerlaw data."
   ]
  },
  {
   "cell_type": "code",
   "execution_count": 3,
   "metadata": {},
   "outputs": [],
   "source": [
    "import numpy as np\n",
    "from neurodsp.sim import sim_powerlaw\n",
    "\n",
    "from apm.sim.settings import SIM_PARAMS_AP\n",
    "from apm.utils import sampler"
   ]
  },
  {
   "cell_type": "code",
   "execution_count": 4,
   "metadata": {},
   "outputs": [],
   "source": [
    "# Define the measures to apply to the simulated signals\n",
    "measures = {np.var : {}, np.mean : {}}\n",
    "\n",
    "# Define how to sample across parameters, and what ranges to use\n",
    "samplers = {'update_exp' : sampler(np.arange(-2.5, 0, 0.1))}"
   ]
  },
  {
   "cell_type": "code",
   "execution_count": 5,
   "metadata": {},
   "outputs": [
    {
     "name": "stdout",
     "output_type": "stream",
     "text": [
      "{'n_seconds': 30, 'fs': 1000, 'f_range': (0.5, None), 'exponent': -0.29999999999999805}\n",
      "{'n_seconds': 30, 'fs': 1000, 'f_range': (0.5, None), 'exponent': -2.1999999999999997}\n",
      "{'n_seconds': 30, 'fs': 1000, 'f_range': (0.5, None), 'exponent': -0.09999999999999787}\n",
      "{'n_seconds': 30, 'fs': 1000, 'f_range': (0.5, None), 'exponent': -2.0999999999999996}\n",
      "{'n_seconds': 30, 'fs': 1000, 'f_range': (0.5, None), 'exponent': -1.8999999999999995}\n"
     ]
    }
   ],
   "source": [
    "# Run comparisons across samples of aperiodic noise\n",
    "outs = run_comparisons(sim_powerlaw, SIM_PARAMS_AP, measures,\n",
    "                       samplers, n_sims=5, verbose=True) "
   ]
  },
  {
   "cell_type": "code",
   "execution_count": 6,
   "metadata": {},
   "outputs": [
    {
     "data": {
      "text/plain": [
       "{'var': array([1., 1., 1., 1., 1.]),\n",
       " 'mean': array([ 2.43360887e-17,  1.89478063e-18, -1.57503640e-17, -2.27373675e-17,\n",
       "        -1.61056353e-17])}"
      ]
     },
     "execution_count": 6,
     "metadata": {},
     "output_type": "execute_result"
    }
   ],
   "source": [
    "# Check output values of computed measures\n",
    "outs"
   ]
  },
  {
   "cell_type": "markdown",
   "metadata": {},
   "source": [
    "### Evaluating Results\n",
    "\n",
    "After computing the measures, we can examine the results, comparing between different measurements."
   ]
  },
  {
   "cell_type": "code",
   "execution_count": 7,
   "metadata": {},
   "outputs": [
    {
     "name": "stderr",
     "output_type": "stream",
     "text": [
      "/Users/tom/Code/Projects/APMethods/AperiodicMethods/apm/plts/data.py:8: DeprecationWarning: \n",
      "The `fooof` package is being deprecated and replaced by the `specparam` (spectral parameterization) package.\n",
      "This version of `fooof` (1.1) is fully functional, but will not be further updated.\n",
      "New projects are recommended to update to using `specparam` (see Changelog for details).\n",
      "  from fooof.utils import trim_spectrum\n"
     ]
    }
   ],
   "source": [
    "# Import a plot function to visualize the computed measures\n",
    "from apm.plts import plot_dots"
   ]
  },
  {
   "cell_type": "code",
   "execution_count": 8,
   "metadata": {},
   "outputs": [
    {
     "data": {
      "image/png": "[encoded data removed]",
      "text/plain": [
       "<Figure size 640x480 with 1 Axes>"
      ]
     },
     "metadata": {},
     "output_type": "display_data"
    }
   ],
   "source": [
    "# Plot the computed measures against each other\n",
    "plot_dots(outs['var'], outs['mean'])"
   ]
  }
 ],
 "metadata": {
  "kernelspec": {
   "display_name": "Python 3 (ipykernel)",
   "language": "python",
   "name": "python3"
  },
  "language_info": {
   "codemirror_mode": {
    "name": "ipython",
    "version": 3
   },
   "file_extension": ".py",
   "mimetype": "text/x-python",
   "name": "python",
   "nbconvert_exporter": "python",
   "pygments_lexer": "ipython3",
   "version": "3.9.17"
  }
 },
 "nbformat": 4,
 "nbformat_minor": 4
}
