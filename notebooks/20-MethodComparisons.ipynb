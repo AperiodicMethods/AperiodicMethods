{
 "cells": [
  {
   "cell_type": "markdown",
   "metadata": {},
   "source": [
    "# Method Comparisons\n",
    "\n",
    "This section directly compares between the different methods, using simulated data. "
   ]
  },
  {
   "cell_type": "markdown",
   "metadata": {},
   "source": [
    "## Overview\n",
    "\n",
    "Comparisons between methods are organized into the following groups:\n",
    "- Exponent Comparisons\n",
    "    - Compare measures that directly estimate the aperiodic exponent\n",
    "    - Methods: specparam & IRASA\n",
    "- Compare between exponent and time domain methods\n",
    "    - Compare measures that estimate aperiodic exponent to other measures\n",
    "    - Methods: compare specparam to fluctuation, complexity, and information measures \n",
    "- Compare within time domain methods\n",
    "    - Compare non-exponent measures to each other\n",
    "    - Methods: compare fluctuation, complexity, and information measures to each other"
   ]
  },
  {
   "cell_type": "markdown",
   "metadata": {},
   "source": [
    "## Code Approach\n",
    "\n",
    "Here, we will briefly introduce the general strategy and code used to run the simulations. "
   ]
  },
  {
   "cell_type": "markdown",
   "metadata": {},
   "source": [
    "### run_comparisons\n",
    "\n",
    "The overarching function used to run simulation comparisons in this section is `run_comparisons`.\n",
    "\n",
    "This approach allows for:\n",
    "- defining a procedure to simulate time series\n",
    "- defining a set of measures to apply to the simulated time series\n",
    "- applying the set of measures across simulated instances, sampling from parameter ranges"
   ]
  },
  {
   "cell_type": "code",
   "execution_count": 1,
   "metadata": {},
   "outputs": [],
   "source": [
    "# Import the `run_comparisons` function from the custom code folder\n",
    "import sys; from pathlib import Path\n",
    "sys.path.append(str(Path('..').resolve()))\n",
    "from apm.run import run_comparisons"
   ]
  },
  {
   "cell_type": "code",
   "execution_count": 2,
   "metadata": {},
   "outputs": [
    {
     "name": "stdout",
     "output_type": "stream",
     "text": [
      "Compute multiple measures of interest across the same set of simulations.\n",
      "\n",
      "    Parameters\n",
      "    ----------\n",
      "    sim_func : callable\n",
      "        A function to create simulated time series.\n",
      "    sim_params : dict\n",
      "        Input arguments for `sim_func`.\n",
      "    measures : dict\n",
      "        A measure function to apply to the simulated data.\n",
      "        The keys should be functions to apply to the data.\n",
      "        The values should be a dictionary of parameters to use for the method.\n",
      "    samplers : dict\n",
      "        Information for how to sample across parameters for the simulations.\n",
      "        The keys should be string labels of which parameter to update.\n",
      "        The values should be data ranges to sample for that parameter.\n",
      "    n_sims : int\n",
      "        The number of simulations to run.\n",
      "    verbose : bool, optional, default: False\n",
      "        Whether to print out simulation parameters.\n",
      "        Used for checking simulations / debugging.\n",
      "\n",
      "    Returns\n",
      "    -------\n",
      "    outs : dict\n",
      "        Computed results for each measure across the set of simulated data.\n",
      "    \n"
     ]
    }
   ],
   "source": [
    "# Check the documentation for `run_comparisons`\n",
    "print(run_comparisons.__doc__)"
   ]
  },
  {
   "cell_type": "markdown",
   "metadata": {},
   "source": [
    "Next, we can run an example of using `run_comparisons`.\n",
    "\n",
    "To do so, we will define an example analysis to apply some measures of interest (here, computing the mean and the variance) across samples of simulations of powerlaw data."
   ]
  },
  {
   "cell_type": "code",
   "execution_count": 3,
   "metadata": {},
   "outputs": [],
   "source": [
    "import numpy as np\n",
    "from neurodsp.sim import sim_powerlaw\n",
    "\n",
    "from apm.sim.settings import SIM_PARAMS_AP\n",
    "from apm.utils import sampler"
   ]
  },
  {
   "cell_type": "code",
   "execution_count": 4,
   "metadata": {},
   "outputs": [],
   "source": [
    "# Define the measures to apply to the simulated signals\n",
    "measures = {np.var : {}, np.mean : {}}\n",
    "\n",
    "# Define how to sample across parameters, and what ranges to use\n",
    "samplers = {'update_exp' : sampler(np.arange(-2.5, 0, 0.1))}"
   ]
  },
  {
   "cell_type": "code",
   "execution_count": 5,
   "metadata": {},
   "outputs": [
    {
     "name": "stdout",
     "output_type": "stream",
     "text": [
      "{'n_seconds': 30, 'fs': 1000, 'f_range': (0.5, None), 'exponent': -0.29999999999999805}\n",
      "{'n_seconds': 30, 'fs': 1000, 'f_range': (0.5, None), 'exponent': -2.1999999999999997}\n",
      "{'n_seconds': 30, 'fs': 1000, 'f_range': (0.5, None), 'exponent': -1.299999999999999}\n",
      "{'n_seconds': 30, 'fs': 1000, 'f_range': (0.5, None), 'exponent': -1.4999999999999991}\n",
      "{'n_seconds': 30, 'fs': 1000, 'f_range': (0.5, None), 'exponent': -0.9999999999999987}\n"
     ]
    }
   ],
   "source": [
    "# Run comparisons across samples of aperiodic noise\n",
    "out = run_comparisons(sim_powerlaw, SIM_PARAMS_AP, measures,\n",
    "                      samplers, n_sims=5, verbose=True)"
   ]
  },
  {
   "cell_type": "code",
   "execution_count": 6,
   "metadata": {},
   "outputs": [
    {
     "data": {
      "text/plain": [
       "{'var': array([1., 1., 1., 1., 1.]),\n",
       " 'mean': array([ 9.05941988e-18,  2.84217094e-17,  1.89478063e-17, -1.13686838e-17,\n",
       "         3.07901852e-17])}"
      ]
     },
     "execution_count": 6,
     "metadata": {},
     "output_type": "execute_result"
    }
   ],
   "source": [
    "# Check output values of computed measures\n",
    "out"
   ]
  },
  {
   "cell_type": "markdown",
   "metadata": {},
   "source": [
    "### Evaluating Results\n",
    "\n",
    "After computing the measures, we can examine the results, comparing between different measurements."
   ]
  },
  {
   "cell_type": "code",
   "execution_count": 7,
   "metadata": {},
   "outputs": [],
   "source": [
    "# Import a plot function to visualize the computed measures\n",
    "from apm.plts import plot_dots"
   ]
  },
  {
   "cell_type": "code",
   "execution_count": 8,
   "metadata": {},
   "outputs": [
    {
     "data": {
      "image/png": "[encoded data removed]",
      "text/plain": [
       "<Figure size 432x288 with 1 Axes>"
      ]
     },
     "metadata": {
      "needs_background": "light"
     },
     "output_type": "display_data"
    }
   ],
   "source": [
    "# Plot the computed measures against each other\n",
    "plot_dots(out['var'], out['mean'])"
   ]
  }
 ],
 "metadata": {
  "kernelspec": {
   "display_name": "Python 3",
   "language": "python",
   "name": "python3"
  },
  "language_info": {
   "codemirror_mode": {
    "name": "ipython",
    "version": 3
   },
   "file_extension": ".py",
   "mimetype": "text/x-python",
   "name": "python",
   "nbconvert_exporter": "python",
   "pygments_lexer": "ipython3",
   "version": "3.8.3"
  }
 },
 "nbformat": 4,
 "nbformat_minor": 4
}
