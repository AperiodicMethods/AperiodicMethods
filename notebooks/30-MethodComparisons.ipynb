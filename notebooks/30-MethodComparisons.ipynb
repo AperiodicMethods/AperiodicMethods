{
 "cells": [
  {
   "cell_type": "markdown",
   "id": "ef39031e",
   "metadata": {},
   "source": [
    "# Method Comparisons\n",
    "\n",
    "In this section, we compare estimates from different methods across a range of simulations. \n",
    "\n",
    "Note that in these simulations, the strategy is to create a set of simulations across different specified parameter ranges (sampling randomly across parameters set to vary), compute a group of measures across the same set of simulated data, and compare the results. \n",
    "\n",
    "Notably, in doing so, we typically do not have an expected result for each method, and so the results are not in terms of evaluating correctness, but rather to see how the methods \"move\" together across parameter regimes. The more similar the two methods perform across a set of simulations, the more we can say that these measures are sensitive to the same features of the data, whereas in so far as the two methods have different results across the same set of simulations, the more we can say that these methods are practically different in terms of what reflect in the data."
   ]
  }
 ],
 "metadata": {
  "kernelspec": {
   "display_name": "Python 3 (ipykernel)",
   "language": "python",
   "name": "python3"
  },
  "language_info": {
   "codemirror_mode": {
    "name": "ipython",
    "version": 3
   },
   "file_extension": ".py",
   "mimetype": "text/x-python",
   "name": "python",
   "nbconvert_exporter": "python",
   "pygments_lexer": "ipython3",
   "version": "3.9.17"
  }
 },
 "nbformat": 4,
 "nbformat_minor": 5
}
