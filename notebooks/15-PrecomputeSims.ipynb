{
 "cells": [
  {
   "cell_type": "markdown",
   "id": "df870ec3",
   "metadata": {},
   "source": [
    "# Precompute Simulations\n",
    "\n",
    "In general, simulating new time series is quite fast, and we can do so on the fly. \n",
    "\n",
    "However, creating some time series is quite slow, and/or we might want to test multiple different analyses on the exact same set of simulations. To support this, here we generate sets of simulations that can be saved out and then reloaded when needed. "
   ]
  },
  {
   "cell_type": "code",
   "execution_count": 1,
   "id": "d0baa077",
   "metadata": {},
   "outputs": [],
   "source": [
    "from neurodsp.sim import sim_powerlaw, sim_combined, sim_synaptic_current"
   ]
  },
  {
   "cell_type": "code",
   "execution_count": 2,
   "id": "af35d7c1",
   "metadata": {},
   "outputs": [],
   "source": [
    "# Import custom code\n",
    "import sys; from pathlib import Path\n",
    "sys.path.append(str(Path('..').resolve()))\n",
    "from apm.io import APMDB, save_pickle\n",
    "from apm.sim import sim_across_values\n",
    "from apm.sim.sim import sim_combined_peak\n",
    "\n",
    "from apm.sim.settings import (N_SIMS, EXPS, KNEES, FREQS, POWERS, BWS, \n",
    "                              SIM_PARAMS_AP, SIM_PARAMS_COMB, SIM_PARAMS_KNEE, SIM_PARAMS_PEAK)"
   ]
  },
  {
   "cell_type": "markdown",
   "id": "ecc0e6ed",
   "metadata": {},
   "source": [
    "## Settings"
   ]
  },
  {
   "cell_type": "code",
   "execution_count": 3,
   "id": "55a7c98e",
   "metadata": {},
   "outputs": [],
   "source": [
    "# Settings for saving out simulations\n",
    "SIMPATH = APMDB().sims_path / 'time_series'"
   ]
  },
  {
   "cell_type": "markdown",
   "id": "06a4598a",
   "metadata": {},
   "source": [
    "## Create Simulations"
   ]
  },
  {
   "cell_type": "code",
   "execution_count": 4,
   "id": "4fe81323",
   "metadata": {},
   "outputs": [],
   "source": [
    "# Simulate a predefined set of exponent variation simulations\n",
    "sigs_ap = sim_across_values(sim_powerlaw, SIM_PARAMS_AP, 'update_exp', EXPS, N_SIMS)\n",
    "save_pickle(sigs_ap, 'ts_sims_ap_exp', SIMPATH)"
   ]
  },
  {
   "cell_type": "code",
   "execution_count": 5,
   "id": "39d17c32",
   "metadata": {},
   "outputs": [],
   "source": [
    "# Simulate a predefined set of combined exponent variation simulations\n",
    "sigs_comb = sim_across_values(sim_combined, SIM_PARAMS_COMB, 'update_comb_exp', EXPS, N_SIMS)\n",
    "save_pickle(sigs_comb, 'ts_sims_comb_exp', SIMPATH)"
   ]
  },
  {
   "cell_type": "code",
   "execution_count": 6,
   "id": "500edc19",
   "metadata": {},
   "outputs": [],
   "source": [
    "# Simulate a predefined set of combined frequency variation simulations\n",
    "sigs_freq = sim_across_values(sim_combined, SIM_PARAMS_COMB, 'update_freq', FREQS, N_SIMS)\n",
    "save_pickle(sigs_freq, 'ts_sims_comb_freq', SIMPATH)"
   ]
  },
  {
   "cell_type": "code",
   "execution_count": 7,
   "id": "b3ea089f",
   "metadata": {},
   "outputs": [],
   "source": [
    "# Simulate a predefined set of combined oscillation power simulations\n",
    "sigs_pow = sim_across_values(sim_combined, SIM_PARAMS_COMB, 'update_pow', POWERS, N_SIMS)\n",
    "save_pickle(sigs_pow, 'ts_sims_comb_pow', SIMPATH)"
   ]
  },
  {
   "cell_type": "code",
   "execution_count": 8,
   "id": "fff7c449",
   "metadata": {},
   "outputs": [],
   "source": [
    "# Simulate a predefined set of aperiodic knee variation simulations\n",
    "sigs_knee = sim_across_values(sim_synaptic_current, SIM_PARAMS_KNEE, 'update_knee', KNEES, N_SIMS)\n",
    "save_pickle(sigs_knee, 'ts_sims_ap_knee', SIMPATH)"
   ]
  },
  {
   "cell_type": "code",
   "execution_count": 9,
   "id": "d731e1e3",
   "metadata": {},
   "outputs": [],
   "source": [
    "# Simulate a predefined set of combined peak bandwidth variation simulations\n",
    "sigs_bw = sim_across_values(sim_combined_peak, SIM_PARAMS_PEAK, 'update_peak_bw', BWS, N_SIMS)\n",
    "save_pickle(sigs_bw, 'ts_sims_comb_bw', SIMPATH)"
   ]
  }
 ],
 "metadata": {
  "kernelspec": {
   "display_name": "Python 3 (ipykernel)",
   "language": "python",
   "name": "python3"
  },
  "language_info": {
   "codemirror_mode": {
    "name": "ipython",
    "version": 3
   },
   "file_extension": ".py",
   "mimetype": "text/x-python",
   "name": "python",
   "nbconvert_exporter": "python",
   "pygments_lexer": "ipython3",
   "version": "3.9.17"
  }
 },
 "nbformat": 4,
 "nbformat_minor": 5
}
