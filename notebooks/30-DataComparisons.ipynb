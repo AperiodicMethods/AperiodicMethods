{
 "cells": [
  {
   "cell_type": "markdown",
   "metadata": {},
   "source": [
    "# Data Comparisons\n",
    "\n",
    "This section applies and compares methods on empirical datasets."
   ]
  },
  {
   "cell_type": "markdown",
   "metadata": {},
   "source": [
    "## Overview\n",
    "\n",
    "In the previous sections, we have used simulated data to investigate the method properties. While simulated data offers the benefit of knowing ground truth parameters, and systematically exploring variations in isolated parameters, simulation tests are limited to the extent that they do not fully reflect empirical data. \n",
    "\n",
    "In this section, we compare the methods on empirical data, to examine how they relate to each other in real data cases. "
   ]
  },
  {
   "cell_type": "markdown",
   "metadata": {},
   "source": [
    "## Contents\n",
    "\n",
    "The following analyses and comparisons are applied to empirical datasets:\n",
    "\n",
    "- `31-RestingEEGData`: analyzing a small sample of resting state EEG data\n",
    "    - This dataset is resting state EEG data collected in the VoytekLab\n",
    "    - Young adult subjects (n=29, ages 18-28), with eyes-closed resting data\n",
    "- `32-DevelopmentalEEGData`:  analyzing a large EEG dataset of developmental data\n",
    "    - This dataset is the MIPDB dataset, from the ChildMind Institute\n",
    "    - Cross-sectional developmental data (n=126, ages 6-44), with eyes-open & eyes-closed resting data\n",
    "- `33-iEEGData`: analyzing a large dataset of intracranial EEG data\n",
    "    - This dataset is the open iEEG Atlas, from the MNI\n",
    "    - Clinical iEEG data, cortical electrodes (n=106, average age: 33)"
   ]
  },
  {
   "cell_type": "markdown",
   "metadata": {},
   "source": [
    "## Analysis Approach\n",
    "\n",
    "The general following strategy is taken:\n",
    "- data files are loaded and organized\n",
    "- measures of interest are computed on the empirical data\n",
    "- results of the measures are compared to each other"
   ]
  },
  {
   "cell_type": "markdown",
   "metadata": {},
   "source": [
    "## Applied Methods\n",
    "\n",
    "The following methods are applied to the empirical datasets:\n",
    "- SpecParam\n",
    "- IRASA\n",
    "- Hurst & DFA\n",
    "- Lempel-Ziv Complexity\n",
    "- Hjorth Complexity\n",
    "- Approximate Entropy"
   ]
  }
 ],
 "metadata": {
  "kernelspec": {
   "display_name": "Python 3",
   "language": "python",
   "name": "python3"
  },
  "language_info": {
   "codemirror_mode": {
    "name": "ipython",
    "version": 3
   },
   "file_extension": ".py",
   "mimetype": "text/x-python",
   "name": "python",
   "nbconvert_exporter": "python",
   "pygments_lexer": "ipython3",
   "version": "3.8.3"
  }
 },
 "nbformat": 4,
 "nbformat_minor": 4
}
