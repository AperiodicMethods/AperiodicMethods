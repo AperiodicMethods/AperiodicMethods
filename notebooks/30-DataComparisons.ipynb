{
 "cells": [
  {
   "cell_type": "markdown",
   "metadata": {},
   "source": [
    "# Data Comparisons\n",
    "\n",
    "This section applies a selection of methods to empirical data, and examines and compares the results."
   ]
  },
  {
   "cell_type": "markdown",
   "metadata": {},
   "source": [
    "## Datasets\n",
    "\n",
    "The following analyses and comparisons are applied to empirical datasets:\n",
    "\n",
    "- 31-Resting state EEG data\n",
    "    - Analyze a small resting state EEG dataset\n",
    "    - This dataset is a sample of resting state data collected in the VoytekLab\n",
    "- 32-Developmental EEG data\n",
    "    - Analyze a large EEG dataset with developmental data (ages 6-44)\n",
    "    - This dataset is the MIPDB dataset, from the ChildMind Institute\n",
    "- 33-iEEG data\n",
    "    - Analyze a large iEEG dataset, with electrodes across the cortex\n",
    "    - This dataset is the open iEEG Atlas, from the MNI"
   ]
  },
  {
   "cell_type": "markdown",
   "metadata": {},
   "source": [
    "## Analysis Approach\n",
    "\n",
    "The general following strategy is taken:\n",
    "- data files are loaded and organized\n",
    "- measures of interest are computed on the empirical data\n",
    "- results of the measures are compared to each other"
   ]
  },
  {
   "cell_type": "markdown",
   "metadata": {},
   "source": [
    "## Applied Methods\n",
    "\n",
    "The following methods are applied to the empirical datasets:\n",
    "- SpecParam\n",
    "- IRASA\n",
    "- Hurst & DFA\n",
    "- Lempel-Ziv Complexity\n",
    "- Hjorth Complexity\n",
    "- Approximate Entropy"
   ]
  }
 ],
 "metadata": {
  "kernelspec": {
   "display_name": "Python 3",
   "language": "python",
   "name": "python3"
  },
  "language_info": {
   "codemirror_mode": {
    "name": "ipython",
    "version": 3
   },
   "file_extension": ".py",
   "mimetype": "text/x-python",
   "name": "python",
   "nbconvert_exporter": "python",
   "pygments_lexer": "ipython3",
   "version": "3.8.3"
  }
 },
 "nbformat": 4,
 "nbformat_minor": 4
}
