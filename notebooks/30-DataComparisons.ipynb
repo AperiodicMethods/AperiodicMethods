{
 "cells": [
  {
   "cell_type": "markdown",
   "metadata": {},
   "source": [
    "# Data Comparisons\n",
    "\n",
    "This section applies and compares methods on empirical datasets."
   ]
  },
  {
   "cell_type": "markdown",
   "metadata": {},
   "source": [
    "## Overview\n",
    "\n",
    "In the previous sections, we have used simulated data to investigate the method properties. While simulated data offers the benefit of knowing ground truth parameters, and systematically exploring variations in isolated parameters, simulation tests are limited to the extent that they do not fully reflect empirical data. \n",
    "\n",
    "In this section, we compare the methods on empirical data, to examine how they relate to each other in real data cases. "
   ]
  },
  {
   "cell_type": "markdown",
   "metadata": {},
   "source": [
    "## Contents\n",
    "\n",
    "The following analyses and comparisons are applied to empirical datasets:\n",
    "\n",
    "- `31-RestingEEGData`: analyzing a small sample of resting state EEG data\n",
    "    - A small dataset of resting state EEG data collected in the VoytekLab\n",
    "    - Young adult subjects (n=29, ages 18-28), with eyes-closed resting data\n",
    "- `32-DevelopmentalEEGData`:  analyzing a large EEG dataset of developmental data\n",
    "    - The MIPDB dataset, from the ChildMind Institute\n",
    "    - Cross-sectional developmental data (n=126, ages 6-44), with eyes-open & eyes-closed resting data\n",
    "- `33-iEEGData`: analyzing a large dataset of intracranial EEG data\n",
    "    - The open iEEG Atlas, from the MNI\n",
    "    - Clinical iEEG data, cortical electrodes (n=106, average age: 33)"
   ]
  },
  {
   "cell_type": "markdown",
   "metadata": {},
   "source": [
    "## Applied Methods\n",
    "\n",
    "The following methods are applied to the empirical datasets:\n",
    "- SpecParam\n",
    "- IRASA\n",
    "- Hurst & DFA\n",
    "- Lempel-Ziv Complexity\n",
    "- Hjorth Complexity\n",
    "- Approximate Entropy"
   ]
  },
  {
   "cell_type": "markdown",
   "metadata": {},
   "source": [
    "## Code Approach\n",
    "\n",
    "The general following strategy is taken:\n",
    "- data files are loaded and organized\n",
    "- measures of interest are computed on the empirical data\n",
    "- results of the measures are compared to each other\n",
    "\n",
    "The overarching function used to compute measures on data is the `run_measures` function.\n",
    "\n",
    "This function allows for:\n",
    "- taking a collection of data and a list of methods\n",
    "- applying each measure across the data\n",
    "- returning the collection of results"
   ]
  },
  {
   "cell_type": "code",
   "execution_count": 1,
   "metadata": {},
   "outputs": [],
   "source": [
    "# Import the `run_measures` function from the custom code folder\n",
    "import sys; from pathlib import Path\n",
    "sys.path.append(str(Path('..').resolve()))\n",
    "from apm.run import run_measures"
   ]
  },
  {
   "cell_type": "code",
   "execution_count": 2,
   "metadata": {},
   "outputs": [
    {
     "name": "stdout",
     "output_type": "stream",
     "text": [
      "Compute multiple measures of interest across empirical recordings.\n",
      "\n",
      "    Parameters\n",
      "    ----------\n",
      "    data : 2d array\n",
      "        Data to run measures on, organized as [channels, timepoints].\n",
      "    measures : dict\n",
      "        Functions to apply to the data.\n",
      "        The keys should be functions to apply to the data.\n",
      "        The values should be a dictionary of parameters to use for the method.\n",
      "\n",
      "    Returns\n",
      "    -------\n",
      "    outputs : dict\n",
      "        Output measures.\n",
      "        The keys are labels for each applied method.\n",
      "        The values are the computed measures for each method.\n",
      "    \n"
     ]
    }
   ],
   "source": [
    "# Check the documentation for `run_measures`\n",
    "print(run_measures.__doc__)"
   ]
  },
  {
   "cell_type": "markdown",
   "metadata": {},
   "source": [
    "Next, we can run an example of using `run_measures`.\n",
    "\n",
    "To do so, we will define an example analysis to apply some measures of interest (here, computing the mean and the variance). To mimic a real dataset, we will use some of the example simulated time series."
   ]
  },
  {
   "cell_type": "code",
   "execution_count": 3,
   "metadata": {},
   "outputs": [],
   "source": [
    "import numpy as np\n",
    "\n",
    "from apm.sim.settings import FS\n",
    "from apm.sim.examples import SIG_AP, SIG_KN"
   ]
  },
  {
   "cell_type": "code",
   "execution_count": 4,
   "metadata": {},
   "outputs": [],
   "source": [
    "# Collect together an array of mock data\n",
    "data = np.array([SIG_AP, SIG_KN])"
   ]
  },
  {
   "cell_type": "code",
   "execution_count": 5,
   "metadata": {},
   "outputs": [],
   "source": [
    "# Define measures to apply\n",
    "measures = {\n",
    "     np.mean : {},\n",
    "     np.var : {},\n",
    "}"
   ]
  },
  {
   "cell_type": "code",
   "execution_count": 6,
   "metadata": {},
   "outputs": [],
   "source": [
    "# Run measures across the data\n",
    "outputs = run_measures(data, measures)"
   ]
  },
  {
   "cell_type": "code",
   "execution_count": 7,
   "metadata": {},
   "outputs": [
    {
     "data": {
      "text/plain": [
       "{'mean': array([-7.57912251e-18, -2.36847579e-16]), 'var': array([1., 1.])}"
      ]
     },
     "execution_count": 7,
     "metadata": {},
     "output_type": "execute_result"
    }
   ],
   "source": [
    "# Check output values of computed measures\n",
    "outputs"
   ]
  }
 ],
 "metadata": {
  "kernelspec": {
   "display_name": "Python 3 (ipykernel)",
   "language": "python",
   "name": "python3"
  },
  "language_info": {
   "codemirror_mode": {
    "name": "ipython",
    "version": 3
   },
   "file_extension": ".py",
   "mimetype": "text/x-python",
   "name": "python",
   "nbconvert_exporter": "python",
   "pygments_lexer": "ipython3",
   "version": "3.9.17"
  }
 },
 "nbformat": 4,
 "nbformat_minor": 4
}
