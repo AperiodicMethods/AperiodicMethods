{
 "cells": [
  {
   "cell_type": "markdown",
   "metadata": {},
   "source": [
    "## REFACTORS"
   ]
  },
  {
   "cell_type": "markdown",
   "metadata": {},
   "source": [
    "    avg_func : callable, optional, default: np.mean\n",
    "        The function to calculate the average for a particular parameter value.\n",
    "    var_func : callable, optional, default: np.std\n",
    "        The function to calculate the variability for a particular parameter value."
   ]
  },
  {
   "cell_type": "markdown",
   "metadata": {},
   "source": [
    "## PARTIAL CORRELATIONS"
   ]
  },
  {
   "cell_type": "code",
   "execution_count": 3,
   "metadata": {},
   "outputs": [],
   "source": [
    "import pandas as pd\n",
    "from sklearn.datasets import load_iris\n",
    "from itertools import combinations\n",
    "from sklearn import linear_model"
   ]
  },
  {
   "cell_type": "code",
   "execution_count": 4,
   "metadata": {},
   "outputs": [],
   "source": [
    "#data\n",
    "iris_data = load_iris()\n",
    "iris_data = pd.DataFrame(iris_data['data'], columns=iris_data['feature_names'])"
   ]
  },
  {
   "cell_type": "code",
   "execution_count": 5,
   "metadata": {},
   "outputs": [],
   "source": [
    "#get all the pairs of variables\n",
    "xy_combinations = list(combinations(iris_data.columns, 2))\n",
    "z = [[col for col in iris_data.columns if col not in xy] for xy in xy_combinations]\n",
    "xyz_combinations = list(zip(xy_combinations, z))"
   ]
  },
  {
   "cell_type": "code",
   "execution_count": 6,
   "metadata": {},
   "outputs": [
    {
     "data": {
      "text/plain": [
       "array([5.1, 4.9, 4.7, 4.6, 5. , 5.4, 4.6, 5. , 4.4, 4.9, 5.4, 4.8, 4.8,\n",
       "       4.3, 5.8, 5.7, 5.4, 5.1, 5.7, 5.1, 5.4, 5.1, 4.6, 5.1, 4.8, 5. ,\n",
       "       5. , 5.2, 5.2, 4.7, 4.8, 5.4, 5.2, 5.5, 4.9, 5. , 5.5, 4.9, 4.4,\n",
       "       5.1, 5. , 4.5, 4.4, 5. , 5.1, 4.8, 5.1, 4.6, 5.3, 5. , 7. , 6.4,\n",
       "       6.9, 5.5, 6.5, 5.7, 6.3, 4.9, 6.6, 5.2, 5. , 5.9, 6. , 6.1, 5.6,\n",
       "       6.7, 5.6, 5.8, 6.2, 5.6, 5.9, 6.1, 6.3, 6.1, 6.4, 6.6, 6.8, 6.7,\n",
       "       6. , 5.7, 5.5, 5.5, 5.8, 6. , 5.4, 6. , 6.7, 6.3, 5.6, 5.5, 5.5,\n",
       "       6.1, 5.8, 5. , 5.6, 5.7, 5.7, 6.2, 5.1, 5.7, 6.3, 5.8, 7.1, 6.3,\n",
       "       6.5, 7.6, 4.9, 7.3, 6.7, 7.2, 6.5, 6.4, 6.8, 5.7, 5.8, 6.4, 6.5,\n",
       "       7.7, 7.7, 6. , 6.9, 5.6, 7.7, 6.3, 6.7, 7.2, 6.2, 6.1, 6.4, 7.2,\n",
       "       7.4, 7.9, 6.4, 6.3, 6.1, 7.7, 6.3, 6.4, 6. , 6.9, 6.7, 6.9, 5.8,\n",
       "       6.8, 6.7, 6.7, 6.3, 6.5, 6.2, 5.9])"
      ]
     },
     "execution_count": 6,
     "metadata": {},
     "output_type": "execute_result"
    }
   ],
   "source": [
    "iris_data['sepal length (cm)'].values"
   ]
  },
  {
   "cell_type": "code",
   "execution_count": 7,
   "metadata": {},
   "outputs": [],
   "source": [
    "# # Reshaping data for square matrix form\n",
    "# part_corr_df = pd.DataFrame(pd.concat(list(map(part_corr, xyz_combinations))), columns=['part_corr']).reset_index()\n",
    "# part_corr_matrix = part_corr_df.pivot_table(values='part_corr', index='level_0', columns='level_1')\n",
    "# part_corr_matrix\n"
   ]
  },
  {
   "cell_type": "code",
   "execution_count": null,
   "metadata": {},
   "outputs": [],
   "source": []
  },
  {
   "cell_type": "markdown",
   "metadata": {},
   "source": [
    "### Check Partial Correlations with pingouin"
   ]
  },
  {
   "cell_type": "code",
   "execution_count": null,
   "metadata": {},
   "outputs": [],
   "source": [
    "import pandas as pd\n",
    "from pingouin import partial_corr, pcorr\n",
    "from scipy.stats import spearmanr"
   ]
  },
  {
   "cell_type": "code",
   "execution_count": null,
   "metadata": {},
   "outputs": [],
   "source": [
    "df = pd.DataFrame(results)\n",
    "df['age'] = ages"
   ]
  },
  {
   "cell_type": "code",
   "execution_count": null,
   "metadata": {},
   "outputs": [],
   "source": [
    "for meas in ts_measures:\n",
    "    print(meas)\n",
    "    print(partial_corr(df, meas, 'age', x_covar='specparam', method='spearman'))\n",
    "    print(partial_corr(df, meas, 'age', covar='specparam', method='spearman'))\n",
    "    print('\\n')"
   ]
  },
  {
   "cell_type": "markdown",
   "metadata": {},
   "source": [
    "### Check partial correlations with seaborn"
   ]
  },
  {
   "cell_type": "code",
   "execution_count": null,
   "metadata": {},
   "outputs": [],
   "source": [
    "df = pd.DataFrame(results)\n",
    "df['age'] = ages"
   ]
  },
  {
   "cell_type": "code",
   "execution_count": null,
   "metadata": {},
   "outputs": [],
   "source": [
    "axi = sns.regplot(data=df, x='age', y='perm_entropy', fit_reg=False, y_partial='specparam')\n",
    "vals = axi.collections[0].get_offsets()\n",
    "a1 = np.array(vals[:, 0])\n",
    "a2 = np.array(vals[:, 1])\n",
    "print(spearmanr(a1, a2))"
   ]
  },
  {
   "cell_type": "code",
   "execution_count": null,
   "metadata": {},
   "outputs": [],
   "source": []
  },
  {
   "cell_type": "markdown",
   "metadata": {},
   "source": [
    "## SHORT LABELS"
   ]
  },
  {
   "cell_type": "code",
   "execution_count": 1,
   "metadata": {},
   "outputs": [],
   "source": [
    "# TODO - check and update labels from apm\n",
    "LABELS = {\n",
    "    'autocorr_decay_time' : 'AC Decay',\n",
    "    'dfa' : 'DFA',\n",
    "    'higuchi_fd' : 'Higuchi FD',\n",
    "    'hjorth_complexity' : 'Hjorth',\n",
    "    'lempelziv' : 'LZC',\n",
    "    'sample_entropy' : 'SampEnt',\n",
    "    'perm_entropy' : 'PermEnt',\n",
    "}"
   ]
  },
  {
   "cell_type": "code",
   "execution_count": null,
   "metadata": {},
   "outputs": [],
   "source": []
  },
  {
   "cell_type": "markdown",
   "metadata": {},
   "source": [
    "## FUZZY ENTROPY"
   ]
  },
  {
   "cell_type": "code",
   "execution_count": null,
   "metadata": {},
   "outputs": [],
   "source": [
    "from neurokit2.complexity import entropy_fuzzy"
   ]
  },
  {
   "cell_type": "code",
   "execution_count": null,
   "metadata": {},
   "outputs": [],
   "source": [
    "FZ_ENT_PARAMS = {\n",
    "    'delay' : 1,\n",
    "    'dimension' : 2,\n",
    "    'tolerance' : 0.04,\n",
    "}"
   ]
  },
  {
   "cell_type": "code",
   "execution_count": null,
   "metadata": {},
   "outputs": [],
   "source": [
    "def fuzzy_entropy(sig, **kwargs):\n",
    "    \"\"\"   \"\"\"\n",
    "\n",
    "    return entropy_fuzzy(sig, **kwargs)[0]"
   ]
  },
  {
   "cell_type": "code",
   "execution_count": null,
   "metadata": {},
   "outputs": [],
   "source": [
    "print('Computed fuzzy entropy:')\n",
    "print('  powerlaw: \\t {:1.4f}'.format(fuzzy_entropy(SIG_AP, **FZ_ENT_PARAMS)))\n",
    "print('  osc:      \\t {:1.4f}'.format(fuzzy_entropy(SIG_OSC, **FZ_ENT_PARAMS)))\n",
    "print('  combined: \\t {:1.4f}'.format(fuzzy_entropy(SIG_COMB, **FZ_ENT_PARAMS)))\n",
    "print('  knee:     \\t {:1.4f}'.format(fuzzy_entropy(SIG_KN, **FZ_ENT_PARAMS)))"
   ]
  },
  {
   "cell_type": "code",
   "execution_count": null,
   "metadata": {},
   "outputs": [],
   "source": []
  },
  {
   "cell_type": "markdown",
   "metadata": {},
   "source": [
    "## MISC"
   ]
  },
  {
   "cell_type": "code",
   "execution_count": 274,
   "metadata": {},
   "outputs": [],
   "source": [
    "from itertools import repeat\n",
    "\n",
    "import numpy as np\n",
    "from scipy.linalg import norm\n",
    "import matplotlib.pyplot as plt\n",
    "\n",
    "from neurodsp.sim.info import get_sim_func\n",
    "from neurodsp.sim.utils import modulate_signal\n",
    "from neurodsp.utils.decorators import normalize\n",
    "from neurodsp.utils.data import create_times\n",
    "from neurodsp.utils.sim import set_random_seed"
   ]
  },
  {
   "cell_type": "code",
   "execution_count": 275,
   "metadata": {},
   "outputs": [],
   "source": [
    "fs = 500\n",
    "\n",
    "height = 1\n",
    "freq = 10\n",
    "bw = 1\n",
    "\n",
    "sig_ap = np.random.rand(30000)"
   ]
  },
  {
   "cell_type": "code",
   "execution_count": 276,
   "metadata": {},
   "outputs": [
    {
     "name": "stdout",
     "output_type": "stream",
     "text": [
      "8.41 s ± 192 ms per loop (mean ± std. dev. of 7 runs, 1 loop each)\n"
     ]
    }
   ],
   "source": [
    "%%timeit\n",
    "\n",
    "set_random_seed(10)\n",
    "\n",
    "sig_len = len(sig_ap)\n",
    "times = create_times(sig_len / fs, fs)\n",
    "\n",
    "# Compute the Fourier transform of the aperiodic signal\n",
    "#   We extract the first half of the frequencies from the FFT, since the signal is real\n",
    "sig_ap_hat = np.fft.fft(sig_ap)[0:(sig_len // 2 + 1)]\n",
    "\n",
    "# Create the corresponding frequency vector, which is used to create the cosines to sum\n",
    "freqs = np.linspace(0, fs / 2, num=sig_len // 2 + 1, endpoint=True)\n",
    "\n",
    "sig_periodic = np.zeros(sig_len)\n",
    "for f_val, fft in zip(freqs, sig_ap_hat):\n",
    "\n",
    "    # Compute the sum of squares of the cosines\n",
    "    cos_times = 2 * np.pi * f_val * times\n",
    "    cos_norm = norm(np.cos(cos_times), 2) ** 2\n",
    "\n",
    "    # Compute random phase shift\n",
    "    pha = np.cos(cos_times + 2 * np.pi * np.random.rand())\n",
    "\n",
    "    # Define relative height above the aperiodic power spectrum\n",
    "    hgt = height * np.exp(-(f_val - freq) ** 2 / (2 * bw ** 2))\n",
    "\n",
    "    sig_periodic += (-np.real(fft) + np.sqrt(np.real(fft) ** 2 + \\\n",
    "        (10 ** hgt - 1) * np.abs(fft) ** 2)) / cos_norm * pha"
   ]
  },
  {
   "cell_type": "code",
   "execution_count": 277,
   "metadata": {},
   "outputs": [
    {
     "name": "stdout",
     "output_type": "stream",
     "text": [
      "8.53 s ± 300 ms per loop (mean ± std. dev. of 7 runs, 1 loop each)\n"
     ]
    }
   ],
   "source": [
    "%%timeit\n",
    "\n",
    "set_random_seed(10)\n",
    "\n",
    "sig_len = len(sig_ap)\n",
    "times = create_times(sig_len / fs, fs) * 2 * np.pi\n",
    "\n",
    "# Compute the Fourier transform of the aperiodic signal, and precompute real & abs\n",
    "#   We extract the first half of the frequencies from the FFT, since the signal is real\n",
    "sig_ap_hat = np.fft.fft(sig_ap)[0:(sig_len // 2 + 1)]\n",
    "fft_real = np.real(sig_ap_hat)\n",
    "fft_abs = np.abs(sig_ap_hat) ** 2\n",
    "\n",
    "# Create the corresponding frequency vector, which is used to create the cosines to sum\n",
    "freqs = np.linspace(0, fs / 2, num=sig_len // 2 + 1, endpoint=True)\n",
    "\n",
    "hgts = height * np.exp(-(freqs - freq) ** 2 / (2 * bw ** 2))\n",
    "hgts = 10 ** hgts - 1\n",
    "\n",
    "sig_periodic = np.zeros(sig_len)\n",
    "for f_val, fft, fft_r, fft_a, hgt in zip(freqs, sig_ap_hat, fft_real, fft_abs, hgts):\n",
    "#for f_val, fft, hgt in zip(freqs, sig_ap_hat, hgts):\n",
    "\n",
    "    # Compute the sum of squares of the cosines, and random phase shift\n",
    "    #cos_times = 2 * np.pi * times * f_val\n",
    "    cos_times = times * f_val\n",
    "    cos_norm = norm(np.cos(cos_times), 2) ** 2\n",
    "    pha = np.cos(cos_times + 2 * np.pi * np.random.rand())\n",
    "\n",
    "    #sig_periodic += (-fft_r + np.sqrt(fft_r ** 2 + (10 ** hgt - 1) * fft_a)) / cos_norm * pha\n",
    "    sig_periodic += (-fft_r + np.sqrt(fft_r ** 2 + hgt * fft_a)) / cos_norm * pha\n",
    "    #sig_periodic += (-np.real(fft) + np.sqrt(np.real(fft) ** 2 + hgt * np.abs(fft)**2)) / cos_norm * pha"
   ]
  },
  {
   "cell_type": "code",
   "execution_count": null,
   "metadata": {},
   "outputs": [],
   "source": []
  },
  {
   "cell_type": "code",
   "execution_count": 7,
   "metadata": {},
   "outputs": [
    {
     "data": {
      "text/plain": [
       "array([ 0.26575579, -0.28514229, -0.3478612 , -0.17519636, -0.16400043,\n",
       "       -0.20873803, -0.14648333, -0.41469664, -0.18927721,  0.35461226])"
      ]
     },
     "execution_count": 7,
     "metadata": {},
     "output_type": "execute_result"
    }
   ],
   "source": [
    "sig_periodic[0:10]"
   ]
  },
  {
   "cell_type": "code",
   "execution_count": 130,
   "metadata": {},
   "outputs": [
    {
     "name": "stdout",
     "output_type": "stream",
     "text": [
      "861 ms ± 39.5 ms per loop (mean ± std. dev. of 7 runs, 1 loop each)\n"
     ]
    }
   ],
   "source": [
    "%%timeit\n",
    "for f_val, fft in zip(freqs, sig_ap_hat):\n",
    "\n",
    "    # Compute the sum of squares of the cosines\n",
    "    cos_times = 2 * np.pi * f_val * times\n",
    "    cos_norm = norm(np.cos(cos_times), 2) ** 2\n",
    "\n",
    "    # Compute random phase shift\n",
    "    pha = np.cos(cos_times + 2 * np.pi * np.random.rand())"
   ]
  },
  {
   "cell_type": "code",
   "execution_count": null,
   "metadata": {},
   "outputs": [],
   "source": []
  },
  {
   "cell_type": "code",
   "execution_count": 274,
   "metadata": {},
   "outputs": [],
   "source": [
    "# #%%timeit\n",
    "# # Create the combined signal by summing periodic & aperiodic\n",
    "# sig = sig_ap + sig_periodic"
   ]
  },
  {
   "cell_type": "code",
   "execution_count": 275,
   "metadata": {},
   "outputs": [],
   "source": [
    "# #%%timeit\n",
    "\n",
    "# set_random_seed(10)\n",
    "\n",
    "# sig_ap_hat_abs = np.abs(sig_ap_hat)**2\n",
    "# sig_ap_hat_real = np.real(sig_ap_hat)\n",
    "\n",
    "# pi2 = 2 * np.pi\n",
    "# times_2pi = pi2 * times\n",
    "# bw2 = 2 * bw ** 2\n",
    "\n",
    "# sig_periodic = np.zeros(sig_len)\n",
    "# for f_val, fft, fft_abs, fft_real in zip(freqs, sig_ap_hat, sig_ap_hat_abs, sig_ap_hat_real):\n",
    "\n",
    "#     # Compute the sum of squares of the cosines\n",
    "#     cos_times = f_val * times_2pi\n",
    "#     cos_norm = norm(np.cos(cos_times), 2) ** 2\n",
    "\n",
    "#     # Compute random phase shift\n",
    "#     pha = np.cos(cos_times + 2 * np.pi * np.random.rand())\n",
    "\n",
    "#     # Define relative height above the aperiodic power spectrum\n",
    "#     hgt = height * np.exp(-(f_val - freq) ** 2 / bw2)\n",
    "\n",
    "#     sig_periodic += (-fft_real + np.sqrt(fft_real ** 2 + (10 ** hgt - 1) * fft_abs)) / cos_norm * pha"
   ]
  },
  {
   "cell_type": "code",
   "execution_count": null,
   "metadata": {},
   "outputs": [],
   "source": []
  },
  {
   "cell_type": "code",
   "execution_count": 278,
   "metadata": {
    "scrolled": true
   },
   "outputs": [
    {
     "name": "stdout",
     "output_type": "stream",
     "text": [
      "52.9 s ± 3.38 s per loop (mean ± std. dev. of 7 runs, 1 loop each)\n"
     ]
    }
   ],
   "source": [
    "%%timeit\n",
    "\n",
    "set_random_seed(10)\n",
    "\n",
    "sig_len = len(sig_ap)\n",
    "times = create_times(sig_len / fs, fs)\n",
    "\n",
    "# Compute the Fourier transform of the aperiodic signal\n",
    "#   We extract the first half of the frequencies from the FFT, since the signal is real\n",
    "sig_ap_hat = np.fft.fft(sig_ap)[0:(sig_len // 2 + 1)]\n",
    "\n",
    "# Create the corresponding frequency vector, which is used to create the cosines to sum\n",
    "freqs = np.linspace(0, fs / 2, num=sig_len // 2 + 1, endpoint=True)\n",
    "\n",
    "times_2d = np.repeat(np.atleast_2d(times * 2 * np.pi), len(freqs), 0)\n",
    "cos_times_2d = times_2d.T * freqs\n",
    "\n",
    "cos_norm_2d = norm(np.cos(cos_times_2d), 2, axis=0) ** 2\n",
    "# cos_norm_2d = np.ones_like(cos_times_2d)\n",
    "# cos_norm_2d = np.cos(cos_times_2d, out=cos_norm_2d)\n",
    "# cos_norm_2d = norm(cos_norm_2d, 2, axis=0) ** 2\n",
    "\n",
    "pha_2d = np.cos(cos_times_2d + 2 * np.pi * np.random.rand(len(freqs)))\n",
    "# pha_2d = np.ones_like(cos_times_2d)\n",
    "# pha_2d = np.cos(cos_times_2d + 2 * np.pi * np.random.rand(len(freqs)), out=pha_2d)\n",
    "\n",
    "hgts = height * np.exp(-(freqs - freq) ** 2 / (2 * bw ** 2))\n",
    "\n",
    "sig_periodic_2d = (-np.real(sig_ap_hat) + np.sqrt(np.real(sig_ap_hat) ** 2 \\\n",
    "    + (10 ** hgts - 1) * np.abs(sig_ap_hat)**2)) / cos_norm_2d * pha_2d\n",
    "\n",
    "sig_periodic = np.sum(sig_periodic_2d, 1)"
   ]
  },
  {
   "cell_type": "code",
   "execution_count": null,
   "metadata": {},
   "outputs": [],
   "source": []
  },
  {
   "cell_type": "code",
   "execution_count": 279,
   "metadata": {},
   "outputs": [
    {
     "name": "stdout",
     "output_type": "stream",
     "text": [
      "21.8 s ± 278 ms per loop (mean ± std. dev. of 7 runs, 1 loop each)\n"
     ]
    }
   ],
   "source": [
    "%%timeit\n",
    "\n",
    "set_random_seed(10)\n",
    "\n",
    "sig_len = len(sig_ap)\n",
    "times = create_times(sig_len / fs, fs)\n",
    "\n",
    "# Compute the Fourier transform of the aperiodic signal\n",
    "#   We extract the first half of the frequencies from the FFT, since the signal is real\n",
    "sig_ap_hat = np.fft.fft(sig_ap)[0:(sig_len // 2 + 1)]\n",
    "\n",
    "# Create the corresponding frequency vector, which is used to create the cosines to sum\n",
    "freqs = np.linspace(0, fs / 2, num=sig_len // 2 + 1, endpoint=True)\n",
    "\n",
    "#times_2d = np.repeat(np.atleast_2d(times * 2 * np.pi), len(freqs), 0)\n",
    "#cos_times_2d = times_2d.T * freqs\n",
    "\n",
    "cos_norm_2d = np.zeros(len(freqs))\n",
    "pha_2d = np.zeros(shape=(sig_len, len(freqs)))\n",
    "for ind, f_val in enumerate(freqs):\n",
    "\n",
    "    # Compute the sum of squares of the cosines, and a random phase shift\n",
    "    cos_times = 2 * np.pi * f_val * times\n",
    "    cos_norm_2d[ind] = norm(np.cos(cos_times), 2) ** 2\n",
    "    np.cos(cos_times + 2 * np.pi * np.random.rand(), out=pha_2d[:, ind])\n",
    "\n",
    "hgts = height * np.exp(-(freqs - freq) ** 2 / (2 * bw ** 2))\n",
    "\n",
    "sig_periodic_2d = (-np.real(sig_ap_hat) + np.sqrt(np.real(sig_ap_hat) ** 2 \\\n",
    "    + (10 ** hgts - 1) * np.abs(sig_ap_hat)**2)) / cos_norm_2d * pha_2d\n",
    "\n",
    "sig_periodic = np.sum(sig_periodic_2d, 1)"
   ]
  },
  {
   "cell_type": "code",
   "execution_count": 178,
   "metadata": {},
   "outputs": [
    {
     "name": "stdout",
     "output_type": "stream",
     "text": [
      "10.9 ms ± 94.8 µs per loop (mean ± std. dev. of 7 runs, 100 loops each)\n"
     ]
    }
   ],
   "source": [
    "%%timeit\n",
    "for f_val in freqs:\n",
    "    hgts = height * np.exp(-(f_val - freq) ** 2 / (2 * bw ** 2))"
   ]
  },
  {
   "cell_type": "code",
   "execution_count": null,
   "metadata": {},
   "outputs": [],
   "source": []
  },
  {
   "cell_type": "code",
   "execution_count": 177,
   "metadata": {},
   "outputs": [
    {
     "name": "stdout",
     "output_type": "stream",
     "text": [
      "30.7 µs ± 372 ns per loop (mean ± std. dev. of 7 runs, 10,000 loops each)\n"
     ]
    }
   ],
   "source": [
    "%%timeit\n",
    "hgts = height * np.exp(-(freqs - freq) ** 2 / (2 * bw ** 2))"
   ]
  },
  {
   "cell_type": "code",
   "execution_count": 175,
   "metadata": {},
   "outputs": [
    {
     "name": "stdout",
     "output_type": "stream",
     "text": [
      "754 ms ± 8.7 ms per loop (mean ± std. dev. of 7 runs, 1 loop each)\n"
     ]
    }
   ],
   "source": [
    "%%timeit\n",
    "times_2d = np.repeat(np.atleast_2d(times * 2 * np.pi), len(freqs), 0)\n",
    "cos_times_2d = times_2d.T * freqs"
   ]
  },
  {
   "cell_type": "code",
   "execution_count": 174,
   "metadata": {},
   "outputs": [
    {
     "name": "stdout",
     "output_type": "stream",
     "text": [
      "2.7 s ± 55.1 ms per loop (mean ± std. dev. of 7 runs, 1 loop each)\n"
     ]
    }
   ],
   "source": [
    "%%timeit\n",
    "cos_norm_2d = np.zeros(len(freqs))\n",
    "pha_2d = np.zeros(shape=(sig_len, len(freqs)))\n",
    "for ind, f_val in enumerate(freqs):\n",
    "\n",
    "    # Compute the sum of squares of the cosines, and a random phase shift\n",
    "    cos_times = 2 * np.pi * f_val * times\n",
    "    cos_norm_2d[ind] = norm(np.cos(cos_times), 2) ** 2\n",
    "    np.cos(cos_times + 2 * np.pi * np.random.rand(), out=pha_2d[:, ind])"
   ]
  },
  {
   "cell_type": "code",
   "execution_count": null,
   "metadata": {},
   "outputs": [],
   "source": []
  },
  {
   "cell_type": "code",
   "execution_count": 169,
   "metadata": {},
   "outputs": [
    {
     "name": "stdout",
     "output_type": "stream",
     "text": [
      "392 ms ± 10.2 ms per loop (mean ± std. dev. of 7 runs, 1 loop each)\n"
     ]
    }
   ],
   "source": [
    "%%timeit\n",
    "sig_periodic_2d = (-np.real(sig_ap_hat) + np.sqrt(np.real(sig_ap_hat) ** 2 \\\n",
    "    + (10 ** hgts - 1) * np.abs(sig_ap_hat)**2)) / cos_norm_2d * pha_2d"
   ]
  },
  {
   "cell_type": "code",
   "execution_count": null,
   "metadata": {},
   "outputs": [],
   "source": []
  },
  {
   "cell_type": "code",
   "execution_count": 165,
   "metadata": {},
   "outputs": [
    {
     "name": "stdout",
     "output_type": "stream",
     "text": [
      "3.33 s ± 39.8 ms per loop (mean ± std. dev. of 7 runs, 1 loop each)\n"
     ]
    }
   ],
   "source": [
    "%%timeit\n",
    "cos_norm_2d = norm(np.cos(cos_times_2d), 2, axis=0) ** 2\n",
    "pha_2d = np.cos(cos_times_2d + 2 * np.pi * np.random.rand(len(freqs)))"
   ]
  },
  {
   "cell_type": "code",
   "execution_count": null,
   "metadata": {},
   "outputs": [],
   "source": []
  },
  {
   "cell_type": "code",
   "execution_count": 163,
   "metadata": {},
   "outputs": [
    {
     "name": "stdout",
     "output_type": "stream",
     "text": [
      "1.11 s ± 40.6 ms per loop (mean ± std. dev. of 7 runs, 1 loop each)\n"
     ]
    }
   ],
   "source": [
    "%%timeit\n",
    "pha_2d = np.zeros(shape=(sig_len, len(freqs)))\n",
    "for ind, f_val in enumerate(freqs):\n",
    "\n",
    "    # Compute the sum of squares of the cosines, and a random phase shift\n",
    "    cos_times = 2 * np.pi * f_val * times\n",
    "    cos_norm = norm(np.cos(cos_times), 2) ** 2\n",
    "    np.cos(cos_times + 2 * np.pi * np.random.rand(), out=pha_2d[:, ind])"
   ]
  },
  {
   "cell_type": "code",
   "execution_count": 122,
   "metadata": {},
   "outputs": [
    {
     "name": "stdout",
     "output_type": "stream",
     "text": [
      "1.1 s ± 22.7 ms per loop (mean ± std. dev. of 7 runs, 1 loop each)\n"
     ]
    }
   ],
   "source": [
    "%%timeit\n",
    "pha_2d = np.zeros(shape=(sig_len, len(freqs)))\n",
    "for ind, f_val in enumerate(freqs):\n",
    "\n",
    "    # Compute the sum of squares of the cosines, and a random phase shift\n",
    "    cos_times = 2 * np.pi * f_val * times\n",
    "    temp = np.zeros(sig_len)\n",
    "    np.cos(cos_times, out=temp)\n",
    "    cos_norm = norm(temp, 2) ** 2\n",
    "    np.cos(cos_times + 2 * np.pi * np.random.rand(), out=pha_2d[:, ind])"
   ]
  },
  {
   "cell_type": "code",
   "execution_count": null,
   "metadata": {},
   "outputs": [],
   "source": []
  },
  {
   "cell_type": "code",
   "execution_count": 99,
   "metadata": {},
   "outputs": [
    {
     "name": "stdout",
     "output_type": "stream",
     "text": [
      "85.2 µs ± 2.4 µs per loop (mean ± std. dev. of 7 runs, 10,000 loops each)\n"
     ]
    }
   ],
   "source": [
    "%%timeit\n",
    "norm(np.cos(cos_times), 2) ** 2"
   ]
  },
  {
   "cell_type": "code",
   "execution_count": 102,
   "metadata": {},
   "outputs": [
    {
     "name": "stdout",
     "output_type": "stream",
     "text": [
      "78.6 µs ± 1.39 µs per loop (mean ± std. dev. of 7 runs, 10,000 loops each)\n"
     ]
    }
   ],
   "source": [
    "#%%timeit\n",
    "aa = np.cos(cos_times)"
   ]
  },
  {
   "cell_type": "code",
   "execution_count": 103,
   "metadata": {},
   "outputs": [
    {
     "name": "stdout",
     "output_type": "stream",
     "text": [
      "9.2 µs ± 129 ns per loop (mean ± std. dev. of 7 runs, 100,000 loops each)\n"
     ]
    }
   ],
   "source": [
    "%%timeit\n",
    "norm(aa, 2) **2"
   ]
  },
  {
   "cell_type": "code",
   "execution_count": null,
   "metadata": {},
   "outputs": [],
   "source": []
  },
  {
   "cell_type": "code",
   "execution_count": 89,
   "metadata": {},
   "outputs": [
    {
     "name": "stdout",
     "output_type": "stream",
     "text": [
      "2.49 µs ± 75.1 ns per loop (mean ± std. dev. of 7 runs, 100,000 loops each)\n"
     ]
    }
   ],
   "source": [
    "%%timeit\n",
    "pha_2d = np.zeros(shape=(sig_len, len(freqs)))"
   ]
  },
  {
   "cell_type": "code",
   "execution_count": null,
   "metadata": {},
   "outputs": [],
   "source": []
  },
  {
   "cell_type": "code",
   "execution_count": 74,
   "metadata": {},
   "outputs": [
    {
     "name": "stdout",
     "output_type": "stream",
     "text": [
      "1.49 s ± 20.2 ms per loop (mean ± std. dev. of 7 runs, 1 loop each)\n"
     ]
    }
   ],
   "source": [
    "%%timeit\n",
    "cos_norm_2d = norm(np.cos(cos_times_2d), 2, axis=0) ** 2\n",
    "pha_2d = np.cos(cos_times_2d + 2 * np.pi * np.random.rand(len(freqs)))"
   ]
  },
  {
   "cell_type": "code",
   "execution_count": 63,
   "metadata": {},
   "outputs": [
    {
     "data": {
      "text/plain": [
       "array([10000.,  5000.,  5000., ...,  5000.,  5000., 10000.])"
      ]
     },
     "execution_count": 63,
     "metadata": {},
     "output_type": "execute_result"
    }
   ],
   "source": [
    "#%%timeit\n",
    "cos_norm_2d = norm(np.cos(cos_times_2d), 2, axis=0) ** 2\n",
    "cos_norm_2d"
   ]
  },
  {
   "cell_type": "code",
   "execution_count": 64,
   "metadata": {},
   "outputs": [
    {
     "data": {
      "text/plain": [
       "array([10000.,  5000.,  5000., ...,  5000.,  5000., 10000.])"
      ]
     },
     "execution_count": 64,
     "metadata": {},
     "output_type": "execute_result"
    }
   ],
   "source": [
    "#%%timeit\n",
    "cos_norm_2d = np.ones_like(cos_times_2d)\n",
    "cos_norm_2d = np.cos(cos_times_2d, out=cos_norm_2d)\n",
    "cos_norm_2d = norm(cos_norm_2d, 2, axis=0) ** 2"
   ]
  },
  {
   "cell_type": "code",
   "execution_count": 71,
   "metadata": {},
   "outputs": [
    {
     "data": {
      "text/plain": [
       "array([[0.00000000e+00, 0.00000000e+00, 0.00000000e+00, ...,\n",
       "        0.00000000e+00, 0.00000000e+00, 0.00000000e+00],\n",
       "       [0.00000000e+00, 6.28318531e-04, 1.25663706e-03, ...,\n",
       "        3.14033602e+00, 3.14096434e+00, 3.14159265e+00],\n",
       "       [0.00000000e+00, 1.25663706e-03, 2.51327412e-03, ...,\n",
       "        6.28067203e+00, 6.28192867e+00, 6.28318531e+00],\n",
       "       ...,\n",
       "       [0.00000000e+00, 6.28130035e+00, 1.25626007e+01, ...,\n",
       "        3.13939392e+04, 3.14002205e+04, 3.14065018e+04],\n",
       "       [0.00000000e+00, 6.28192867e+00, 1.25638573e+01, ...,\n",
       "        3.13970795e+04, 3.14033614e+04, 3.14096434e+04],\n",
       "       [0.00000000e+00, 6.28255699e+00, 1.25651140e+01, ...,\n",
       "        3.14002198e+04, 3.14065024e+04, 3.14127849e+04]])"
      ]
     },
     "execution_count": 71,
     "metadata": {},
     "output_type": "execute_result"
    }
   ],
   "source": [
    "cos_times_2d"
   ]
  },
  {
   "cell_type": "code",
   "execution_count": null,
   "metadata": {},
   "outputs": [],
   "source": []
  },
  {
   "cell_type": "code",
   "execution_count": 47,
   "metadata": {},
   "outputs": [
    {
     "name": "stdout",
     "output_type": "stream",
     "text": [
      "312 ms ± 8.86 ms per loop (mean ± std. dev. of 7 runs, 1 loop each)\n"
     ]
    }
   ],
   "source": [
    "%%timeit\n",
    "times_2d = np.repeat(np.atleast_2d(times * 2 * np.pi), len(freqs), 0)\n",
    "cos_times_2d = times_2d.T * freqs"
   ]
  },
  {
   "cell_type": "code",
   "execution_count": 371,
   "metadata": {},
   "outputs": [
    {
     "name": "stdout",
     "output_type": "stream",
     "text": [
      "745 µs ± 22.9 µs per loop (mean ± std. dev. of 7 runs, 1,000 loops each)\n"
     ]
    }
   ],
   "source": [
    "%%timeit\n",
    "times_2d = np.repeat(np.atleast_2d(times * 2 * np.pi), len(freqs), 0)\n",
    "cos_times_2d = times_2d * np.atleast_2d(freqs).T"
   ]
  },
  {
   "cell_type": "code",
   "execution_count": 372,
   "metadata": {},
   "outputs": [
    {
     "name": "stdout",
     "output_type": "stream",
     "text": [
      "1.26 ms ± 27 µs per loop (mean ± std. dev. of 7 runs, 1,000 loops each)\n"
     ]
    }
   ],
   "source": [
    "%%timeit\n",
    "times_2d = np.ones([len(freqs), sig_len]) * (times * (2 * np.pi))\n",
    "cos_times_2d =  times_2d * np.atleast_2d(freqs).T"
   ]
  },
  {
   "cell_type": "code",
   "execution_count": 373,
   "metadata": {},
   "outputs": [
    {
     "name": "stdout",
     "output_type": "stream",
     "text": [
      "1.29 ms ± 21.4 µs per loop (mean ± std. dev. of 7 runs, 1,000 loops each)\n"
     ]
    }
   ],
   "source": [
    "%%timeit\n",
    "times_2d = np.ones([sig_len, len(freqs)]) * (np.atleast_2d(times).T * (2 * np.pi))\n",
    "cos_times_2d =  times_2d * np.atleast_2d(freqs)"
   ]
  },
  {
   "cell_type": "code",
   "execution_count": null,
   "metadata": {},
   "outputs": [],
   "source": []
  },
  {
   "cell_type": "code",
   "execution_count": 255,
   "metadata": {},
   "outputs": [
    {
     "name": "stdout",
     "output_type": "stream",
     "text": [
      "5.18 ms ± 81.5 µs per loop (mean ± std. dev. of 7 runs, 100 loops each)\n"
     ]
    }
   ],
   "source": [
    "%%timeit\n",
    "times_2d = np.repeat(np.atleast_2d(times * pi2), len(freqs), 0)\n",
    "cos_times_2d = times_2d.T * freqs\n",
    "cos_norm_2d = norm(np.cos(cos_times_2d), 2, axis=0) ** 2\n",
    "#pha_2d = np.cos(cos_times_2d + 2 * np.pi * np.random.rand(len(freqs)))\n"
   ]
  },
  {
   "cell_type": "code",
   "execution_count": null,
   "metadata": {},
   "outputs": [],
   "source": []
  },
  {
   "cell_type": "code",
   "execution_count": null,
   "metadata": {},
   "outputs": [],
   "source": [
    "# Note: in NDSP, update `get_sim_func` to accept a string input (single module)"
   ]
  },
  {
   "cell_type": "markdown",
   "metadata": {},
   "source": [
    "## SIM KNEES"
   ]
  },
  {
   "cell_type": "code",
   "execution_count": 53,
   "metadata": {},
   "outputs": [],
   "source": [
    "import numpy as np\n",
    "from neurodsp.sim import sim_synaptic_kernel, sim_synaptic_current\n",
    "from neurodsp.spectral import compute_spectrum\n",
    "from neurodsp.plts.spectral import plot_power_spectra"
   ]
  },
  {
   "cell_type": "code",
   "execution_count": 54,
   "metadata": {},
   "outputs": [],
   "source": [
    "from fooof import FOOOF\n",
    "from fooof.utils.params import compute_knee_frequency"
   ]
  },
  {
   "cell_type": "code",
   "execution_count": 20,
   "metadata": {},
   "outputs": [],
   "source": [
    "fs = 2000.\n",
    "t_sim = 2.\n",
    "t_ker = np.arange(0,t_sim,1/fs)\n",
    "t_r = 0\n",
    "t_ds = np.arange(0.005,0.08,0.01)\n",
    "f_to_plot=200"
   ]
  },
  {
   "cell_type": "code",
   "execution_count": 21,
   "metadata": {},
   "outputs": [
    {
     "data": {
      "text/plain": [
       "array([0.005, 0.015, 0.025, 0.035, 0.045, 0.055, 0.065, 0.075])"
      ]
     },
     "execution_count": 21,
     "metadata": {},
     "output_type": "execute_result"
    }
   ],
   "source": [
    "t_ds"
   ]
  },
  {
   "cell_type": "code",
   "execution_count": null,
   "metadata": {},
   "outputs": [],
   "source": []
  },
  {
   "cell_type": "code",
   "execution_count": null,
   "metadata": {},
   "outputs": [],
   "source": [
    "upd_exp = lambda params, val : params.update({'exponent' : val})"
   ]
  },
  {
   "cell_type": "code",
   "execution_count": 65,
   "metadata": {},
   "outputs": [],
   "source": [
    "# Set knee ranges - defined based on the `tau_d` parameter of synaptic current function\n",
    "KNEES = np.arange(0.005, 0.08, 0.01)\n",
    "\n",
    "\n",
    "# Update knee, based on setting the decay time constant\n",
    "upd_knee = lambda params, val : params.update({'tau_d' : val})"
   ]
  },
  {
   "cell_type": "code",
   "execution_count": 238,
   "metadata": {},
   "outputs": [],
   "source": []
  },
  {
   "cell_type": "code",
   "execution_count": 256,
   "metadata": {},
   "outputs": [],
   "source": [
    "N_SECONDS = 30\n",
    "FS = 500"
   ]
  },
  {
   "cell_type": "code",
   "execution_count": 257,
   "metadata": {},
   "outputs": [],
   "source": [
    "sigs = []\n",
    "for tau_d in KNEES:\n",
    "    sig = sim_synaptic_current(N_SECONDS, FS, tau_d=tau_d)\n",
    "    sigs.append(sig)"
   ]
  },
  {
   "cell_type": "code",
   "execution_count": 258,
   "metadata": {},
   "outputs": [],
   "source": [
    "powers = []\n",
    "for sig in sigs:\n",
    "    freqs, pows = compute_spectrum(sig, FS)\n",
    "    powers.append(pows)"
   ]
  },
  {
   "cell_type": "code",
   "execution_count": 259,
   "metadata": {},
   "outputs": [
    {
     "data": {
      "image/png": "[encoded data removed]",
      "text/plain": [
       "<Figure size 600x600 with 1 Axes>"
      ]
     },
     "metadata": {},
     "output_type": "display_data"
    }
   ],
   "source": [
    "plot_power_spectra(freqs, powers)"
   ]
  },
  {
   "cell_type": "code",
   "execution_count": 260,
   "metadata": {},
   "outputs": [],
   "source": [
    "fm = FOOOF(max_n_peaks=0, aperiodic_mode='knee', verbose=False)"
   ]
  },
  {
   "cell_type": "code",
   "execution_count": 261,
   "metadata": {},
   "outputs": [],
   "source": [
    "knees = []\n",
    "for pows in powers:\n",
    "    fm.fit(freqs, pows)\n",
    "    knees.append(fm.get_params('aperiodic', 'knee'))"
   ]
  },
  {
   "cell_type": "code",
   "execution_count": 262,
   "metadata": {},
   "outputs": [],
   "source": [
    "knee_freqs = []\n",
    "for knee in knees:\n",
    "    knee_freqs.append(compute_knee_frequency(knee, 2))"
   ]
  },
  {
   "cell_type": "code",
   "execution_count": 263,
   "metadata": {},
   "outputs": [
    {
     "data": {
      "text/plain": [
       "[28.59710565537666,\n",
       " 10.618645691661234,\n",
       " 4.402890328656487,\n",
       " 1.9976192032353552,\n",
       " 0.8808161557490015]"
      ]
     },
     "execution_count": 263,
     "metadata": {},
     "output_type": "execute_result"
    }
   ],
   "source": [
    "knee_freqs"
   ]
  },
  {
   "cell_type": "code",
   "execution_count": 264,
   "metadata": {},
   "outputs": [
    {
     "data": {
      "text/plain": [
       "array([0.002, 0.005, 0.015, 0.04 , 0.07 ])"
      ]
     },
     "execution_count": 264,
     "metadata": {},
     "output_type": "execute_result"
    }
   ],
   "source": [
    "KNEES"
   ]
  },
  {
   "cell_type": "code",
   "execution_count": 155,
   "metadata": {},
   "outputs": [],
   "source": [
    "\n",
    "\n",
    "# kernels = []\n",
    "# # get synaptic kernels\n",
    "# for t_d in t_ds:\n",
    "#     ker = sim.sim_synaptic_kernel(t_sim, fs, tau_r=t_r, tau_d=t_d)\n",
    "#     kernels.append(ker/ker[0])"
   ]
  },
  {
   "cell_type": "code",
   "execution_count": null,
   "metadata": {},
   "outputs": [],
   "source": []
  },
  {
   "cell_type": "code",
   "execution_count": null,
   "metadata": {},
   "outputs": [],
   "source": [
    "alphas = []\n",
    "fm = FOOOF(verbose=False)\n",
    "for ind, sig in enumerate(all_data):\n",
    "    freqs, powers = compute_spectrum(sig, fs=fs, f_range=f_range)\n",
    "    fm.fit(freqs, powers)\n",
    "    alphas.append(np.max(fm.get_params('peak', 'PW')))"
   ]
  },
  {
   "cell_type": "code",
   "execution_count": null,
   "metadata": {},
   "outputs": [],
   "source": []
  },
  {
   "cell_type": "markdown",
   "metadata": {},
   "source": [
    "## EXTRA FUNCTIONS"
   ]
  },
  {
   "cell_type": "code",
   "execution_count": 1,
   "metadata": {},
   "outputs": [],
   "source": [
    "def save_figure(save_fig, file_name, file_path):\n",
    "    \"\"\"Save out a figure.\"\"\"\n",
    "\n",
    "    if save_fig:\n",
    "        plt.tight_layout()\n",
    "        file_name = file_name + SAVE_EXT\n",
    "\n",
    "        if not os.path.isdir(os.path.join(APMDB().figs_path, file_path)):\n",
    "            os.mkdir(os.path.join(APMDB().figs_path, file_path))\n",
    "\n",
    "        plt.savefig(os.path.join(APMDB().figs_path, file_path, file_name))"
   ]
  },
  {
   "cell_type": "code",
   "execution_count": 2,
   "metadata": {},
   "outputs": [],
   "source": [
    "def custom_psd_style(ax, **kwargs):\n",
    "    \"\"\"Define custom styling for the PSD plots.\"\"\"\n",
    "\n",
    "    ax.set_xticks([], minor=True)\n",
    "    ax.set_yticks([], minor=True)\n",
    "\n",
    "    ax.axes.get_xaxis().set_ticks([])\n",
    "    ax.axes.get_yaxis().set_ticks([])\n",
    "\n",
    "    plt.tight_layout()"
   ]
  },
  {
   "cell_type": "code",
   "execution_count": null,
   "metadata": {},
   "outputs": [],
   "source": []
  },
  {
   "cell_type": "code",
   "execution_count": 1,
   "metadata": {},
   "outputs": [],
   "source": [
    "def sampler(values, probs=None):\n",
    "    \"\"\"Create a generator to sample from a parameter range.\"\"\"\n",
    "        \n",
    "    # Check that length of options is same as length of probs, if provided\n",
    "    if np.any(probs):\n",
    "        if len(inds) != len(probs):\n",
    "            raise ValueError(\"The number of options must match the number of probabilities.\")\n",
    "    \n",
    "    while True:\n",
    "        yield np.random.choice(values, p=probs)\n",
    "        \n",
    "\n",
    "def stepper(start, stop, step):\n",
    "    \"\"\"Create a generator to step across a parameter range.\n",
    "    \n",
    "    Parameters\n",
    "    ----------\n",
    "    start\n",
    "    \n",
    "    \n",
    "    \"\"\"\n",
    "    \n",
    "    for val in np.arange(start, stop, step):\n",
    "        yield(val)\n",
    "\n",
    "        \n",
    "# def sample_vals(sim_params, sampler, update):\n",
    "#     \"\"\"   \"\"\"\n",
    "#     while True:\n",
    "#         val = next(sampler)\n",
    "#         update(sim_params, val)\n",
    "#         yield sim_params"
   ]
  }
 ],
 "metadata": {
  "kernelspec": {
   "display_name": "Python 3 (ipykernel)",
   "language": "python",
   "name": "python3"
  },
  "language_info": {
   "codemirror_mode": {
    "name": "ipython",
    "version": 3
   },
   "file_extension": ".py",
   "mimetype": "text/x-python",
   "name": "python",
   "nbconvert_exporter": "python",
   "pygments_lexer": "ipython3",
   "version": "3.9.17"
  }
 },
 "nbformat": 4,
 "nbformat_minor": 4
}
