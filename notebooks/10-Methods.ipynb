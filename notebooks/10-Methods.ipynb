{
 "cells": [
  {
   "cell_type": "markdown",
   "metadata": {},
   "source": [
    "# Methods\n",
    "\n",
    "Methods that are included in this project:\n",
    "\n",
    "- 11-SpectralFitting: measuring aperiodic parameters by fitting the power spectrum\n",
    "    - methods: line fitting, robust line fitting, spectral parameterization\n",
    "- 12-IRASA: the irregular resampling and auto-spectral analysis algorithm\n",
    "    - methods: IRASA\n",
    "- 13-AutoCorrelation: auto-correlation measures\n",
    "    - methods: auto correlation\n",
    "- 14-Fluctuations: includes the Hurst exponent and \n",
    "    - methods: Hurst exponent, detrended fluctuation analysis (DFA)\n",
    "- 15-Complexity: time series complexity measures, including \n",
    "    - methods: Hjorth parameters, fractal measures: Higuchi, Katz, Petrosian\n",
    "- 16-Information: information\n",
    "    - sample entropy, permutation entropy, approximate entropy, spectral entropy"
   ]
  },
  {
   "cell_type": "code",
   "execution_count": null,
   "metadata": {},
   "outputs": [],
   "source": []
  }
 ],
 "metadata": {
  "kernelspec": {
   "display_name": "Python 3",
   "language": "python",
   "name": "python3"
  },
  "language_info": {
   "codemirror_mode": {
    "name": "ipython",
    "version": 3
   },
   "file_extension": ".py",
   "mimetype": "text/x-python",
   "name": "python",
   "nbconvert_exporter": "python",
   "pygments_lexer": "ipython3",
   "version": "3.8.3"
  }
 },
 "nbformat": 4,
 "nbformat_minor": 4
}
