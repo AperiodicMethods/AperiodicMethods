{
 "cells": [
  {
   "cell_type": "markdown",
   "metadata": {},
   "source": [
    "# Methods\n",
    "\n",
    "This section introduces the methods that will be examined, and characterizes them with a series of simulations."
   ]
  },
  {
   "cell_type": "markdown",
   "metadata": {},
   "source": [
    "## Overview\n",
    "\n",
    "Methods that are included in this project:\n",
    "\n",
    "- 11-SpectralFitting: measuring aperiodic parameters by fitting the power spectrum\n",
    "    - methods: line fitting, robust line fitting, spectral parameterization\n",
    "- 12-IRASA: the irregular resampling and auto-spectral analysis algorithm\n",
    "    - methods: IRASA\n",
    "- 13-AutoCorrelation: auto-correlation measures\n",
    "    - methods: auto correlation\n",
    "- 14-Fluctuations: includes the Hurst exponent and \n",
    "    - methods: Hurst exponent, detrended fluctuation analysis (DFA)\n",
    "- 15-Complexity: time series complexity measures, including \n",
    "    - methods: Hjorth parameters, fractal measures: Higuchi, Katz, Petrosian\n",
    "- 16-Information: information\n",
    "    - sample entropy, permutation entropy, approximate entropy, spectral entropy"
   ]
  },
  {
   "cell_type": "markdown",
   "metadata": {},
   "source": [
    "## Code Approach\n",
    "\n",
    "Here, we will briefly introduce the general strategy and code used to run the simulations. "
   ]
  },
  {
   "cell_type": "markdown",
   "metadata": {},
   "source": [
    "### run_sims\n",
    "\n",
    "The overarching function used to run simulations in this section is `run_sims`. \n",
    "\n",
    "This approach allows for:\n",
    "- defining a procedure to simulate time series\n",
    "- defining a measure of interest to apply to the simulated time series\n",
    "- applying this measure across simulated instances, sweeping across parameter ranges"
   ]
  },
  {
   "cell_type": "code",
   "execution_count": 1,
   "metadata": {},
   "outputs": [],
   "source": [
    "# Import the `run_sims` function from the custom code folder\n",
    "import sys; from pathlib import Path\n",
    "sys.path.append(str(Path('..').resolve()))\n",
    "from apm.run import run_sims"
   ]
  },
  {
   "cell_type": "code",
   "execution_count": 2,
   "metadata": {},
   "outputs": [
    {
     "name": "stdout",
     "output_type": "stream",
     "text": [
      "Compute a measure of interest across a set of simulations.\n",
      "\n",
      "    Parameters\n",
      "    ----------\n",
      "    sim_func : callable\n",
      "        A function to create the simulations from.\n",
      "    sim_params : dict\n",
      "        Input arguments for `sim_func`.\n",
      "    measure_func : callable\n",
      "        A measure function to apply to the simulated data.\n",
      "    measure_params : dict\n",
      "        Input arguments for `measure_func`.\n",
      "    values : list or 1d array\n",
      "        A parameter to step across and re-run measure calculations for.\n",
      "    update : {'update_exp', 'update_freq', 'update_pow', 'update_comb_exp'} or callable\n",
      "        Specifies which parameter to update in simulation parameters.\n",
      "    n_sims : int, optional, default: 10\n",
      "        The number of iterations to simulate and calculate measures, per value.\n",
      "\n",
      "    Returns\n",
      "    -------\n",
      "    measures : 1d array\n",
      "        The results of the measures applied to the set of simulations.\n",
      "\n",
      "    Notes\n",
      "    -----\n",
      "    The mean measure across `n_sims` of simulations if computed and returned.\n",
      "    \n"
     ]
    }
   ],
   "source": [
    "# Check the documentation for `run_sims`\n",
    "print(run_sims.__doc__)"
   ]
  },
  {
   "cell_type": "markdown",
   "metadata": {},
   "source": [
    "Next, we can run an example of using `run_sims`.\n",
    "\n",
    "To do so, we will define an example analysis to apply a measure of interest (here, variance) across some simulations of 1/f (powerlaw) data."
   ]
  },
  {
   "cell_type": "code",
   "execution_count": 3,
   "metadata": {},
   "outputs": [],
   "source": [
    "import numpy as np\n",
    "\n",
    "from neurodsp.sim import sim_powerlaw\n",
    "\n",
    "from apm.sim.settings import SIM_PARAMS_AP"
   ]
  },
  {
   "cell_type": "code",
   "execution_count": 4,
   "metadata": {},
   "outputs": [],
   "source": [
    "# Define settings for simulation\n",
    "exponents = [1, 1.5, 2]\n",
    "n_sims = 2"
   ]
  },
  {
   "cell_type": "code",
   "execution_count": 5,
   "metadata": {},
   "outputs": [],
   "source": [
    "# Run simulations across \n",
    "out = run_sims(sim_powerlaw, SIM_PARAMS_AP, np.var, {}, \n",
    "               exponents, 'update_exp', n_sims=n_sims)"
   ]
  },
  {
   "cell_type": "markdown",
   "metadata": {},
   "source": [
    "### Evaluating Results\n",
    "\n",
    "After computing the measures, we can examine the results, across different simulation parameters.\n",
    "\n",
    "Where possible, we also evaluate the accuracy of the computed measures given the expected answer based on the simulated parameters.\n",
    "\n",
    "Note that in our example case, computing the variance, the simulated signals are normalized such that they all have a variance of 1. "
   ]
  },
  {
   "cell_type": "code",
   "execution_count": 6,
   "metadata": {},
   "outputs": [
    {
     "data": {
      "text/plain": [
       "[1.0, 1.0, 1.0]"
      ]
     },
     "execution_count": 6,
     "metadata": {},
     "output_type": "execute_result"
    }
   ],
   "source": [
    "# Check output values of the simulations\n",
    "out"
   ]
  },
  {
   "cell_type": "code",
   "execution_count": 7,
   "metadata": {},
   "outputs": [],
   "source": [
    "# Import a plot function to visualize the computed measures\n",
    "from apm.plts import plot_lines"
   ]
  },
  {
   "cell_type": "code",
   "execution_count": 8,
   "metadata": {},
   "outputs": [
    {
     "data": {
      "image/png": "[encoded data removed]",
      "text/plain": [
       "<Figure size 432x288 with 1 Axes>"
      ]
     },
     "metadata": {
      "needs_background": "light"
     },
     "output_type": "display_data"
    }
   ],
   "source": [
    "# Plot the computed measures across the different simulation parameters\n",
    "plot_lines(exponents, out, xlabel='Exponent', ylabel='Variance')"
   ]
  }
 ],
 "metadata": {
  "kernelspec": {
   "display_name": "Python 3",
   "language": "python",
   "name": "python3"
  },
  "language_info": {
   "codemirror_mode": {
    "name": "ipython",
    "version": 3
   },
   "file_extension": ".py",
   "mimetype": "text/x-python",
   "name": "python",
   "nbconvert_exporter": "python",
   "pygments_lexer": "ipython3",
   "version": "3.8.3"
  }
 },
 "nbformat": 4,
 "nbformat_minor": 4
}
