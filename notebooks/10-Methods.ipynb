{
 "cells": [
  {
   "cell_type": "markdown",
   "metadata": {},
   "source": [
    "# Methods\n",
    "\n",
    "This section introduces and characterizes the methods included in this project. "
   ]
  },
  {
   "cell_type": "markdown",
   "metadata": {},
   "source": [
    "## Overview\n",
    "\n",
    "In this section, each method is examined independently, and applied to simulated data, to evaluate it's performance across plausible parameter variations.\n",
    "\n",
    "Where possible, simulation testing includes estimating the accuracy of each method. For example, the accuracy of methods that estimate 1/f exponents can be evaluated on data simulated to have particular characteristics, and the same can be done for measures that have analytical solutions for expected values on certain kinds of data. In other cases, the analytically expected results are unknown, in which case the simulations are used to characterize how the measures relate to variations across parameters of the simulated data. "
   ]
  },
  {
   "cell_type": "markdown",
   "metadata": {},
   "source": [
    "## Contents\n",
    "\n",
    "Methods that are included in this project:\n",
    "\n",
    "- `11-SpectralFitting`: measuring aperiodic parameters by fitting the power spectrum\n",
    "    - methods: line fitting, robust line fitting, spectral parameterization\n",
    "- `12-IRASA`: the irregular resampling and auto-spectral analysis algorithm\n",
    "    - methods: IRASA\n",
    "- `13-AutoCorrelation`: auto-correlation measures\n",
    "    - methods: auto correlation\n",
    "- `14-Fluctuations`: includes the Hurst exponent and \n",
    "    - methods: Hurst exponent, detrended fluctuation analysis (DFA)\n",
    "- `15-Complexity`: time series complexity measures\n",
    "    - methods: Hjorth parameters, Lyupanov exponent\n",
    "- `16-Fractal`: time series fractal dimension measures\n",
    "    - methods: Higuchi fractal dimension, Katz fractal dimension, Petrosian fractal dimension, Sevcik fractal dimension\n",
    "- `17-Information`: information theory / entropy measures\n",
    "    - approximate entropy, sample entropy, permutation entropy, weighted permutation entropy\n",
    "- `18-MultiscaleEntropy`: multiscale information theory / entropy measures\n",
    "    - multiscale approximate entropy, multiscale sample entropy, multiscale permutation entropy, multiscale weighted permutation entropy"
   ]
  },
  {
   "cell_type": "markdown",
   "metadata": {},
   "source": [
    "## Simulations\n",
    "\n",
    "In this section, we will use simulated data to characterize methods. \n",
    "\n",
    "### Aperiodic Variations\n",
    "\n",
    "Calculate measures on simulated signals, across variations of aperiodic parameters.\n",
    "\n",
    "Parameter sweeps include:\n",
    "- variation of aperiodic exponent of powerlaw signals\n",
    "- variation of aperiodic exponent of powerlaw signals with an oscillation present\n",
    "\n",
    "### Periodic Variations\n",
    "\n",
    "Calculate measures on simulated combined signals, with an oscillation and powerlaw components, across variations of oscillatory parameters.\n",
    "\n",
    "Parameter sweeps include:\n",
    "- variation of oscillation frequency\n",
    "- variation of oscillation power"
   ]
  },
  {
   "cell_type": "markdown",
   "metadata": {},
   "source": [
    "## Code Approach\n",
    "\n",
    "Here, we will briefly introduce the general strategy and code used to run the simulations. \n",
    "\n",
    "### run_sims\n",
    "\n",
    "The overarching function used to run simulations in this section is `run_sims`. \n",
    "\n",
    "This approach allows for:\n",
    "- defining a procedure to simulate time series\n",
    "- defining a measure of interest to apply to the simulated time series\n",
    "- applying this measure across simulated instances, sweeping across parameter ranges"
   ]
  },
  {
   "cell_type": "code",
   "execution_count": 1,
   "metadata": {},
   "outputs": [],
   "source": [
    "# Import the `run_sims` function from the custom code folder\n",
    "import sys; from pathlib import Path\n",
    "sys.path.append(str(Path('..').resolve()))\n",
    "from apm.run import run_sims"
   ]
  },
  {
   "cell_type": "code",
   "execution_count": 2,
   "metadata": {},
   "outputs": [
    {
     "name": "stdout",
     "output_type": "stream",
     "text": [
      "Compute a measure of interest across a set of simulations.\n",
      "\n",
      "    Parameters\n",
      "    ----------\n",
      "    sim_func : callable\n",
      "        A function to create the simulations from.\n",
      "    sim_params : dict\n",
      "        Input arguments for `sim_func`.\n",
      "    measure_func : callable\n",
      "        A measure function to apply to the simulated data.\n",
      "    measure_params : dict\n",
      "        Input arguments for `measure_func`.\n",
      "    update : {'update_exp', 'update_freq', 'update_pow', 'update_comb_exp'} or callable\n",
      "        Specifies which parameter to update in simulation parameters.\n",
      "    values : list or 1d array\n",
      "        A parameter to step across and re-run measure calculations for.\n",
      "    n_sims : int, optional, default: 10\n",
      "        The number of iterations to simulate and calculate measures, per value.\n",
      "    avg_func : callable, optional, default: np.mean\n",
      "        The function to calculate the average for a particular parameter value.\n",
      "    var_func : callable, optional\n",
      "        The function to calculate the variability for a particular parameter value.\n",
      "        If None, variability is not computed.\n",
      "\n",
      "    Returns\n",
      "    -------\n",
      "    measures : 1d array\n",
      "        The results of the measures applied to the set of simulations.\n",
      "\n",
      "    Notes\n",
      "    -----\n",
      "    - For each parameter value, the average measure across `n_sims`\n",
      "      of simulations is computed and returned.\n",
      "    \n"
     ]
    }
   ],
   "source": [
    "# Check the documentation for `run_sims`\n",
    "print(run_sims.__doc__)"
   ]
  },
  {
   "cell_type": "markdown",
   "metadata": {},
   "source": [
    "Next, we can run an example of using `run_sims`.\n",
    "\n",
    "To do so, we will define an example analysis to apply a measure of interest (here, variance) across some simulations of 1/f (powerlaw) data."
   ]
  },
  {
   "cell_type": "code",
   "execution_count": 3,
   "metadata": {},
   "outputs": [],
   "source": [
    "# Import numpy\n",
    "import numpy as np\n",
    "\n",
    "# Import simulation function\n",
    "from neurodsp.sim import sim_powerlaw\n",
    "\n",
    "# Import default simulation settings\n",
    "from apm.sim.settings import SIM_PARAMS_AP"
   ]
  },
  {
   "cell_type": "code",
   "execution_count": 4,
   "metadata": {},
   "outputs": [],
   "source": [
    "# Define settings for simulation\n",
    "exponents = [1, 1.5, 2]\n",
    "n_sims = 2"
   ]
  },
  {
   "cell_type": "code",
   "execution_count": 5,
   "metadata": {},
   "outputs": [
    {
     "data": {
      "text/plain": [
       "{'n_seconds': 30, 'fs': 1000, 'f_range': (0.5, None)}"
      ]
     },
     "execution_count": 5,
     "metadata": {},
     "output_type": "execute_result"
    }
   ],
   "source": [
    "# Check the predefined default settings for the simulation\n",
    "SIM_PARAMS_AP"
   ]
  },
  {
   "cell_type": "code",
   "execution_count": 6,
   "metadata": {},
   "outputs": [],
   "source": [
    "# Run simulations across different aperiodic exponents\n",
    "out, var = run_sims(sim_powerlaw, SIM_PARAMS_AP, np.mean, {}, \n",
    "                    'update_exp', exponents, n_sims, var_func=np.std)"
   ]
  },
  {
   "cell_type": "markdown",
   "metadata": {},
   "source": [
    "### Evaluating Results\n",
    "\n",
    "After computing the measures, we can examine the results, across different simulation parameters.\n",
    "\n",
    "Where possible, we also evaluate the accuracy of the computed measures given the expected answer based on the simulated parameters."
   ]
  },
  {
   "cell_type": "code",
   "execution_count": 7,
   "metadata": {},
   "outputs": [
    {
     "name": "stderr",
     "output_type": "stream",
     "text": [
      "/Users/tom/Code/Projects/APMethods/AperiodicMethods/apm/plts/data.py:8: DeprecationWarning: \n",
      "The `fooof` package is being deprecated and replaced by the `specparam` (spectral parameterization) package.\n",
      "This version of `fooof` (1.1) is fully functional, but will not be further updated.\n",
      "New projects are recommended to update to using `specparam` (see Changelog for details).\n",
      "  from fooof.utils import trim_spectrum\n"
     ]
    }
   ],
   "source": [
    "# Import a plot function to visualize the computed measures\n",
    "from apm.plts import plot_lines"
   ]
  },
  {
   "cell_type": "code",
   "execution_count": 8,
   "metadata": {},
   "outputs": [
    {
     "data": {
      "image/png": "[encoded data removed]",
      "text/plain": [
       "<Figure size 640x480 with 1 Axes>"
      ]
     },
     "metadata": {},
     "output_type": "display_data"
    }
   ],
   "source": [
    "# Plot the computed measures across the different simulation parameters\n",
    "plot_lines(exponents, out, var, ylim=[-0.01, 0.01],\n",
    "           xlabel='Exponent', ylabel='Mean')"
   ]
  },
  {
   "cell_type": "markdown",
   "metadata": {},
   "source": [
    "Note that in our example case, computing the signal mean, the simulated signals are normalized such that they all have a mean of 0. "
   ]
  }
 ],
 "metadata": {
  "kernelspec": {
   "display_name": "Python 3 (ipykernel)",
   "language": "python",
   "name": "python3"
  },
  "language_info": {
   "codemirror_mode": {
    "name": "ipython",
    "version": 3
   },
   "file_extension": ".py",
   "mimetype": "text/x-python",
   "name": "python",
   "nbconvert_exporter": "python",
   "pygments_lexer": "ipython3",
   "version": "3.9.17"
  }
 },
 "nbformat": 4,
 "nbformat_minor": 4
}
