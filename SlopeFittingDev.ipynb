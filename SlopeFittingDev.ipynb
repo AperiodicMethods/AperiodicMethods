{
 "cells": [
  {
   "cell_type": "markdown",
   "metadata": {},
   "source": [
    "# Slope Fitting Dev Data"
   ]
  },
  {
   "cell_type": "code",
   "execution_count": 9,
   "metadata": {
    "collapsed": true
   },
   "outputs": [],
   "source": [
    "# Imports\n",
    "import os\n",
    "import numpy as np\n",
    "import pandas as pd\n",
    "\n",
    "from slf.fit import *\n",
    "from slf.dat import *\n",
    "from slf.core.db import SLFDB"
   ]
  },
  {
   "cell_type": "code",
   "execution_count": null,
   "metadata": {
    "collapsed": true
   },
   "outputs": [],
   "source": [
    "%matplotlib inline\n",
    "import matplotlib.pyplot as plt"
   ]
  },
  {
   "cell_type": "code",
   "execution_count": null,
   "metadata": {
    "collapsed": true
   },
   "outputs": [],
   "source": [
    "# Load data readme file\n",
    "rmd_file = os.path.join(db.data_path, 'EEGDev', 'MIPDB_PublicFile.csv')\n",
    "df = pd.read_csv(rmd_file, index_col='ID')"
   ]
  },
  {
   "cell_type": "code",
   "execution_count": 75,
   "metadata": {
    "collapsed": true
   },
   "outputs": [],
   "source": [
    "# Get available subject PSD files\n",
    "db = SLFDB()\n",
    "db.psd_path = '/Users/thomasdonoghue/Documents/GitCode/SlopeFitOscs/data/psds/'\n",
    "psd_files = db.get_psd_files()"
   ]
  },
  {
   "cell_type": "code",
   "execution_count": 110,
   "metadata": {
    "collapsed": false
   },
   "outputs": [],
   "source": [
    "#\n",
    "subjs = [ff.split('_')[0] for ff in psd_files]\n",
    "\n",
    "subj_files = [{'ID': subj, 'EC': ec_f, 'EO': eo_f} for subj, ec_f, eo_f in zip(subjs[0::2],\n",
    "                                                [fi for fi in psd_files if 'ec' in fi],\n",
    "                                                [fi for fi in psd_files if 'eo' in fi])]"
   ]
  },
  {
   "cell_type": "code",
   "execution_count": 167,
   "metadata": {
    "collapsed": false
   },
   "outputs": [],
   "source": [
    "# Set fit func to use\n",
    "ffn = fsl_ransac\n",
    "\n",
    "# Eyes Closed Data\n",
    "ec_sl_df = pd.DataFrame(columns=['ID', 'Age', 'MeanSl', 'MedianSl'])\n",
    "\n",
    "for sf in subj_files:\n",
    "    \n",
    "    freqs, psds, chans = load_psd(os.path.join(db.psd_path, sf['EC']))\n",
    "\n",
    "    sls = fit_sls(freqs, psds, ffn)\n",
    "\n",
    "    sl_dat = {'ID': sf['ID'], 'Age': df.ix[sf['ID']]['Age'],\n",
    "              'MeanSl': np.mean(sls), 'MedianSl': np.median(sls)}\n",
    "\n",
    "    ec_sl_df = ec_sl_df.append(sl_dat, ignore_index=True)\n",
    "\n",
    "    \n",
    "# Eyes Open Data    \n",
    "eo_sl_df = pd.DataFrame(columns=['ID', 'Age', 'MeanSl', 'MedianSl'])\n",
    "\n",
    "for sf in subj_files:\n",
    "\n",
    "    freqs, psds, chans = load_psd(os.path.join(db.psd_path, sf['EO']))\n",
    "\n",
    "    sls = fit_sls(freqs, psds, ffn)\n",
    "\n",
    "    sl_dat = {'ID': sf['ID'], 'Age': df.ix[sf['ID']]['Age'],\n",
    "              'MeanSl': np.mean(sls), 'MedianSl': np.median(sls)}\n",
    "\n",
    "    eo_sl_df = eo_sl_df.append(sl_dat, ignore_index=True)\n",
    "    "
   ]
  },
  {
   "cell_type": "code",
   "execution_count": 168,
   "metadata": {
    "collapsed": false
   },
   "outputs": [
    {
     "data": {
      "text/plain": [
       "[<matplotlib.lines.Line2D at 0x11134bb10>]"
      ]
     },
     "execution_count": 168,
     "metadata": {},
     "output_type": "execute_result"
    },
    {
     "data": {
      "image/png": "[encoded data removed]",
      "text/plain": [
       "<matplotlib.figure.Figure at 0x110830d90>"
      ]
     },
     "metadata": {},
     "output_type": "display_data"
    }
   ],
   "source": [
    "# Check EC Data Slope Vals\n",
    "plt.figure()\n",
    "plt.plot(ec_sl_df.Age, ec_sl_df.MeanSl, 'b.')"
   ]
  },
  {
   "cell_type": "code",
   "execution_count": 169,
   "metadata": {
    "collapsed": false
   },
   "outputs": [
    {
     "data": {
      "text/plain": [
       "[<matplotlib.lines.Line2D at 0x102daacd0>]"
      ]
     },
     "execution_count": 169,
     "metadata": {},
     "output_type": "execute_result"
    },
    {
     "data": {
      "image/png": "[encoded data removed]",
      "text/plain": [
       "<matplotlib.figure.Figure at 0x102d9f210>"
      ]
     },
     "metadata": {},
     "output_type": "display_data"
    }
   ],
   "source": [
    "# Check EO Data Slope Vals\n",
    "plt.figure()\n",
    "plt.plot(eo_sl_df.Age, eo_sl_df.MeanSl, 'r.')"
   ]
  },
  {
   "cell_type": "code",
   "execution_count": 171,
   "metadata": {
    "collapsed": false
   },
   "outputs": [
    {
     "data": {
      "text/plain": [
       "[<matplotlib.lines.Line2D at 0x111cd3ad0>]"
      ]
     },
     "execution_count": 171,
     "metadata": {},
     "output_type": "execute_result"
    },
    {
     "data": {
      "image/png": "[encoded data removed]",
      "text/plain": [
       "<matplotlib.figure.Figure at 0x111d77b90>"
      ]
     },
     "metadata": {},
     "output_type": "display_data"
    }
   ],
   "source": [
    "# Plot EC & EO Data Together\n",
    "plt.figure()\n",
    "plt.plot(ec_sl_df.Age, ec_sl_df.MeanSl, 'b.')\n",
    "plt.plot(eo_sl_df.Age, eo_sl_df.MeanSl, 'r.')"
   ]
  },
  {
   "cell_type": "code",
   "execution_count": null,
   "metadata": {
    "collapsed": true
   },
   "outputs": [],
   "source": []
  }
 ],
 "metadata": {
  "kernelspec": {
   "display_name": "Python 2",
   "language": "python",
   "name": "python2"
  },
  "language_info": {
   "codemirror_mode": {
    "name": "ipython",
    "version": 2
   },
   "file_extension": ".py",
   "mimetype": "text/x-python",
   "name": "python",
   "nbconvert_exporter": "python",
   "pygments_lexer": "ipython2",
   "version": "2.7.13"
  }
 },
 "nbformat": 4,
 "nbformat_minor": 2
}
