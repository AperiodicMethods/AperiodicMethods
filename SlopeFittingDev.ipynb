{
 "cells": [
  {
   "cell_type": "markdown",
   "metadata": {},
   "source": [
    "# Slope Fitting Dev Data"
   ]
  },
  {
   "cell_type": "code",
   "execution_count": 6,
   "metadata": {
    "collapsed": true
   },
   "outputs": [],
   "source": [
    "# Imports\n",
    "import numpy as np\n",
    "\n",
    "from slf.fit import *"
   ]
  },
  {
   "cell_type": "code",
   "execution_count": 3,
   "metadata": {
    "collapsed": true
   },
   "outputs": [],
   "source": [
    "# Load PSD data\n",
    "data = np.load('ec_psds.npz')\n",
    "\n",
    "# Unpack data\n",
    "freqs = data['arr_0']\n",
    "psds = data['arr_1']\n",
    "chs = data['arr_2']"
   ]
  },
  {
   "cell_type": "code",
   "execution_count": 16,
   "metadata": {
    "collapsed": false
   },
   "outputs": [],
   "source": [
    "# Fit slope across all channels\n",
    "sls_osc = []\n",
    "sls_ran = []\n",
    "for psd in psds:\n",
    "    sls_ran.append(fsl_ransac(freqs, psd))\n",
    "    sls_osc.append(fsl_rlm_oscs(freqs, psd))"
   ]
  },
  {
   "cell_type": "code",
   "execution_count": 18,
   "metadata": {
    "collapsed": false
   },
   "outputs": [
    {
     "name": "stdout",
     "output_type": "stream",
     "text": [
      "-1.99452634279\n",
      "-1.79177855772\n"
     ]
    }
   ],
   "source": [
    "#\n",
    "print(np.median(sls_ran))\n",
    "print(np.mean(sls_ran))"
   ]
  },
  {
   "cell_type": "code",
   "execution_count": 19,
   "metadata": {
    "collapsed": false
   },
   "outputs": [
    {
     "name": "stdout",
     "output_type": "stream",
     "text": [
      "-1.94037862633\n",
      "-1.67149235817\n"
     ]
    }
   ],
   "source": [
    "#\n",
    "print(np.median(sls_osc))\n",
    "print(np.mean(sls_osc))"
   ]
  },
  {
   "cell_type": "code",
   "execution_count": null,
   "metadata": {
    "collapsed": true
   },
   "outputs": [],
   "source": []
  }
 ],
 "metadata": {
  "kernelspec": {
   "display_name": "Python 2",
   "language": "python",
   "name": "python2"
  },
  "language_info": {
   "codemirror_mode": {
    "name": "ipython",
    "version": 2
   },
   "file_extension": ".py",
   "mimetype": "text/x-python",
   "name": "python",
   "nbconvert_exporter": "python",
   "pygments_lexer": "ipython2",
   "version": "2.7.13"
  }
 },
 "nbformat": 4,
 "nbformat_minor": 2
}
