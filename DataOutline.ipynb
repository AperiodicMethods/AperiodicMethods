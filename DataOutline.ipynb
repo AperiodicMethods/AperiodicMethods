{
 "cells": [
  {
   "cell_type": "markdown",
   "metadata": {},
   "source": [
    "# EEGDev Data Outline"
   ]
  },
  {
   "cell_type": "code",
   "execution_count": 1,
   "metadata": {
    "collapsed": false
   },
   "outputs": [],
   "source": [
    "import os\n",
    "import pandas as pd\n",
    "\n",
    "from slf.core.db import SLFDB"
   ]
  },
  {
   "cell_type": "code",
   "execution_count": 2,
   "metadata": {
    "collapsed": false
   },
   "outputs": [],
   "source": [
    "# Initialize project database object\n",
    "db = SLFDB()"
   ]
  },
  {
   "cell_type": "code",
   "execution_count": 3,
   "metadata": {
    "collapsed": false
   },
   "outputs": [],
   "source": [
    "# Check which subjects are in local database\n",
    "subjs = db.check_subjs()"
   ]
  },
  {
   "cell_type": "code",
   "execution_count": 4,
   "metadata": {
    "collapsed": false
   },
   "outputs": [],
   "source": [
    "# Load data readme file\n",
    "rmd_file = os.path.join(db.data_path, 'EEGDev', 'MIPDB_PublicFile.csv')\n",
    "df = pd.read_csv(rmd_file)"
   ]
  },
  {
   "cell_type": "code",
   "execution_count": 5,
   "metadata": {
    "collapsed": false
   },
   "outputs": [
    {
     "name": "stdout",
     "output_type": "stream",
     "text": [
      "('Number of subjects downloaded: ', 113)\n",
      "('Number of subjects left to download: ', 13)\n"
     ]
    }
   ],
   "source": [
    "# Check which subjects are downloaded\n",
    "all_subjs = set(df.ID)\n",
    "to_dl = all_subjs - set(subjs)\n",
    "print('Number of subjects downloaded: ', len(set(subjs)))\n",
    "print('Number of subjects left to download: ', len(to_dl))"
   ]
  },
  {
   "cell_type": "code",
   "execution_count": 6,
   "metadata": {
    "collapsed": false
   },
   "outputs": [
    {
     "data": {
      "text/plain": [
       "{'A00054623',\n",
       " 'A00055623',\n",
       " 'A00055628',\n",
       " 'A00055649',\n",
       " 'A00055754',\n",
       " 'A00055865',\n",
       " 'A00056428',\n",
       " 'A00056913',\n",
       " 'A00058596',\n",
       " 'A00059904',\n",
       " 'A00062125',\n",
       " 'A00062578',\n",
       " 'A00062704'}"
      ]
     },
     "execution_count": 6,
     "metadata": {},
     "output_type": "execute_result"
    }
   ],
   "source": [
    "# Check out list of files left to download\n",
    "to_dl"
   ]
  },
  {
   "cell_type": "code",
   "execution_count": 210,
   "metadata": {
    "collapsed": false
   },
   "outputs": [],
   "source": [
    "# Test out getting subject data files\n",
    "dat_files, ev_files, int_chan_files = db.get_subj_files(subjs[0])"
   ]
  },
  {
   "cell_type": "code",
   "execution_count": null,
   "metadata": {
    "collapsed": false
   },
   "outputs": [],
   "source": [
    "dat_files"
   ]
  },
  {
   "cell_type": "code",
   "execution_count": 7,
   "metadata": {
    "collapsed": true
   },
   "outputs": [],
   "source": [
    "# Test out getting PSD files\n",
    "psd_files = db.get_psd_files()"
   ]
  },
  {
   "cell_type": "code",
   "execution_count": null,
   "metadata": {
    "collapsed": false
   },
   "outputs": [],
   "source": [
    "psd_files"
   ]
  },
  {
   "cell_type": "code",
   "execution_count": null,
   "metadata": {
    "collapsed": true
   },
   "outputs": [],
   "source": []
  }
 ],
 "metadata": {
  "anaconda-cloud": {},
  "kernelspec": {
   "display_name": "Python [conda env:py27]",
   "language": "python",
   "name": "conda-env-py27-py"
  },
  "language_info": {
   "codemirror_mode": {
    "name": "ipython",
    "version": 2
   },
   "file_extension": ".py",
   "mimetype": "text/x-python",
   "name": "python",
   "nbconvert_exporter": "python",
   "pygments_lexer": "ipython2",
   "version": "2.7.13"
  }
 },
 "nbformat": 4,
 "nbformat_minor": 1
}
