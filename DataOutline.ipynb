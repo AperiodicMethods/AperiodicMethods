{
 "cells": [
  {
   "cell_type": "markdown",
   "metadata": {},
   "source": [
    "# EEGDev Data Outline"
   ]
  },
  {
   "cell_type": "code",
   "execution_count": 2,
   "metadata": {
    "collapsed": false
   },
   "outputs": [],
   "source": [
    "import os\n",
    "import pandas as pd\n",
    "\n",
    "from slf.core.db import SLFDB"
   ]
  },
  {
   "cell_type": "code",
   "execution_count": 3,
   "metadata": {
    "collapsed": false
   },
   "outputs": [],
   "source": [
    "# Initialize project database object\n",
    "db = SLFDB()"
   ]
  },
  {
   "cell_type": "code",
   "execution_count": 4,
   "metadata": {
    "collapsed": false
   },
   "outputs": [],
   "source": [
    "# Check which subjects are in local database\n",
    "subjs = db.check_subjs()"
   ]
  },
  {
   "cell_type": "code",
   "execution_count": 5,
   "metadata": {
    "collapsed": false
   },
   "outputs": [],
   "source": [
    "# Load data readme file\n",
    "rmd_file = os.path.join(db.data_path, 'EEGDev', 'MIPDB_PublicFile.csv')\n",
    "df = pd.read_csv(rmd_file)"
   ]
  },
  {
   "cell_type": "code",
   "execution_count": 8,
   "metadata": {
    "collapsed": false
   },
   "outputs": [
    {
     "name": "stdout",
     "output_type": "stream",
     "text": [
      "('Files left to download: ', 41)\n"
     ]
    }
   ],
   "source": [
    "# Check which subjects are downloaded\n",
    "all_subjs = set(df.ID)\n",
    "to_dl = all_subjs - set(subjs)\n",
    "print('Files left to download: ', len(to_dl))"
   ]
  },
  {
   "cell_type": "code",
   "execution_count": 11,
   "metadata": {
    "collapsed": false
   },
   "outputs": [],
   "source": [
    "# Test out getting subject data files\n",
    "dat_files, ev_files, int_chan_files = db.get_subj_files(subjs[0])"
   ]
  },
  {
   "cell_type": "code",
   "execution_count": 12,
   "metadata": {
    "collapsed": false
   },
   "outputs": [
    {
     "data": {
      "text/plain": [
       "['gip_A00051826005.csv',\n",
       " 'gp_A00051826001.csv',\n",
       " 'gp_A00051826002.csv',\n",
       " 'gp_A00051826003.csv',\n",
       " 'gp_A00051826004.csv',\n",
       " 'oip_A00051826006.csv',\n",
       " 'oip_A00051826007.csv',\n",
       " 'oip_A00051826008.csv',\n",
       " 'oip_A00051826009.csv',\n",
       " 'oip_A00051826010.csv',\n",
       " 'oip_A00051826011.csv']"
      ]
     },
     "execution_count": 12,
     "metadata": {},
     "output_type": "execute_result"
    }
   ],
   "source": [
    "dat_files"
   ]
  },
  {
   "cell_type": "code",
   "execution_count": null,
   "metadata": {
    "collapsed": true
   },
   "outputs": [],
   "source": []
  }
 ],
 "metadata": {
  "anaconda-cloud": {},
  "kernelspec": {
   "display_name": "Python 2",
   "language": "python",
   "name": "python2"
  },
  "language_info": {
   "codemirror_mode": {
    "name": "ipython",
    "version": 2
   },
   "file_extension": ".py",
   "mimetype": "text/x-python",
   "name": "python",
   "nbconvert_exporter": "python",
   "pygments_lexer": "ipython2",
   "version": "2.7.13"
  }
 },
 "nbformat": 4,
 "nbformat_minor": 1
}
